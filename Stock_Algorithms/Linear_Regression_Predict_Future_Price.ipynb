{
  "cells": [
    {
      "cell_type": "markdown",
      "source": [
        "# Linear Regression Predict Future Price"
      ],
      "metadata": {
        "nteract": {
          "transient": {
            "deleting": false
          }
        }
      }
    },
    {
      "cell_type": "code",
      "source": [
        "import numpy as np\n",
        "import pandas as pd\n",
        "import matplotlib.pyplot as plt\n",
        "import seaborn as sns\n",
        "\n",
        "from sklearn.linear_model import LinearRegression\n",
        "from sklearn.metrics import r2_score\n",
        "\n",
        "import warnings\n",
        "warnings.filterwarnings(\"ignore\")\n",
        "\n",
        "# yahoo_finance is used to fetch data \n",
        "import yfinance as yf\n",
        "yf.pdr_override()"
      ],
      "outputs": [],
      "execution_count": 1,
      "metadata": {
        "collapsed": true,
        "jupyter": {
          "source_hidden": false,
          "outputs_hidden": false
        },
        "nteract": {
          "transient": {
            "deleting": false
          }
        },
        "execution": {
          "iopub.status.busy": "2021-12-27T01:54:20.789Z",
          "iopub.execute_input": "2021-12-27T01:54:20.794Z",
          "iopub.status.idle": "2021-12-27T01:54:21.956Z",
          "shell.execute_reply": "2021-12-27T01:54:21.975Z"
        }
      }
    },
    {
      "cell_type": "code",
      "source": [
        "# input\n",
        "symbol = 'AMD'\n",
        "start = '2014-01-01'\n",
        "end = '2021-12-23'\n",
        "\n",
        "# Read data \n",
        "df = yf.download(symbol,start,end)\n",
        "\n",
        "# View Columns\n",
        "df.head()"
      ],
      "outputs": [
        {
          "output_type": "stream",
          "name": "stdout",
          "text": [
            "[*********************100%***********************]  1 of 1 completed\n"
          ]
        },
        {
          "output_type": "execute_result",
          "execution_count": 2,
          "data": {
            "text/plain": "            Open  High   Low  Close  Adj Close    Volume\nDate                                                    \n2014-01-02  3.85  3.98  3.84   3.95       3.95  20548400\n2014-01-03  3.98  4.00  3.88   4.00       4.00  22887200\n2014-01-06  4.01  4.18  3.99   4.13       4.13  42398300\n2014-01-07  4.19  4.25  4.11   4.18       4.18  42932100\n2014-01-08  4.23  4.26  4.14   4.18       4.18  30678700",
            "text/html": "<div>\n<style scoped>\n    .dataframe tbody tr th:only-of-type {\n        vertical-align: middle;\n    }\n\n    .dataframe tbody tr th {\n        vertical-align: top;\n    }\n\n    .dataframe thead th {\n        text-align: right;\n    }\n</style>\n<table border=\"1\" class=\"dataframe\">\n  <thead>\n    <tr style=\"text-align: right;\">\n      <th></th>\n      <th>Open</th>\n      <th>High</th>\n      <th>Low</th>\n      <th>Close</th>\n      <th>Adj Close</th>\n      <th>Volume</th>\n    </tr>\n    <tr>\n      <th>Date</th>\n      <th></th>\n      <th></th>\n      <th></th>\n      <th></th>\n      <th></th>\n      <th></th>\n    </tr>\n  </thead>\n  <tbody>\n    <tr>\n      <th>2014-01-02</th>\n      <td>3.85</td>\n      <td>3.98</td>\n      <td>3.84</td>\n      <td>3.95</td>\n      <td>3.95</td>\n      <td>20548400</td>\n    </tr>\n    <tr>\n      <th>2014-01-03</th>\n      <td>3.98</td>\n      <td>4.00</td>\n      <td>3.88</td>\n      <td>4.00</td>\n      <td>4.00</td>\n      <td>22887200</td>\n    </tr>\n    <tr>\n      <th>2014-01-06</th>\n      <td>4.01</td>\n      <td>4.18</td>\n      <td>3.99</td>\n      <td>4.13</td>\n      <td>4.13</td>\n      <td>42398300</td>\n    </tr>\n    <tr>\n      <th>2014-01-07</th>\n      <td>4.19</td>\n      <td>4.25</td>\n      <td>4.11</td>\n      <td>4.18</td>\n      <td>4.18</td>\n      <td>42932100</td>\n    </tr>\n    <tr>\n      <th>2014-01-08</th>\n      <td>4.23</td>\n      <td>4.26</td>\n      <td>4.14</td>\n      <td>4.18</td>\n      <td>4.18</td>\n      <td>30678700</td>\n    </tr>\n  </tbody>\n</table>\n</div>"
          },
          "metadata": {}
        }
      ],
      "execution_count": 2,
      "metadata": {
        "collapsed": true,
        "jupyter": {
          "source_hidden": false,
          "outputs_hidden": false
        },
        "nteract": {
          "transient": {
            "deleting": false
          }
        },
        "execution": {
          "iopub.status.busy": "2021-12-27T01:54:21.962Z",
          "iopub.execute_input": "2021-12-27T01:54:21.967Z",
          "iopub.status.idle": "2021-12-27T01:54:22.866Z",
          "shell.execute_reply": "2021-12-27T01:54:23.031Z"
        }
      }
    },
    {
      "cell_type": "code",
      "source": [
        "df.tail()"
      ],
      "outputs": [
        {
          "output_type": "execute_result",
          "execution_count": 3,
          "data": {
            "text/plain": "                  Open        High         Low       Close   Adj Close  \\\nDate                                                                     \n2021-12-16  147.000000  147.929993  137.020004  138.639999  138.639999   \n2021-12-17  136.300003  142.039993  136.110001  137.750000  137.750000   \n2021-12-20  135.970001  138.259995  133.520004  135.800003  135.800003   \n2021-12-21  138.190002  144.500000  135.149994  144.250000  144.250000   \n2021-12-22  142.649994  144.500000  140.270004  143.880005  143.880005   \n\n              Volume  \nDate                  \n2021-12-16  63369600  \n2021-12-17  55642100  \n2021-12-20  38195400  \n2021-12-21  57785200  \n2021-12-22  46923700  ",
            "text/html": "<div>\n<style scoped>\n    .dataframe tbody tr th:only-of-type {\n        vertical-align: middle;\n    }\n\n    .dataframe tbody tr th {\n        vertical-align: top;\n    }\n\n    .dataframe thead th {\n        text-align: right;\n    }\n</style>\n<table border=\"1\" class=\"dataframe\">\n  <thead>\n    <tr style=\"text-align: right;\">\n      <th></th>\n      <th>Open</th>\n      <th>High</th>\n      <th>Low</th>\n      <th>Close</th>\n      <th>Adj Close</th>\n      <th>Volume</th>\n    </tr>\n    <tr>\n      <th>Date</th>\n      <th></th>\n      <th></th>\n      <th></th>\n      <th></th>\n      <th></th>\n      <th></th>\n    </tr>\n  </thead>\n  <tbody>\n    <tr>\n      <th>2021-12-16</th>\n      <td>147.000000</td>\n      <td>147.929993</td>\n      <td>137.020004</td>\n      <td>138.639999</td>\n      <td>138.639999</td>\n      <td>63369600</td>\n    </tr>\n    <tr>\n      <th>2021-12-17</th>\n      <td>136.300003</td>\n      <td>142.039993</td>\n      <td>136.110001</td>\n      <td>137.750000</td>\n      <td>137.750000</td>\n      <td>55642100</td>\n    </tr>\n    <tr>\n      <th>2021-12-20</th>\n      <td>135.970001</td>\n      <td>138.259995</td>\n      <td>133.520004</td>\n      <td>135.800003</td>\n      <td>135.800003</td>\n      <td>38195400</td>\n    </tr>\n    <tr>\n      <th>2021-12-21</th>\n      <td>138.190002</td>\n      <td>144.500000</td>\n      <td>135.149994</td>\n      <td>144.250000</td>\n      <td>144.250000</td>\n      <td>57785200</td>\n    </tr>\n    <tr>\n      <th>2021-12-22</th>\n      <td>142.649994</td>\n      <td>144.500000</td>\n      <td>140.270004</td>\n      <td>143.880005</td>\n      <td>143.880005</td>\n      <td>46923700</td>\n    </tr>\n  </tbody>\n</table>\n</div>"
          },
          "metadata": {}
        }
      ],
      "execution_count": 3,
      "metadata": {
        "collapsed": true,
        "jupyter": {
          "source_hidden": false,
          "outputs_hidden": false
        },
        "nteract": {
          "transient": {
            "deleting": false
          }
        },
        "execution": {
          "iopub.status.busy": "2021-12-27T01:54:22.873Z",
          "iopub.execute_input": "2021-12-27T01:54:22.880Z",
          "iopub.status.idle": "2021-12-27T01:54:22.892Z",
          "shell.execute_reply": "2021-12-27T01:54:23.034Z"
        }
      }
    },
    {
      "cell_type": "code",
      "source": [
        "df['Numbers'] = list(range(0, len(df)))\n",
        "df.head()"
      ],
      "outputs": [
        {
          "output_type": "execute_result",
          "execution_count": 4,
          "data": {
            "text/plain": "            Open  High   Low  Close  Adj Close    Volume  Numbers\nDate                                                             \n2014-01-02  3.85  3.98  3.84   3.95       3.95  20548400        0\n2014-01-03  3.98  4.00  3.88   4.00       4.00  22887200        1\n2014-01-06  4.01  4.18  3.99   4.13       4.13  42398300        2\n2014-01-07  4.19  4.25  4.11   4.18       4.18  42932100        3\n2014-01-08  4.23  4.26  4.14   4.18       4.18  30678700        4",
            "text/html": "<div>\n<style scoped>\n    .dataframe tbody tr th:only-of-type {\n        vertical-align: middle;\n    }\n\n    .dataframe tbody tr th {\n        vertical-align: top;\n    }\n\n    .dataframe thead th {\n        text-align: right;\n    }\n</style>\n<table border=\"1\" class=\"dataframe\">\n  <thead>\n    <tr style=\"text-align: right;\">\n      <th></th>\n      <th>Open</th>\n      <th>High</th>\n      <th>Low</th>\n      <th>Close</th>\n      <th>Adj Close</th>\n      <th>Volume</th>\n      <th>Numbers</th>\n    </tr>\n    <tr>\n      <th>Date</th>\n      <th></th>\n      <th></th>\n      <th></th>\n      <th></th>\n      <th></th>\n      <th></th>\n      <th></th>\n    </tr>\n  </thead>\n  <tbody>\n    <tr>\n      <th>2014-01-02</th>\n      <td>3.85</td>\n      <td>3.98</td>\n      <td>3.84</td>\n      <td>3.95</td>\n      <td>3.95</td>\n      <td>20548400</td>\n      <td>0</td>\n    </tr>\n    <tr>\n      <th>2014-01-03</th>\n      <td>3.98</td>\n      <td>4.00</td>\n      <td>3.88</td>\n      <td>4.00</td>\n      <td>4.00</td>\n      <td>22887200</td>\n      <td>1</td>\n    </tr>\n    <tr>\n      <th>2014-01-06</th>\n      <td>4.01</td>\n      <td>4.18</td>\n      <td>3.99</td>\n      <td>4.13</td>\n      <td>4.13</td>\n      <td>42398300</td>\n      <td>2</td>\n    </tr>\n    <tr>\n      <th>2014-01-07</th>\n      <td>4.19</td>\n      <td>4.25</td>\n      <td>4.11</td>\n      <td>4.18</td>\n      <td>4.18</td>\n      <td>42932100</td>\n      <td>3</td>\n    </tr>\n    <tr>\n      <th>2014-01-08</th>\n      <td>4.23</td>\n      <td>4.26</td>\n      <td>4.14</td>\n      <td>4.18</td>\n      <td>4.18</td>\n      <td>30678700</td>\n      <td>4</td>\n    </tr>\n  </tbody>\n</table>\n</div>"
          },
          "metadata": {}
        }
      ],
      "execution_count": 4,
      "metadata": {
        "collapsed": true,
        "jupyter": {
          "source_hidden": false,
          "outputs_hidden": false
        },
        "nteract": {
          "transient": {
            "deleting": false
          }
        },
        "execution": {
          "iopub.status.busy": "2021-12-27T01:54:22.900Z",
          "iopub.execute_input": "2021-12-27T01:54:22.905Z",
          "iopub.status.idle": "2021-12-27T01:54:22.919Z",
          "shell.execute_reply": "2021-12-27T01:54:23.037Z"
        }
      }
    },
    {
      "cell_type": "code",
      "source": [
        "X = np.array(df[['Numbers']])\n",
        "y = df['Close'].values"
      ],
      "outputs": [],
      "execution_count": 5,
      "metadata": {
        "collapsed": true,
        "jupyter": {
          "source_hidden": false,
          "outputs_hidden": false
        },
        "nteract": {
          "transient": {
            "deleting": false
          }
        },
        "execution": {
          "iopub.status.busy": "2021-12-27T01:54:22.927Z",
          "iopub.execute_input": "2021-12-27T01:54:22.932Z",
          "iopub.status.idle": "2021-12-27T01:54:22.940Z",
          "shell.execute_reply": "2021-12-27T01:54:23.040Z"
        }
      }
    },
    {
      "cell_type": "code",
      "source": [
        "model = LinearRegression().fit(X,y)"
      ],
      "outputs": [],
      "execution_count": 6,
      "metadata": {
        "collapsed": true,
        "jupyter": {
          "source_hidden": false,
          "outputs_hidden": false
        },
        "nteract": {
          "transient": {
            "deleting": false
          }
        },
        "execution": {
          "iopub.status.busy": "2021-12-27T01:54:22.948Z",
          "iopub.execute_input": "2021-12-27T01:54:22.952Z",
          "iopub.status.idle": "2021-12-27T01:54:22.961Z",
          "shell.execute_reply": "2021-12-27T01:54:23.042Z"
        }
      }
    },
    {
      "cell_type": "code",
      "source": [
        "print('Intercept:', model.intercept_)\n",
        "print('Slope:', model.coef_)"
      ],
      "outputs": [
        {
          "output_type": "stream",
          "name": "stdout",
          "text": [
            "Intercept: -21.651840699011544\n",
            "Slope: [0.05082415]\n"
          ]
        }
      ],
      "execution_count": 7,
      "metadata": {
        "collapsed": true,
        "jupyter": {
          "source_hidden": false,
          "outputs_hidden": false
        },
        "nteract": {
          "transient": {
            "deleting": false
          }
        },
        "execution": {
          "iopub.status.busy": "2021-12-27T01:54:22.969Z",
          "iopub.execute_input": "2021-12-27T01:54:22.974Z",
          "iopub.status.idle": "2021-12-27T01:54:22.986Z",
          "shell.execute_reply": "2021-12-27T01:54:23.045Z"
        }
      }
    },
    {
      "cell_type": "code",
      "source": [
        "# y = mx + b\n",
        "y_pred = model.coef_ * X + model.intercept_ \n",
        "df['Pred'] = y_pred\n"
      ],
      "outputs": [],
      "execution_count": 8,
      "metadata": {
        "collapsed": true,
        "jupyter": {
          "source_hidden": false,
          "outputs_hidden": false
        },
        "nteract": {
          "transient": {
            "deleting": false
          }
        },
        "execution": {
          "iopub.status.busy": "2021-12-27T01:54:22.991Z",
          "iopub.execute_input": "2021-12-27T01:54:22.996Z",
          "shell.execute_reply": "2021-12-27T01:54:23.048Z",
          "iopub.status.idle": "2021-12-27T01:54:23.003Z"
        }
      }
    },
    {
      "cell_type": "code",
      "source": [
        "df['Pred'].plot()\n",
        "df['Close'].plot()\n",
        "plt.title('Close Price')\n",
        "plt.legend(loc=\"best\")\n",
        "plt.xlabel('Date')\n",
        "plt.ylabel('Price')\n",
        "plt.show()"
      ],
      "outputs": [
        {
          "output_type": "display_data",
          "data": {
            "text/plain": "<Figure size 432x288 with 1 Axes>",
            "image/png": "[encoded data removed]"
          },
          "metadata": {
            "needs_background": "light"
          }
        }
      ],
      "execution_count": 9,
      "metadata": {
        "collapsed": true,
        "jupyter": {
          "source_hidden": false,
          "outputs_hidden": false
        },
        "nteract": {
          "transient": {
            "deleting": false
          }
        },
        "execution": {
          "iopub.status.busy": "2021-12-27T01:54:23.008Z",
          "iopub.execute_input": "2021-12-27T01:54:23.013Z",
          "iopub.status.idle": "2021-12-27T01:54:23.110Z",
          "shell.execute_reply": "2021-12-27T01:54:23.158Z"
        }
      }
    },
    {
      "cell_type": "code",
      "source": [
        "print('Model Accuracy:')\n",
        "r2_score(df['Close'], df['Pred'])"
      ],
      "outputs": [
        {
          "output_type": "stream",
          "name": "stdout",
          "text": [
            "Model Accuracy:\n"
          ]
        },
        {
          "output_type": "execute_result",
          "execution_count": 10,
          "data": {
            "text/plain": "0.732059924835964"
          },
          "metadata": {}
        }
      ],
      "execution_count": 10,
      "metadata": {
        "collapsed": true,
        "jupyter": {
          "source_hidden": false,
          "outputs_hidden": false
        },
        "nteract": {
          "transient": {
            "deleting": false
          }
        },
        "execution": {
          "iopub.status.busy": "2021-12-27T01:54:23.116Z",
          "iopub.execute_input": "2021-12-27T01:54:23.120Z",
          "iopub.status.idle": "2021-12-27T01:54:23.133Z",
          "shell.execute_reply": "2021-12-27T01:54:23.162Z"
        }
      }
    },
    {
      "cell_type": "code",
      "source": [
        "model.coef_ * len(df)+1 + model.intercept_"
      ],
      "outputs": [
        {
          "output_type": "execute_result",
          "execution_count": 11,
          "data": {
            "text/plain": "array([81.45387442])"
          },
          "metadata": {}
        }
      ],
      "execution_count": 11,
      "metadata": {
        "collapsed": true,
        "jupyter": {
          "source_hidden": false,
          "outputs_hidden": false
        },
        "nteract": {
          "transient": {
            "deleting": false
          }
        },
        "execution": {
          "iopub.status.busy": "2021-12-27T01:54:23.139Z",
          "iopub.execute_input": "2021-12-27T01:54:23.143Z",
          "iopub.status.idle": "2021-12-27T01:54:23.150Z",
          "shell.execute_reply": "2021-12-27T01:54:23.164Z"
        }
      }
    }
  ],
  "metadata": {
    "kernel_info": {
      "name": "python3"
    },
    "language_info": {
      "name": "python",
      "version": "3.6.13",
      "mimetype": "text/x-python",
      "codemirror_mode": {
        "name": "ipython",
        "version": 3
      },
      "pygments_lexer": "ipython3",
      "nbconvert_exporter": "python",
      "file_extension": ".py"
    },
    "kernelspec": {
      "argv": [
        "C:/Users/Tin Hang/Anaconda3\\python.exe",
        "-m",
        "ipykernel_launcher",
        "-f",
        "{connection_file}"
      ],
      "display_name": "Python 3",
      "language": "python",
      "name": "python3"
    },
    "nteract": {
      "version": "0.28.0"
    }
  },
  "nbformat": 4,
  "nbformat_minor": 0
}