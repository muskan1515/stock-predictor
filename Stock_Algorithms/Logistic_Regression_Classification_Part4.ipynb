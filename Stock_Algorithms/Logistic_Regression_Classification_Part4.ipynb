{
  "cells": [
    {
      "cell_type": "markdown",
      "source": [
        "# Logistic Regression Classification Part 4"
      ],
      "metadata": {}
    },
    {
      "cell_type": "code",
      "source": [
        "import numpy as np\n",
        "import matplotlib.pyplot as plt\n",
        "import pandas as pd\n",
        "\n",
        "import warnings\n",
        "warnings.filterwarnings(\"ignore\")\n",
        "\n",
        "# yahoo finance is used to fetch data \n",
        "import yfinance as yf\n",
        "yf.pdr_override()"
      ],
      "outputs": [],
      "execution_count": 1,
      "metadata": {
        "collapsed": false,
        "outputHidden": false,
        "inputHidden": false,
        "execution": {
          "iopub.status.busy": "2022-08-21T01:34:53.177Z",
          "iopub.execute_input": "2022-08-21T01:34:53.183Z",
          "shell.execute_reply": "2022-08-21T01:34:53.097Z",
          "iopub.status.idle": "2022-08-21T01:34:53.189Z"
        }
      }
    },
    {
      "cell_type": "code",
      "source": [
        "# input\n",
        "symbol = 'AMD'\n",
        "start = '2014-01-01'\n",
        "end = '2018-08-27'\n",
        "\n",
        "# Read data \n",
        "dataset = yf.download(symbol,start,end)\n",
        "\n",
        "# View Columns\n",
        "dataset.head()"
      ],
      "outputs": [
        {
          "output_type": "stream",
          "name": "stdout",
          "text": [
            "[*********************100%***********************]  1 of 1 completed\n"
          ]
        },
        {
          "output_type": "execute_result",
          "execution_count": 2,
          "data": {
            "text/plain": "            Open  High   Low  Close  Adj Close    Volume\nDate                                                    \n2014-01-02  3.85  3.98  3.84   3.95       3.95  20548400\n2014-01-03  3.98  4.00  3.88   4.00       4.00  22887200\n2014-01-06  4.01  4.18  3.99   4.13       4.13  42398300\n2014-01-07  4.19  4.25  4.11   4.18       4.18  42932100\n2014-01-08  4.23  4.26  4.14   4.18       4.18  30678700",
            "text/html": "<div>\n<style scoped>\n    .dataframe tbody tr th:only-of-type {\n        vertical-align: middle;\n    }\n\n    .dataframe tbody tr th {\n        vertical-align: top;\n    }\n\n    .dataframe thead th {\n        text-align: right;\n    }\n</style>\n<table border=\"1\" class=\"dataframe\">\n  <thead>\n    <tr style=\"text-align: right;\">\n      <th></th>\n      <th>Open</th>\n      <th>High</th>\n      <th>Low</th>\n      <th>Close</th>\n      <th>Adj Close</th>\n      <th>Volume</th>\n    </tr>\n    <tr>\n      <th>Date</th>\n      <th></th>\n      <th></th>\n      <th></th>\n      <th></th>\n      <th></th>\n      <th></th>\n    </tr>\n  </thead>\n  <tbody>\n    <tr>\n      <th>2014-01-02</th>\n      <td>3.85</td>\n      <td>3.98</td>\n      <td>3.84</td>\n      <td>3.95</td>\n      <td>3.95</td>\n      <td>20548400</td>\n    </tr>\n    <tr>\n      <th>2014-01-03</th>\n      <td>3.98</td>\n      <td>4.00</td>\n      <td>3.88</td>\n      <td>4.00</td>\n      <td>4.00</td>\n      <td>22887200</td>\n    </tr>\n    <tr>\n      <th>2014-01-06</th>\n      <td>4.01</td>\n      <td>4.18</td>\n      <td>3.99</td>\n      <td>4.13</td>\n      <td>4.13</td>\n      <td>42398300</td>\n    </tr>\n    <tr>\n      <th>2014-01-07</th>\n      <td>4.19</td>\n      <td>4.25</td>\n      <td>4.11</td>\n      <td>4.18</td>\n      <td>4.18</td>\n      <td>42932100</td>\n    </tr>\n    <tr>\n      <th>2014-01-08</th>\n      <td>4.23</td>\n      <td>4.26</td>\n      <td>4.14</td>\n      <td>4.18</td>\n      <td>4.18</td>\n      <td>30678700</td>\n    </tr>\n  </tbody>\n</table>\n</div>"
          },
          "metadata": {}
        }
      ],
      "execution_count": 2,
      "metadata": {
        "collapsed": false,
        "outputHidden": false,
        "inputHidden": false,
        "execution": {
          "iopub.status.busy": "2022-08-21T01:34:53.197Z",
          "iopub.execute_input": "2022-08-21T01:34:53.204Z",
          "iopub.status.idle": "2022-08-21T01:34:53.222Z",
          "shell.execute_reply": "2022-08-21T01:34:53.102Z"
        }
      }
    },
    {
      "cell_type": "code",
      "source": [
        "# Create more data\n",
        "dataset['Increase/Decrease'] = np.where(dataset['Volume'].shift(-1) > dataset['Volume'],1,0)\n",
        "dataset['Buy_Sell_on_Open'] = np.where(dataset['Open'].shift(-1) > dataset['Open'],1,0)\n",
        "dataset['Buy_Sell'] = np.where(dataset['Adj Close'].shift(-1) > dataset['Adj Close'],1,0)\n",
        "dataset['Return'] = dataset['Adj Close'].pct_change()\n",
        "dataset = dataset.dropna()\n",
        "dataset['Up_Down'] = np.where(dataset['Return'].shift(-1) > dataset['Return'],1,0)\n",
        "dataset.head()"
      ],
      "outputs": [
        {
          "output_type": "execute_result",
          "execution_count": 3,
          "data": {
            "text/plain": "            Open  High   Low  Close  Adj Close    Volume  Increase/Decrease  \\\nDate                                                                          \n2014-01-03  3.98  4.00  3.88   4.00       4.00  22887200                  1   \n2014-01-06  4.01  4.18  3.99   4.13       4.13  42398300                  1   \n2014-01-07  4.19  4.25  4.11   4.18       4.18  42932100                  0   \n2014-01-08  4.23  4.26  4.14   4.18       4.18  30678700                  0   \n2014-01-09  4.20  4.23  4.05   4.09       4.09  30667600                  0   \n\n            Buy_Sell_on_Open  Buy_Sell    Return  Up_Down  \nDate                                                       \n2014-01-03                 1         1  0.012658        1  \n2014-01-06                 1         1  0.032500        0  \n2014-01-07                 1         0  0.012106        0  \n2014-01-08                 0         0  0.000000        0  \n2014-01-09                 0         1 -0.021531        1  ",
            "text/html": "<div>\n<style scoped>\n    .dataframe tbody tr th:only-of-type {\n        vertical-align: middle;\n    }\n\n    .dataframe tbody tr th {\n        vertical-align: top;\n    }\n\n    .dataframe thead th {\n        text-align: right;\n    }\n</style>\n<table border=\"1\" class=\"dataframe\">\n  <thead>\n    <tr style=\"text-align: right;\">\n      <th></th>\n      <th>Open</th>\n      <th>High</th>\n      <th>Low</th>\n      <th>Close</th>\n      <th>Adj Close</th>\n      <th>Volume</th>\n      <th>Increase/Decrease</th>\n      <th>Buy_Sell_on_Open</th>\n      <th>Buy_Sell</th>\n      <th>Return</th>\n      <th>Up_Down</th>\n    </tr>\n    <tr>\n      <th>Date</th>\n      <th></th>\n      <th></th>\n      <th></th>\n      <th></th>\n      <th></th>\n      <th></th>\n      <th></th>\n      <th></th>\n      <th></th>\n      <th></th>\n      <th></th>\n    </tr>\n  </thead>\n  <tbody>\n    <tr>\n      <th>2014-01-03</th>\n      <td>3.98</td>\n      <td>4.00</td>\n      <td>3.88</td>\n      <td>4.00</td>\n      <td>4.00</td>\n      <td>22887200</td>\n      <td>1</td>\n      <td>1</td>\n      <td>1</td>\n      <td>0.012658</td>\n      <td>1</td>\n    </tr>\n    <tr>\n      <th>2014-01-06</th>\n      <td>4.01</td>\n      <td>4.18</td>\n      <td>3.99</td>\n      <td>4.13</td>\n      <td>4.13</td>\n      <td>42398300</td>\n      <td>1</td>\n      <td>1</td>\n      <td>1</td>\n      <td>0.032500</td>\n      <td>0</td>\n    </tr>\n    <tr>\n      <th>2014-01-07</th>\n      <td>4.19</td>\n      <td>4.25</td>\n      <td>4.11</td>\n      <td>4.18</td>\n      <td>4.18</td>\n      <td>42932100</td>\n      <td>0</td>\n      <td>1</td>\n      <td>0</td>\n      <td>0.012106</td>\n      <td>0</td>\n    </tr>\n    <tr>\n      <th>2014-01-08</th>\n      <td>4.23</td>\n      <td>4.26</td>\n      <td>4.14</td>\n      <td>4.18</td>\n      <td>4.18</td>\n      <td>30678700</td>\n      <td>0</td>\n      <td>0</td>\n      <td>0</td>\n      <td>0.000000</td>\n      <td>0</td>\n    </tr>\n    <tr>\n      <th>2014-01-09</th>\n      <td>4.20</td>\n      <td>4.23</td>\n      <td>4.05</td>\n      <td>4.09</td>\n      <td>4.09</td>\n      <td>30667600</td>\n      <td>0</td>\n      <td>0</td>\n      <td>1</td>\n      <td>-0.021531</td>\n      <td>1</td>\n    </tr>\n  </tbody>\n</table>\n</div>"
          },
          "metadata": {}
        }
      ],
      "execution_count": 3,
      "metadata": {
        "collapsed": false,
        "outputHidden": false,
        "inputHidden": false,
        "execution": {
          "iopub.status.busy": "2022-08-21T01:34:53.230Z",
          "iopub.execute_input": "2022-08-21T01:34:53.236Z",
          "shell.execute_reply": "2022-08-21T01:34:53.108Z",
          "iopub.status.idle": "2022-08-21T01:34:53.246Z"
        }
      }
    },
    {
      "cell_type": "code",
      "source": [
        "dataset.shape"
      ],
      "outputs": [
        {
          "output_type": "execute_result",
          "execution_count": 4,
          "data": {
            "text/plain": "(1170, 11)"
          },
          "metadata": {}
        }
      ],
      "execution_count": 4,
      "metadata": {
        "collapsed": false,
        "outputHidden": false,
        "inputHidden": false,
        "execution": {
          "iopub.status.busy": "2022-08-21T01:34:53.257Z",
          "iopub.execute_input": "2022-08-21T01:34:53.264Z",
          "iopub.status.idle": "2022-08-21T01:34:53.273Z",
          "shell.execute_reply": "2022-08-21T01:34:53.135Z"
        }
      }
    },
    {
      "cell_type": "code",
      "source": [
        "dataset.info"
      ],
      "outputs": [
        {
          "output_type": "execute_result",
          "execution_count": 5,
          "data": {
            "text/plain": "<bound method DataFrame.info of                  Open   High        Low      Close  Adj Close     Volume  \\\nDate                                                                       \n2014-01-03   3.980000   4.00   3.880000   4.000000   4.000000   22887200   \n2014-01-06   4.010000   4.18   3.990000   4.130000   4.130000   42398300   \n2014-01-07   4.190000   4.25   4.110000   4.180000   4.180000   42932100   \n2014-01-08   4.230000   4.26   4.140000   4.180000   4.180000   30678700   \n2014-01-09   4.200000   4.23   4.050000   4.090000   4.090000   30667600   \n...               ...    ...        ...        ...        ...        ...   \n2018-08-20  19.790001  20.08  19.350000  19.980000  19.980000   62983200   \n2018-08-21  19.980000  20.42  19.860001  20.400000  20.400000   55629000   \n2018-08-22  20.280001  20.92  20.209999  20.900000  20.900000   62002700   \n2018-08-23  21.190001  22.32  21.139999  22.290001  22.290001  113444100   \n2018-08-24  22.910000  24.00  22.670000  23.980000  23.980000  164328200   \n\n            Increase/Decrease  Buy_Sell_on_Open  Buy_Sell    Return  Up_Down  \nDate                                                                          \n2014-01-03                  1                 1         1  0.012658        1  \n2014-01-06                  1                 1         1  0.032500        0  \n2014-01-07                  0                 1         0  0.012106        0  \n2014-01-08                  0                 0         0  0.000000        0  \n2014-01-09                  0                 0         1 -0.021531        1  \n...                       ...               ...       ...       ...      ...  \n2018-08-20                  0                 1         1  0.010622        1  \n2018-08-21                  1                 1         1  0.021021        1  \n2018-08-22                  1                 1         1  0.024510        1  \n2018-08-23                  1                 1         1  0.066507        1  \n2018-08-24                  0                 0         0  0.075819        0  \n\n[1170 rows x 11 columns]>"
          },
          "metadata": {}
        }
      ],
      "execution_count": 5,
      "metadata": {
        "collapsed": true,
        "jupyter": {
          "source_hidden": false,
          "outputs_hidden": false
        },
        "nteract": {
          "transient": {
            "deleting": false
          }
        },
        "execution": {
          "iopub.status.busy": "2022-08-21T01:34:53.282Z",
          "iopub.execute_input": "2022-08-21T01:34:53.288Z",
          "iopub.status.idle": "2022-08-21T01:34:53.300Z",
          "shell.execute_reply": "2022-08-21T01:34:53.145Z"
        }
      }
    },
    {
      "cell_type": "code",
      "source": [
        "dataset.describe()"
      ],
      "outputs": [
        {
          "output_type": "execute_result",
          "execution_count": 6,
          "data": {
            "text/plain": "              Open         High          Low        Close    Adj Close  \\\ncount  1170.000000  1170.000000  1170.000000  1170.000000  1170.000000   \nmean      7.001342     7.146650     6.855419     7.002803     7.002803   \nstd       4.855620     4.953517     4.754049     4.861608     4.861608   \nmin       1.620000     1.690000     1.610000     1.620000     1.620000   \n25%       2.710000     2.780000     2.660000     2.702500     2.702500   \n50%       4.250000     4.350000     4.175000     4.275000     4.275000   \n75%      11.572500    11.775000    11.307500    11.550000    11.550000   \nmax      22.910000    24.000000    22.670000    23.980000    23.980000   \n\n             Volume  Increase/Decrease  Buy_Sell_on_Open     Buy_Sell  \\\ncount  1.170000e+03        1170.000000       1170.000000  1170.000000   \nmean   3.763371e+07           0.454701          0.505128     0.499145   \nstd    3.355409e+07           0.498157          0.500188     0.500213   \nmin    0.000000e+00           0.000000          0.000000     0.000000   \n25%    1.308128e+07           0.000000          0.000000     0.000000   \n50%    2.900380e+07           0.000000          1.000000     0.000000   \n75%    5.059335e+07           1.000000          1.000000     1.000000   \nmax    2.683365e+08           1.000000          1.000000     1.000000   \n\n            Return      Up_Down  \ncount  1170.000000  1170.000000  \nmean      0.002241     0.490598  \nstd       0.038113     0.500125  \nmin      -0.242291     0.000000  \n25%      -0.015964     0.000000  \n50%       0.000353     0.000000  \n75%       0.018227     1.000000  \nmax       0.522901     1.000000  ",
            "text/html": "<div>\n<style scoped>\n    .dataframe tbody tr th:only-of-type {\n        vertical-align: middle;\n    }\n\n    .dataframe tbody tr th {\n        vertical-align: top;\n    }\n\n    .dataframe thead th {\n        text-align: right;\n    }\n</style>\n<table border=\"1\" class=\"dataframe\">\n  <thead>\n    <tr style=\"text-align: right;\">\n      <th></th>\n      <th>Open</th>\n      <th>High</th>\n      <th>Low</th>\n      <th>Close</th>\n      <th>Adj Close</th>\n      <th>Volume</th>\n      <th>Increase/Decrease</th>\n      <th>Buy_Sell_on_Open</th>\n      <th>Buy_Sell</th>\n      <th>Return</th>\n      <th>Up_Down</th>\n    </tr>\n  </thead>\n  <tbody>\n    <tr>\n      <th>count</th>\n      <td>1170.000000</td>\n      <td>1170.000000</td>\n      <td>1170.000000</td>\n      <td>1170.000000</td>\n      <td>1170.000000</td>\n      <td>1.170000e+03</td>\n      <td>1170.000000</td>\n      <td>1170.000000</td>\n      <td>1170.000000</td>\n      <td>1170.000000</td>\n      <td>1170.000000</td>\n    </tr>\n    <tr>\n      <th>mean</th>\n      <td>7.001342</td>\n      <td>7.146650</td>\n      <td>6.855419</td>\n      <td>7.002803</td>\n      <td>7.002803</td>\n      <td>3.763371e+07</td>\n      <td>0.454701</td>\n      <td>0.505128</td>\n      <td>0.499145</td>\n      <td>0.002241</td>\n      <td>0.490598</td>\n    </tr>\n    <tr>\n      <th>std</th>\n      <td>4.855620</td>\n      <td>4.953517</td>\n      <td>4.754049</td>\n      <td>4.861608</td>\n      <td>4.861608</td>\n      <td>3.355409e+07</td>\n      <td>0.498157</td>\n      <td>0.500188</td>\n      <td>0.500213</td>\n      <td>0.038113</td>\n      <td>0.500125</td>\n    </tr>\n    <tr>\n      <th>min</th>\n      <td>1.620000</td>\n      <td>1.690000</td>\n      <td>1.610000</td>\n      <td>1.620000</td>\n      <td>1.620000</td>\n      <td>0.000000e+00</td>\n      <td>0.000000</td>\n      <td>0.000000</td>\n      <td>0.000000</td>\n      <td>-0.242291</td>\n      <td>0.000000</td>\n    </tr>\n    <tr>\n      <th>25%</th>\n      <td>2.710000</td>\n      <td>2.780000</td>\n      <td>2.660000</td>\n      <td>2.702500</td>\n      <td>2.702500</td>\n      <td>1.308128e+07</td>\n      <td>0.000000</td>\n      <td>0.000000</td>\n      <td>0.000000</td>\n      <td>-0.015964</td>\n      <td>0.000000</td>\n    </tr>\n    <tr>\n      <th>50%</th>\n      <td>4.250000</td>\n      <td>4.350000</td>\n      <td>4.175000</td>\n      <td>4.275000</td>\n      <td>4.275000</td>\n      <td>2.900380e+07</td>\n      <td>0.000000</td>\n      <td>1.000000</td>\n      <td>0.000000</td>\n      <td>0.000353</td>\n      <td>0.000000</td>\n    </tr>\n    <tr>\n      <th>75%</th>\n      <td>11.572500</td>\n      <td>11.775000</td>\n      <td>11.307500</td>\n      <td>11.550000</td>\n      <td>11.550000</td>\n      <td>5.059335e+07</td>\n      <td>1.000000</td>\n      <td>1.000000</td>\n      <td>1.000000</td>\n      <td>0.018227</td>\n      <td>1.000000</td>\n    </tr>\n    <tr>\n      <th>max</th>\n      <td>22.910000</td>\n      <td>24.000000</td>\n      <td>22.670000</td>\n      <td>23.980000</td>\n      <td>23.980000</td>\n      <td>2.683365e+08</td>\n      <td>1.000000</td>\n      <td>1.000000</td>\n      <td>1.000000</td>\n      <td>0.522901</td>\n      <td>1.000000</td>\n    </tr>\n  </tbody>\n</table>\n</div>"
          },
          "metadata": {}
        }
      ],
      "execution_count": 6,
      "metadata": {
        "collapsed": true,
        "jupyter": {
          "source_hidden": false,
          "outputs_hidden": false
        },
        "nteract": {
          "transient": {
            "deleting": false
          }
        },
        "execution": {
          "iopub.status.busy": "2022-08-21T01:34:53.309Z",
          "iopub.execute_input": "2022-08-21T01:34:53.315Z",
          "iopub.status.idle": "2022-08-21T01:34:53.330Z",
          "shell.execute_reply": "2022-08-21T01:34:53.474Z"
        }
      }
    },
    {
      "cell_type": "code",
      "source": [
        "dataset.corr()"
      ],
      "outputs": [
        {
          "output_type": "execute_result",
          "execution_count": 7,
          "data": {
            "text/plain": "                       Open      High       Low     Close  Adj Close  \\\nOpen               1.000000  0.999489  0.999445  0.998828   0.998828   \nHigh               0.999489  1.000000  0.999397  0.999530   0.999530   \nLow                0.999445  0.999397  1.000000  0.999503   0.999503   \nClose              0.998828  0.999530  0.999503  1.000000   1.000000   \nAdj Close          0.998828  0.999530  0.999503  1.000000   1.000000   \nVolume             0.666151  0.675334  0.657002  0.665702   0.665702   \nIncrease/Decrease  0.016132  0.012193  0.021328  0.017975   0.017975   \nBuy_Sell_on_Open   0.026993  0.041462  0.041653  0.053563   0.053563   \nBuy_Sell           0.050314  0.049388  0.049223  0.048270   0.048270   \nReturn             0.024533  0.042678  0.040212  0.057180   0.057180   \nUp_Down            0.009736  0.000512 -0.000198 -0.008278  -0.008278   \n\n                     Volume  Increase/Decrease  Buy_Sell_on_Open  Buy_Sell  \\\nOpen               0.666151           0.016132          0.026993  0.050314   \nHigh               0.675334           0.012193          0.041462  0.049388   \nLow                0.657002           0.021328          0.041653  0.049223   \nClose              0.665702           0.017975          0.053563  0.048270   \nAdj Close          0.665702           0.017975          0.053563  0.048270   \nVolume             1.000000          -0.202641          0.049329  0.026404   \nIncrease/Decrease -0.202641           1.000000         -0.012799  0.063354   \nBuy_Sell_on_Open   0.049329          -0.012799          1.000000  0.078654   \nBuy_Sell           0.026404           0.063354          0.078654  1.000000   \nReturn             0.067772           0.019902          0.509252 -0.012213   \nUp_Down           -0.008714           0.027474         -0.304150  0.518009   \n\n                     Return   Up_Down  \nOpen               0.024533  0.009736  \nHigh               0.042678  0.000512  \nLow                0.040212 -0.000198  \nClose              0.057180 -0.008278  \nAdj Close          0.057180 -0.008278  \nVolume             0.067772 -0.008714  \nIncrease/Decrease  0.019902  0.027474  \nBuy_Sell_on_Open   0.509252 -0.304150  \nBuy_Sell          -0.012213  0.518009  \nReturn             1.000000 -0.458735  \nUp_Down           -0.458735  1.000000  ",
            "text/html": "<div>\n<style scoped>\n    .dataframe tbody tr th:only-of-type {\n        vertical-align: middle;\n    }\n\n    .dataframe tbody tr th {\n        vertical-align: top;\n    }\n\n    .dataframe thead th {\n        text-align: right;\n    }\n</style>\n<table border=\"1\" class=\"dataframe\">\n  <thead>\n    <tr style=\"text-align: right;\">\n      <th></th>\n      <th>Open</th>\n      <th>High</th>\n      <th>Low</th>\n      <th>Close</th>\n      <th>Adj Close</th>\n      <th>Volume</th>\n      <th>Increase/Decrease</th>\n      <th>Buy_Sell_on_Open</th>\n      <th>Buy_Sell</th>\n      <th>Return</th>\n      <th>Up_Down</th>\n    </tr>\n  </thead>\n  <tbody>\n    <tr>\n      <th>Open</th>\n      <td>1.000000</td>\n      <td>0.999489</td>\n      <td>0.999445</td>\n      <td>0.998828</td>\n      <td>0.998828</td>\n      <td>0.666151</td>\n      <td>0.016132</td>\n      <td>0.026993</td>\n      <td>0.050314</td>\n      <td>0.024533</td>\n      <td>0.009736</td>\n    </tr>\n    <tr>\n      <th>High</th>\n      <td>0.999489</td>\n      <td>1.000000</td>\n      <td>0.999397</td>\n      <td>0.999530</td>\n      <td>0.999530</td>\n      <td>0.675334</td>\n      <td>0.012193</td>\n      <td>0.041462</td>\n      <td>0.049388</td>\n      <td>0.042678</td>\n      <td>0.000512</td>\n    </tr>\n    <tr>\n      <th>Low</th>\n      <td>0.999445</td>\n      <td>0.999397</td>\n      <td>1.000000</td>\n      <td>0.999503</td>\n      <td>0.999503</td>\n      <td>0.657002</td>\n      <td>0.021328</td>\n      <td>0.041653</td>\n      <td>0.049223</td>\n      <td>0.040212</td>\n      <td>-0.000198</td>\n    </tr>\n    <tr>\n      <th>Close</th>\n      <td>0.998828</td>\n      <td>0.999530</td>\n      <td>0.999503</td>\n      <td>1.000000</td>\n      <td>1.000000</td>\n      <td>0.665702</td>\n      <td>0.017975</td>\n      <td>0.053563</td>\n      <td>0.048270</td>\n      <td>0.057180</td>\n      <td>-0.008278</td>\n    </tr>\n    <tr>\n      <th>Adj Close</th>\n      <td>0.998828</td>\n      <td>0.999530</td>\n      <td>0.999503</td>\n      <td>1.000000</td>\n      <td>1.000000</td>\n      <td>0.665702</td>\n      <td>0.017975</td>\n      <td>0.053563</td>\n      <td>0.048270</td>\n      <td>0.057180</td>\n      <td>-0.008278</td>\n    </tr>\n    <tr>\n      <th>Volume</th>\n      <td>0.666151</td>\n      <td>0.675334</td>\n      <td>0.657002</td>\n      <td>0.665702</td>\n      <td>0.665702</td>\n      <td>1.000000</td>\n      <td>-0.202641</td>\n      <td>0.049329</td>\n      <td>0.026404</td>\n      <td>0.067772</td>\n      <td>-0.008714</td>\n    </tr>\n    <tr>\n      <th>Increase/Decrease</th>\n      <td>0.016132</td>\n      <td>0.012193</td>\n      <td>0.021328</td>\n      <td>0.017975</td>\n      <td>0.017975</td>\n      <td>-0.202641</td>\n      <td>1.000000</td>\n      <td>-0.012799</td>\n      <td>0.063354</td>\n      <td>0.019902</td>\n      <td>0.027474</td>\n    </tr>\n    <tr>\n      <th>Buy_Sell_on_Open</th>\n      <td>0.026993</td>\n      <td>0.041462</td>\n      <td>0.041653</td>\n      <td>0.053563</td>\n      <td>0.053563</td>\n      <td>0.049329</td>\n      <td>-0.012799</td>\n      <td>1.000000</td>\n      <td>0.078654</td>\n      <td>0.509252</td>\n      <td>-0.304150</td>\n    </tr>\n    <tr>\n      <th>Buy_Sell</th>\n      <td>0.050314</td>\n      <td>0.049388</td>\n      <td>0.049223</td>\n      <td>0.048270</td>\n      <td>0.048270</td>\n      <td>0.026404</td>\n      <td>0.063354</td>\n      <td>0.078654</td>\n      <td>1.000000</td>\n      <td>-0.012213</td>\n      <td>0.518009</td>\n    </tr>\n    <tr>\n      <th>Return</th>\n      <td>0.024533</td>\n      <td>0.042678</td>\n      <td>0.040212</td>\n      <td>0.057180</td>\n      <td>0.057180</td>\n      <td>0.067772</td>\n      <td>0.019902</td>\n      <td>0.509252</td>\n      <td>-0.012213</td>\n      <td>1.000000</td>\n      <td>-0.458735</td>\n    </tr>\n    <tr>\n      <th>Up_Down</th>\n      <td>0.009736</td>\n      <td>0.000512</td>\n      <td>-0.000198</td>\n      <td>-0.008278</td>\n      <td>-0.008278</td>\n      <td>-0.008714</td>\n      <td>0.027474</td>\n      <td>-0.304150</td>\n      <td>0.518009</td>\n      <td>-0.458735</td>\n      <td>1.000000</td>\n    </tr>\n  </tbody>\n</table>\n</div>"
          },
          "metadata": {}
        }
      ],
      "execution_count": 7,
      "metadata": {
        "collapsed": true,
        "jupyter": {
          "source_hidden": false,
          "outputs_hidden": false
        },
        "nteract": {
          "transient": {
            "deleting": false
          }
        },
        "execution": {
          "iopub.status.busy": "2022-08-21T01:34:53.339Z",
          "iopub.execute_input": "2022-08-21T01:34:53.346Z",
          "iopub.status.idle": "2022-08-21T01:34:53.361Z",
          "shell.execute_reply": "2022-08-21T01:34:53.478Z"
        }
      }
    },
    {
      "cell_type": "code",
      "source": [
        "dataset = dataset.drop('Return', axis=1)\n",
        "dataset.head()"
      ],
      "outputs": [
        {
          "output_type": "execute_result",
          "execution_count": 8,
          "data": {
            "text/plain": "            Open  High   Low  Close  Adj Close    Volume  Increase/Decrease  \\\nDate                                                                          \n2014-01-03  3.98  4.00  3.88   4.00       4.00  22887200                  1   \n2014-01-06  4.01  4.18  3.99   4.13       4.13  42398300                  1   \n2014-01-07  4.19  4.25  4.11   4.18       4.18  42932100                  0   \n2014-01-08  4.23  4.26  4.14   4.18       4.18  30678700                  0   \n2014-01-09  4.20  4.23  4.05   4.09       4.09  30667600                  0   \n\n            Buy_Sell_on_Open  Buy_Sell  Up_Down  \nDate                                             \n2014-01-03                 1         1        1  \n2014-01-06                 1         1        0  \n2014-01-07                 1         0        0  \n2014-01-08                 0         0        0  \n2014-01-09                 0         1        1  ",
            "text/html": "<div>\n<style scoped>\n    .dataframe tbody tr th:only-of-type {\n        vertical-align: middle;\n    }\n\n    .dataframe tbody tr th {\n        vertical-align: top;\n    }\n\n    .dataframe thead th {\n        text-align: right;\n    }\n</style>\n<table border=\"1\" class=\"dataframe\">\n  <thead>\n    <tr style=\"text-align: right;\">\n      <th></th>\n      <th>Open</th>\n      <th>High</th>\n      <th>Low</th>\n      <th>Close</th>\n      <th>Adj Close</th>\n      <th>Volume</th>\n      <th>Increase/Decrease</th>\n      <th>Buy_Sell_on_Open</th>\n      <th>Buy_Sell</th>\n      <th>Up_Down</th>\n    </tr>\n    <tr>\n      <th>Date</th>\n      <th></th>\n      <th></th>\n      <th></th>\n      <th></th>\n      <th></th>\n      <th></th>\n      <th></th>\n      <th></th>\n      <th></th>\n      <th></th>\n    </tr>\n  </thead>\n  <tbody>\n    <tr>\n      <th>2014-01-03</th>\n      <td>3.98</td>\n      <td>4.00</td>\n      <td>3.88</td>\n      <td>4.00</td>\n      <td>4.00</td>\n      <td>22887200</td>\n      <td>1</td>\n      <td>1</td>\n      <td>1</td>\n      <td>1</td>\n    </tr>\n    <tr>\n      <th>2014-01-06</th>\n      <td>4.01</td>\n      <td>4.18</td>\n      <td>3.99</td>\n      <td>4.13</td>\n      <td>4.13</td>\n      <td>42398300</td>\n      <td>1</td>\n      <td>1</td>\n      <td>1</td>\n      <td>0</td>\n    </tr>\n    <tr>\n      <th>2014-01-07</th>\n      <td>4.19</td>\n      <td>4.25</td>\n      <td>4.11</td>\n      <td>4.18</td>\n      <td>4.18</td>\n      <td>42932100</td>\n      <td>0</td>\n      <td>1</td>\n      <td>0</td>\n      <td>0</td>\n    </tr>\n    <tr>\n      <th>2014-01-08</th>\n      <td>4.23</td>\n      <td>4.26</td>\n      <td>4.14</td>\n      <td>4.18</td>\n      <td>4.18</td>\n      <td>30678700</td>\n      <td>0</td>\n      <td>0</td>\n      <td>0</td>\n      <td>0</td>\n    </tr>\n    <tr>\n      <th>2014-01-09</th>\n      <td>4.20</td>\n      <td>4.23</td>\n      <td>4.05</td>\n      <td>4.09</td>\n      <td>4.09</td>\n      <td>30667600</td>\n      <td>0</td>\n      <td>0</td>\n      <td>1</td>\n      <td>1</td>\n    </tr>\n  </tbody>\n</table>\n</div>"
          },
          "metadata": {}
        }
      ],
      "execution_count": 8,
      "metadata": {
        "collapsed": true,
        "jupyter": {
          "source_hidden": false,
          "outputs_hidden": false
        },
        "nteract": {
          "transient": {
            "deleting": false
          }
        },
        "execution": {
          "iopub.status.busy": "2022-08-21T01:34:53.370Z",
          "iopub.execute_input": "2022-08-21T01:34:53.376Z",
          "shell.execute_reply": "2022-08-21T01:34:53.482Z",
          "iopub.status.idle": "2022-08-21T01:34:53.390Z"
        }
      }
    },
    {
      "cell_type": "code",
      "source": [
        "X = dataset.drop(['Up_Down', 'Close'], axis=1)  \n",
        "y = dataset['Up_Down'] "
      ],
      "outputs": [],
      "execution_count": 9,
      "metadata": {
        "collapsed": true,
        "jupyter": {
          "source_hidden": false,
          "outputs_hidden": false
        },
        "nteract": {
          "transient": {
            "deleting": false
          }
        },
        "execution": {
          "iopub.status.busy": "2022-08-21T01:34:53.400Z",
          "iopub.execute_input": "2022-08-21T01:34:53.407Z",
          "iopub.status.idle": "2022-08-21T01:34:53.417Z",
          "shell.execute_reply": "2022-08-21T01:34:53.487Z"
        }
      }
    },
    {
      "cell_type": "code",
      "source": [
        "from sklearn.feature_selection import SelectKBest\n",
        "from sklearn.feature_selection import chi2"
      ],
      "outputs": [],
      "execution_count": 10,
      "metadata": {
        "collapsed": false,
        "outputHidden": false,
        "inputHidden": false,
        "execution": {
          "iopub.status.busy": "2022-08-21T01:34:53.427Z",
          "iopub.execute_input": "2022-08-21T01:34:53.433Z",
          "iopub.status.idle": "2022-08-21T01:34:54.117Z",
          "shell.execute_reply": "2022-08-21T01:34:54.107Z"
        }
      }
    },
    {
      "cell_type": "code",
      "source": [
        "best_features= SelectKBest(score_func=chi2, k=3)\n",
        "fit= best_features.fit(X,y)\n"
      ],
      "outputs": [],
      "execution_count": 11,
      "metadata": {
        "collapsed": true,
        "jupyter": {
          "source_hidden": false,
          "outputs_hidden": false
        },
        "nteract": {
          "transient": {
            "deleting": false
          }
        },
        "execution": {
          "iopub.status.busy": "2022-08-21T01:34:54.126Z",
          "iopub.execute_input": "2022-08-21T01:34:54.131Z",
          "iopub.status.idle": "2022-08-21T01:34:54.142Z",
          "shell.execute_reply": "2022-08-21T01:34:54.457Z"
        }
      }
    },
    {
      "cell_type": "code",
      "source": [
        "df_scores= pd.DataFrame(fit.scores_)\n",
        "df_columns= pd.DataFrame(X.columns)"
      ],
      "outputs": [],
      "execution_count": 12,
      "metadata": {
        "collapsed": false,
        "outputHidden": false,
        "inputHidden": false,
        "execution": {
          "iopub.status.busy": "2022-08-21T01:34:54.151Z",
          "iopub.execute_input": "2022-08-21T01:34:54.158Z",
          "iopub.status.idle": "2022-08-21T01:34:54.169Z",
          "shell.execute_reply": "2022-08-21T01:34:54.464Z"
        }
      }
    },
    {
      "cell_type": "code",
      "source": [
        "features_scores= pd.concat([df_columns, df_scores], axis=1)\n",
        "features_scores.columns= ['Features', 'Score']\n",
        "features_scores.sort_values(by = 'Score')"
      ],
      "outputs": [
        {
          "output_type": "execute_result",
          "execution_count": 13,
          "data": {
            "text/plain": "            Features         Score\n2                Low  1.511257e-04\n1               High  1.052673e-03\n3          Adj Close  2.703764e-01\n0               Open  3.731772e-01\n5  Increase/Decrease  4.815789e-01\n6   Buy_Sell_on_Open  5.356183e+01\n7           Buy_Sell  1.572433e+02\n4             Volume  2.655581e+06",
            "text/html": "<div>\n<style scoped>\n    .dataframe tbody tr th:only-of-type {\n        vertical-align: middle;\n    }\n\n    .dataframe tbody tr th {\n        vertical-align: top;\n    }\n\n    .dataframe thead th {\n        text-align: right;\n    }\n</style>\n<table border=\"1\" class=\"dataframe\">\n  <thead>\n    <tr style=\"text-align: right;\">\n      <th></th>\n      <th>Features</th>\n      <th>Score</th>\n    </tr>\n  </thead>\n  <tbody>\n    <tr>\n      <th>2</th>\n      <td>Low</td>\n      <td>1.511257e-04</td>\n    </tr>\n    <tr>\n      <th>1</th>\n      <td>High</td>\n      <td>1.052673e-03</td>\n    </tr>\n    <tr>\n      <th>3</th>\n      <td>Adj Close</td>\n      <td>2.703764e-01</td>\n    </tr>\n    <tr>\n      <th>0</th>\n      <td>Open</td>\n      <td>3.731772e-01</td>\n    </tr>\n    <tr>\n      <th>5</th>\n      <td>Increase/Decrease</td>\n      <td>4.815789e-01</td>\n    </tr>\n    <tr>\n      <th>6</th>\n      <td>Buy_Sell_on_Open</td>\n      <td>5.356183e+01</td>\n    </tr>\n    <tr>\n      <th>7</th>\n      <td>Buy_Sell</td>\n      <td>1.572433e+02</td>\n    </tr>\n    <tr>\n      <th>4</th>\n      <td>Volume</td>\n      <td>2.655581e+06</td>\n    </tr>\n  </tbody>\n</table>\n</div>"
          },
          "metadata": {}
        }
      ],
      "execution_count": 13,
      "metadata": {
        "collapsed": false,
        "outputHidden": false,
        "inputHidden": false,
        "execution": {
          "iopub.status.busy": "2022-08-21T01:34:54.178Z",
          "iopub.execute_input": "2022-08-21T01:34:54.183Z",
          "iopub.status.idle": "2022-08-21T01:34:54.196Z",
          "shell.execute_reply": "2022-08-21T01:34:54.476Z"
        }
      }
    },
    {
      "cell_type": "code",
      "source": [
        "X = dataset[['Buy_Sell_on_Open', 'Buy_Sell', 'Volume']]  # the top 3 features\n",
        "y = dataset['Up_Down']   # the target output"
      ],
      "outputs": [],
      "execution_count": 14,
      "metadata": {
        "collapsed": true,
        "jupyter": {
          "source_hidden": false,
          "outputs_hidden": false
        },
        "nteract": {
          "transient": {
            "deleting": false
          }
        },
        "execution": {
          "iopub.status.busy": "2022-08-21T01:34:54.206Z",
          "iopub.execute_input": "2022-08-21T01:34:54.212Z",
          "iopub.status.idle": "2022-08-21T01:34:54.221Z",
          "shell.execute_reply": "2022-08-21T01:34:54.481Z"
        }
      }
    },
    {
      "cell_type": "code",
      "source": [
        "from sklearn import model_selection\n",
        "from sklearn.linear_model import LogisticRegression\n",
        "from sklearn.model_selection import train_test_split\n",
        "\n",
        "X_train,X_test,y_train,y_test=train_test_split(X,y,test_size=0.4,random_state=100)"
      ],
      "outputs": [],
      "execution_count": 15,
      "metadata": {
        "collapsed": false,
        "outputHidden": false,
        "inputHidden": false,
        "execution": {
          "iopub.status.busy": "2022-08-21T01:34:54.229Z",
          "iopub.execute_input": "2022-08-21T01:34:54.236Z",
          "iopub.status.idle": "2022-08-21T01:34:54.244Z",
          "shell.execute_reply": "2022-08-21T01:34:54.484Z"
        }
      }
    },
    {
      "cell_type": "code",
      "source": [
        "model = LogisticRegression()\n",
        "model.fit(X_train,y_train)"
      ],
      "outputs": [
        {
          "output_type": "execute_result",
          "execution_count": 16,
          "data": {
            "text/plain": "LogisticRegression()"
          },
          "metadata": {}
        }
      ],
      "execution_count": 16,
      "metadata": {
        "collapsed": false,
        "outputHidden": false,
        "inputHidden": false,
        "execution": {
          "iopub.status.busy": "2022-08-21T01:34:54.254Z",
          "iopub.execute_input": "2022-08-21T01:34:54.259Z",
          "iopub.status.idle": "2022-08-21T01:34:54.271Z",
          "shell.execute_reply": "2022-08-21T01:34:54.487Z"
        }
      }
    },
    {
      "cell_type": "code",
      "source": [
        "y_pred= model.predict(X_test)\n",
        "print (X_test) #test dataset\n",
        "print (y_pred) #predicted values"
      ],
      "outputs": [
        {
          "output_type": "stream",
          "name": "stdout",
          "text": [
            "            Buy_Sell_on_Open  Buy_Sell    Volume\n",
            "Date                                            \n",
            "2014-11-24                 1         0  12293900\n",
            "2014-07-02                 1         0  20486500\n",
            "2016-02-16                 0         1  11853400\n",
            "2017-03-20                 1         0  91565600\n",
            "2016-05-11                 1         0   7540300\n",
            "...                      ...       ...       ...\n",
            "2014-10-13                 0         0  38269400\n",
            "2017-03-09                 1         1  45244200\n",
            "2016-09-20                 0         1  28990900\n",
            "2014-03-24                 1         0  20669500\n",
            "2016-11-07                 1         1  36999200\n",
            "\n",
            "[468 rows x 3 columns]\n",
            "[0 0 0 0 0 0 0 0 0 0 0 0 0 0 0 0 0 0 0 0 0 0 0 0 0 0 0 0 0 0 0 0 0 0 0 0 0\n",
            " 0 0 0 0 0 0 0 0 0 0 0 0 0 0 0 0 0 0 0 0 0 0 0 0 0 0 0 0 0 0 0 0 0 0 0 0 0\n",
            " 0 0 0 0 0 0 0 0 0 0 0 0 0 0 0 0 0 0 0 0 0 0 0 0 0 0 0 0 0 0 0 0 0 0 0 0 0\n",
            " 0 0 0 0 0 0 0 0 0 0 0 0 0 0 0 0 0 0 0 0 0 0 0 0 0 0 0 0 0 0 0 0 0 0 0 0 0\n",
            " 0 0 0 0 0 0 0 0 0 0 0 0 0 0 0 0 0 0 0 0 0 0 0 0 0 0 0 0 0 0 0 0 0 0 0 0 0\n",
            " 0 0 0 0 0 0 0 0 0 0 0 0 0 0 0 0 0 0 0 0 0 0 0 0 0 0 0 0 0 0 0 0 0 0 0 0 0\n",
            " 0 0 0 0 0 0 0 0 0 0 0 0 0 0 0 0 0 0 0 0 0 0 0 0 0 0 0 0 0 0 0 0 0 0 0 0 0\n",
            " 0 0 0 0 0 0 0 0 0 0 0 0 0 0 0 0 0 0 0 0 0 0 0 0 0 0 0 0 0 0 0 0 0 0 0 0 0\n",
            " 0 0 0 0 0 0 0 0 0 0 0 0 0 0 0 0 0 0 0 0 0 0 0 0 0 0 0 0 0 0 0 0 0 0 0 0 0\n",
            " 0 0 0 0 0 0 0 0 0 0 0 0 0 0 0 0 0 0 0 0 0 0 0 0 0 0 0 0 0 0 0 0 0 0 0 0 0\n",
            " 0 0 0 0 0 0 0 0 0 0 0 0 0 0 0 0 0 0 0 0 0 0 0 0 0 0 0 0 0 0 0 0 0 0 0 0 0\n",
            " 0 0 0 0 0 0 0 0 0 0 0 0 0 0 0 0 0 0 0 0 0 0 0 0 0 0 0 0 0 0 0 0 0 0 0 0 0\n",
            " 0 0 0 0 0 0 0 0 0 0 0 0 0 0 0 0 0 0 0 0 0 0 0 0]\n"
          ]
        }
      ],
      "execution_count": 17,
      "metadata": {
        "collapsed": false,
        "outputHidden": false,
        "inputHidden": false,
        "execution": {
          "iopub.status.busy": "2022-08-21T01:34:54.280Z",
          "iopub.execute_input": "2022-08-21T01:34:54.286Z",
          "iopub.status.idle": "2022-08-21T01:34:54.298Z",
          "shell.execute_reply": "2022-08-21T01:34:54.491Z"
        }
      }
    },
    {
      "cell_type": "code",
      "source": [
        "from sklearn import metrics\n",
        "from sklearn.metrics import classification_report\n",
        "\n",
        "print('Accuracy: ', metrics.accuracy_score(y_test, y_pred))\n",
        "print('Recall: ', metrics.recall_score(y_test, y_pred, zero_division=1))\n",
        "print('Precision: ', metrics.precision_score(y_test, y_pred, zero_division=1))\n",
        "print('CL Report: ', metrics.classification_report(y_test, y_pred, zero_division=1))"
      ],
      "outputs": [
        {
          "output_type": "stream",
          "name": "stdout",
          "text": [
            "Accuracy:  0.5042735042735043\n",
            "Recall:  0.0\n",
            "Precision:  1.0\n",
            "CL Report:                precision    recall  f1-score   support\n",
            "\n",
            "           0       0.50      1.00      0.67       236\n",
            "           1       1.00      0.00      0.00       232\n",
            "\n",
            "    accuracy                           0.50       468\n",
            "   macro avg       0.75      0.50      0.34       468\n",
            "weighted avg       0.75      0.50      0.34       468\n",
            "\n"
          ]
        }
      ],
      "execution_count": 18,
      "metadata": {
        "collapsed": false,
        "outputHidden": false,
        "inputHidden": false,
        "execution": {
          "iopub.status.busy": "2022-08-21T01:34:54.307Z",
          "iopub.execute_input": "2022-08-21T01:34:54.313Z",
          "iopub.status.idle": "2022-08-21T01:34:54.326Z",
          "shell.execute_reply": "2022-08-21T01:34:54.494Z"
        }
      }
    },
    {
      "cell_type": "code",
      "source": [
        "y_pred_proba= model.predict_proba(X_test)[::,1]"
      ],
      "outputs": [],
      "execution_count": 19,
      "metadata": {
        "collapsed": true,
        "jupyter": {
          "source_hidden": false,
          "outputs_hidden": false
        },
        "nteract": {
          "transient": {
            "deleting": false
          }
        },
        "execution": {
          "iopub.status.busy": "2022-08-21T01:34:54.335Z",
          "iopub.execute_input": "2022-08-21T01:34:54.341Z",
          "iopub.status.idle": "2022-08-21T01:34:54.350Z",
          "shell.execute_reply": "2022-08-21T01:34:54.498Z"
        }
      }
    },
    {
      "cell_type": "code",
      "source": [
        "false_positive_rate, true_positive_rate, _ = metrics.roc_curve(y_test, y_pred_proba)"
      ],
      "outputs": [],
      "execution_count": 20,
      "metadata": {
        "collapsed": true,
        "jupyter": {
          "source_hidden": false,
          "outputs_hidden": false
        },
        "nteract": {
          "transient": {
            "deleting": false
          }
        },
        "execution": {
          "iopub.status.busy": "2022-08-21T01:34:54.357Z",
          "iopub.execute_input": "2022-08-21T01:34:54.363Z",
          "iopub.status.idle": "2022-08-21T01:34:54.374Z",
          "shell.execute_reply": "2022-08-21T01:34:54.502Z"
        }
      }
    },
    {
      "cell_type": "code",
      "source": [
        "auc= metrics.roc_auc_score(y_test, y_pred_proba)"
      ],
      "outputs": [],
      "execution_count": 21,
      "metadata": {
        "collapsed": true,
        "jupyter": {
          "source_hidden": false,
          "outputs_hidden": false
        },
        "nteract": {
          "transient": {
            "deleting": false
          }
        },
        "execution": {
          "iopub.status.busy": "2022-08-21T01:34:54.385Z",
          "iopub.execute_input": "2022-08-21T01:34:54.390Z",
          "iopub.status.idle": "2022-08-21T01:34:54.398Z",
          "shell.execute_reply": "2022-08-21T01:34:54.506Z"
        }
      }
    },
    {
      "cell_type": "code",
      "source": [
        "plt.plot(false_positive_rate, true_positive_rate,label=\"AUC=\"+str(auc))\n",
        "plt.title('ROC Curve')\n",
        "plt.ylabel('True Positive Rate')\n",
        "plt.xlabel('false Positive Rate')\n",
        "plt.legend(loc=4)"
      ],
      "outputs": [
        {
          "output_type": "execute_result",
          "execution_count": 22,
          "data": {
            "text/plain": "<matplotlib.legend.Legend at 0x17277a637b8>"
          },
          "metadata": {}
        },
        {
          "output_type": "display_data",
          "data": {
            "text/plain": "<Figure size 432x288 with 1 Axes>",
            "image/png": "[encoded data removed]"
          },
          "metadata": {
            "needs_background": "light"
          }
        }
      ],
      "execution_count": 22,
      "metadata": {
        "collapsed": true,
        "jupyter": {
          "source_hidden": false,
          "outputs_hidden": false
        },
        "nteract": {
          "transient": {
            "deleting": false
          }
        },
        "execution": {
          "iopub.status.busy": "2022-08-21T01:34:54.407Z",
          "iopub.execute_input": "2022-08-21T01:34:54.412Z",
          "iopub.status.idle": "2022-08-21T01:34:54.427Z",
          "shell.execute_reply": "2022-08-21T01:34:54.510Z"
        }
      }
    }
  ],
  "metadata": {
    "kernel_info": {
      "name": "python3"
    },
    "language_info": {
      "name": "python",
      "version": "3.6.13",
      "mimetype": "text/x-python",
      "codemirror_mode": {
        "name": "ipython",
        "version": 3
      },
      "pygments_lexer": "ipython3",
      "nbconvert_exporter": "python",
      "file_extension": ".py"
    },
    "kernelspec": {
      "name": "python3",
      "language": "python",
      "display_name": "Python 3"
    },
    "nteract": {
      "version": "0.28.0"
    }
  },
  "nbformat": 4,
  "nbformat_minor": 4
}