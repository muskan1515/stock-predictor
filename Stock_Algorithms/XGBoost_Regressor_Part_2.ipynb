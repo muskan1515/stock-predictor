{
  "cells": [
    {
      "cell_type": "markdown",
      "source": [
        "# XGBoost Regressor Part 2"
      ],
      "metadata": {}
    },
    {
      "cell_type": "code",
      "source": [
        "import numpy as np\n",
        "import matplotlib.pyplot as plt\n",
        "import pandas as pd\n",
        "import xgboost as xgb\n",
        "from xgboost import XGBRegressor\n",
        "from sklearn.metrics import mean_squared_error\n",
        "from sklearn.model_selection import GridSearchCV\n",
        "\n",
        "import warnings\n",
        "warnings.filterwarnings(\"ignore\")\n",
        "\n",
        "# yahoo_finance is used to fetch data \n",
        "import yfinance as yf\n",
        "yf.pdr_override()"
      ],
      "outputs": [],
      "execution_count": 1,
      "metadata": {
        "collapsed": false,
        "outputHidden": false,
        "inputHidden": false,
        "execution": {
          "iopub.status.busy": "2021-06-13T05:15:07.697Z",
          "iopub.execute_input": "2021-06-13T05:15:07.704Z",
          "iopub.status.idle": "2021-06-13T05:15:09.213Z",
          "shell.execute_reply": "2021-06-13T05:15:09.233Z"
        }
      }
    },
    {
      "cell_type": "code",
      "source": [
        "# input\n",
        "symbol = 'AMD'\n",
        "start = '2014-01-01'\n",
        "end = '2019-01-01'\n",
        "\n",
        "# Read data \n",
        "dataset = yf.download(symbol,start,end)\n",
        "\n",
        "# View Columns\n",
        "dataset.head()"
      ],
      "outputs": [
        {
          "output_type": "stream",
          "name": "stdout",
          "text": [
            "[*********************100%***********************]  1 of 1 completed\n"
          ]
        },
        {
          "output_type": "execute_result",
          "execution_count": 2,
          "data": {
            "text/plain": "            Open  High   Low  Close  Adj Close    Volume\nDate                                                    \n2014-01-02  3.85  3.98  3.84   3.95       3.95  20548400\n2014-01-03  3.98  4.00  3.88   4.00       4.00  22887200\n2014-01-06  4.01  4.18  3.99   4.13       4.13  42398300\n2014-01-07  4.19  4.25  4.11   4.18       4.18  42932100\n2014-01-08  4.23  4.26  4.14   4.18       4.18  30678700",
            "text/html": "<div>\n<style scoped>\n    .dataframe tbody tr th:only-of-type {\n        vertical-align: middle;\n    }\n\n    .dataframe tbody tr th {\n        vertical-align: top;\n    }\n\n    .dataframe thead th {\n        text-align: right;\n    }\n</style>\n<table border=\"1\" class=\"dataframe\">\n  <thead>\n    <tr style=\"text-align: right;\">\n      <th></th>\n      <th>Open</th>\n      <th>High</th>\n      <th>Low</th>\n      <th>Close</th>\n      <th>Adj Close</th>\n      <th>Volume</th>\n    </tr>\n    <tr>\n      <th>Date</th>\n      <th></th>\n      <th></th>\n      <th></th>\n      <th></th>\n      <th></th>\n      <th></th>\n    </tr>\n  </thead>\n  <tbody>\n    <tr>\n      <th>2014-01-02</th>\n      <td>3.85</td>\n      <td>3.98</td>\n      <td>3.84</td>\n      <td>3.95</td>\n      <td>3.95</td>\n      <td>20548400</td>\n    </tr>\n    <tr>\n      <th>2014-01-03</th>\n      <td>3.98</td>\n      <td>4.00</td>\n      <td>3.88</td>\n      <td>4.00</td>\n      <td>4.00</td>\n      <td>22887200</td>\n    </tr>\n    <tr>\n      <th>2014-01-06</th>\n      <td>4.01</td>\n      <td>4.18</td>\n      <td>3.99</td>\n      <td>4.13</td>\n      <td>4.13</td>\n      <td>42398300</td>\n    </tr>\n    <tr>\n      <th>2014-01-07</th>\n      <td>4.19</td>\n      <td>4.25</td>\n      <td>4.11</td>\n      <td>4.18</td>\n      <td>4.18</td>\n      <td>42932100</td>\n    </tr>\n    <tr>\n      <th>2014-01-08</th>\n      <td>4.23</td>\n      <td>4.26</td>\n      <td>4.14</td>\n      <td>4.18</td>\n      <td>4.18</td>\n      <td>30678700</td>\n    </tr>\n  </tbody>\n</table>\n</div>"
          },
          "metadata": {}
        }
      ],
      "execution_count": 2,
      "metadata": {
        "collapsed": false,
        "outputHidden": false,
        "inputHidden": false,
        "execution": {
          "iopub.status.busy": "2021-06-13T05:15:09.220Z",
          "iopub.execute_input": "2021-06-13T05:15:09.226Z",
          "iopub.status.idle": "2021-06-13T05:15:09.567Z",
          "shell.execute_reply": "2021-06-13T05:15:09.606Z"
        }
      }
    },
    {
      "cell_type": "code",
      "source": [
        "# Create more data\n",
        "dataset['Increase/Decrease'] = np.where(dataset['Volume'].shift(-1) > dataset['Volume'],1,0)\n",
        "dataset['Buy_Sell_on_Open'] = np.where(dataset['Open'].shift(-1) > dataset['Open'],1,-1)\n",
        "dataset['Buy_Sell'] = np.where(dataset['Adj Close'].shift(-1) > dataset['Adj Close'],1,-1)\n",
        "dataset['Return'] = dataset['Adj Close'].pct_change()\n",
        "dataset = dataset.dropna()\n",
        "dataset.head()"
      ],
      "outputs": [
        {
          "output_type": "execute_result",
          "execution_count": 3,
          "data": {
            "text/plain": "            Open  High   Low  Close  Adj Close    Volume  Increase/Decrease  \\\nDate                                                                          \n2014-01-03  3.98  4.00  3.88   4.00       4.00  22887200                  1   \n2014-01-06  4.01  4.18  3.99   4.13       4.13  42398300                  1   \n2014-01-07  4.19  4.25  4.11   4.18       4.18  42932100                  0   \n2014-01-08  4.23  4.26  4.14   4.18       4.18  30678700                  0   \n2014-01-09  4.20  4.23  4.05   4.09       4.09  30667600                  0   \n\n            Buy_Sell_on_Open  Buy_Sell    Return  \nDate                                              \n2014-01-03                 1         1  0.012658  \n2014-01-06                 1         1  0.032500  \n2014-01-07                 1        -1  0.012106  \n2014-01-08                -1        -1  0.000000  \n2014-01-09                -1         1 -0.021531  ",
            "text/html": "<div>\n<style scoped>\n    .dataframe tbody tr th:only-of-type {\n        vertical-align: middle;\n    }\n\n    .dataframe tbody tr th {\n        vertical-align: top;\n    }\n\n    .dataframe thead th {\n        text-align: right;\n    }\n</style>\n<table border=\"1\" class=\"dataframe\">\n  <thead>\n    <tr style=\"text-align: right;\">\n      <th></th>\n      <th>Open</th>\n      <th>High</th>\n      <th>Low</th>\n      <th>Close</th>\n      <th>Adj Close</th>\n      <th>Volume</th>\n      <th>Increase/Decrease</th>\n      <th>Buy_Sell_on_Open</th>\n      <th>Buy_Sell</th>\n      <th>Return</th>\n    </tr>\n    <tr>\n      <th>Date</th>\n      <th></th>\n      <th></th>\n      <th></th>\n      <th></th>\n      <th></th>\n      <th></th>\n      <th></th>\n      <th></th>\n      <th></th>\n      <th></th>\n    </tr>\n  </thead>\n  <tbody>\n    <tr>\n      <th>2014-01-03</th>\n      <td>3.98</td>\n      <td>4.00</td>\n      <td>3.88</td>\n      <td>4.00</td>\n      <td>4.00</td>\n      <td>22887200</td>\n      <td>1</td>\n      <td>1</td>\n      <td>1</td>\n      <td>0.012658</td>\n    </tr>\n    <tr>\n      <th>2014-01-06</th>\n      <td>4.01</td>\n      <td>4.18</td>\n      <td>3.99</td>\n      <td>4.13</td>\n      <td>4.13</td>\n      <td>42398300</td>\n      <td>1</td>\n      <td>1</td>\n      <td>1</td>\n      <td>0.032500</td>\n    </tr>\n    <tr>\n      <th>2014-01-07</th>\n      <td>4.19</td>\n      <td>4.25</td>\n      <td>4.11</td>\n      <td>4.18</td>\n      <td>4.18</td>\n      <td>42932100</td>\n      <td>0</td>\n      <td>1</td>\n      <td>-1</td>\n      <td>0.012106</td>\n    </tr>\n    <tr>\n      <th>2014-01-08</th>\n      <td>4.23</td>\n      <td>4.26</td>\n      <td>4.14</td>\n      <td>4.18</td>\n      <td>4.18</td>\n      <td>30678700</td>\n      <td>0</td>\n      <td>-1</td>\n      <td>-1</td>\n      <td>0.000000</td>\n    </tr>\n    <tr>\n      <th>2014-01-09</th>\n      <td>4.20</td>\n      <td>4.23</td>\n      <td>4.05</td>\n      <td>4.09</td>\n      <td>4.09</td>\n      <td>30667600</td>\n      <td>0</td>\n      <td>-1</td>\n      <td>1</td>\n      <td>-0.021531</td>\n    </tr>\n  </tbody>\n</table>\n</div>"
          },
          "metadata": {}
        }
      ],
      "execution_count": 3,
      "metadata": {
        "collapsed": false,
        "outputHidden": false,
        "inputHidden": false,
        "execution": {
          "iopub.status.busy": "2021-06-13T05:15:09.576Z",
          "iopub.execute_input": "2021-06-13T05:15:09.582Z",
          "iopub.status.idle": "2021-06-13T05:15:09.622Z",
          "shell.execute_reply": "2021-06-13T05:15:09.610Z"
        }
      }
    },
    {
      "cell_type": "code",
      "source": [
        "dataset.shape"
      ],
      "outputs": [
        {
          "output_type": "execute_result",
          "execution_count": 4,
          "data": {
            "text/plain": "(1257, 10)"
          },
          "metadata": {}
        }
      ],
      "execution_count": 4,
      "metadata": {
        "collapsed": false,
        "outputHidden": false,
        "inputHidden": false,
        "execution": {
          "iopub.status.busy": "2021-06-13T05:15:09.630Z",
          "iopub.execute_input": "2021-06-13T05:15:09.636Z",
          "iopub.status.idle": "2021-06-13T05:15:09.647Z",
          "shell.execute_reply": "2021-06-13T05:15:09.613Z"
        }
      }
    },
    {
      "cell_type": "code",
      "source": [
        "df = dataset.iloc[33:]\n",
        "df = dataset[:-1]      \n",
        "\n",
        "df.index = range(len(df))"
      ],
      "outputs": [],
      "execution_count": 5,
      "metadata": {
        "collapsed": true,
        "jupyter": {
          "source_hidden": false,
          "outputs_hidden": false
        },
        "nteract": {
          "transient": {
            "deleting": false
          }
        },
        "execution": {
          "iopub.status.busy": "2021-06-13T05:15:09.657Z",
          "iopub.execute_input": "2021-06-13T05:15:09.661Z",
          "iopub.status.idle": "2021-06-13T05:15:09.669Z",
          "shell.execute_reply": "2021-06-13T05:15:09.695Z"
        }
      }
    },
    {
      "cell_type": "code",
      "source": [
        "test_size  = 0.20\n",
        "valid_size = 0.20\n",
        "\n",
        "test_split_idx  = int(df.shape[0] * (1-test_size))\n",
        "valid_split_idx = int(df.shape[0] * (1-(valid_size+test_size)))\n",
        "\n",
        "train_df  = df.loc[:valid_split_idx].copy()\n",
        "valid_df  = df.loc[valid_split_idx+1:test_split_idx].copy()\n",
        "test_df   = df.loc[test_split_idx+1:].copy()\n",
        "\n",
        "plt.figure(figsize=(16,8))\n",
        "plt.scatter(train_df.index, train_df['Adj Close'], label='Training')\n",
        "plt.scatter(valid_df.index, valid_df['Adj Close'], label='Validation')\n",
        "plt.scatter(test_df.index,  test_df['Adj Close'],  label='Test')\n",
        "plt.legend(loc='best')\n",
        "plt.show()"
      ],
      "outputs": [
        {
          "output_type": "display_data",
          "data": {
            "text/plain": "<Figure size 1152x576 with 1 Axes>",
            "image/png": "[encoded data removed]"
          },
          "metadata": {
            "needs_background": "light"
          }
        }
      ],
      "execution_count": 6,
      "metadata": {
        "collapsed": true,
        "jupyter": {
          "source_hidden": false,
          "outputs_hidden": false
        },
        "nteract": {
          "transient": {
            "deleting": false
          }
        },
        "execution": {
          "iopub.status.busy": "2021-06-13T05:15:09.677Z",
          "iopub.execute_input": "2021-06-13T05:15:09.682Z",
          "iopub.status.idle": "2021-06-13T05:15:09.798Z",
          "shell.execute_reply": "2021-06-13T05:15:09.880Z"
        }
      }
    },
    {
      "cell_type": "code",
      "source": [
        "drop_cols = ['Close', 'Increase/Decrease', 'Buy_Sell_on_Open', 'Buy_Sell']\n",
        "\n",
        "dataset = dataset.dropna()\n",
        "train_df = train_df.drop(drop_cols, 1)\n",
        "valid_df = valid_df.drop(drop_cols, 1)\n",
        "test_df  = test_df.drop(drop_cols, 1)"
      ],
      "outputs": [],
      "execution_count": 7,
      "metadata": {
        "collapsed": true,
        "jupyter": {
          "source_hidden": false,
          "outputs_hidden": false
        },
        "nteract": {
          "transient": {
            "deleting": false
          }
        },
        "execution": {
          "iopub.status.busy": "2021-06-13T05:15:09.806Z",
          "iopub.execute_input": "2021-06-13T05:15:09.811Z",
          "iopub.status.idle": "2021-06-13T05:15:09.822Z",
          "shell.execute_reply": "2021-06-13T05:15:09.886Z"
        }
      }
    },
    {
      "cell_type": "code",
      "source": [
        "y_train = train_df['Adj Close'].copy()\n",
        "X_train = train_df.drop(['Adj Close'], 1)\n",
        "\n",
        "y_valid = valid_df['Adj Close'].copy()\n",
        "X_valid = valid_df.drop(['Adj Close'], 1)\n",
        "\n",
        "y_test  = test_df['Adj Close'].copy()\n",
        "X_test  = test_df.drop(['Adj Close'], 1)\n",
        "\n",
        "X_train.info()"
      ],
      "outputs": [
        {
          "output_type": "stream",
          "name": "stdout",
          "text": [
            "<class 'pandas.core.frame.DataFrame'>\n",
            "RangeIndex: 754 entries, 0 to 753\n",
            "Data columns (total 5 columns):\n",
            " #   Column  Non-Null Count  Dtype  \n",
            "---  ------  --------------  -----  \n",
            " 0   Open    754 non-null    float64\n",
            " 1   High    754 non-null    float64\n",
            " 2   Low     754 non-null    float64\n",
            " 3   Volume  754 non-null    int64  \n",
            " 4   Return  754 non-null    float64\n",
            "dtypes: float64(4), int64(1)\n",
            "memory usage: 29.6 KB\n"
          ]
        }
      ],
      "execution_count": 8,
      "metadata": {
        "collapsed": false,
        "outputHidden": false,
        "inputHidden": false,
        "execution": {
          "iopub.status.busy": "2021-06-13T05:15:09.831Z",
          "iopub.execute_input": "2021-06-13T05:15:09.838Z",
          "iopub.status.idle": "2021-06-13T05:15:09.848Z",
          "shell.execute_reply": "2021-06-13T05:15:09.891Z"
        }
      }
    },
    {
      "cell_type": "code",
      "source": [
        "%%time\n",
        "\n",
        "parameters = {\n",
        "    'n_estimators': [100, 200, 300, 400],\n",
        "    'learning_rate': [0.001, 0.005, 0.01, 0.05],\n",
        "    'max_depth': [8, 10, 12, 15],\n",
        "    'gamma': [0.001, 0.005, 0.01, 0.02],\n",
        "    'random_state': [42]\n",
        "}\n",
        "\n",
        "eval_set = [(X_train, y_train), (X_valid, y_valid)]\n",
        "model = xgb.XGBRegressor(max_depth=5, learning_rate=0.01, n_estimators=2000, colsample_bytree=0.1)\n",
        "clf = GridSearchCV(model, parameters)\n",
        "\n",
        "clf.fit(X_train, y_train, verbose=False)\n",
        "\n",
        "print(f'Best params: {clf.best_params_}')\n",
        "print(f'Best validation score = {clf.best_score_}')"
      ],
      "outputs": [
        {
          "output_type": "stream",
          "name": "stdout",
          "text": [
            "Best params: {'gamma': 0.02, 'learning_rate': 0.05, 'max_depth': 8, 'n_estimators': 400, 'random_state': 42}\n",
            "Best validation score = -0.022163284567563356\n",
            "Wall time: 1min 33s\n"
          ]
        }
      ],
      "execution_count": 9,
      "metadata": {
        "collapsed": false,
        "outputHidden": false,
        "inputHidden": false,
        "execution": {
          "iopub.status.busy": "2021-06-13T05:15:09.858Z",
          "iopub.execute_input": "2021-06-13T05:15:09.863Z",
          "iopub.status.idle": "2021-06-13T05:16:43.837Z",
          "shell.execute_reply": "2021-06-13T05:16:43.873Z"
        }
      }
    },
    {
      "cell_type": "code",
      "source": [
        "%%time\n",
        "\n",
        "model = xgb.XGBRegressor(**clf.best_params_, objective='reg:squarederror')\n",
        "model.fit(X_train, y_train, eval_set=eval_set, verbose=False)"
      ],
      "outputs": [
        {
          "output_type": "stream",
          "name": "stdout",
          "text": [
            "Wall time: 192 ms\n"
          ]
        },
        {
          "output_type": "execute_result",
          "execution_count": 10,
          "data": {
            "text/plain": "XGBRegressor(base_score=0.5, booster='gbtree', colsample_bylevel=1,\n             colsample_bynode=1, colsample_bytree=1, gamma=0.02, gpu_id=-1,\n             importance_type='gain', interaction_constraints='',\n             learning_rate=0.05, max_delta_step=0, max_depth=8,\n             min_child_weight=1, missing=nan, monotone_constraints='()',\n             n_estimators=400, n_jobs=0, num_parallel_tree=1, random_state=42,\n             reg_alpha=0, reg_lambda=1, scale_pos_weight=1, subsample=1,\n             tree_method='exact', validate_parameters=1, verbosity=None)"
          },
          "metadata": {}
        }
      ],
      "execution_count": 10,
      "metadata": {
        "collapsed": false,
        "outputHidden": false,
        "inputHidden": false,
        "execution": {
          "iopub.status.busy": "2021-06-13T05:16:43.850Z",
          "iopub.execute_input": "2021-06-13T05:16:43.858Z",
          "iopub.status.idle": "2021-06-13T05:16:44.055Z",
          "shell.execute_reply": "2021-06-13T05:16:44.087Z"
        }
      }
    },
    {
      "cell_type": "code",
      "source": [
        "from xgboost import plot_importance\n",
        "\n",
        "plot_importance(model)\n",
        "\n"
      ],
      "outputs": [
        {
          "output_type": "execute_result",
          "execution_count": 11,
          "data": {
            "text/plain": "<AxesSubplot:title={'center':'Feature importance'}, xlabel='F score', ylabel='Features'>"
          },
          "metadata": {}
        },
        {
          "output_type": "display_data",
          "data": {
            "text/plain": "<Figure size 432x288 with 1 Axes>",
            "image/png": "[encoded data removed]"
          },
          "metadata": {
            "needs_background": "light"
          }
        }
      ],
      "execution_count": 11,
      "metadata": {
        "collapsed": false,
        "outputHidden": false,
        "inputHidden": false,
        "execution": {
          "iopub.status.busy": "2021-06-13T05:16:44.066Z",
          "iopub.execute_input": "2021-06-13T05:16:44.074Z",
          "iopub.status.idle": "2021-06-13T05:16:44.197Z",
          "shell.execute_reply": "2021-06-13T05:16:44.187Z"
        }
      }
    },
    {
      "cell_type": "code",
      "source": [
        "y_pred = model.predict(X_test)\n",
        "print('y_true = %s' % np.array(y_test)[:5])\n",
        "print('y_pred = %s' % y_pred[:5])"
      ],
      "outputs": [
        {
          "output_type": "stream",
          "name": "stdout",
          "text": [
            "y_true = [10.27999973 10.97999954 11.55000019 12.11999989 11.88000011]\n",
            "y_pred = [10.486605 10.667755 11.433056 11.774805 11.841607]\n"
          ]
        }
      ],
      "execution_count": 12,
      "metadata": {
        "collapsed": false,
        "outputHidden": false,
        "inputHidden": false,
        "execution": {
          "iopub.status.busy": "2021-06-13T05:16:44.209Z",
          "iopub.execute_input": "2021-06-13T05:16:44.215Z",
          "iopub.status.idle": "2021-06-13T05:16:44.231Z",
          "shell.execute_reply": "2021-06-13T05:16:44.301Z"
        }
      }
    },
    {
      "cell_type": "code",
      "source": [
        "print('mean_squared_error = %s' % mean_squared_error(y_test, y_pred))\n",
        "\n"
      ],
      "outputs": [
        {
          "output_type": "stream",
          "name": "stdout",
          "text": [
            "mean_squared_error = 67.1401108921124\n"
          ]
        }
      ],
      "execution_count": 13,
      "metadata": {
        "collapsed": false,
        "outputHidden": false,
        "inputHidden": false,
        "execution": {
          "iopub.status.busy": "2021-06-13T05:16:44.242Z",
          "iopub.execute_input": "2021-06-13T05:16:44.249Z",
          "iopub.status.idle": "2021-06-13T05:16:44.265Z",
          "shell.execute_reply": "2021-06-13T05:16:44.305Z"
        }
      }
    },
    {
      "cell_type": "code",
      "source": [
        "fig, axs = plt.subplots(2)\n",
        "\n",
        "fig.set_size_inches(16, 10)\n",
        "\n",
        "predicted_prices = df.loc[test_split_idx+1:].copy()\n",
        "predicted_prices['Adj Close'] = y_pred\n",
        "\n",
        "axs[0].scatter(df.index, y=df['Adj Close'],\n",
        "                         label='Truth')\n",
        "\n",
        "axs[0].scatter(predicted_prices.index, predicted_prices['Adj Close'],\n",
        "                         label='Prediction')\n",
        "\n",
        "axs[1].scatter(predicted_prices.index, y_test, label='Truth')\n",
        "\n",
        "axs[1].scatter(predicted_prices.index, y_pred,label='Prediction')\n",
        "\n",
        "\n",
        "plt.show()"
      ],
      "outputs": [
        {
          "output_type": "display_data",
          "data": {
            "text/plain": "<Figure size 1152x720 with 2 Axes>",
            "image/png": "[encoded data removed]"
          },
          "metadata": {
            "needs_background": "light"
          }
        }
      ],
      "execution_count": 14,
      "metadata": {
        "collapsed": true,
        "jupyter": {
          "source_hidden": false,
          "outputs_hidden": false
        },
        "nteract": {
          "transient": {
            "deleting": false
          }
        },
        "execution": {
          "iopub.status.busy": "2021-06-13T05:16:44.279Z",
          "iopub.execute_input": "2021-06-13T05:16:44.288Z",
          "iopub.status.idle": "2021-06-13T05:16:44.421Z",
          "shell.execute_reply": "2021-06-13T05:16:44.432Z"
        }
      }
    }
  ],
  "metadata": {
    "kernel_info": {
      "name": "python3"
    },
    "language_info": {
      "name": "python",
      "version": "3.6.12",
      "mimetype": "text/x-python",
      "codemirror_mode": {
        "name": "ipython",
        "version": 3
      },
      "pygments_lexer": "ipython3",
      "nbconvert_exporter": "python",
      "file_extension": ".py"
    },
    "kernelspec": {
      "name": "python3",
      "language": "python",
      "display_name": "Python 3"
    },
    "nteract": {
      "version": "0.28.0"
    }
  },
  "nbformat": 4,
  "nbformat_minor": 0
}