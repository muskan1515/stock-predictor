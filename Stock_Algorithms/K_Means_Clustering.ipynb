{
  "cells": [
    {
      "cell_type": "markdown",
      "source": [
        "# Reduced K-Means Clustering"
      ],
      "metadata": {
        "nteract": {
          "transient": {
            "deleting": false
          }
        }
      }
    },
    {
      "cell_type": "code",
      "source": [
        "import pandas as pd\n",
        "import numpy as np\n",
        "import matplotlib.pyplot as plt\n",
        "\n",
        "import warnings\n",
        "warnings.filterwarnings(\"ignore\")\n",
        "\n",
        "# yahoo finance used to fetch data \n",
        "import yfinance as yf\n",
        "yf.pdr_override()\n",
        "\n",
        "from sklearn.pipeline import make_pipeline\n",
        "from sklearn.preprocessing import Normalizer\n",
        "from sklearn.cluster import KMeans\n",
        "from sklearn.decomposition import PCA"
      ],
      "outputs": [],
      "execution_count": 1,
      "metadata": {
        "collapsed": true,
        "jupyter": {
          "source_hidden": false,
          "outputs_hidden": false
        },
        "nteract": {
          "transient": {
            "deleting": false
          }
        },
        "execution": {
          "iopub.status.busy": "2022-04-05T02:18:20.035Z",
          "iopub.execute_input": "2022-04-05T02:18:20.040Z",
          "shell.execute_reply": "2022-04-05T02:18:21.254Z",
          "iopub.status.idle": "2022-04-05T02:18:21.260Z"
        }
      }
    },
    {
      "cell_type": "code",
      "source": [
        "# input\n",
        "symbols = ['AMD','AAPL','MSFT','GS', 'AMZN', 'GOOGL', 'TSLA', 'INTC']\n",
        "start = '2021-01-01'\n",
        "end = '2022-04-01'\n",
        "\n",
        "\n",
        "# Read data \n",
        "df = yf.download(symbols,start,end)\n",
        "\n",
        "# View Columns\n",
        "df.head()"
      ],
      "outputs": [
        {
          "output_type": "stream",
          "name": "stdout",
          "text": [
            "[*********************100%***********************]  8 of 8 completed\n"
          ]
        },
        {
          "output_type": "execute_result",
          "execution_count": 2,
          "data": {
            "text/plain": "             Adj Close                                                   \\\n                  AAPL        AMD         AMZN        GOOGL          GS   \nDate                                                                      \n2021-01-04  128.453445  92.300003  3186.629883  1726.130005  258.902100   \n2021-01-05  130.041626  92.769997  3218.510010  1740.050049  264.695618   \n2021-01-06  125.664215  90.330002  3138.379883  1722.880005  278.979187   \n2021-01-07  129.952286  95.160004  3162.159912  1774.339966  284.938812   \n2021-01-08  131.073929  94.580002  3182.699951  1797.829956  283.404968   \n\n                                                    Close             ...  \\\n                 INTC        MSFT        TSLA        AAPL        AMD  ...   \nDate                                                                  ...   \n2021-01-04  48.050385  215.434967  729.770020  129.410004  92.300003  ...   \n2021-01-05  48.959728  215.642792  735.109985  131.009995  92.769997  ...   \n2021-01-06  49.433750  210.051300  755.979980  126.599998  90.330002  ...   \n2021-01-07  50.488213  216.028732  816.039978  130.919998  95.160004  ...   \n2021-01-08  49.965824  217.344971  880.020020  132.050003  94.580002  ...   \n\n                  Open                 Volume                              \\\n                  MSFT        TSLA       AAPL       AMD     AMZN    GOOGL   \nDate                                                                        \n2021-01-04  222.529999  719.460022  143301900  51802600  4411400  1866200   \n2021-01-05  217.259995  723.659973   97664900  34208000  2655500  1018000   \n2021-01-06  212.169998  758.489990  155088000  51911700  4394800  2329400   \n2021-01-07  214.039993  777.630005  109578200  42897200  3514500  2096800   \n2021-01-08  218.679993  856.000000  105158200  39816400  3537700  1774200   \n\n                                                   \n                 GS      INTC      MSFT      TSLA  \nDate                                               \n2021-01-04  3572000  46102500  37130100  48638200  \n2021-01-05  4207100  24866600  23823000  32245200  \n2021-01-06  6383500  36809600  35930700  44700000  \n2021-01-07  4009700  32092300  27694500  51498900  \n2021-01-08  2800800  34625400  22956200  75055500  \n\n[5 rows x 48 columns]",
            "text/html": "<div>\n<style scoped>\n    .dataframe tbody tr th:only-of-type {\n        vertical-align: middle;\n    }\n\n    .dataframe tbody tr th {\n        vertical-align: top;\n    }\n\n    .dataframe thead tr th {\n        text-align: left;\n    }\n\n    .dataframe thead tr:last-of-type th {\n        text-align: right;\n    }\n</style>\n<table border=\"1\" class=\"dataframe\">\n  <thead>\n    <tr>\n      <th></th>\n      <th colspan=\"8\" halign=\"left\">Adj Close</th>\n      <th colspan=\"2\" halign=\"left\">Close</th>\n      <th>...</th>\n      <th colspan=\"2\" halign=\"left\">Open</th>\n      <th colspan=\"8\" halign=\"left\">Volume</th>\n    </tr>\n    <tr>\n      <th></th>\n      <th>AAPL</th>\n      <th>AMD</th>\n      <th>AMZN</th>\n      <th>GOOGL</th>\n      <th>GS</th>\n      <th>INTC</th>\n      <th>MSFT</th>\n      <th>TSLA</th>\n      <th>AAPL</th>\n      <th>AMD</th>\n      <th>...</th>\n      <th>MSFT</th>\n      <th>TSLA</th>\n      <th>AAPL</th>\n      <th>AMD</th>\n      <th>AMZN</th>\n      <th>GOOGL</th>\n      <th>GS</th>\n      <th>INTC</th>\n      <th>MSFT</th>\n      <th>TSLA</th>\n    </tr>\n    <tr>\n      <th>Date</th>\n      <th></th>\n      <th></th>\n      <th></th>\n      <th></th>\n      <th></th>\n      <th></th>\n      <th></th>\n      <th></th>\n      <th></th>\n      <th></th>\n      <th></th>\n      <th></th>\n      <th></th>\n      <th></th>\n      <th></th>\n      <th></th>\n      <th></th>\n      <th></th>\n      <th></th>\n      <th></th>\n      <th></th>\n    </tr>\n  </thead>\n  <tbody>\n    <tr>\n      <th>2021-01-04</th>\n      <td>128.453445</td>\n      <td>92.300003</td>\n      <td>3186.629883</td>\n      <td>1726.130005</td>\n      <td>258.902100</td>\n      <td>48.050385</td>\n      <td>215.434967</td>\n      <td>729.770020</td>\n      <td>129.410004</td>\n      <td>92.300003</td>\n      <td>...</td>\n      <td>222.529999</td>\n      <td>719.460022</td>\n      <td>143301900</td>\n      <td>51802600</td>\n      <td>4411400</td>\n      <td>1866200</td>\n      <td>3572000</td>\n      <td>46102500</td>\n      <td>37130100</td>\n      <td>48638200</td>\n    </tr>\n    <tr>\n      <th>2021-01-05</th>\n      <td>130.041626</td>\n      <td>92.769997</td>\n      <td>3218.510010</td>\n      <td>1740.050049</td>\n      <td>264.695618</td>\n      <td>48.959728</td>\n      <td>215.642792</td>\n      <td>735.109985</td>\n      <td>131.009995</td>\n      <td>92.769997</td>\n      <td>...</td>\n      <td>217.259995</td>\n      <td>723.659973</td>\n      <td>97664900</td>\n      <td>34208000</td>\n      <td>2655500</td>\n      <td>1018000</td>\n      <td>4207100</td>\n      <td>24866600</td>\n      <td>23823000</td>\n      <td>32245200</td>\n    </tr>\n    <tr>\n      <th>2021-01-06</th>\n      <td>125.664215</td>\n      <td>90.330002</td>\n      <td>3138.379883</td>\n      <td>1722.880005</td>\n      <td>278.979187</td>\n      <td>49.433750</td>\n      <td>210.051300</td>\n      <td>755.979980</td>\n      <td>126.599998</td>\n      <td>90.330002</td>\n      <td>...</td>\n      <td>212.169998</td>\n      <td>758.489990</td>\n      <td>155088000</td>\n      <td>51911700</td>\n      <td>4394800</td>\n      <td>2329400</td>\n      <td>6383500</td>\n      <td>36809600</td>\n      <td>35930700</td>\n      <td>44700000</td>\n    </tr>\n    <tr>\n      <th>2021-01-07</th>\n      <td>129.952286</td>\n      <td>95.160004</td>\n      <td>3162.159912</td>\n      <td>1774.339966</td>\n      <td>284.938812</td>\n      <td>50.488213</td>\n      <td>216.028732</td>\n      <td>816.039978</td>\n      <td>130.919998</td>\n      <td>95.160004</td>\n      <td>...</td>\n      <td>214.039993</td>\n      <td>777.630005</td>\n      <td>109578200</td>\n      <td>42897200</td>\n      <td>3514500</td>\n      <td>2096800</td>\n      <td>4009700</td>\n      <td>32092300</td>\n      <td>27694500</td>\n      <td>51498900</td>\n    </tr>\n    <tr>\n      <th>2021-01-08</th>\n      <td>131.073929</td>\n      <td>94.580002</td>\n      <td>3182.699951</td>\n      <td>1797.829956</td>\n      <td>283.404968</td>\n      <td>49.965824</td>\n      <td>217.344971</td>\n      <td>880.020020</td>\n      <td>132.050003</td>\n      <td>94.580002</td>\n      <td>...</td>\n      <td>218.679993</td>\n      <td>856.000000</td>\n      <td>105158200</td>\n      <td>39816400</td>\n      <td>3537700</td>\n      <td>1774200</td>\n      <td>2800800</td>\n      <td>34625400</td>\n      <td>22956200</td>\n      <td>75055500</td>\n    </tr>\n  </tbody>\n</table>\n<p>5 rows × 48 columns</p>\n</div>"
          },
          "metadata": {}
        }
      ],
      "execution_count": 2,
      "metadata": {
        "collapsed": true,
        "jupyter": {
          "source_hidden": false,
          "outputs_hidden": false
        },
        "nteract": {
          "transient": {
            "deleting": false
          }
        },
        "execution": {
          "iopub.status.busy": "2022-04-05T02:18:21.266Z",
          "iopub.execute_input": "2022-04-05T02:18:21.269Z",
          "iopub.status.idle": "2022-04-05T02:18:22.252Z",
          "shell.execute_reply": "2022-04-05T02:18:22.447Z"
        }
      }
    },
    {
      "cell_type": "code",
      "source": [
        "stock_open = np.array(df['Open']).transpose()\n",
        "stock_close = np.array(df['Close']).transpose()\n"
      ],
      "outputs": [],
      "execution_count": 3,
      "metadata": {
        "collapsed": true,
        "jupyter": {
          "source_hidden": false,
          "outputs_hidden": false
        },
        "nteract": {
          "transient": {
            "deleting": false
          }
        },
        "execution": {
          "iopub.status.busy": "2022-04-05T02:18:22.258Z",
          "iopub.execute_input": "2022-04-05T02:18:22.263Z",
          "iopub.status.idle": "2022-04-05T02:18:22.274Z",
          "shell.execute_reply": "2022-04-05T02:18:22.451Z"
        }
      }
    },
    {
      "cell_type": "code",
      "source": [
        "movements = stock_close - stock_open\n",
        "\n",
        "sum_of_movement = np.sum(movements,1)"
      ],
      "outputs": [],
      "execution_count": 4,
      "metadata": {
        "collapsed": true,
        "jupyter": {
          "source_hidden": false,
          "outputs_hidden": false
        },
        "nteract": {
          "transient": {
            "deleting": false
          }
        },
        "execution": {
          "iopub.status.busy": "2022-04-05T02:18:22.281Z",
          "iopub.execute_input": "2022-04-05T02:18:22.285Z",
          "iopub.status.idle": "2022-04-05T02:18:22.293Z",
          "shell.execute_reply": "2022-04-05T02:18:22.454Z"
        }
      }
    },
    {
      "cell_type": "code",
      "source": [
        "for i in range(len(symbols)):\n",
        "    print('Symbols:{}, Change:{}'.format(df['High'].columns[i],sum_of_movement[i]))\n"
      ],
      "outputs": [
        {
          "output_type": "stream",
          "name": "stdout",
          "text": [
            "Symbols:AAPL, Change:40.60997009277344\n",
            "Symbols:AMD, Change:-31.269943237304688\n",
            "Symbols:AMZN, Change:-801.45068359375\n",
            "Symbols:GOOGL, Change:-34.5792236328125\n",
            "Symbols:GS, Change:-15.619964599609375\n",
            "Symbols:INTC, Change:-5.630008697509766\n",
            "Symbols:MSFT, Change:34.880035400390625\n",
            "Symbols:TSLA, Change:-27.66082763671875\n"
          ]
        }
      ],
      "execution_count": 5,
      "metadata": {
        "collapsed": true,
        "jupyter": {
          "source_hidden": false,
          "outputs_hidden": false
        },
        "nteract": {
          "transient": {
            "deleting": false
          }
        },
        "execution": {
          "iopub.status.busy": "2022-04-05T02:18:22.301Z",
          "iopub.execute_input": "2022-04-05T02:18:22.306Z",
          "iopub.status.idle": "2022-04-05T02:18:22.315Z",
          "shell.execute_reply": "2022-04-05T02:18:22.457Z"
        }
      }
    },
    {
      "cell_type": "code",
      "source": [
        "# Define, Fit, and transform a Normalizer\n",
        "normalizer = Normalizer()\n",
        "norm_movements = normalizer.fit_transform(movements) \n"
      ],
      "outputs": [],
      "execution_count": 6,
      "metadata": {
        "collapsed": true,
        "jupyter": {
          "source_hidden": false,
          "outputs_hidden": false
        },
        "nteract": {
          "transient": {
            "deleting": false
          }
        },
        "execution": {
          "iopub.status.busy": "2022-04-05T02:18:22.321Z",
          "iopub.execute_input": "2022-04-05T02:18:22.325Z",
          "iopub.status.idle": "2022-04-05T02:18:22.331Z",
          "shell.execute_reply": "2022-04-05T02:18:22.461Z"
        }
      }
    },
    {
      "cell_type": "code",
      "source": [
        "# Create Kmeans model\n",
        "normalizer = Normalizer()\n",
        "kmeans = KMeans(max_iter = 1000)\n",
        "pipeline = make_pipeline(normalizer,kmeans)\n",
        "pipeline.fit(movements)\n",
        "labels = pipeline.predict(movements)"
      ],
      "outputs": [],
      "execution_count": 7,
      "metadata": {
        "collapsed": true,
        "jupyter": {
          "source_hidden": false,
          "outputs_hidden": false
        },
        "nteract": {
          "transient": {
            "deleting": false
          }
        },
        "execution": {
          "iopub.status.busy": "2022-04-05T02:18:22.337Z",
          "iopub.execute_input": "2022-04-05T02:18:22.341Z",
          "iopub.status.idle": "2022-04-05T02:18:22.347Z",
          "shell.execute_reply": "2022-04-05T02:18:22.465Z"
        }
      }
    },
    {
      "cell_type": "code",
      "source": [
        "df1 = pd.DataFrame({'labels':labels,'Symbols':symbols}).sort_values(by=['labels'],axis = 0)\n",
        "df1 = df1.set_index('Symbols')\n",
        "print('\\n')\n",
        "print(df1)"
      ],
      "outputs": [
        {
          "output_type": "stream",
          "name": "stdout",
          "text": [
            "\n",
            "\n",
            "         labels\n",
            "Symbols        \n",
            "AMD           0\n",
            "GOOGL         1\n",
            "AMZN          2\n",
            "TSLA          3\n",
            "AAPL          4\n",
            "MSFT          5\n",
            "INTC          6\n",
            "GS            7\n"
          ]
        }
      ],
      "execution_count": 8,
      "metadata": {
        "collapsed": true,
        "jupyter": {
          "source_hidden": false,
          "outputs_hidden": false
        },
        "nteract": {
          "transient": {
            "deleting": false
          }
        },
        "execution": {
          "iopub.status.busy": "2022-04-05T02:18:22.353Z",
          "iopub.execute_input": "2022-04-05T02:18:22.356Z",
          "iopub.status.idle": "2022-04-05T02:18:22.365Z",
          "shell.execute_reply": "2022-04-05T02:18:22.468Z"
        }
      }
    },
    {
      "cell_type": "code",
      "source": [
        "# Reduce the data\n",
        "normalizer = Normalizer()\n",
        "reduced_data = PCA(n_components = 2)\n",
        "kmeans = KMeans(max_iter = 1000)\n",
        "pipeline = make_pipeline(normalizer,reduced_data,kmeans)\n",
        "pipeline.fit(movements)\n",
        "labels = pipeline.predict(movements)"
      ],
      "outputs": [],
      "execution_count": 9,
      "metadata": {
        "collapsed": true,
        "jupyter": {
          "source_hidden": false,
          "outputs_hidden": false
        },
        "nteract": {
          "transient": {
            "deleting": false
          }
        },
        "execution": {
          "iopub.status.busy": "2022-04-05T02:18:22.371Z",
          "iopub.execute_input": "2022-04-05T02:18:22.376Z",
          "iopub.status.idle": "2022-04-05T02:18:22.382Z",
          "shell.execute_reply": "2022-04-05T02:18:22.471Z"
        }
      }
    },
    {
      "cell_type": "code",
      "source": [
        "df2 = pd.DataFrame({'labels':labels,'Symbols':symbols}).sort_values(by=['labels'],axis = 0)\n",
        "df2 = df2.set_index('Symbols')\n",
        "print('\\n')\n",
        "print(df2)"
      ],
      "outputs": [
        {
          "output_type": "stream",
          "name": "stdout",
          "text": [
            "\n",
            "\n",
            "         labels\n",
            "Symbols        \n",
            "INTC          0\n",
            "TSLA          1\n",
            "AMZN          2\n",
            "GOOGL         3\n",
            "AMD           4\n",
            "AAPL          5\n",
            "GS            6\n",
            "MSFT          7\n"
          ]
        }
      ],
      "execution_count": 10,
      "metadata": {
        "collapsed": true,
        "jupyter": {
          "source_hidden": false,
          "outputs_hidden": false
        },
        "nteract": {
          "transient": {
            "deleting": false
          }
        },
        "execution": {
          "iopub.status.busy": "2022-04-05T02:18:22.387Z",
          "iopub.execute_input": "2022-04-05T02:18:22.391Z",
          "shell.execute_reply": "2022-04-05T02:18:22.475Z",
          "iopub.status.idle": "2022-04-05T02:18:22.402Z"
        }
      }
    },
    {
      "cell_type": "code",
      "source": [
        "# Reduce the data\n",
        "reduced_data = PCA(n_components = 2).fit_transform(norm_movements)\n",
        "h = 0.01\n",
        "x_min,x_max = reduced_data[:,0].min()-1, reduced_data[:,0].max() + 1\n",
        "y_min,y_max = reduced_data[:,1].min()-1, reduced_data[:,1].max() + 1\n",
        "xx,yy = np.meshgrid(np.arange(x_min,x_max,h),np.arange(y_min,y_max,h))\n",
        "Z = kmeans.predict(np.c_[xx.ravel(),yy.ravel()])\n",
        "Z = Z.reshape(xx.shape)\n",
        "cmap = plt.cm.Paired"
      ],
      "outputs": [],
      "execution_count": 11,
      "metadata": {
        "collapsed": true,
        "jupyter": {
          "source_hidden": false,
          "outputs_hidden": false
        },
        "nteract": {
          "transient": {
            "deleting": false
          }
        },
        "execution": {
          "iopub.status.busy": "2022-04-05T02:18:22.409Z",
          "iopub.execute_input": "2022-04-05T02:18:22.416Z",
          "iopub.status.idle": "2022-04-05T02:18:22.426Z",
          "shell.execute_reply": "2022-04-05T02:18:22.478Z"
        }
      }
    },
    {
      "cell_type": "code",
      "source": [
        "plt.clf()\n",
        "plt.figure(figsize=(10,10))\n",
        "plt.imshow(Z,interpolation = 'nearest',extent=(xx.min(),xx.max(),yy.min(),yy.max()),cmap = cmap,aspect = 'auto',origin = 'lower')\n",
        "plt.plot(reduced_data[:,0],reduced_data[:,1],'k.',markersize = 5)\n",
        "\n",
        "# Plot the centroid of each cluster as a white X\n",
        "centroids = kmeans.cluster_centers_\n",
        "plt.scatter(centroids[:,0],centroids[:,1],marker = 'x',s = 169,linewidths = 3,color = 'w',zorder = 10)\n",
        "plt.title('K-Means Clustering on Stock Market Movements (PCA-Reduced Data)')\n",
        "plt.xlim(x_min,x_max)\n",
        "plt.ylim(y_min,y_max)\n",
        "plt.show()"
      ],
      "outputs": [
        {
          "output_type": "display_data",
          "data": {
            "text/plain": "<Figure size 432x288 with 0 Axes>"
          },
          "metadata": {}
        },
        {
          "output_type": "display_data",
          "data": {
            "text/plain": "<Figure size 720x720 with 1 Axes>",
            "image/png": "[encoded data removed]"
          },
          "metadata": {
            "needs_background": "light"
          }
        }
      ],
      "execution_count": 12,
      "metadata": {
        "collapsed": true,
        "jupyter": {
          "source_hidden": false,
          "outputs_hidden": false
        },
        "nteract": {
          "transient": {
            "deleting": false
          }
        },
        "execution": {
          "iopub.status.busy": "2022-04-05T02:18:22.435Z",
          "iopub.execute_input": "2022-04-05T02:18:22.441Z",
          "iopub.status.idle": "2022-04-05T02:18:22.578Z",
          "shell.execute_reply": "2022-04-05T02:18:22.584Z"
        }
      }
    }
  ],
  "metadata": {
    "kernel_info": {
      "name": "python3"
    },
    "language_info": {
      "name": "python",
      "version": "3.6.13",
      "mimetype": "text/x-python",
      "codemirror_mode": {
        "name": "ipython",
        "version": 3
      },
      "pygments_lexer": "ipython3",
      "nbconvert_exporter": "python",
      "file_extension": ".py"
    },
    "kernelspec": {
      "argv": [
        "C:/Users/Tin Hang/Anaconda3\\python.exe",
        "-m",
        "ipykernel_launcher",
        "-f",
        "{connection_file}"
      ],
      "display_name": "Python 3",
      "language": "python",
      "name": "python3"
    },
    "nteract": {
      "version": "0.28.0"
    }
  },
  "nbformat": 4,
  "nbformat_minor": 0
}