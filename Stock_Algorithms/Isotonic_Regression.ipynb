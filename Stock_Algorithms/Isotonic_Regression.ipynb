{
  "cells": [
    {
      "cell_type": "markdown",
      "source": [
        "# Isotonic Regression"
      ],
      "metadata": {
        "nteract": {
          "transient": {
            "deleting": false
          }
        }
      }
    },
    {
      "cell_type": "markdown",
      "source": [
        "Isotonic regression or monotonic regression is the technique of fitting a free-form line to a sequence of observations such that the fitted line is non-decreasing (or non-increasing) everywhere, and lies as close to the observations as possible. (Wikipedia)"
      ],
      "metadata": {
        "nteract": {
          "transient": {
            "deleting": false
          }
        }
      }
    },
    {
      "cell_type": "code",
      "source": [
        "import numpy as np\n",
        "import pandas as pd\n",
        "import matplotlib.pyplot as plt\n",
        "from matplotlib.collections import LineCollection\n",
        "\n",
        "import warnings\n",
        "warnings.filterwarnings(\"ignore\")\n",
        "\n",
        "# yfinance is used to fetch data \n",
        "import yfinance as yf\n",
        "yf.pdr_override()"
      ],
      "outputs": [],
      "execution_count": 1,
      "metadata": {
        "collapsed": true,
        "jupyter": {
          "source_hidden": false,
          "outputs_hidden": false
        },
        "nteract": {
          "transient": {
            "deleting": false
          }
        },
        "execution": {
          "iopub.status.busy": "2022-05-29T00:37:59.959Z",
          "iopub.execute_input": "2022-05-29T00:37:59.964Z",
          "iopub.status.idle": "2022-05-29T00:37:59.969Z",
          "shell.execute_reply": "2022-05-29T00:37:59.918Z"
        }
      }
    },
    {
      "cell_type": "code",
      "source": [
        "# input\n",
        "symbol = 'AMD'\n",
        "start = '2014-01-01'\n",
        "end = '2018-08-27'\n",
        "\n",
        "# Read data \n",
        "dataset = yf.download(symbol,start,end)\n",
        "\n",
        "# View Columns\n",
        "dataset.head()"
      ],
      "outputs": [
        {
          "output_type": "stream",
          "name": "stdout",
          "text": [
            "[*********************100%***********************]  1 of 1 completed\n"
          ]
        },
        {
          "output_type": "execute_result",
          "execution_count": 2,
          "data": {
            "text/plain": "            Open  High   Low  Close  Adj Close    Volume\nDate                                                    \n2014-01-02  3.85  3.98  3.84   3.95       3.95  20548400\n2014-01-03  3.98  4.00  3.88   4.00       4.00  22887200\n2014-01-06  4.01  4.18  3.99   4.13       4.13  42398300\n2014-01-07  4.19  4.25  4.11   4.18       4.18  42932100\n2014-01-08  4.23  4.26  4.14   4.18       4.18  30678700",
            "text/html": "<div>\n<style scoped>\n    .dataframe tbody tr th:only-of-type {\n        vertical-align: middle;\n    }\n\n    .dataframe tbody tr th {\n        vertical-align: top;\n    }\n\n    .dataframe thead th {\n        text-align: right;\n    }\n</style>\n<table border=\"1\" class=\"dataframe\">\n  <thead>\n    <tr style=\"text-align: right;\">\n      <th></th>\n      <th>Open</th>\n      <th>High</th>\n      <th>Low</th>\n      <th>Close</th>\n      <th>Adj Close</th>\n      <th>Volume</th>\n    </tr>\n    <tr>\n      <th>Date</th>\n      <th></th>\n      <th></th>\n      <th></th>\n      <th></th>\n      <th></th>\n      <th></th>\n    </tr>\n  </thead>\n  <tbody>\n    <tr>\n      <th>2014-01-02</th>\n      <td>3.85</td>\n      <td>3.98</td>\n      <td>3.84</td>\n      <td>3.95</td>\n      <td>3.95</td>\n      <td>20548400</td>\n    </tr>\n    <tr>\n      <th>2014-01-03</th>\n      <td>3.98</td>\n      <td>4.00</td>\n      <td>3.88</td>\n      <td>4.00</td>\n      <td>4.00</td>\n      <td>22887200</td>\n    </tr>\n    <tr>\n      <th>2014-01-06</th>\n      <td>4.01</td>\n      <td>4.18</td>\n      <td>3.99</td>\n      <td>4.13</td>\n      <td>4.13</td>\n      <td>42398300</td>\n    </tr>\n    <tr>\n      <th>2014-01-07</th>\n      <td>4.19</td>\n      <td>4.25</td>\n      <td>4.11</td>\n      <td>4.18</td>\n      <td>4.18</td>\n      <td>42932100</td>\n    </tr>\n    <tr>\n      <th>2014-01-08</th>\n      <td>4.23</td>\n      <td>4.26</td>\n      <td>4.14</td>\n      <td>4.18</td>\n      <td>4.18</td>\n      <td>30678700</td>\n    </tr>\n  </tbody>\n</table>\n</div>"
          },
          "metadata": {}
        }
      ],
      "execution_count": 2,
      "metadata": {
        "collapsed": true,
        "jupyter": {
          "source_hidden": false,
          "outputs_hidden": false
        },
        "nteract": {
          "transient": {
            "deleting": false
          }
        },
        "execution": {
          "shell.execute_reply": "2022-05-29T00:38:00.653Z",
          "iopub.status.busy": "2022-05-29T00:37:59.976Z",
          "iopub.execute_input": "2022-05-29T00:37:59.980Z",
          "iopub.status.idle": "2022-05-29T00:38:00.557Z"
        }
      }
    },
    {
      "cell_type": "code",
      "source": [
        "dataset['Increase_Decrease'] = np.where(dataset['Volume'].shift(-1) > dataset['Volume'],1,0)\n",
        "dataset['Buy_Sell_on_Open'] = np.where(dataset['Open'].shift(-1) > dataset['Open'],1,0)\n",
        "dataset['Buy_Sell'] = np.where(dataset['Adj Close'].shift(-1) > dataset['Adj Close'],1,0)\n",
        "dataset['Returns'] = dataset['Adj Close'].pct_change()\n",
        "dataset = dataset.dropna()"
      ],
      "outputs": [],
      "execution_count": 3,
      "metadata": {
        "collapsed": true,
        "jupyter": {
          "source_hidden": false,
          "outputs_hidden": false
        },
        "nteract": {
          "transient": {
            "deleting": false
          }
        },
        "execution": {
          "iopub.status.busy": "2022-05-29T00:38:00.564Z",
          "iopub.execute_input": "2022-05-29T00:38:00.568Z",
          "iopub.status.idle": "2022-05-29T00:38:00.576Z",
          "shell.execute_reply": "2022-05-29T00:38:00.658Z"
        }
      }
    },
    {
      "cell_type": "code",
      "source": [
        "dataset.head()"
      ],
      "outputs": [
        {
          "output_type": "execute_result",
          "execution_count": 4,
          "data": {
            "text/plain": "            Open  High   Low  Close  Adj Close    Volume  Increase_Decrease  \\\nDate                                                                          \n2014-01-03  3.98  4.00  3.88   4.00       4.00  22887200                  1   \n2014-01-06  4.01  4.18  3.99   4.13       4.13  42398300                  1   \n2014-01-07  4.19  4.25  4.11   4.18       4.18  42932100                  0   \n2014-01-08  4.23  4.26  4.14   4.18       4.18  30678700                  0   \n2014-01-09  4.20  4.23  4.05   4.09       4.09  30667600                  0   \n\n            Buy_Sell_on_Open  Buy_Sell   Returns  \nDate                                              \n2014-01-03                 1         1  0.012658  \n2014-01-06                 1         1  0.032500  \n2014-01-07                 1         0  0.012106  \n2014-01-08                 0         0  0.000000  \n2014-01-09                 0         1 -0.021531  ",
            "text/html": "<div>\n<style scoped>\n    .dataframe tbody tr th:only-of-type {\n        vertical-align: middle;\n    }\n\n    .dataframe tbody tr th {\n        vertical-align: top;\n    }\n\n    .dataframe thead th {\n        text-align: right;\n    }\n</style>\n<table border=\"1\" class=\"dataframe\">\n  <thead>\n    <tr style=\"text-align: right;\">\n      <th></th>\n      <th>Open</th>\n      <th>High</th>\n      <th>Low</th>\n      <th>Close</th>\n      <th>Adj Close</th>\n      <th>Volume</th>\n      <th>Increase_Decrease</th>\n      <th>Buy_Sell_on_Open</th>\n      <th>Buy_Sell</th>\n      <th>Returns</th>\n    </tr>\n    <tr>\n      <th>Date</th>\n      <th></th>\n      <th></th>\n      <th></th>\n      <th></th>\n      <th></th>\n      <th></th>\n      <th></th>\n      <th></th>\n      <th></th>\n      <th></th>\n    </tr>\n  </thead>\n  <tbody>\n    <tr>\n      <th>2014-01-03</th>\n      <td>3.98</td>\n      <td>4.00</td>\n      <td>3.88</td>\n      <td>4.00</td>\n      <td>4.00</td>\n      <td>22887200</td>\n      <td>1</td>\n      <td>1</td>\n      <td>1</td>\n      <td>0.012658</td>\n    </tr>\n    <tr>\n      <th>2014-01-06</th>\n      <td>4.01</td>\n      <td>4.18</td>\n      <td>3.99</td>\n      <td>4.13</td>\n      <td>4.13</td>\n      <td>42398300</td>\n      <td>1</td>\n      <td>1</td>\n      <td>1</td>\n      <td>0.032500</td>\n    </tr>\n    <tr>\n      <th>2014-01-07</th>\n      <td>4.19</td>\n      <td>4.25</td>\n      <td>4.11</td>\n      <td>4.18</td>\n      <td>4.18</td>\n      <td>42932100</td>\n      <td>0</td>\n      <td>1</td>\n      <td>0</td>\n      <td>0.012106</td>\n    </tr>\n    <tr>\n      <th>2014-01-08</th>\n      <td>4.23</td>\n      <td>4.26</td>\n      <td>4.14</td>\n      <td>4.18</td>\n      <td>4.18</td>\n      <td>30678700</td>\n      <td>0</td>\n      <td>0</td>\n      <td>0</td>\n      <td>0.000000</td>\n    </tr>\n    <tr>\n      <th>2014-01-09</th>\n      <td>4.20</td>\n      <td>4.23</td>\n      <td>4.05</td>\n      <td>4.09</td>\n      <td>4.09</td>\n      <td>30667600</td>\n      <td>0</td>\n      <td>0</td>\n      <td>1</td>\n      <td>-0.021531</td>\n    </tr>\n  </tbody>\n</table>\n</div>"
          },
          "metadata": {}
        }
      ],
      "execution_count": 4,
      "metadata": {
        "collapsed": true,
        "jupyter": {
          "source_hidden": false,
          "outputs_hidden": false
        },
        "nteract": {
          "transient": {
            "deleting": false
          }
        },
        "execution": {
          "iopub.status.busy": "2022-05-29T00:38:00.584Z",
          "iopub.execute_input": "2022-05-29T00:38:00.590Z",
          "iopub.status.idle": "2022-05-29T00:38:00.602Z",
          "shell.execute_reply": "2022-05-29T00:38:00.661Z"
        }
      }
    },
    {
      "cell_type": "code",
      "source": [
        "n = len(dataset['Adj Close'])\n",
        "X = np.array(dataset['Open'].values)\n",
        "y = dataset['Adj Close'].values"
      ],
      "outputs": [],
      "execution_count": 5,
      "metadata": {
        "collapsed": true,
        "jupyter": {
          "source_hidden": false,
          "outputs_hidden": false
        },
        "nteract": {
          "transient": {
            "deleting": false
          }
        },
        "execution": {
          "iopub.status.busy": "2022-05-29T00:38:00.610Z",
          "iopub.execute_input": "2022-05-29T00:38:00.614Z",
          "iopub.status.idle": "2022-05-29T00:38:00.623Z",
          "shell.execute_reply": "2022-05-29T00:38:00.664Z"
        }
      }
    },
    {
      "cell_type": "code",
      "source": [
        "from sklearn.linear_model import LinearRegression\n",
        "from sklearn.isotonic import IsotonicRegression"
      ],
      "outputs": [],
      "execution_count": 6,
      "metadata": {
        "collapsed": true,
        "jupyter": {
          "source_hidden": false,
          "outputs_hidden": false
        },
        "nteract": {
          "transient": {
            "deleting": false
          }
        },
        "execution": {
          "iopub.status.busy": "2022-05-29T00:38:00.631Z",
          "iopub.execute_input": "2022-05-29T00:38:00.635Z",
          "shell.execute_reply": "2022-05-29T00:38:01.487Z",
          "iopub.status.idle": "2022-05-29T00:38:01.446Z"
        }
      }
    },
    {
      "cell_type": "code",
      "source": [
        "ir=IsotonicRegression()\n",
        "y_ir=ir.fit_transform(X,y)"
      ],
      "outputs": [],
      "execution_count": 7,
      "metadata": {
        "collapsed": true,
        "jupyter": {
          "source_hidden": false,
          "outputs_hidden": false
        },
        "nteract": {
          "transient": {
            "deleting": false
          }
        },
        "execution": {
          "iopub.status.busy": "2022-05-29T00:38:01.454Z",
          "iopub.execute_input": "2022-05-29T00:38:01.459Z",
          "iopub.status.idle": "2022-05-29T00:38:01.467Z",
          "shell.execute_reply": "2022-05-29T00:38:01.491Z"
        }
      }
    },
    {
      "cell_type": "code",
      "source": [
        "lines=[[[i,y[i]],[i,y_ir[i]]] for i in range(n)]\n",
        "lc=LineCollection(lines)\n",
        "plt.figure(figsize=(16,4))\n",
        "plt.plot(X,y,'r.',markersize=12)\n",
        "plt.plot(X,y_ir,'b.-',markersize=12)\n",
        "plt.gca().add_collection(lc)\n",
        "plt.legend(('Data','Isotonic Fit','Linear Fit'))\n",
        "plt.title(\"Isotonic Regression\")"
      ],
      "outputs": [
        {
          "output_type": "execute_result",
          "execution_count": 8,
          "data": {
            "text/plain": "Text(0.5, 1.0, 'Isotonic Regression')"
          },
          "metadata": {}
        },
        {
          "output_type": "display_data",
          "data": {
            "text/plain": "<Figure size 1152x288 with 1 Axes>",
            "image/png": "[encoded data removed]"
          },
          "metadata": {
            "needs_background": "light"
          }
        }
      ],
      "execution_count": 8,
      "metadata": {
        "collapsed": true,
        "jupyter": {
          "source_hidden": false,
          "outputs_hidden": false
        },
        "nteract": {
          "transient": {
            "deleting": false
          }
        },
        "execution": {
          "iopub.status.busy": "2022-05-29T00:38:01.476Z",
          "iopub.execute_input": "2022-05-29T00:38:01.481Z",
          "iopub.status.idle": "2022-05-29T00:38:01.604Z",
          "shell.execute_reply": "2022-05-29T00:38:01.595Z"
        }
      }
    },
    {
      "cell_type": "code",
      "source": [
        "ir.score(X, y)"
      ],
      "outputs": [
        {
          "output_type": "execute_result",
          "execution_count": 9,
          "data": {
            "text/plain": "0.9982775188322193"
          },
          "metadata": {}
        }
      ],
      "execution_count": 9,
      "metadata": {
        "collapsed": true,
        "jupyter": {
          "source_hidden": false,
          "outputs_hidden": false
        },
        "nteract": {
          "transient": {
            "deleting": false
          }
        },
        "execution": {
          "iopub.status.busy": "2022-05-29T00:38:01.613Z",
          "iopub.execute_input": "2022-05-29T00:38:01.619Z",
          "iopub.status.idle": "2022-05-29T00:38:01.631Z",
          "shell.execute_reply": "2022-05-29T00:38:01.713Z"
        }
      }
    },
    {
      "cell_type": "code",
      "source": [
        "from sklearn.model_selection import train_test_split\n",
        "X_train, X_test, y_train, y_test = train_test_split(X, y, \n",
        "                                   test_size=0.4, random_state=101)"
      ],
      "outputs": [],
      "execution_count": 10,
      "metadata": {
        "collapsed": true,
        "jupyter": {
          "source_hidden": false,
          "outputs_hidden": false
        },
        "nteract": {
          "transient": {
            "deleting": false
          }
        },
        "execution": {
          "iopub.status.busy": "2022-05-29T00:38:01.639Z",
          "iopub.execute_input": "2022-05-29T00:38:01.643Z",
          "iopub.status.idle": "2022-05-29T00:38:01.653Z",
          "shell.execute_reply": "2022-05-29T00:38:01.718Z"
        }
      }
    },
    {
      "cell_type": "code",
      "source": [
        "ir.fit(X_train,y_train)"
      ],
      "outputs": [
        {
          "output_type": "execute_result",
          "execution_count": 11,
          "data": {
            "text/plain": "IsotonicRegression()"
          },
          "metadata": {}
        }
      ],
      "execution_count": 11,
      "metadata": {
        "collapsed": true,
        "jupyter": {
          "source_hidden": false,
          "outputs_hidden": false
        },
        "nteract": {
          "transient": {
            "deleting": false
          }
        },
        "execution": {
          "iopub.status.busy": "2022-05-29T00:38:01.661Z",
          "iopub.execute_input": "2022-05-29T00:38:01.667Z",
          "iopub.status.idle": "2022-05-29T00:38:01.679Z",
          "shell.execute_reply": "2022-05-29T00:38:01.727Z"
        }
      }
    },
    {
      "cell_type": "code",
      "source": [
        "predictions = ir.predict(X_test)\n",
        "plt.scatter(y_test,predictions)"
      ],
      "outputs": [
        {
          "output_type": "execute_result",
          "execution_count": 12,
          "data": {
            "text/plain": "<matplotlib.collections.PathCollection at 0x2265380acf8>"
          },
          "metadata": {}
        },
        {
          "output_type": "display_data",
          "data": {
            "text/plain": "<Figure size 432x288 with 1 Axes>",
            "image/png": "[encoded data removed]"
          },
          "metadata": {
            "needs_background": "light"
          }
        }
      ],
      "execution_count": 12,
      "metadata": {
        "collapsed": true,
        "jupyter": {
          "source_hidden": false,
          "outputs_hidden": false
        },
        "nteract": {
          "transient": {
            "deleting": false
          }
        },
        "execution": {
          "iopub.status.busy": "2022-05-29T00:38:01.686Z",
          "iopub.execute_input": "2022-05-29T00:38:01.692Z",
          "iopub.status.idle": "2022-05-29T00:38:01.741Z",
          "shell.execute_reply": "2022-05-29T00:38:01.852Z"
        }
      }
    },
    {
      "cell_type": "code",
      "source": [
        "y_pred = ir.predict(X_test)"
      ],
      "outputs": [],
      "execution_count": 13,
      "metadata": {
        "collapsed": true,
        "jupyter": {
          "source_hidden": false,
          "outputs_hidden": false
        },
        "nteract": {
          "transient": {
            "deleting": false
          }
        },
        "execution": {
          "iopub.status.busy": "2022-05-29T00:38:01.748Z",
          "iopub.execute_input": "2022-05-29T00:38:01.753Z",
          "iopub.status.idle": "2022-05-29T00:38:01.761Z",
          "shell.execute_reply": "2022-05-29T00:38:01.855Z"
        }
      }
    },
    {
      "cell_type": "code",
      "source": [
        "y_pred"
      ],
      "outputs": [
        {
          "output_type": "execute_result",
          "execution_count": 14,
          "data": {
            "text/plain": "array([ 4.06250012,  2.32555548,  9.98166672, 13.85857146, 13.04999992,\n        6.81648221, 11.86472333, 11.1049993 ,  4.57499993,  3.69000006,\n        2.63333337,  7.13577886, 13.40666713, 12.80058822,  2.28799996,\n       13.66025007, 11.38999998, 13.66399994, 15.84166688,  3.64000005,\n        6.01432434, 11.64375007, 10.87000036,  3.70333338,  4.31444499,\n       12.01166654,  6.87888892,  2.82999992,  2.63333337,  2.12499959,\n        2.60499998, 18.82657537, 11.38999998,  4.6165911 ,  3.77000001,\n       11.64375007,  4.27666672, 13.51454535,  3.81999993,  1.86374998,\n        8.75904421,  1.95285714,  6.06054062,  3.95666671,  2.28799996,\n       19.36666679,  2.74923076, 10.48666684, 10.70714269,  2.74923076,\n       12.80058822,  2.41666667,  3.96200006,  2.32555548,  4.25699997,\n        2.72000003, 12.80058822,  7.47285713,  3.64000005,  3.62333337,\n       14.16899986, 13.85857146,  2.74923076,  1.95285714,  2.51999998,\n       11.20750022, 14.05122406, 13.51454535,  7.58500004, 17.17193762,\n        4.02846157, 10.875     ,  2.09000002,  3.68250006,  2.74923076,\n       14.76000023,  6.46749997,  1.83166667, 12.52666654, 13.04999992,\n        2.31999996, 11.87666702,  4.02846157,  2.74923076, 11.20750022,\n        1.972     , 11.87666702,  4.67204556,  2.33999991,  2.74923076,\n        3.05428566, 16.56833347,  2.69714291,  3.64000005,  4.36333389,\n        3.62333337,  3.97000015, 12.52666654,  2.68625003, 12.52666654,\n        2.25500003,  4.25699997,  2.62893945,  2.74923076,  4.78295448,\n        1.72      , 11.12249994, 10.00724941,  5.93551729,  3.50000008,\n        9.98166672, 12.0844442 ,  2.74923076, 10.03499985,  9.44941852,\n        2.74923076,  2.60499998, 11.12249994,  2.62454542,  3.77000001,\n       12.45      ,  2.08000001,  2.32555548, 13.53661581,  6.87888892,\n        2.28399997,  2.28799996,  4.25699997,  2.09000002, 13.51454535,\n        1.92666666,  4.02846157,  2.03899996, 12.52666654,  3.77000001,\n       12.45      , 12.95333322,  2.47000003,  2.47999994, 13.59179091,\n        1.89999998,  5.16166669, 11.50666682,  2.28799996, 10.70714269,\n        6.66000009,  5.16888896, 12.01166654,  3.55500007,  2.81999993,\n        3.0714285 ,  2.16000001,  1.89999998,  2.31999996,  1.83166667,\n        2.48833338,  3.85249996, 16.56833347,  1.83166667,  2.90999999,\n        4.25699997,  2.84999998,  3.69000006,  1.83166667,  2.09000002,\n        4.25699997,  2.74923076,  3.64000005, 11.2637513 ,  4.02846157,\n       12.95333322, 10.70714269, 13.85857146,  3.38249996, 13.04999992,\n       13.65800018,  2.48833338,  4.16444439, 11.03749835, 10.70999985,\n       12.45      ,  1.89999998,  1.83166667, 10.03499985, 10.48666684,\n       12.80058822, 11.38999998,  2.74923076, 19.07466698, 11.64375007,\n        3.38249996,  3.64000005,  2.62893945, 11.00500011,  4.06250012,\n        9.98166672, 11.41750002, 11.12249994,  3.77000001,  2.62893945,\n        3.64000005, 12.26857158,  3.69000006, 14.16899986,  4.0420001 ,\n        2.63333337, 14.43567631,  3.01999998,  5.25448268,  4.16444439,\n        2.74923076,  1.83166667,  6.07513522,  3.81999993,  4.12249994,\n        2.44333335,  1.972     ,  3.70333338,  4.13000011,  3.68250006,\n       13.43000031, 12.80058822,  3.95666671,  1.75      , 11.20750022,\n        2.73461539,  2.74923076,  8.9568251 ,  4.06250012, 14.64324342,\n       13.66399994, 15.16999984,  4.16444439,  2.16000001,  8.74539352,\n        9.53989506,  2.31999996,  3.64000005, 13.85857146, 11.06999969,\n        2.03899996,  6.66000009, 13.92279001, 13.66399994, 12.80058822,\n       14.42270305,  2.48833338,  4.25699997, 12.52666654,  4.12249994,\n        2.90999999,  2.31999996,  2.94666665,  3.70333338,  4.57499993,\n        2.32555548,  2.31999996,  3.03714282, 12.52666654, 11.64375007,\n        3.96200006,  6.05324338, 12.26857158,  6.84777774,  3.81999993,\n        4.2833335 ,  1.86374998,  4.36333389,  2.62893945,  2.51999998,\n        2.72000003,  2.09000002,  2.41666667,  2.48833338, 11.64375007,\n       13.38333284,  6.46749997,  9.6185013 ,  3.86500001,  3.70333338,\n       14.08333333,  3.38249996,  2.68625003, 12.52666654,  2.51999998,\n        3.68250006,  2.74923076, 12.52666654, 11.38999998, 12.80058822,\n       11.64375007,  3.77000001,  2.83499991,  4.06250012, 13.20499979,\n        3.85249996,  9.98166672,  2.16000001, 11.64375007,  4.02846157,\n       14.76000023,  2.48833338, 14.16899986, 11.55000019,  4.0420001 ,\n        8.80000019,  1.75      ,  3.81999993,  2.74923076,  4.0420001 ,\n        2.31999996,  2.74923076,  2.73461539, 12.26571446, 12.22999954,\n               nan,  4.0420001 ,  4.02846157, 11.38999998,  2.28799996,\n       13.55868627, 10.48666684, 13.51454535,  2.31999996, 12.80058822,\n       13.66250004,  5.19999997,  2.08000001, 11.41750002,  1.75      ,\n       10.05000067,  6.46749997,  2.74923076,  4.06250012,  1.75      ,\n        4.57499993,  3.77000001,  2.83499991,  2.25749999,  1.89999998,\n       14.76000023,  4.16444439,  5.3089654 ,  2.69714291, 11.03749835,\n       13.85857146,  2.31999996,  2.44333335,  2.16000001,  4.31444499,\n        2.51999998,  6.46749997,  6.01189196, 12.52666654,  5.14722214,\n        2.47999994, 10.48666684, 11.53555665,  2.74923076, 13.51454535,\n        9.86499977, 12.01166654,  3.38249996,  4.25699997,  3.77000001,\n        6.87888892,  4.99999946, 11.20750022, 10.70999985, 12.80058822,\n       10.48666684, 12.80058822,  1.86374998,  3.235     ,  2.74923076,\n        1.95285714,  2.32555548, 13.04999992,  3.38249996,  3.38249996,\n        2.48833338, 18.85808303, 11.31999969,  3.62333337,  6.84777774,\n        6.08000008, 13.85857146, 12.52666654, 14.16899986, 11.23562576,\n       14.33189275,  2.74923076,  3.95666671, 12.01166654, 12.80058822,\n        4.27666672,  2.32555548, 13.04999992,  8.3358428 , 12.52666654,\n        9.79833301,  8.98698363,  2.60499998,  4.0420001 ,  2.33999991,\n        6.46749997,  2.73461539,  2.83499991,  6.66000009, 14.6951352 ,\n        4.38777775, 10.06500006,  1.972     , 12.52666654,  2.68625003,\n        1.92666666,  2.25500003,  4.27666672, 10.48666684, 12.52666654,\n        3.64000005,  2.84999998,  8.92666658,  4.02846157,  2.09000002,\n       13.04999992,  6.87888892,  2.33444444,  2.31999996,  2.74923076,\n        2.31999996,  2.32555548,  4.65818162,         nan,  4.12249994,\n       10.34357047, 10.0257497 ,  2.47999994,  5.18166681,  4.25699997,\n        2.16000001,  2.6099999 , 11.64375007, 15.82500068, 16.56833347,\n        6.87888892, 18.46127085,  4.12249994, 13.85857146,  6.46749997,\n        4.06250012, 10.875     , 13.66399994,  4.0420001 , 14.16899986,\n        6.33833334, 13.66399994,  4.13000011,  1.92666666, 10.48666684,\n       12.80058822,  1.95285714, 12.52666654,  2.48833338, 12.80058822,\n       12.52666654, 10.70999985,  8.92666658])"
          },
          "metadata": {}
        }
      ],
      "execution_count": 14,
      "metadata": {
        "collapsed": true,
        "jupyter": {
          "source_hidden": false,
          "outputs_hidden": false
        },
        "nteract": {
          "transient": {
            "deleting": false
          }
        },
        "execution": {
          "iopub.status.busy": "2022-05-29T00:38:01.769Z",
          "iopub.execute_input": "2022-05-29T00:38:01.773Z",
          "iopub.status.idle": "2022-05-29T00:38:01.784Z",
          "shell.execute_reply": "2022-05-29T00:38:01.859Z"
        }
      }
    },
    {
      "cell_type": "code",
      "source": [
        "y_pred[np.isnan(y_pred)] = 0"
      ],
      "outputs": [],
      "execution_count": 15,
      "metadata": {
        "collapsed": true,
        "jupyter": {
          "source_hidden": false,
          "outputs_hidden": false
        },
        "nteract": {
          "transient": {
            "deleting": false
          }
        },
        "execution": {
          "iopub.status.busy": "2022-05-29T00:38:01.791Z",
          "iopub.execute_input": "2022-05-29T00:38:01.797Z",
          "iopub.status.idle": "2022-05-29T00:38:01.804Z",
          "shell.execute_reply": "2022-05-29T00:38:01.862Z"
        }
      }
    },
    {
      "cell_type": "code",
      "source": [
        "from sklearn.metrics import mean_squared_error\n",
        "print('The rmse of prediction is:', mean_squared_error(y_test, y_pred) ** 0.5)"
      ],
      "outputs": [
        {
          "output_type": "stream",
          "name": "stdout",
          "text": [
            "The rmse of prediction is: 1.137100655612605\n"
          ]
        }
      ],
      "execution_count": 16,
      "metadata": {
        "collapsed": true,
        "jupyter": {
          "source_hidden": false,
          "outputs_hidden": false
        },
        "nteract": {
          "transient": {
            "deleting": false
          }
        },
        "execution": {
          "iopub.status.busy": "2022-05-29T00:38:01.811Z",
          "iopub.execute_input": "2022-05-29T00:38:01.815Z",
          "iopub.status.idle": "2022-05-29T00:38:01.826Z",
          "shell.execute_reply": "2022-05-29T00:38:01.866Z"
        }
      }
    },
    {
      "cell_type": "code",
      "source": [
        "from sklearn import metrics\n",
        "print('MAE:', metrics.mean_absolute_error(y_test, y_pred))\n",
        "print('MSE:', metrics.mean_squared_error(y_test, y_pred))\n",
        "print('RMSE:', np.sqrt(metrics.mean_squared_error(y_test, y_pred)))"
      ],
      "outputs": [
        {
          "output_type": "stream",
          "name": "stdout",
          "text": [
            "MAE: 0.20616241947056094\n",
            "MSE: 1.2929979009946162\n",
            "RMSE: 1.137100655612605\n"
          ]
        }
      ],
      "execution_count": 17,
      "metadata": {
        "collapsed": true,
        "jupyter": {
          "source_hidden": false,
          "outputs_hidden": false
        },
        "nteract": {
          "transient": {
            "deleting": false
          }
        },
        "execution": {
          "iopub.status.busy": "2022-05-29T00:38:01.832Z",
          "iopub.execute_input": "2022-05-29T00:38:01.837Z",
          "iopub.status.idle": "2022-05-29T00:38:01.847Z",
          "shell.execute_reply": "2022-05-29T00:38:01.869Z"
        }
      }
    }
  ],
  "metadata": {
    "kernel_info": {
      "name": "python3"
    },
    "language_info": {
      "name": "python",
      "version": "3.6.13",
      "mimetype": "text/x-python",
      "codemirror_mode": {
        "name": "ipython",
        "version": 3
      },
      "pygments_lexer": "ipython3",
      "nbconvert_exporter": "python",
      "file_extension": ".py"
    },
    "kernelspec": {
      "argv": [
        "C:/Users/Tin/Anaconda3\\python.exe",
        "-m",
        "ipykernel_launcher",
        "-f",
        "{connection_file}"
      ],
      "display_name": "Python 3",
      "language": "python",
      "name": "python3"
    },
    "nteract": {
      "version": "0.28.0"
    }
  },
  "nbformat": 4,
  "nbformat_minor": 0
}