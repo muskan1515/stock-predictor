{
  "cells": [
    {
      "cell_type": "markdown",
      "source": [
        "# Linear Regression with Continuous"
      ],
      "metadata": {
        "nteract": {
          "transient": {
            "deleting": false
          }
        }
      }
    },
    {
      "cell_type": "code",
      "source": [
        "import numpy as np\n",
        "import pandas as pd\n",
        "\n",
        "import matplotlib.pyplot as plt\n",
        "import seaborn as sns\n",
        "\n",
        "\n",
        "import warnings\n",
        "warnings.filterwarnings(\"ignore\")\n",
        "\n",
        "import yfinance as yf\n",
        "yf.pdr_override()"
      ],
      "outputs": [],
      "execution_count": 1,
      "metadata": {
        "collapsed": true,
        "jupyter": {
          "source_hidden": false,
          "outputs_hidden": false
        },
        "nteract": {
          "transient": {
            "deleting": false
          }
        },
        "execution": {
          "iopub.status.busy": "2022-08-18T00:38:54.138Z",
          "iopub.execute_input": "2022-08-18T00:38:54.148Z",
          "shell.execute_reply": "2022-08-18T00:38:53.975Z",
          "iopub.status.idle": "2022-08-18T00:38:54.158Z"
        }
      }
    },
    {
      "cell_type": "code",
      "source": [
        "# input\n",
        "symbol = 'AMD'\n",
        "start = '2014-01-01'\n",
        "end = '2018-08-27'\n",
        "\n",
        "# Read data \n",
        "dataset = yf.download(symbol,start,end)\n",
        "\n",
        "# View Columns\n",
        "dataset.head()"
      ],
      "outputs": [
        {
          "output_type": "stream",
          "name": "stdout",
          "text": [
            "[*********************100%***********************]  1 of 1 completed\n"
          ]
        },
        {
          "output_type": "execute_result",
          "execution_count": 2,
          "data": {
            "text/plain": "            Open  High   Low  Close  Adj Close    Volume\nDate                                                    \n2014-01-02  3.85  3.98  3.84   3.95       3.95  20548400\n2014-01-03  3.98  4.00  3.88   4.00       4.00  22887200\n2014-01-06  4.01  4.18  3.99   4.13       4.13  42398300\n2014-01-07  4.19  4.25  4.11   4.18       4.18  42932100\n2014-01-08  4.23  4.26  4.14   4.18       4.18  30678700",
            "text/html": "<div>\n<style scoped>\n    .dataframe tbody tr th:only-of-type {\n        vertical-align: middle;\n    }\n\n    .dataframe tbody tr th {\n        vertical-align: top;\n    }\n\n    .dataframe thead th {\n        text-align: right;\n    }\n</style>\n<table border=\"1\" class=\"dataframe\">\n  <thead>\n    <tr style=\"text-align: right;\">\n      <th></th>\n      <th>Open</th>\n      <th>High</th>\n      <th>Low</th>\n      <th>Close</th>\n      <th>Adj Close</th>\n      <th>Volume</th>\n    </tr>\n    <tr>\n      <th>Date</th>\n      <th></th>\n      <th></th>\n      <th></th>\n      <th></th>\n      <th></th>\n      <th></th>\n    </tr>\n  </thead>\n  <tbody>\n    <tr>\n      <th>2014-01-02</th>\n      <td>3.85</td>\n      <td>3.98</td>\n      <td>3.84</td>\n      <td>3.95</td>\n      <td>3.95</td>\n      <td>20548400</td>\n    </tr>\n    <tr>\n      <th>2014-01-03</th>\n      <td>3.98</td>\n      <td>4.00</td>\n      <td>3.88</td>\n      <td>4.00</td>\n      <td>4.00</td>\n      <td>22887200</td>\n    </tr>\n    <tr>\n      <th>2014-01-06</th>\n      <td>4.01</td>\n      <td>4.18</td>\n      <td>3.99</td>\n      <td>4.13</td>\n      <td>4.13</td>\n      <td>42398300</td>\n    </tr>\n    <tr>\n      <th>2014-01-07</th>\n      <td>4.19</td>\n      <td>4.25</td>\n      <td>4.11</td>\n      <td>4.18</td>\n      <td>4.18</td>\n      <td>42932100</td>\n    </tr>\n    <tr>\n      <th>2014-01-08</th>\n      <td>4.23</td>\n      <td>4.26</td>\n      <td>4.14</td>\n      <td>4.18</td>\n      <td>4.18</td>\n      <td>30678700</td>\n    </tr>\n  </tbody>\n</table>\n</div>"
          },
          "metadata": {}
        }
      ],
      "execution_count": 2,
      "metadata": {
        "collapsed": true,
        "jupyter": {
          "source_hidden": false,
          "outputs_hidden": false
        },
        "nteract": {
          "transient": {
            "deleting": false
          }
        },
        "execution": {
          "iopub.status.busy": "2022-08-18T00:38:54.169Z",
          "iopub.execute_input": "2022-08-18T00:38:54.178Z",
          "shell.execute_reply": "2022-08-18T00:38:53.985Z",
          "iopub.status.idle": "2022-08-18T00:38:54.200Z"
        }
      }
    },
    {
      "cell_type": "code",
      "source": [
        "dataset['Increase_Decrease'] = np.where(dataset['Volume'].shift(-1) > dataset['Volume'],1,0)\n",
        "dataset['Buy_Sell_on_Open'] = np.where(dataset['Open'].shift(-1) > dataset['Open'],1,0)\n",
        "dataset['Buy_Sell'] = np.where(dataset['Adj Close'].shift(-1) > dataset['Adj Close'],1,0)\n",
        "dataset['Returns'] = dataset['Adj Close'].pct_change()\n",
        "dataset = dataset.dropna()"
      ],
      "outputs": [],
      "execution_count": 3,
      "metadata": {
        "collapsed": true,
        "jupyter": {
          "source_hidden": false,
          "outputs_hidden": false
        },
        "nteract": {
          "transient": {
            "deleting": false
          }
        },
        "execution": {
          "shell.execute_reply": "2022-08-18T00:38:53.996Z",
          "iopub.status.busy": "2022-08-18T00:38:54.212Z",
          "iopub.execute_input": "2022-08-18T00:38:54.220Z",
          "iopub.status.idle": "2022-08-18T00:38:54.229Z"
        }
      }
    },
    {
      "cell_type": "code",
      "source": [
        "dataset.head()"
      ],
      "outputs": [
        {
          "output_type": "execute_result",
          "execution_count": 4,
          "data": {
            "text/plain": "            Open  High   Low  Close  Adj Close    Volume  Increase_Decrease  \\\nDate                                                                          \n2014-01-03  3.98  4.00  3.88   4.00       4.00  22887200                  1   \n2014-01-06  4.01  4.18  3.99   4.13       4.13  42398300                  1   \n2014-01-07  4.19  4.25  4.11   4.18       4.18  42932100                  0   \n2014-01-08  4.23  4.26  4.14   4.18       4.18  30678700                  0   \n2014-01-09  4.20  4.23  4.05   4.09       4.09  30667600                  0   \n\n            Buy_Sell_on_Open  Buy_Sell   Returns  \nDate                                              \n2014-01-03                 1         1  0.012658  \n2014-01-06                 1         1  0.032500  \n2014-01-07                 1         0  0.012106  \n2014-01-08                 0         0  0.000000  \n2014-01-09                 0         1 -0.021531  ",
            "text/html": "<div>\n<style scoped>\n    .dataframe tbody tr th:only-of-type {\n        vertical-align: middle;\n    }\n\n    .dataframe tbody tr th {\n        vertical-align: top;\n    }\n\n    .dataframe thead th {\n        text-align: right;\n    }\n</style>\n<table border=\"1\" class=\"dataframe\">\n  <thead>\n    <tr style=\"text-align: right;\">\n      <th></th>\n      <th>Open</th>\n      <th>High</th>\n      <th>Low</th>\n      <th>Close</th>\n      <th>Adj Close</th>\n      <th>Volume</th>\n      <th>Increase_Decrease</th>\n      <th>Buy_Sell_on_Open</th>\n      <th>Buy_Sell</th>\n      <th>Returns</th>\n    </tr>\n    <tr>\n      <th>Date</th>\n      <th></th>\n      <th></th>\n      <th></th>\n      <th></th>\n      <th></th>\n      <th></th>\n      <th></th>\n      <th></th>\n      <th></th>\n      <th></th>\n    </tr>\n  </thead>\n  <tbody>\n    <tr>\n      <th>2014-01-03</th>\n      <td>3.98</td>\n      <td>4.00</td>\n      <td>3.88</td>\n      <td>4.00</td>\n      <td>4.00</td>\n      <td>22887200</td>\n      <td>1</td>\n      <td>1</td>\n      <td>1</td>\n      <td>0.012658</td>\n    </tr>\n    <tr>\n      <th>2014-01-06</th>\n      <td>4.01</td>\n      <td>4.18</td>\n      <td>3.99</td>\n      <td>4.13</td>\n      <td>4.13</td>\n      <td>42398300</td>\n      <td>1</td>\n      <td>1</td>\n      <td>1</td>\n      <td>0.032500</td>\n    </tr>\n    <tr>\n      <th>2014-01-07</th>\n      <td>4.19</td>\n      <td>4.25</td>\n      <td>4.11</td>\n      <td>4.18</td>\n      <td>4.18</td>\n      <td>42932100</td>\n      <td>0</td>\n      <td>1</td>\n      <td>0</td>\n      <td>0.012106</td>\n    </tr>\n    <tr>\n      <th>2014-01-08</th>\n      <td>4.23</td>\n      <td>4.26</td>\n      <td>4.14</td>\n      <td>4.18</td>\n      <td>4.18</td>\n      <td>30678700</td>\n      <td>0</td>\n      <td>0</td>\n      <td>0</td>\n      <td>0.000000</td>\n    </tr>\n    <tr>\n      <th>2014-01-09</th>\n      <td>4.20</td>\n      <td>4.23</td>\n      <td>4.05</td>\n      <td>4.09</td>\n      <td>4.09</td>\n      <td>30667600</td>\n      <td>0</td>\n      <td>0</td>\n      <td>1</td>\n      <td>-0.021531</td>\n    </tr>\n  </tbody>\n</table>\n</div>"
          },
          "metadata": {}
        }
      ],
      "execution_count": 4,
      "metadata": {
        "collapsed": true,
        "jupyter": {
          "source_hidden": false,
          "outputs_hidden": false
        },
        "nteract": {
          "transient": {
            "deleting": false
          }
        },
        "execution": {
          "shell.execute_reply": "2022-08-18T00:38:54.005Z",
          "iopub.status.busy": "2022-08-18T00:38:54.242Z",
          "iopub.execute_input": "2022-08-18T00:38:54.250Z",
          "iopub.status.idle": "2022-08-18T00:38:54.263Z"
        }
      }
    },
    {
      "cell_type": "code",
      "source": [
        "dataset.tail()"
      ],
      "outputs": [
        {
          "output_type": "execute_result",
          "execution_count": 5,
          "data": {
            "text/plain": "                 Open   High        Low      Close  Adj Close     Volume  \\\nDate                                                                       \n2018-08-20  19.790001  20.08  19.350000  19.980000  19.980000   62983200   \n2018-08-21  19.980000  20.42  19.860001  20.400000  20.400000   55629000   \n2018-08-22  20.280001  20.92  20.209999  20.900000  20.900000   62002700   \n2018-08-23  21.190001  22.32  21.139999  22.290001  22.290001  113444100   \n2018-08-24  22.910000  24.00  22.670000  23.980000  23.980000  164328200   \n\n            Increase_Decrease  Buy_Sell_on_Open  Buy_Sell   Returns  \nDate                                                                 \n2018-08-20                  0                 1         1  0.010622  \n2018-08-21                  1                 1         1  0.021021  \n2018-08-22                  1                 1         1  0.024510  \n2018-08-23                  1                 1         1  0.066507  \n2018-08-24                  0                 0         0  0.075819  ",
            "text/html": "<div>\n<style scoped>\n    .dataframe tbody tr th:only-of-type {\n        vertical-align: middle;\n    }\n\n    .dataframe tbody tr th {\n        vertical-align: top;\n    }\n\n    .dataframe thead th {\n        text-align: right;\n    }\n</style>\n<table border=\"1\" class=\"dataframe\">\n  <thead>\n    <tr style=\"text-align: right;\">\n      <th></th>\n      <th>Open</th>\n      <th>High</th>\n      <th>Low</th>\n      <th>Close</th>\n      <th>Adj Close</th>\n      <th>Volume</th>\n      <th>Increase_Decrease</th>\n      <th>Buy_Sell_on_Open</th>\n      <th>Buy_Sell</th>\n      <th>Returns</th>\n    </tr>\n    <tr>\n      <th>Date</th>\n      <th></th>\n      <th></th>\n      <th></th>\n      <th></th>\n      <th></th>\n      <th></th>\n      <th></th>\n      <th></th>\n      <th></th>\n      <th></th>\n    </tr>\n  </thead>\n  <tbody>\n    <tr>\n      <th>2018-08-20</th>\n      <td>19.790001</td>\n      <td>20.08</td>\n      <td>19.350000</td>\n      <td>19.980000</td>\n      <td>19.980000</td>\n      <td>62983200</td>\n      <td>0</td>\n      <td>1</td>\n      <td>1</td>\n      <td>0.010622</td>\n    </tr>\n    <tr>\n      <th>2018-08-21</th>\n      <td>19.980000</td>\n      <td>20.42</td>\n      <td>19.860001</td>\n      <td>20.400000</td>\n      <td>20.400000</td>\n      <td>55629000</td>\n      <td>1</td>\n      <td>1</td>\n      <td>1</td>\n      <td>0.021021</td>\n    </tr>\n    <tr>\n      <th>2018-08-22</th>\n      <td>20.280001</td>\n      <td>20.92</td>\n      <td>20.209999</td>\n      <td>20.900000</td>\n      <td>20.900000</td>\n      <td>62002700</td>\n      <td>1</td>\n      <td>1</td>\n      <td>1</td>\n      <td>0.024510</td>\n    </tr>\n    <tr>\n      <th>2018-08-23</th>\n      <td>21.190001</td>\n      <td>22.32</td>\n      <td>21.139999</td>\n      <td>22.290001</td>\n      <td>22.290001</td>\n      <td>113444100</td>\n      <td>1</td>\n      <td>1</td>\n      <td>1</td>\n      <td>0.066507</td>\n    </tr>\n    <tr>\n      <th>2018-08-24</th>\n      <td>22.910000</td>\n      <td>24.00</td>\n      <td>22.670000</td>\n      <td>23.980000</td>\n      <td>23.980000</td>\n      <td>164328200</td>\n      <td>0</td>\n      <td>0</td>\n      <td>0</td>\n      <td>0.075819</td>\n    </tr>\n  </tbody>\n</table>\n</div>"
          },
          "metadata": {}
        }
      ],
      "execution_count": 5,
      "metadata": {
        "collapsed": true,
        "jupyter": {
          "source_hidden": false,
          "outputs_hidden": false
        },
        "nteract": {
          "transient": {
            "deleting": false
          }
        },
        "execution": {
          "shell.execute_reply": "2022-08-18T00:38:54.016Z",
          "iopub.status.busy": "2022-08-18T00:38:54.274Z",
          "iopub.execute_input": "2022-08-18T00:38:54.282Z",
          "iopub.status.idle": "2022-08-18T00:38:54.296Z"
        }
      }
    },
    {
      "cell_type": "code",
      "source": [
        "dataset.shape"
      ],
      "outputs": [
        {
          "output_type": "execute_result",
          "execution_count": 6,
          "data": {
            "text/plain": "(1170, 10)"
          },
          "metadata": {}
        }
      ],
      "execution_count": 6,
      "metadata": {
        "collapsed": true,
        "jupyter": {
          "source_hidden": false,
          "outputs_hidden": false
        },
        "nteract": {
          "transient": {
            "deleting": false
          }
        },
        "execution": {
          "shell.execute_reply": "2022-08-18T00:38:54.025Z",
          "iopub.status.busy": "2022-08-18T00:38:54.309Z",
          "iopub.execute_input": "2022-08-18T00:38:54.318Z",
          "iopub.status.idle": "2022-08-18T00:38:54.332Z"
        }
      }
    },
    {
      "cell_type": "code",
      "source": [
        "from sklearn.linear_model import LinearRegression"
      ],
      "outputs": [],
      "execution_count": 7,
      "metadata": {
        "collapsed": true,
        "jupyter": {
          "source_hidden": false,
          "outputs_hidden": false
        },
        "nteract": {
          "transient": {
            "deleting": false
          }
        },
        "execution": {
          "iopub.status.busy": "2022-08-18T00:38:54.344Z",
          "iopub.execute_input": "2022-08-18T00:38:54.352Z",
          "iopub.status.idle": "2022-08-18T00:38:54.362Z",
          "shell.execute_reply": "2022-08-18T00:38:54.035Z"
        }
      }
    },
    {
      "cell_type": "code",
      "source": [
        "target = dataset['Adj Close']\n",
        "features = dataset[['Open']]"
      ],
      "outputs": [],
      "execution_count": 8,
      "metadata": {
        "collapsed": true,
        "jupyter": {
          "source_hidden": false,
          "outputs_hidden": false
        },
        "nteract": {
          "transient": {
            "deleting": false
          }
        },
        "execution": {
          "iopub.status.busy": "2022-08-18T00:38:54.376Z",
          "iopub.execute_input": "2022-08-18T00:38:54.385Z",
          "iopub.status.idle": "2022-08-18T00:38:54.395Z",
          "shell.execute_reply": "2022-08-18T00:38:54.043Z"
        }
      }
    },
    {
      "cell_type": "code",
      "source": [
        "model_lr = LinearRegression()"
      ],
      "outputs": [],
      "execution_count": 9,
      "metadata": {
        "collapsed": true,
        "jupyter": {
          "source_hidden": false,
          "outputs_hidden": false
        },
        "nteract": {
          "transient": {
            "deleting": false
          }
        },
        "execution": {
          "iopub.status.busy": "2022-08-18T00:38:54.408Z",
          "iopub.execute_input": "2022-08-18T00:38:54.416Z",
          "iopub.status.idle": "2022-08-18T00:38:54.425Z",
          "shell.execute_reply": "2022-08-18T00:38:54.051Z"
        }
      }
    },
    {
      "cell_type": "code",
      "source": [
        "model_lr.fit(X=features, y=target)\n",
        "\n",
        "\n"
      ],
      "outputs": [
        {
          "output_type": "execute_result",
          "execution_count": 10,
          "data": {
            "text/plain": "LinearRegression()"
          },
          "metadata": {}
        }
      ],
      "execution_count": 10,
      "metadata": {
        "collapsed": true,
        "jupyter": {
          "source_hidden": false,
          "outputs_hidden": false
        },
        "nteract": {
          "transient": {
            "deleting": false
          }
        },
        "execution": {
          "iopub.status.busy": "2022-08-18T00:38:54.437Z",
          "iopub.execute_input": "2022-08-18T00:38:54.446Z",
          "iopub.status.idle": "2022-08-18T00:38:54.459Z",
          "shell.execute_reply": "2022-08-18T00:38:54.059Z"
        }
      }
    },
    {
      "cell_type": "code",
      "source": [
        "features\n"
      ],
      "outputs": [
        {
          "output_type": "execute_result",
          "execution_count": 11,
          "data": {
            "text/plain": "                 Open\nDate                 \n2014-01-03   3.980000\n2014-01-06   4.010000\n2014-01-07   4.190000\n2014-01-08   4.230000\n2014-01-09   4.200000\n...               ...\n2018-08-20  19.790001\n2018-08-21  19.980000\n2018-08-22  20.280001\n2018-08-23  21.190001\n2018-08-24  22.910000\n\n[1170 rows x 1 columns]",
            "text/html": "<div>\n<style scoped>\n    .dataframe tbody tr th:only-of-type {\n        vertical-align: middle;\n    }\n\n    .dataframe tbody tr th {\n        vertical-align: top;\n    }\n\n    .dataframe thead th {\n        text-align: right;\n    }\n</style>\n<table border=\"1\" class=\"dataframe\">\n  <thead>\n    <tr style=\"text-align: right;\">\n      <th></th>\n      <th>Open</th>\n    </tr>\n    <tr>\n      <th>Date</th>\n      <th></th>\n    </tr>\n  </thead>\n  <tbody>\n    <tr>\n      <th>2014-01-03</th>\n      <td>3.980000</td>\n    </tr>\n    <tr>\n      <th>2014-01-06</th>\n      <td>4.010000</td>\n    </tr>\n    <tr>\n      <th>2014-01-07</th>\n      <td>4.190000</td>\n    </tr>\n    <tr>\n      <th>2014-01-08</th>\n      <td>4.230000</td>\n    </tr>\n    <tr>\n      <th>2014-01-09</th>\n      <td>4.200000</td>\n    </tr>\n    <tr>\n      <th>...</th>\n      <td>...</td>\n    </tr>\n    <tr>\n      <th>2018-08-20</th>\n      <td>19.790001</td>\n    </tr>\n    <tr>\n      <th>2018-08-21</th>\n      <td>19.980000</td>\n    </tr>\n    <tr>\n      <th>2018-08-22</th>\n      <td>20.280001</td>\n    </tr>\n    <tr>\n      <th>2018-08-23</th>\n      <td>21.190001</td>\n    </tr>\n    <tr>\n      <th>2018-08-24</th>\n      <td>22.910000</td>\n    </tr>\n  </tbody>\n</table>\n<p>1170 rows × 1 columns</p>\n</div>"
          },
          "metadata": {}
        }
      ],
      "execution_count": 11,
      "metadata": {
        "collapsed": true,
        "jupyter": {
          "source_hidden": false,
          "outputs_hidden": false
        },
        "nteract": {
          "transient": {
            "deleting": false
          }
        },
        "execution": {
          "iopub.status.busy": "2022-08-18T00:38:54.471Z",
          "iopub.execute_input": "2022-08-18T00:38:54.478Z",
          "iopub.status.idle": "2022-08-18T00:38:54.494Z",
          "shell.execute_reply": "2022-08-18T00:38:54.067Z"
        }
      }
    },
    {
      "cell_type": "code",
      "source": [
        "model_lr.predict(X=features)"
      ],
      "outputs": [
        {
          "output_type": "execute_result",
          "execution_count": 12,
          "data": {
            "text/plain": "array([ 3.98127966,  4.01128168,  4.19129234, ..., 20.28226164,\n       21.19231627, 22.91241914])"
          },
          "metadata": {}
        }
      ],
      "execution_count": 12,
      "metadata": {
        "collapsed": true,
        "jupyter": {
          "source_hidden": false,
          "outputs_hidden": false
        },
        "nteract": {
          "transient": {
            "deleting": false
          }
        },
        "execution": {
          "iopub.status.busy": "2022-08-18T00:38:54.508Z",
          "iopub.execute_input": "2022-08-18T00:38:54.516Z",
          "shell.execute_reply": "2022-08-18T00:38:54.075Z",
          "iopub.status.idle": "2022-08-18T00:38:54.531Z"
        }
      }
    },
    {
      "cell_type": "code",
      "source": [
        "dataset['pred_lr'] = model_lr.predict(X=features)\n",
        "dataset\n"
      ],
      "outputs": [
        {
          "output_type": "execute_result",
          "execution_count": 13,
          "data": {
            "text/plain": "                 Open   High        Low      Close  Adj Close     Volume  \\\nDate                                                                       \n2014-01-03   3.980000   4.00   3.880000   4.000000   4.000000   22887200   \n2014-01-06   4.010000   4.18   3.990000   4.130000   4.130000   42398300   \n2014-01-07   4.190000   4.25   4.110000   4.180000   4.180000   42932100   \n2014-01-08   4.230000   4.26   4.140000   4.180000   4.180000   30678700   \n2014-01-09   4.200000   4.23   4.050000   4.090000   4.090000   30667600   \n...               ...    ...        ...        ...        ...        ...   \n2018-08-20  19.790001  20.08  19.350000  19.980000  19.980000   62983200   \n2018-08-21  19.980000  20.42  19.860001  20.400000  20.400000   55629000   \n2018-08-22  20.280001  20.92  20.209999  20.900000  20.900000   62002700   \n2018-08-23  21.190001  22.32  21.139999  22.290001  22.290001  113444100   \n2018-08-24  22.910000  24.00  22.670000  23.980000  23.980000  164328200   \n\n            Increase_Decrease  Buy_Sell_on_Open  Buy_Sell   Returns    pred_lr  \nDate                                                                            \n2014-01-03                  1                 1         1  0.012658   3.981280  \n2014-01-06                  1                 1         1  0.032500   4.011282  \n2014-01-07                  0                 1         0  0.012106   4.191292  \n2014-01-08                  0                 0         0  0.000000   4.231295  \n2014-01-09                  0                 0         1 -0.021531   4.201293  \n...                       ...               ...       ...       ...        ...  \n2018-08-20                  0                 1         1  0.010622  19.792232  \n2018-08-21                  1                 1         1  0.021021  19.982242  \n2018-08-22                  1                 1         1  0.024510  20.282262  \n2018-08-23                  1                 1         1  0.066507  21.192316  \n2018-08-24                  0                 0         0  0.075819  22.912419  \n\n[1170 rows x 11 columns]",
            "text/html": "<div>\n<style scoped>\n    .dataframe tbody tr th:only-of-type {\n        vertical-align: middle;\n    }\n\n    .dataframe tbody tr th {\n        vertical-align: top;\n    }\n\n    .dataframe thead th {\n        text-align: right;\n    }\n</style>\n<table border=\"1\" class=\"dataframe\">\n  <thead>\n    <tr style=\"text-align: right;\">\n      <th></th>\n      <th>Open</th>\n      <th>High</th>\n      <th>Low</th>\n      <th>Close</th>\n      <th>Adj Close</th>\n      <th>Volume</th>\n      <th>Increase_Decrease</th>\n      <th>Buy_Sell_on_Open</th>\n      <th>Buy_Sell</th>\n      <th>Returns</th>\n      <th>pred_lr</th>\n    </tr>\n    <tr>\n      <th>Date</th>\n      <th></th>\n      <th></th>\n      <th></th>\n      <th></th>\n      <th></th>\n      <th></th>\n      <th></th>\n      <th></th>\n      <th></th>\n      <th></th>\n      <th></th>\n    </tr>\n  </thead>\n  <tbody>\n    <tr>\n      <th>2014-01-03</th>\n      <td>3.980000</td>\n      <td>4.00</td>\n      <td>3.880000</td>\n      <td>4.000000</td>\n      <td>4.000000</td>\n      <td>22887200</td>\n      <td>1</td>\n      <td>1</td>\n      <td>1</td>\n      <td>0.012658</td>\n      <td>3.981280</td>\n    </tr>\n    <tr>\n      <th>2014-01-06</th>\n      <td>4.010000</td>\n      <td>4.18</td>\n      <td>3.990000</td>\n      <td>4.130000</td>\n      <td>4.130000</td>\n      <td>42398300</td>\n      <td>1</td>\n      <td>1</td>\n      <td>1</td>\n      <td>0.032500</td>\n      <td>4.011282</td>\n    </tr>\n    <tr>\n      <th>2014-01-07</th>\n      <td>4.190000</td>\n      <td>4.25</td>\n      <td>4.110000</td>\n      <td>4.180000</td>\n      <td>4.180000</td>\n      <td>42932100</td>\n      <td>0</td>\n      <td>1</td>\n      <td>0</td>\n      <td>0.012106</td>\n      <td>4.191292</td>\n    </tr>\n    <tr>\n      <th>2014-01-08</th>\n      <td>4.230000</td>\n      <td>4.26</td>\n      <td>4.140000</td>\n      <td>4.180000</td>\n      <td>4.180000</td>\n      <td>30678700</td>\n      <td>0</td>\n      <td>0</td>\n      <td>0</td>\n      <td>0.000000</td>\n      <td>4.231295</td>\n    </tr>\n    <tr>\n      <th>2014-01-09</th>\n      <td>4.200000</td>\n      <td>4.23</td>\n      <td>4.050000</td>\n      <td>4.090000</td>\n      <td>4.090000</td>\n      <td>30667600</td>\n      <td>0</td>\n      <td>0</td>\n      <td>1</td>\n      <td>-0.021531</td>\n      <td>4.201293</td>\n    </tr>\n    <tr>\n      <th>...</th>\n      <td>...</td>\n      <td>...</td>\n      <td>...</td>\n      <td>...</td>\n      <td>...</td>\n      <td>...</td>\n      <td>...</td>\n      <td>...</td>\n      <td>...</td>\n      <td>...</td>\n      <td>...</td>\n    </tr>\n    <tr>\n      <th>2018-08-20</th>\n      <td>19.790001</td>\n      <td>20.08</td>\n      <td>19.350000</td>\n      <td>19.980000</td>\n      <td>19.980000</td>\n      <td>62983200</td>\n      <td>0</td>\n      <td>1</td>\n      <td>1</td>\n      <td>0.010622</td>\n      <td>19.792232</td>\n    </tr>\n    <tr>\n      <th>2018-08-21</th>\n      <td>19.980000</td>\n      <td>20.42</td>\n      <td>19.860001</td>\n      <td>20.400000</td>\n      <td>20.400000</td>\n      <td>55629000</td>\n      <td>1</td>\n      <td>1</td>\n      <td>1</td>\n      <td>0.021021</td>\n      <td>19.982242</td>\n    </tr>\n    <tr>\n      <th>2018-08-22</th>\n      <td>20.280001</td>\n      <td>20.92</td>\n      <td>20.209999</td>\n      <td>20.900000</td>\n      <td>20.900000</td>\n      <td>62002700</td>\n      <td>1</td>\n      <td>1</td>\n      <td>1</td>\n      <td>0.024510</td>\n      <td>20.282262</td>\n    </tr>\n    <tr>\n      <th>2018-08-23</th>\n      <td>21.190001</td>\n      <td>22.32</td>\n      <td>21.139999</td>\n      <td>22.290001</td>\n      <td>22.290001</td>\n      <td>113444100</td>\n      <td>1</td>\n      <td>1</td>\n      <td>1</td>\n      <td>0.066507</td>\n      <td>21.192316</td>\n    </tr>\n    <tr>\n      <th>2018-08-24</th>\n      <td>22.910000</td>\n      <td>24.00</td>\n      <td>22.670000</td>\n      <td>23.980000</td>\n      <td>23.980000</td>\n      <td>164328200</td>\n      <td>0</td>\n      <td>0</td>\n      <td>0</td>\n      <td>0.075819</td>\n      <td>22.912419</td>\n    </tr>\n  </tbody>\n</table>\n<p>1170 rows × 11 columns</p>\n</div>"
          },
          "metadata": {}
        }
      ],
      "execution_count": 13,
      "metadata": {
        "collapsed": true,
        "jupyter": {
          "source_hidden": false,
          "outputs_hidden": false
        },
        "nteract": {
          "transient": {
            "deleting": false
          }
        },
        "execution": {
          "shell.execute_reply": "2022-08-18T00:38:54.082Z",
          "iopub.status.busy": "2022-08-18T00:38:54.543Z",
          "iopub.execute_input": "2022-08-18T00:38:54.551Z",
          "iopub.status.idle": "2022-08-18T00:38:54.567Z"
        }
      }
    },
    {
      "cell_type": "code",
      "source": [
        "sns.scatterplot(x='Open', y='Adj Close', data=dataset)\n",
        "sns.scatterplot(x='Open', y='pred_lr', data=dataset)"
      ],
      "outputs": [
        {
          "output_type": "execute_result",
          "execution_count": 14,
          "data": {
            "text/plain": "<AxesSubplot:xlabel='Open', ylabel='Adj Close'>"
          },
          "metadata": {}
        },
        {
          "output_type": "display_data",
          "data": {
            "text/plain": "<Figure size 432x288 with 1 Axes>",
            "image/png": "[encoded data removed]"
          },
          "metadata": {
            "needs_background": "light"
          }
        }
      ],
      "execution_count": 14,
      "metadata": {
        "collapsed": true,
        "jupyter": {
          "source_hidden": false,
          "outputs_hidden": false
        },
        "nteract": {
          "transient": {
            "deleting": false
          }
        },
        "execution": {
          "iopub.status.busy": "2022-08-18T00:38:54.579Z",
          "iopub.execute_input": "2022-08-18T00:38:54.586Z",
          "iopub.status.idle": "2022-08-18T00:38:54.604Z",
          "shell.execute_reply": "2022-08-18T00:38:54.091Z"
        }
      }
    },
    {
      "cell_type": "code",
      "source": [
        "sns.scatterplot(x='Open', y='Adj Close', data=dataset)\n",
        "sns.scatterplot(x='Open', y='pred_lr', data=dataset)\n",
        "sns.lineplot(x='Open', y='pred_lr', data=dataset, color='orange')"
      ],
      "outputs": [
        {
          "output_type": "execute_result",
          "execution_count": 15,
          "data": {
            "text/plain": "<AxesSubplot:xlabel='Open', ylabel='Adj Close'>"
          },
          "metadata": {}
        },
        {
          "output_type": "display_data",
          "data": {
            "text/plain": "<Figure size 432x288 with 1 Axes>",
            "image/png": "[encoded data removed]"
          },
          "metadata": {
            "needs_background": "light"
          }
        }
      ],
      "execution_count": 15,
      "metadata": {
        "collapsed": true,
        "jupyter": {
          "source_hidden": false,
          "outputs_hidden": false
        },
        "nteract": {
          "transient": {
            "deleting": false
          }
        },
        "execution": {
          "iopub.status.busy": "2022-08-18T00:38:54.616Z",
          "iopub.execute_input": "2022-08-18T00:38:54.624Z",
          "shell.execute_reply": "2022-08-18T00:38:55.471Z",
          "iopub.status.idle": "2022-08-18T00:38:54.647Z"
        }
      }
    },
    {
      "cell_type": "code",
      "source": [
        "model_lr.score(X=features, y=target)"
      ],
      "outputs": [
        {
          "output_type": "execute_result",
          "execution_count": 16,
          "data": {
            "text/plain": "0.997658173314538"
          },
          "metadata": {}
        }
      ],
      "execution_count": 16,
      "metadata": {
        "collapsed": true,
        "jupyter": {
          "source_hidden": false,
          "outputs_hidden": false
        },
        "nteract": {
          "transient": {
            "deleting": false
          }
        },
        "execution": {
          "iopub.status.busy": "2022-08-18T00:38:54.660Z",
          "iopub.execute_input": "2022-08-18T00:38:54.667Z",
          "iopub.status.idle": "2022-08-18T00:38:54.684Z",
          "shell.execute_reply": "2022-08-18T00:38:55.477Z"
        }
      }
    },
    {
      "cell_type": "code",
      "source": [
        "dataset['Adj Close'] - dataset['pred_lr']"
      ],
      "outputs": [
        {
          "output_type": "execute_result",
          "execution_count": 17,
          "data": {
            "text/plain": "Date\n2014-01-03    0.018720\n2014-01-06    0.118718\n2014-01-07   -0.011293\n2014-01-08   -0.051295\n2014-01-09   -0.111293\n                ...   \n2018-08-20    0.187767\n2018-08-21    0.417757\n2018-08-22    0.617738\n2018-08-23    1.097685\n2018-08-24    1.067580\nLength: 1170, dtype: float64"
          },
          "metadata": {}
        }
      ],
      "execution_count": 17,
      "metadata": {
        "collapsed": true,
        "jupyter": {
          "source_hidden": false,
          "outputs_hidden": false
        },
        "nteract": {
          "transient": {
            "deleting": false
          }
        },
        "execution": {
          "iopub.status.busy": "2022-08-18T00:38:54.697Z",
          "iopub.execute_input": "2022-08-18T00:38:54.705Z",
          "iopub.status.idle": "2022-08-18T00:38:54.721Z",
          "shell.execute_reply": "2022-08-18T00:38:55.482Z"
        }
      }
    },
    {
      "cell_type": "code",
      "source": [
        "dataset['residuals'] = dataset['Open'] - dataset['pred_lr']\n",
        "dataset"
      ],
      "outputs": [
        {
          "output_type": "execute_result",
          "execution_count": 18,
          "data": {
            "text/plain": "                 Open   High        Low      Close  Adj Close     Volume  \\\nDate                                                                       \n2014-01-03   3.980000   4.00   3.880000   4.000000   4.000000   22887200   \n2014-01-06   4.010000   4.18   3.990000   4.130000   4.130000   42398300   \n2014-01-07   4.190000   4.25   4.110000   4.180000   4.180000   42932100   \n2014-01-08   4.230000   4.26   4.140000   4.180000   4.180000   30678700   \n2014-01-09   4.200000   4.23   4.050000   4.090000   4.090000   30667600   \n...               ...    ...        ...        ...        ...        ...   \n2018-08-20  19.790001  20.08  19.350000  19.980000  19.980000   62983200   \n2018-08-21  19.980000  20.42  19.860001  20.400000  20.400000   55629000   \n2018-08-22  20.280001  20.92  20.209999  20.900000  20.900000   62002700   \n2018-08-23  21.190001  22.32  21.139999  22.290001  22.290001  113444100   \n2018-08-24  22.910000  24.00  22.670000  23.980000  23.980000  164328200   \n\n            Increase_Decrease  Buy_Sell_on_Open  Buy_Sell   Returns  \\\nDate                                                                  \n2014-01-03                  1                 1         1  0.012658   \n2014-01-06                  1                 1         1  0.032500   \n2014-01-07                  0                 1         0  0.012106   \n2014-01-08                  0                 0         0  0.000000   \n2014-01-09                  0                 0         1 -0.021531   \n...                       ...               ...       ...       ...   \n2018-08-20                  0                 1         1  0.010622   \n2018-08-21                  1                 1         1  0.021021   \n2018-08-22                  1                 1         1  0.024510   \n2018-08-23                  1                 1         1  0.066507   \n2018-08-24                  0                 0         0  0.075819   \n\n              pred_lr  residuals  \nDate                              \n2014-01-03   3.981280  -0.001280  \n2014-01-06   4.011282  -0.001281  \n2014-01-07   4.191292  -0.001292  \n2014-01-08   4.231295  -0.001295  \n2014-01-09   4.201293  -0.001293  \n...               ...        ...  \n2018-08-20  19.792232  -0.002231  \n2018-08-21  19.982242  -0.002243  \n2018-08-22  20.282262  -0.002261  \n2018-08-23  21.192316  -0.002316  \n2018-08-24  22.912419  -0.002419  \n\n[1170 rows x 12 columns]",
            "text/html": "<div>\n<style scoped>\n    .dataframe tbody tr th:only-of-type {\n        vertical-align: middle;\n    }\n\n    .dataframe tbody tr th {\n        vertical-align: top;\n    }\n\n    .dataframe thead th {\n        text-align: right;\n    }\n</style>\n<table border=\"1\" class=\"dataframe\">\n  <thead>\n    <tr style=\"text-align: right;\">\n      <th></th>\n      <th>Open</th>\n      <th>High</th>\n      <th>Low</th>\n      <th>Close</th>\n      <th>Adj Close</th>\n      <th>Volume</th>\n      <th>Increase_Decrease</th>\n      <th>Buy_Sell_on_Open</th>\n      <th>Buy_Sell</th>\n      <th>Returns</th>\n      <th>pred_lr</th>\n      <th>residuals</th>\n    </tr>\n    <tr>\n      <th>Date</th>\n      <th></th>\n      <th></th>\n      <th></th>\n      <th></th>\n      <th></th>\n      <th></th>\n      <th></th>\n      <th></th>\n      <th></th>\n      <th></th>\n      <th></th>\n      <th></th>\n    </tr>\n  </thead>\n  <tbody>\n    <tr>\n      <th>2014-01-03</th>\n      <td>3.980000</td>\n      <td>4.00</td>\n      <td>3.880000</td>\n      <td>4.000000</td>\n      <td>4.000000</td>\n      <td>22887200</td>\n      <td>1</td>\n      <td>1</td>\n      <td>1</td>\n      <td>0.012658</td>\n      <td>3.981280</td>\n      <td>-0.001280</td>\n    </tr>\n    <tr>\n      <th>2014-01-06</th>\n      <td>4.010000</td>\n      <td>4.18</td>\n      <td>3.990000</td>\n      <td>4.130000</td>\n      <td>4.130000</td>\n      <td>42398300</td>\n      <td>1</td>\n      <td>1</td>\n      <td>1</td>\n      <td>0.032500</td>\n      <td>4.011282</td>\n      <td>-0.001281</td>\n    </tr>\n    <tr>\n      <th>2014-01-07</th>\n      <td>4.190000</td>\n      <td>4.25</td>\n      <td>4.110000</td>\n      <td>4.180000</td>\n      <td>4.180000</td>\n      <td>42932100</td>\n      <td>0</td>\n      <td>1</td>\n      <td>0</td>\n      <td>0.012106</td>\n      <td>4.191292</td>\n      <td>-0.001292</td>\n    </tr>\n    <tr>\n      <th>2014-01-08</th>\n      <td>4.230000</td>\n      <td>4.26</td>\n      <td>4.140000</td>\n      <td>4.180000</td>\n      <td>4.180000</td>\n      <td>30678700</td>\n      <td>0</td>\n      <td>0</td>\n      <td>0</td>\n      <td>0.000000</td>\n      <td>4.231295</td>\n      <td>-0.001295</td>\n    </tr>\n    <tr>\n      <th>2014-01-09</th>\n      <td>4.200000</td>\n      <td>4.23</td>\n      <td>4.050000</td>\n      <td>4.090000</td>\n      <td>4.090000</td>\n      <td>30667600</td>\n      <td>0</td>\n      <td>0</td>\n      <td>1</td>\n      <td>-0.021531</td>\n      <td>4.201293</td>\n      <td>-0.001293</td>\n    </tr>\n    <tr>\n      <th>...</th>\n      <td>...</td>\n      <td>...</td>\n      <td>...</td>\n      <td>...</td>\n      <td>...</td>\n      <td>...</td>\n      <td>...</td>\n      <td>...</td>\n      <td>...</td>\n      <td>...</td>\n      <td>...</td>\n      <td>...</td>\n    </tr>\n    <tr>\n      <th>2018-08-20</th>\n      <td>19.790001</td>\n      <td>20.08</td>\n      <td>19.350000</td>\n      <td>19.980000</td>\n      <td>19.980000</td>\n      <td>62983200</td>\n      <td>0</td>\n      <td>1</td>\n      <td>1</td>\n      <td>0.010622</td>\n      <td>19.792232</td>\n      <td>-0.002231</td>\n    </tr>\n    <tr>\n      <th>2018-08-21</th>\n      <td>19.980000</td>\n      <td>20.42</td>\n      <td>19.860001</td>\n      <td>20.400000</td>\n      <td>20.400000</td>\n      <td>55629000</td>\n      <td>1</td>\n      <td>1</td>\n      <td>1</td>\n      <td>0.021021</td>\n      <td>19.982242</td>\n      <td>-0.002243</td>\n    </tr>\n    <tr>\n      <th>2018-08-22</th>\n      <td>20.280001</td>\n      <td>20.92</td>\n      <td>20.209999</td>\n      <td>20.900000</td>\n      <td>20.900000</td>\n      <td>62002700</td>\n      <td>1</td>\n      <td>1</td>\n      <td>1</td>\n      <td>0.024510</td>\n      <td>20.282262</td>\n      <td>-0.002261</td>\n    </tr>\n    <tr>\n      <th>2018-08-23</th>\n      <td>21.190001</td>\n      <td>22.32</td>\n      <td>21.139999</td>\n      <td>22.290001</td>\n      <td>22.290001</td>\n      <td>113444100</td>\n      <td>1</td>\n      <td>1</td>\n      <td>1</td>\n      <td>0.066507</td>\n      <td>21.192316</td>\n      <td>-0.002316</td>\n    </tr>\n    <tr>\n      <th>2018-08-24</th>\n      <td>22.910000</td>\n      <td>24.00</td>\n      <td>22.670000</td>\n      <td>23.980000</td>\n      <td>23.980000</td>\n      <td>164328200</td>\n      <td>0</td>\n      <td>0</td>\n      <td>0</td>\n      <td>0.075819</td>\n      <td>22.912419</td>\n      <td>-0.002419</td>\n    </tr>\n  </tbody>\n</table>\n<p>1170 rows × 12 columns</p>\n</div>"
          },
          "metadata": {}
        }
      ],
      "execution_count": 18,
      "metadata": {
        "collapsed": true,
        "jupyter": {
          "source_hidden": false,
          "outputs_hidden": false
        },
        "nteract": {
          "transient": {
            "deleting": false
          }
        },
        "execution": {
          "iopub.status.busy": "2022-08-18T00:38:54.733Z",
          "iopub.execute_input": "2022-08-18T00:38:54.741Z",
          "iopub.status.idle": "2022-08-18T00:38:54.761Z",
          "shell.execute_reply": "2022-08-18T00:38:55.487Z"
        }
      }
    },
    {
      "cell_type": "code",
      "source": [
        "dataset.residuals.sum()"
      ],
      "outputs": [
        {
          "output_type": "execute_result",
          "execution_count": 19,
          "data": {
            "text/plain": "-1.7099978923797408"
          },
          "metadata": {}
        }
      ],
      "execution_count": 19,
      "metadata": {
        "collapsed": true,
        "jupyter": {
          "source_hidden": false,
          "outputs_hidden": false
        },
        "nteract": {
          "transient": {
            "deleting": false
          }
        },
        "execution": {
          "iopub.status.busy": "2022-08-18T00:38:54.775Z",
          "iopub.execute_input": "2022-08-18T00:38:54.785Z",
          "iopub.status.idle": "2022-08-18T00:38:54.804Z",
          "shell.execute_reply": "2022-08-18T00:38:55.492Z"
        }
      }
    },
    {
      "cell_type": "code",
      "source": [
        "dataset.residuals.sum().round(2)"
      ],
      "outputs": [
        {
          "output_type": "execute_result",
          "execution_count": 20,
          "data": {
            "text/plain": "-1.71"
          },
          "metadata": {}
        }
      ],
      "execution_count": 20,
      "metadata": {
        "collapsed": true,
        "jupyter": {
          "source_hidden": false,
          "outputs_hidden": false
        },
        "nteract": {
          "transient": {
            "deleting": false
          }
        },
        "execution": {
          "iopub.status.busy": "2022-08-18T00:38:54.818Z",
          "iopub.execute_input": "2022-08-18T00:38:54.827Z",
          "iopub.status.idle": "2022-08-18T00:38:54.845Z",
          "shell.execute_reply": "2022-08-18T00:38:55.497Z"
        }
      }
    },
    {
      "cell_type": "code",
      "source": [
        "dataset['residuals^2'] = dataset.residuals**2\n",
        "dataset"
      ],
      "outputs": [
        {
          "output_type": "execute_result",
          "execution_count": 21,
          "data": {
            "text/plain": "                 Open   High        Low      Close  Adj Close     Volume  \\\nDate                                                                       \n2014-01-03   3.980000   4.00   3.880000   4.000000   4.000000   22887200   \n2014-01-06   4.010000   4.18   3.990000   4.130000   4.130000   42398300   \n2014-01-07   4.190000   4.25   4.110000   4.180000   4.180000   42932100   \n2014-01-08   4.230000   4.26   4.140000   4.180000   4.180000   30678700   \n2014-01-09   4.200000   4.23   4.050000   4.090000   4.090000   30667600   \n...               ...    ...        ...        ...        ...        ...   \n2018-08-20  19.790001  20.08  19.350000  19.980000  19.980000   62983200   \n2018-08-21  19.980000  20.42  19.860001  20.400000  20.400000   55629000   \n2018-08-22  20.280001  20.92  20.209999  20.900000  20.900000   62002700   \n2018-08-23  21.190001  22.32  21.139999  22.290001  22.290001  113444100   \n2018-08-24  22.910000  24.00  22.670000  23.980000  23.980000  164328200   \n\n            Increase_Decrease  Buy_Sell_on_Open  Buy_Sell   Returns  \\\nDate                                                                  \n2014-01-03                  1                 1         1  0.012658   \n2014-01-06                  1                 1         1  0.032500   \n2014-01-07                  0                 1         0  0.012106   \n2014-01-08                  0                 0         0  0.000000   \n2014-01-09                  0                 0         1 -0.021531   \n...                       ...               ...       ...       ...   \n2018-08-20                  0                 1         1  0.010622   \n2018-08-21                  1                 1         1  0.021021   \n2018-08-22                  1                 1         1  0.024510   \n2018-08-23                  1                 1         1  0.066507   \n2018-08-24                  0                 0         0  0.075819   \n\n              pred_lr  residuals  residuals^2  \nDate                                           \n2014-01-03   3.981280  -0.001280     0.000002  \n2014-01-06   4.011282  -0.001281     0.000002  \n2014-01-07   4.191292  -0.001292     0.000002  \n2014-01-08   4.231295  -0.001295     0.000002  \n2014-01-09   4.201293  -0.001293     0.000002  \n...               ...        ...          ...  \n2018-08-20  19.792232  -0.002231     0.000005  \n2018-08-21  19.982242  -0.002243     0.000005  \n2018-08-22  20.282262  -0.002261     0.000005  \n2018-08-23  21.192316  -0.002316     0.000005  \n2018-08-24  22.912419  -0.002419     0.000006  \n\n[1170 rows x 13 columns]",
            "text/html": "<div>\n<style scoped>\n    .dataframe tbody tr th:only-of-type {\n        vertical-align: middle;\n    }\n\n    .dataframe tbody tr th {\n        vertical-align: top;\n    }\n\n    .dataframe thead th {\n        text-align: right;\n    }\n</style>\n<table border=\"1\" class=\"dataframe\">\n  <thead>\n    <tr style=\"text-align: right;\">\n      <th></th>\n      <th>Open</th>\n      <th>High</th>\n      <th>Low</th>\n      <th>Close</th>\n      <th>Adj Close</th>\n      <th>Volume</th>\n      <th>Increase_Decrease</th>\n      <th>Buy_Sell_on_Open</th>\n      <th>Buy_Sell</th>\n      <th>Returns</th>\n      <th>pred_lr</th>\n      <th>residuals</th>\n      <th>residuals^2</th>\n    </tr>\n    <tr>\n      <th>Date</th>\n      <th></th>\n      <th></th>\n      <th></th>\n      <th></th>\n      <th></th>\n      <th></th>\n      <th></th>\n      <th></th>\n      <th></th>\n      <th></th>\n      <th></th>\n      <th></th>\n      <th></th>\n    </tr>\n  </thead>\n  <tbody>\n    <tr>\n      <th>2014-01-03</th>\n      <td>3.980000</td>\n      <td>4.00</td>\n      <td>3.880000</td>\n      <td>4.000000</td>\n      <td>4.000000</td>\n      <td>22887200</td>\n      <td>1</td>\n      <td>1</td>\n      <td>1</td>\n      <td>0.012658</td>\n      <td>3.981280</td>\n      <td>-0.001280</td>\n      <td>0.000002</td>\n    </tr>\n    <tr>\n      <th>2014-01-06</th>\n      <td>4.010000</td>\n      <td>4.18</td>\n      <td>3.990000</td>\n      <td>4.130000</td>\n      <td>4.130000</td>\n      <td>42398300</td>\n      <td>1</td>\n      <td>1</td>\n      <td>1</td>\n      <td>0.032500</td>\n      <td>4.011282</td>\n      <td>-0.001281</td>\n      <td>0.000002</td>\n    </tr>\n    <tr>\n      <th>2014-01-07</th>\n      <td>4.190000</td>\n      <td>4.25</td>\n      <td>4.110000</td>\n      <td>4.180000</td>\n      <td>4.180000</td>\n      <td>42932100</td>\n      <td>0</td>\n      <td>1</td>\n      <td>0</td>\n      <td>0.012106</td>\n      <td>4.191292</td>\n      <td>-0.001292</td>\n      <td>0.000002</td>\n    </tr>\n    <tr>\n      <th>2014-01-08</th>\n      <td>4.230000</td>\n      <td>4.26</td>\n      <td>4.140000</td>\n      <td>4.180000</td>\n      <td>4.180000</td>\n      <td>30678700</td>\n      <td>0</td>\n      <td>0</td>\n      <td>0</td>\n      <td>0.000000</td>\n      <td>4.231295</td>\n      <td>-0.001295</td>\n      <td>0.000002</td>\n    </tr>\n    <tr>\n      <th>2014-01-09</th>\n      <td>4.200000</td>\n      <td>4.23</td>\n      <td>4.050000</td>\n      <td>4.090000</td>\n      <td>4.090000</td>\n      <td>30667600</td>\n      <td>0</td>\n      <td>0</td>\n      <td>1</td>\n      <td>-0.021531</td>\n      <td>4.201293</td>\n      <td>-0.001293</td>\n      <td>0.000002</td>\n    </tr>\n    <tr>\n      <th>...</th>\n      <td>...</td>\n      <td>...</td>\n      <td>...</td>\n      <td>...</td>\n      <td>...</td>\n      <td>...</td>\n      <td>...</td>\n      <td>...</td>\n      <td>...</td>\n      <td>...</td>\n      <td>...</td>\n      <td>...</td>\n      <td>...</td>\n    </tr>\n    <tr>\n      <th>2018-08-20</th>\n      <td>19.790001</td>\n      <td>20.08</td>\n      <td>19.350000</td>\n      <td>19.980000</td>\n      <td>19.980000</td>\n      <td>62983200</td>\n      <td>0</td>\n      <td>1</td>\n      <td>1</td>\n      <td>0.010622</td>\n      <td>19.792232</td>\n      <td>-0.002231</td>\n      <td>0.000005</td>\n    </tr>\n    <tr>\n      <th>2018-08-21</th>\n      <td>19.980000</td>\n      <td>20.42</td>\n      <td>19.860001</td>\n      <td>20.400000</td>\n      <td>20.400000</td>\n      <td>55629000</td>\n      <td>1</td>\n      <td>1</td>\n      <td>1</td>\n      <td>0.021021</td>\n      <td>19.982242</td>\n      <td>-0.002243</td>\n      <td>0.000005</td>\n    </tr>\n    <tr>\n      <th>2018-08-22</th>\n      <td>20.280001</td>\n      <td>20.92</td>\n      <td>20.209999</td>\n      <td>20.900000</td>\n      <td>20.900000</td>\n      <td>62002700</td>\n      <td>1</td>\n      <td>1</td>\n      <td>1</td>\n      <td>0.024510</td>\n      <td>20.282262</td>\n      <td>-0.002261</td>\n      <td>0.000005</td>\n    </tr>\n    <tr>\n      <th>2018-08-23</th>\n      <td>21.190001</td>\n      <td>22.32</td>\n      <td>21.139999</td>\n      <td>22.290001</td>\n      <td>22.290001</td>\n      <td>113444100</td>\n      <td>1</td>\n      <td>1</td>\n      <td>1</td>\n      <td>0.066507</td>\n      <td>21.192316</td>\n      <td>-0.002316</td>\n      <td>0.000005</td>\n    </tr>\n    <tr>\n      <th>2018-08-24</th>\n      <td>22.910000</td>\n      <td>24.00</td>\n      <td>22.670000</td>\n      <td>23.980000</td>\n      <td>23.980000</td>\n      <td>164328200</td>\n      <td>0</td>\n      <td>0</td>\n      <td>0</td>\n      <td>0.075819</td>\n      <td>22.912419</td>\n      <td>-0.002419</td>\n      <td>0.000006</td>\n    </tr>\n  </tbody>\n</table>\n<p>1170 rows × 13 columns</p>\n</div>"
          },
          "metadata": {}
        }
      ],
      "execution_count": 21,
      "metadata": {
        "collapsed": true,
        "jupyter": {
          "source_hidden": false,
          "outputs_hidden": false
        },
        "nteract": {
          "transient": {
            "deleting": false
          }
        },
        "execution": {
          "iopub.status.busy": "2022-08-18T00:38:54.862Z",
          "iopub.execute_input": "2022-08-18T00:38:54.871Z",
          "iopub.status.idle": "2022-08-18T00:38:54.897Z",
          "shell.execute_reply": "2022-08-18T00:38:55.501Z"
        }
      }
    },
    {
      "cell_type": "code",
      "source": [
        "dataset['residuals^2'].sum()"
      ],
      "outputs": [
        {
          "output_type": "execute_result",
          "execution_count": 22,
          "data": {
            "text/plain": "0.0025991192921877267"
          },
          "metadata": {}
        }
      ],
      "execution_count": 22,
      "metadata": {
        "collapsed": true,
        "jupyter": {
          "source_hidden": false,
          "outputs_hidden": false
        },
        "nteract": {
          "transient": {
            "deleting": false
          }
        },
        "execution": {
          "iopub.status.busy": "2022-08-18T00:38:54.934Z",
          "iopub.execute_input": "2022-08-18T00:38:54.944Z",
          "iopub.status.idle": "2022-08-18T00:38:54.963Z",
          "shell.execute_reply": "2022-08-18T00:38:55.506Z"
        }
      }
    },
    {
      "cell_type": "code",
      "source": [
        "RSS = dataset['residuals^2'].sum()\n",
        "RSS"
      ],
      "outputs": [
        {
          "output_type": "execute_result",
          "execution_count": 23,
          "data": {
            "text/plain": "0.0025991192921877267"
          },
          "metadata": {}
        }
      ],
      "execution_count": 23,
      "metadata": {
        "collapsed": true,
        "jupyter": {
          "source_hidden": false,
          "outputs_hidden": false
        },
        "nteract": {
          "transient": {
            "deleting": false
          }
        },
        "execution": {
          "iopub.status.busy": "2022-08-18T00:38:54.975Z",
          "iopub.execute_input": "2022-08-18T00:38:54.983Z",
          "iopub.status.idle": "2022-08-18T00:38:54.999Z",
          "shell.execute_reply": "2022-08-18T00:38:55.511Z"
        }
      }
    },
    {
      "cell_type": "code",
      "source": [
        "dataset.Open"
      ],
      "outputs": [
        {
          "output_type": "execute_result",
          "execution_count": 24,
          "data": {
            "text/plain": "Date\n2014-01-03     3.980000\n2014-01-06     4.010000\n2014-01-07     4.190000\n2014-01-08     4.230000\n2014-01-09     4.200000\n                ...    \n2018-08-20    19.790001\n2018-08-21    19.980000\n2018-08-22    20.280001\n2018-08-23    21.190001\n2018-08-24    22.910000\nName: Open, Length: 1170, dtype: float64"
          },
          "metadata": {}
        }
      ],
      "execution_count": 24,
      "metadata": {
        "collapsed": true,
        "jupyter": {
          "source_hidden": false,
          "outputs_hidden": false
        },
        "nteract": {
          "transient": {
            "deleting": false
          }
        },
        "execution": {
          "iopub.status.busy": "2022-08-18T00:38:55.010Z",
          "iopub.execute_input": "2022-08-18T00:38:55.017Z",
          "iopub.status.idle": "2022-08-18T00:38:55.034Z",
          "shell.execute_reply": "2022-08-18T00:38:55.516Z"
        }
      }
    },
    {
      "cell_type": "code",
      "source": [
        "dataset.Open.mean()"
      ],
      "outputs": [
        {
          "output_type": "execute_result",
          "execution_count": 25,
          "data": {
            "text/plain": "7.001341878145169"
          },
          "metadata": {}
        }
      ],
      "execution_count": 25,
      "metadata": {
        "collapsed": true,
        "jupyter": {
          "source_hidden": false,
          "outputs_hidden": false
        },
        "nteract": {
          "transient": {
            "deleting": false
          }
        },
        "execution": {
          "iopub.status.busy": "2022-08-18T00:38:55.046Z",
          "iopub.execute_input": "2022-08-18T00:38:55.054Z",
          "iopub.status.idle": "2022-08-18T00:38:55.072Z",
          "shell.execute_reply": "2022-08-18T00:38:55.521Z"
        }
      }
    },
    {
      "cell_type": "code",
      "source": [
        "dataset.Open - dataset.Open.mean()"
      ],
      "outputs": [
        {
          "output_type": "execute_result",
          "execution_count": 26,
          "data": {
            "text/plain": "Date\n2014-01-03    -3.021342\n2014-01-06    -2.991342\n2014-01-07    -2.811342\n2014-01-08    -2.771342\n2014-01-09    -2.801342\n                ...    \n2018-08-20    12.788659\n2018-08-21    12.978658\n2018-08-22    13.278659\n2018-08-23    14.188659\n2018-08-24    15.908658\nName: Open, Length: 1170, dtype: float64"
          },
          "metadata": {}
        }
      ],
      "execution_count": 26,
      "metadata": {
        "collapsed": true,
        "jupyter": {
          "source_hidden": false,
          "outputs_hidden": false
        },
        "nteract": {
          "transient": {
            "deleting": false
          }
        },
        "execution": {
          "iopub.status.busy": "2022-08-18T00:38:55.083Z",
          "iopub.execute_input": "2022-08-18T00:38:55.090Z",
          "iopub.status.idle": "2022-08-18T00:38:55.106Z",
          "shell.execute_reply": "2022-08-18T00:38:55.526Z"
        }
      }
    },
    {
      "cell_type": "code",
      "source": [
        "dataset['real_residuals'] = dataset.Open - dataset.Open.mean()\n",
        "dataset"
      ],
      "outputs": [
        {
          "output_type": "execute_result",
          "execution_count": 27,
          "data": {
            "text/plain": "                 Open   High        Low      Close  Adj Close     Volume  \\\nDate                                                                       \n2014-01-03   3.980000   4.00   3.880000   4.000000   4.000000   22887200   \n2014-01-06   4.010000   4.18   3.990000   4.130000   4.130000   42398300   \n2014-01-07   4.190000   4.25   4.110000   4.180000   4.180000   42932100   \n2014-01-08   4.230000   4.26   4.140000   4.180000   4.180000   30678700   \n2014-01-09   4.200000   4.23   4.050000   4.090000   4.090000   30667600   \n...               ...    ...        ...        ...        ...        ...   \n2018-08-20  19.790001  20.08  19.350000  19.980000  19.980000   62983200   \n2018-08-21  19.980000  20.42  19.860001  20.400000  20.400000   55629000   \n2018-08-22  20.280001  20.92  20.209999  20.900000  20.900000   62002700   \n2018-08-23  21.190001  22.32  21.139999  22.290001  22.290001  113444100   \n2018-08-24  22.910000  24.00  22.670000  23.980000  23.980000  164328200   \n\n            Increase_Decrease  Buy_Sell_on_Open  Buy_Sell   Returns  \\\nDate                                                                  \n2014-01-03                  1                 1         1  0.012658   \n2014-01-06                  1                 1         1  0.032500   \n2014-01-07                  0                 1         0  0.012106   \n2014-01-08                  0                 0         0  0.000000   \n2014-01-09                  0                 0         1 -0.021531   \n...                       ...               ...       ...       ...   \n2018-08-20                  0                 1         1  0.010622   \n2018-08-21                  1                 1         1  0.021021   \n2018-08-22                  1                 1         1  0.024510   \n2018-08-23                  1                 1         1  0.066507   \n2018-08-24                  0                 0         0  0.075819   \n\n              pred_lr  residuals  residuals^2  real_residuals  \nDate                                                           \n2014-01-03   3.981280  -0.001280     0.000002       -3.021342  \n2014-01-06   4.011282  -0.001281     0.000002       -2.991342  \n2014-01-07   4.191292  -0.001292     0.000002       -2.811342  \n2014-01-08   4.231295  -0.001295     0.000002       -2.771342  \n2014-01-09   4.201293  -0.001293     0.000002       -2.801342  \n...               ...        ...          ...             ...  \n2018-08-20  19.792232  -0.002231     0.000005       12.788659  \n2018-08-21  19.982242  -0.002243     0.000005       12.978658  \n2018-08-22  20.282262  -0.002261     0.000005       13.278659  \n2018-08-23  21.192316  -0.002316     0.000005       14.188659  \n2018-08-24  22.912419  -0.002419     0.000006       15.908658  \n\n[1170 rows x 14 columns]",
            "text/html": "<div>\n<style scoped>\n    .dataframe tbody tr th:only-of-type {\n        vertical-align: middle;\n    }\n\n    .dataframe tbody tr th {\n        vertical-align: top;\n    }\n\n    .dataframe thead th {\n        text-align: right;\n    }\n</style>\n<table border=\"1\" class=\"dataframe\">\n  <thead>\n    <tr style=\"text-align: right;\">\n      <th></th>\n      <th>Open</th>\n      <th>High</th>\n      <th>Low</th>\n      <th>Close</th>\n      <th>Adj Close</th>\n      <th>Volume</th>\n      <th>Increase_Decrease</th>\n      <th>Buy_Sell_on_Open</th>\n      <th>Buy_Sell</th>\n      <th>Returns</th>\n      <th>pred_lr</th>\n      <th>residuals</th>\n      <th>residuals^2</th>\n      <th>real_residuals</th>\n    </tr>\n    <tr>\n      <th>Date</th>\n      <th></th>\n      <th></th>\n      <th></th>\n      <th></th>\n      <th></th>\n      <th></th>\n      <th></th>\n      <th></th>\n      <th></th>\n      <th></th>\n      <th></th>\n      <th></th>\n      <th></th>\n      <th></th>\n    </tr>\n  </thead>\n  <tbody>\n    <tr>\n      <th>2014-01-03</th>\n      <td>3.980000</td>\n      <td>4.00</td>\n      <td>3.880000</td>\n      <td>4.000000</td>\n      <td>4.000000</td>\n      <td>22887200</td>\n      <td>1</td>\n      <td>1</td>\n      <td>1</td>\n      <td>0.012658</td>\n      <td>3.981280</td>\n      <td>-0.001280</td>\n      <td>0.000002</td>\n      <td>-3.021342</td>\n    </tr>\n    <tr>\n      <th>2014-01-06</th>\n      <td>4.010000</td>\n      <td>4.18</td>\n      <td>3.990000</td>\n      <td>4.130000</td>\n      <td>4.130000</td>\n      <td>42398300</td>\n      <td>1</td>\n      <td>1</td>\n      <td>1</td>\n      <td>0.032500</td>\n      <td>4.011282</td>\n      <td>-0.001281</td>\n      <td>0.000002</td>\n      <td>-2.991342</td>\n    </tr>\n    <tr>\n      <th>2014-01-07</th>\n      <td>4.190000</td>\n      <td>4.25</td>\n      <td>4.110000</td>\n      <td>4.180000</td>\n      <td>4.180000</td>\n      <td>42932100</td>\n      <td>0</td>\n      <td>1</td>\n      <td>0</td>\n      <td>0.012106</td>\n      <td>4.191292</td>\n      <td>-0.001292</td>\n      <td>0.000002</td>\n      <td>-2.811342</td>\n    </tr>\n    <tr>\n      <th>2014-01-08</th>\n      <td>4.230000</td>\n      <td>4.26</td>\n      <td>4.140000</td>\n      <td>4.180000</td>\n      <td>4.180000</td>\n      <td>30678700</td>\n      <td>0</td>\n      <td>0</td>\n      <td>0</td>\n      <td>0.000000</td>\n      <td>4.231295</td>\n      <td>-0.001295</td>\n      <td>0.000002</td>\n      <td>-2.771342</td>\n    </tr>\n    <tr>\n      <th>2014-01-09</th>\n      <td>4.200000</td>\n      <td>4.23</td>\n      <td>4.050000</td>\n      <td>4.090000</td>\n      <td>4.090000</td>\n      <td>30667600</td>\n      <td>0</td>\n      <td>0</td>\n      <td>1</td>\n      <td>-0.021531</td>\n      <td>4.201293</td>\n      <td>-0.001293</td>\n      <td>0.000002</td>\n      <td>-2.801342</td>\n    </tr>\n    <tr>\n      <th>...</th>\n      <td>...</td>\n      <td>...</td>\n      <td>...</td>\n      <td>...</td>\n      <td>...</td>\n      <td>...</td>\n      <td>...</td>\n      <td>...</td>\n      <td>...</td>\n      <td>...</td>\n      <td>...</td>\n      <td>...</td>\n      <td>...</td>\n      <td>...</td>\n    </tr>\n    <tr>\n      <th>2018-08-20</th>\n      <td>19.790001</td>\n      <td>20.08</td>\n      <td>19.350000</td>\n      <td>19.980000</td>\n      <td>19.980000</td>\n      <td>62983200</td>\n      <td>0</td>\n      <td>1</td>\n      <td>1</td>\n      <td>0.010622</td>\n      <td>19.792232</td>\n      <td>-0.002231</td>\n      <td>0.000005</td>\n      <td>12.788659</td>\n    </tr>\n    <tr>\n      <th>2018-08-21</th>\n      <td>19.980000</td>\n      <td>20.42</td>\n      <td>19.860001</td>\n      <td>20.400000</td>\n      <td>20.400000</td>\n      <td>55629000</td>\n      <td>1</td>\n      <td>1</td>\n      <td>1</td>\n      <td>0.021021</td>\n      <td>19.982242</td>\n      <td>-0.002243</td>\n      <td>0.000005</td>\n      <td>12.978658</td>\n    </tr>\n    <tr>\n      <th>2018-08-22</th>\n      <td>20.280001</td>\n      <td>20.92</td>\n      <td>20.209999</td>\n      <td>20.900000</td>\n      <td>20.900000</td>\n      <td>62002700</td>\n      <td>1</td>\n      <td>1</td>\n      <td>1</td>\n      <td>0.024510</td>\n      <td>20.282262</td>\n      <td>-0.002261</td>\n      <td>0.000005</td>\n      <td>13.278659</td>\n    </tr>\n    <tr>\n      <th>2018-08-23</th>\n      <td>21.190001</td>\n      <td>22.32</td>\n      <td>21.139999</td>\n      <td>22.290001</td>\n      <td>22.290001</td>\n      <td>113444100</td>\n      <td>1</td>\n      <td>1</td>\n      <td>1</td>\n      <td>0.066507</td>\n      <td>21.192316</td>\n      <td>-0.002316</td>\n      <td>0.000005</td>\n      <td>14.188659</td>\n    </tr>\n    <tr>\n      <th>2018-08-24</th>\n      <td>22.910000</td>\n      <td>24.00</td>\n      <td>22.670000</td>\n      <td>23.980000</td>\n      <td>23.980000</td>\n      <td>164328200</td>\n      <td>0</td>\n      <td>0</td>\n      <td>0</td>\n      <td>0.075819</td>\n      <td>22.912419</td>\n      <td>-0.002419</td>\n      <td>0.000006</td>\n      <td>15.908658</td>\n    </tr>\n  </tbody>\n</table>\n<p>1170 rows × 14 columns</p>\n</div>"
          },
          "metadata": {}
        }
      ],
      "execution_count": 27,
      "metadata": {
        "collapsed": true,
        "jupyter": {
          "source_hidden": false,
          "outputs_hidden": false
        },
        "nteract": {
          "transient": {
            "deleting": false
          }
        },
        "execution": {
          "iopub.status.busy": "2022-08-18T00:38:55.118Z",
          "iopub.execute_input": "2022-08-18T00:38:55.127Z",
          "iopub.status.idle": "2022-08-18T00:38:55.144Z",
          "shell.execute_reply": "2022-08-18T00:38:55.531Z"
        }
      }
    },
    {
      "cell_type": "code",
      "source": [
        "dataset['real_residuals^2'] = dataset.real_residuals**2"
      ],
      "outputs": [],
      "execution_count": 28,
      "metadata": {
        "collapsed": true,
        "jupyter": {
          "source_hidden": false,
          "outputs_hidden": false
        },
        "nteract": {
          "transient": {
            "deleting": false
          }
        },
        "execution": {
          "iopub.status.busy": "2022-08-18T00:38:55.156Z",
          "iopub.execute_input": "2022-08-18T00:38:55.164Z",
          "iopub.status.idle": "2022-08-18T00:38:55.177Z",
          "shell.execute_reply": "2022-08-18T00:38:55.536Z"
        }
      }
    },
    {
      "cell_type": "code",
      "source": [
        "dataset['real_residuals^2'].sum()"
      ],
      "outputs": [
        {
          "output_type": "execute_result",
          "execution_count": 29,
          "data": {
            "text/plain": "27561.564995489553"
          },
          "metadata": {}
        }
      ],
      "execution_count": 29,
      "metadata": {
        "collapsed": true,
        "jupyter": {
          "source_hidden": false,
          "outputs_hidden": false
        },
        "nteract": {
          "transient": {
            "deleting": false
          }
        },
        "execution": {
          "iopub.status.busy": "2022-08-18T00:38:55.190Z",
          "iopub.execute_input": "2022-08-18T00:38:55.199Z",
          "iopub.status.idle": "2022-08-18T00:38:55.215Z",
          "shell.execute_reply": "2022-08-18T00:38:55.541Z"
        }
      }
    },
    {
      "cell_type": "code",
      "source": [
        "TSS = dataset['real_residuals^2'].sum()\n",
        "TSS"
      ],
      "outputs": [
        {
          "output_type": "execute_result",
          "execution_count": 30,
          "data": {
            "text/plain": "27561.564995489553"
          },
          "metadata": {}
        }
      ],
      "execution_count": 30,
      "metadata": {
        "collapsed": true,
        "jupyter": {
          "source_hidden": false,
          "outputs_hidden": false
        },
        "nteract": {
          "transient": {
            "deleting": false
          }
        },
        "execution": {
          "iopub.status.busy": "2022-08-18T00:38:55.229Z",
          "iopub.execute_input": "2022-08-18T00:38:55.236Z",
          "iopub.status.idle": "2022-08-18T00:38:55.252Z",
          "shell.execute_reply": "2022-08-18T00:38:55.546Z"
        }
      }
    },
    {
      "cell_type": "code",
      "source": [
        "RSS/TSS"
      ],
      "outputs": [
        {
          "output_type": "execute_result",
          "execution_count": 31,
          "data": {
            "text/plain": "9.430231166528723e-08"
          },
          "metadata": {}
        }
      ],
      "execution_count": 31,
      "metadata": {
        "collapsed": true,
        "jupyter": {
          "source_hidden": false,
          "outputs_hidden": false
        },
        "nteract": {
          "transient": {
            "deleting": false
          }
        },
        "execution": {
          "iopub.status.busy": "2022-08-18T00:38:55.263Z",
          "iopub.execute_input": "2022-08-18T00:38:55.271Z",
          "iopub.status.idle": "2022-08-18T00:38:55.290Z",
          "shell.execute_reply": "2022-08-18T00:38:55.550Z"
        }
      }
    },
    {
      "cell_type": "markdown",
      "source": [
        "9.43e-08 is the badness of the model as RSS represents the residuals (errors) of the model."
      ],
      "metadata": {
        "nteract": {
          "transient": {
            "deleting": false
          }
        }
      }
    },
    {
      "cell_type": "code",
      "source": [
        "1 - RSS/TSS"
      ],
      "outputs": [
        {
          "output_type": "execute_result",
          "execution_count": 32,
          "data": {
            "text/plain": "0.9999999056976884"
          },
          "metadata": {}
        }
      ],
      "execution_count": 32,
      "metadata": {
        "collapsed": true,
        "jupyter": {
          "source_hidden": false,
          "outputs_hidden": false
        },
        "nteract": {
          "transient": {
            "deleting": false
          }
        },
        "execution": {
          "iopub.status.busy": "2022-08-18T00:38:55.302Z",
          "iopub.execute_input": "2022-08-18T00:38:55.310Z",
          "iopub.status.idle": "2022-08-18T00:38:55.326Z",
          "shell.execute_reply": "2022-08-18T00:38:55.555Z"
        }
      }
    },
    {
      "cell_type": "markdown",
      "source": [
        "99.99% of the total number of Open variability."
      ],
      "metadata": {
        "nteract": {
          "transient": {
            "deleting": false
          }
        }
      }
    },
    {
      "cell_type": "code",
      "source": [
        "model_lr.score(X=features, y=target)"
      ],
      "outputs": [
        {
          "output_type": "execute_result",
          "execution_count": 33,
          "data": {
            "text/plain": "0.997658173314538"
          },
          "metadata": {}
        }
      ],
      "execution_count": 33,
      "metadata": {
        "collapsed": true,
        "jupyter": {
          "source_hidden": false,
          "outputs_hidden": false
        },
        "nteract": {
          "transient": {
            "deleting": false
          }
        },
        "execution": {
          "iopub.status.busy": "2022-08-18T00:38:55.337Z",
          "iopub.execute_input": "2022-08-18T00:38:55.345Z",
          "iopub.status.idle": "2022-08-18T00:38:55.364Z",
          "shell.execute_reply": "2022-08-18T00:38:55.560Z"
        }
      }
    },
    {
      "cell_type": "code",
      "source": [
        "model_lr.__dict__"
      ],
      "outputs": [
        {
          "output_type": "execute_result",
          "execution_count": 34,
          "data": {
            "text/plain": "{'fit_intercept': True,\n 'normalize': False,\n 'copy_X': True,\n 'n_jobs': None,\n 'positive': False,\n 'n_features_in_': 1,\n 'coef_': array([1.0000602]),\n '_residues': 64.70370505064436,\n 'rank_': 1,\n 'singular_': array([166.01676119]),\n 'intercept_': 0.0010400337902405354}"
          },
          "metadata": {}
        }
      ],
      "execution_count": 34,
      "metadata": {
        "collapsed": true,
        "jupyter": {
          "source_hidden": false,
          "outputs_hidden": false
        },
        "nteract": {
          "transient": {
            "deleting": false
          }
        },
        "execution": {
          "iopub.status.busy": "2022-08-18T00:38:55.376Z",
          "iopub.execute_input": "2022-08-18T00:38:55.383Z",
          "iopub.status.idle": "2022-08-18T00:38:55.400Z",
          "shell.execute_reply": "2022-08-18T00:38:55.566Z"
        }
      }
    }
  ],
  "metadata": {
    "kernel_info": {
      "name": "python3"
    },
    "language_info": {
      "name": "python",
      "version": "3.6.13",
      "mimetype": "text/x-python",
      "codemirror_mode": {
        "name": "ipython",
        "version": 3
      },
      "pygments_lexer": "ipython3",
      "nbconvert_exporter": "python",
      "file_extension": ".py"
    },
    "kernelspec": {
      "argv": [
        "C:/Users/Tin Hang/Anaconda3\\python.exe",
        "-m",
        "ipykernel_launcher",
        "-f",
        "{connection_file}"
      ],
      "display_name": "Python 3",
      "language": "python",
      "name": "python3"
    },
    "nteract": {
      "version": "0.28.0"
    }
  },
  "nbformat": 4,
  "nbformat_minor": 0
}