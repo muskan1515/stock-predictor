{
  "cells": [
    {
      "cell_type": "markdown",
      "source": [
        "# Pytorch Linear Regression"
      ],
      "metadata": {
        "nteract": {
          "transient": {
            "deleting": false
          }
        }
      }
    },
    {
      "cell_type": "code",
      "source": [
        "import numpy as np\n",
        "import matplotlib.pyplot as plt\n",
        "import pandas as pd\n",
        "\n",
        "import warnings\n",
        "warnings.filterwarnings(\"ignore\")\n",
        "\n",
        "import yfinance as yf\n",
        "yf.pdr_override()"
      ],
      "outputs": [],
      "execution_count": 1,
      "metadata": {
        "collapsed": true,
        "jupyter": {
          "source_hidden": false,
          "outputs_hidden": false
        },
        "nteract": {
          "transient": {
            "deleting": false
          }
        },
        "execution": {
          "iopub.status.busy": "2022-07-21T00:12:37.769Z",
          "iopub.execute_input": "2022-07-21T00:12:37.773Z",
          "iopub.status.idle": "2022-07-21T00:12:37.872Z",
          "shell.execute_reply": "2022-07-21T00:12:37.898Z"
        }
      }
    },
    {
      "cell_type": "code",
      "source": [
        "# input\n",
        "symbol = 'AMD'\n",
        "start = '2014-01-01'\n",
        "end = '2018-08-27'\n",
        "\n",
        "# Read data \n",
        "dataset = yf.download(symbol,start,end)\n",
        "\n",
        "# View Columns\n",
        "dataset.head()"
      ],
      "outputs": [
        {
          "output_type": "stream",
          "name": "stdout",
          "text": [
            "[*********************100%***********************]  1 of 1 completed\n"
          ]
        },
        {
          "output_type": "execute_result",
          "execution_count": 2,
          "data": {
            "text/plain": "            Open  High   Low  Close  Adj Close    Volume\nDate                                                    \n2014-01-02  3.85  3.98  3.84   3.95       3.95  20548400\n2014-01-03  3.98  4.00  3.88   4.00       4.00  22887200\n2014-01-06  4.01  4.18  3.99   4.13       4.13  42398300\n2014-01-07  4.19  4.25  4.11   4.18       4.18  42932100\n2014-01-08  4.23  4.26  4.14   4.18       4.18  30678700",
            "text/html": "<div>\n<style scoped>\n    .dataframe tbody tr th:only-of-type {\n        vertical-align: middle;\n    }\n\n    .dataframe tbody tr th {\n        vertical-align: top;\n    }\n\n    .dataframe thead th {\n        text-align: right;\n    }\n</style>\n<table border=\"1\" class=\"dataframe\">\n  <thead>\n    <tr style=\"text-align: right;\">\n      <th></th>\n      <th>Open</th>\n      <th>High</th>\n      <th>Low</th>\n      <th>Close</th>\n      <th>Adj Close</th>\n      <th>Volume</th>\n    </tr>\n    <tr>\n      <th>Date</th>\n      <th></th>\n      <th></th>\n      <th></th>\n      <th></th>\n      <th></th>\n      <th></th>\n    </tr>\n  </thead>\n  <tbody>\n    <tr>\n      <th>2014-01-02</th>\n      <td>3.85</td>\n      <td>3.98</td>\n      <td>3.84</td>\n      <td>3.95</td>\n      <td>3.95</td>\n      <td>20548400</td>\n    </tr>\n    <tr>\n      <th>2014-01-03</th>\n      <td>3.98</td>\n      <td>4.00</td>\n      <td>3.88</td>\n      <td>4.00</td>\n      <td>4.00</td>\n      <td>22887200</td>\n    </tr>\n    <tr>\n      <th>2014-01-06</th>\n      <td>4.01</td>\n      <td>4.18</td>\n      <td>3.99</td>\n      <td>4.13</td>\n      <td>4.13</td>\n      <td>42398300</td>\n    </tr>\n    <tr>\n      <th>2014-01-07</th>\n      <td>4.19</td>\n      <td>4.25</td>\n      <td>4.11</td>\n      <td>4.18</td>\n      <td>4.18</td>\n      <td>42932100</td>\n    </tr>\n    <tr>\n      <th>2014-01-08</th>\n      <td>4.23</td>\n      <td>4.26</td>\n      <td>4.14</td>\n      <td>4.18</td>\n      <td>4.18</td>\n      <td>30678700</td>\n    </tr>\n  </tbody>\n</table>\n</div>"
          },
          "metadata": {}
        }
      ],
      "execution_count": 2,
      "metadata": {
        "collapsed": true,
        "jupyter": {
          "source_hidden": false,
          "outputs_hidden": false
        },
        "nteract": {
          "transient": {
            "deleting": false
          }
        },
        "execution": {
          "iopub.status.busy": "2022-07-21T00:12:37.879Z",
          "iopub.execute_input": "2022-07-21T00:12:37.884Z",
          "iopub.status.idle": "2022-07-21T00:12:38.500Z",
          "shell.execute_reply": "2022-07-21T00:12:38.620Z"
        }
      }
    },
    {
      "cell_type": "code",
      "source": [
        "dataset['Increase_Decrease'] = np.where(dataset['Volume'].shift(-1) > dataset['Volume'],1,0)\n",
        "dataset['Buy_Sell_on_Open'] = np.where(dataset['Open'].shift(-1) > dataset['Open'],1,0)\n",
        "dataset['Buy_Sell'] = np.where(dataset['Adj Close'].shift(-1) > dataset['Adj Close'],1,0)\n",
        "dataset['Returns'] = dataset['Adj Close'].pct_change()\n",
        "dataset = dataset.dropna()"
      ],
      "outputs": [],
      "execution_count": 3,
      "metadata": {
        "collapsed": true,
        "jupyter": {
          "source_hidden": false,
          "outputs_hidden": false
        },
        "nteract": {
          "transient": {
            "deleting": false
          }
        },
        "execution": {
          "iopub.status.busy": "2022-07-21T00:12:38.507Z",
          "iopub.execute_input": "2022-07-21T00:12:38.511Z",
          "iopub.status.idle": "2022-07-21T00:12:38.520Z",
          "shell.execute_reply": "2022-07-21T00:12:38.624Z"
        }
      }
    },
    {
      "cell_type": "code",
      "source": [
        "dataset.head()"
      ],
      "outputs": [
        {
          "output_type": "execute_result",
          "execution_count": 4,
          "data": {
            "text/plain": "            Open  High   Low  Close  Adj Close    Volume  Increase_Decrease  \\\nDate                                                                          \n2014-01-03  3.98  4.00  3.88   4.00       4.00  22887200                  1   \n2014-01-06  4.01  4.18  3.99   4.13       4.13  42398300                  1   \n2014-01-07  4.19  4.25  4.11   4.18       4.18  42932100                  0   \n2014-01-08  4.23  4.26  4.14   4.18       4.18  30678700                  0   \n2014-01-09  4.20  4.23  4.05   4.09       4.09  30667600                  0   \n\n            Buy_Sell_on_Open  Buy_Sell   Returns  \nDate                                              \n2014-01-03                 1         1  0.012658  \n2014-01-06                 1         1  0.032500  \n2014-01-07                 1         0  0.012106  \n2014-01-08                 0         0  0.000000  \n2014-01-09                 0         1 -0.021531  ",
            "text/html": "<div>\n<style scoped>\n    .dataframe tbody tr th:only-of-type {\n        vertical-align: middle;\n    }\n\n    .dataframe tbody tr th {\n        vertical-align: top;\n    }\n\n    .dataframe thead th {\n        text-align: right;\n    }\n</style>\n<table border=\"1\" class=\"dataframe\">\n  <thead>\n    <tr style=\"text-align: right;\">\n      <th></th>\n      <th>Open</th>\n      <th>High</th>\n      <th>Low</th>\n      <th>Close</th>\n      <th>Adj Close</th>\n      <th>Volume</th>\n      <th>Increase_Decrease</th>\n      <th>Buy_Sell_on_Open</th>\n      <th>Buy_Sell</th>\n      <th>Returns</th>\n    </tr>\n    <tr>\n      <th>Date</th>\n      <th></th>\n      <th></th>\n      <th></th>\n      <th></th>\n      <th></th>\n      <th></th>\n      <th></th>\n      <th></th>\n      <th></th>\n      <th></th>\n    </tr>\n  </thead>\n  <tbody>\n    <tr>\n      <th>2014-01-03</th>\n      <td>3.98</td>\n      <td>4.00</td>\n      <td>3.88</td>\n      <td>4.00</td>\n      <td>4.00</td>\n      <td>22887200</td>\n      <td>1</td>\n      <td>1</td>\n      <td>1</td>\n      <td>0.012658</td>\n    </tr>\n    <tr>\n      <th>2014-01-06</th>\n      <td>4.01</td>\n      <td>4.18</td>\n      <td>3.99</td>\n      <td>4.13</td>\n      <td>4.13</td>\n      <td>42398300</td>\n      <td>1</td>\n      <td>1</td>\n      <td>1</td>\n      <td>0.032500</td>\n    </tr>\n    <tr>\n      <th>2014-01-07</th>\n      <td>4.19</td>\n      <td>4.25</td>\n      <td>4.11</td>\n      <td>4.18</td>\n      <td>4.18</td>\n      <td>42932100</td>\n      <td>0</td>\n      <td>1</td>\n      <td>0</td>\n      <td>0.012106</td>\n    </tr>\n    <tr>\n      <th>2014-01-08</th>\n      <td>4.23</td>\n      <td>4.26</td>\n      <td>4.14</td>\n      <td>4.18</td>\n      <td>4.18</td>\n      <td>30678700</td>\n      <td>0</td>\n      <td>0</td>\n      <td>0</td>\n      <td>0.000000</td>\n    </tr>\n    <tr>\n      <th>2014-01-09</th>\n      <td>4.20</td>\n      <td>4.23</td>\n      <td>4.05</td>\n      <td>4.09</td>\n      <td>4.09</td>\n      <td>30667600</td>\n      <td>0</td>\n      <td>0</td>\n      <td>1</td>\n      <td>-0.021531</td>\n    </tr>\n  </tbody>\n</table>\n</div>"
          },
          "metadata": {}
        }
      ],
      "execution_count": 4,
      "metadata": {
        "collapsed": true,
        "jupyter": {
          "source_hidden": false,
          "outputs_hidden": false
        },
        "nteract": {
          "transient": {
            "deleting": false
          }
        },
        "execution": {
          "iopub.status.busy": "2022-07-21T00:12:38.526Z",
          "iopub.execute_input": "2022-07-21T00:12:38.531Z",
          "iopub.status.idle": "2022-07-21T00:12:38.542Z",
          "shell.execute_reply": "2022-07-21T00:12:38.627Z"
        }
      }
    },
    {
      "cell_type": "code",
      "source": [
        "dataset.tail()"
      ],
      "outputs": [
        {
          "output_type": "execute_result",
          "execution_count": 5,
          "data": {
            "text/plain": "                 Open   High        Low      Close  Adj Close     Volume  \\\nDate                                                                       \n2018-08-20  19.790001  20.08  19.350000  19.980000  19.980000   62983200   \n2018-08-21  19.980000  20.42  19.860001  20.400000  20.400000   55629000   \n2018-08-22  20.280001  20.92  20.209999  20.900000  20.900000   62002700   \n2018-08-23  21.190001  22.32  21.139999  22.290001  22.290001  113444100   \n2018-08-24  22.910000  24.00  22.670000  23.980000  23.980000  164328200   \n\n            Increase_Decrease  Buy_Sell_on_Open  Buy_Sell   Returns  \nDate                                                                 \n2018-08-20                  0                 1         1  0.010622  \n2018-08-21                  1                 1         1  0.021021  \n2018-08-22                  1                 1         1  0.024510  \n2018-08-23                  1                 1         1  0.066507  \n2018-08-24                  0                 0         0  0.075819  ",
            "text/html": "<div>\n<style scoped>\n    .dataframe tbody tr th:only-of-type {\n        vertical-align: middle;\n    }\n\n    .dataframe tbody tr th {\n        vertical-align: top;\n    }\n\n    .dataframe thead th {\n        text-align: right;\n    }\n</style>\n<table border=\"1\" class=\"dataframe\">\n  <thead>\n    <tr style=\"text-align: right;\">\n      <th></th>\n      <th>Open</th>\n      <th>High</th>\n      <th>Low</th>\n      <th>Close</th>\n      <th>Adj Close</th>\n      <th>Volume</th>\n      <th>Increase_Decrease</th>\n      <th>Buy_Sell_on_Open</th>\n      <th>Buy_Sell</th>\n      <th>Returns</th>\n    </tr>\n    <tr>\n      <th>Date</th>\n      <th></th>\n      <th></th>\n      <th></th>\n      <th></th>\n      <th></th>\n      <th></th>\n      <th></th>\n      <th></th>\n      <th></th>\n      <th></th>\n    </tr>\n  </thead>\n  <tbody>\n    <tr>\n      <th>2018-08-20</th>\n      <td>19.790001</td>\n      <td>20.08</td>\n      <td>19.350000</td>\n      <td>19.980000</td>\n      <td>19.980000</td>\n      <td>62983200</td>\n      <td>0</td>\n      <td>1</td>\n      <td>1</td>\n      <td>0.010622</td>\n    </tr>\n    <tr>\n      <th>2018-08-21</th>\n      <td>19.980000</td>\n      <td>20.42</td>\n      <td>19.860001</td>\n      <td>20.400000</td>\n      <td>20.400000</td>\n      <td>55629000</td>\n      <td>1</td>\n      <td>1</td>\n      <td>1</td>\n      <td>0.021021</td>\n    </tr>\n    <tr>\n      <th>2018-08-22</th>\n      <td>20.280001</td>\n      <td>20.92</td>\n      <td>20.209999</td>\n      <td>20.900000</td>\n      <td>20.900000</td>\n      <td>62002700</td>\n      <td>1</td>\n      <td>1</td>\n      <td>1</td>\n      <td>0.024510</td>\n    </tr>\n    <tr>\n      <th>2018-08-23</th>\n      <td>21.190001</td>\n      <td>22.32</td>\n      <td>21.139999</td>\n      <td>22.290001</td>\n      <td>22.290001</td>\n      <td>113444100</td>\n      <td>1</td>\n      <td>1</td>\n      <td>1</td>\n      <td>0.066507</td>\n    </tr>\n    <tr>\n      <th>2018-08-24</th>\n      <td>22.910000</td>\n      <td>24.00</td>\n      <td>22.670000</td>\n      <td>23.980000</td>\n      <td>23.980000</td>\n      <td>164328200</td>\n      <td>0</td>\n      <td>0</td>\n      <td>0</td>\n      <td>0.075819</td>\n    </tr>\n  </tbody>\n</table>\n</div>"
          },
          "metadata": {}
        }
      ],
      "execution_count": 5,
      "metadata": {
        "collapsed": true,
        "jupyter": {
          "source_hidden": false,
          "outputs_hidden": false
        },
        "nteract": {
          "transient": {
            "deleting": false
          }
        },
        "execution": {
          "shell.execute_reply": "2022-07-21T00:12:38.630Z",
          "iopub.status.busy": "2022-07-21T00:12:38.550Z",
          "iopub.execute_input": "2022-07-21T00:12:38.555Z",
          "iopub.status.idle": "2022-07-21T00:12:38.567Z"
        }
      }
    },
    {
      "cell_type": "code",
      "source": [
        "dataset.shape"
      ],
      "outputs": [
        {
          "output_type": "execute_result",
          "execution_count": 6,
          "data": {
            "text/plain": "(1170, 10)"
          },
          "metadata": {}
        }
      ],
      "execution_count": 6,
      "metadata": {
        "collapsed": true,
        "jupyter": {
          "source_hidden": false,
          "outputs_hidden": false
        },
        "nteract": {
          "transient": {
            "deleting": false
          }
        },
        "execution": {
          "iopub.status.busy": "2022-07-21T00:12:38.574Z",
          "iopub.execute_input": "2022-07-21T00:12:38.579Z",
          "iopub.status.idle": "2022-07-21T00:12:38.589Z",
          "shell.execute_reply": "2022-07-21T00:12:38.632Z"
        }
      }
    },
    {
      "cell_type": "code",
      "source": [
        "import torch\n",
        "import torch.nn as nn\n",
        "\n",
        "X = torch.Tensor(dataset[['Open']].values)\n",
        "y = torch.Tensor(dataset[['Adj Close']].values)"
      ],
      "outputs": [],
      "execution_count": 7,
      "metadata": {
        "collapsed": true,
        "jupyter": {
          "source_hidden": false,
          "outputs_hidden": false
        },
        "nteract": {
          "transient": {
            "deleting": false
          }
        },
        "execution": {
          "iopub.status.busy": "2022-07-21T00:12:38.595Z",
          "iopub.execute_input": "2022-07-21T00:12:38.599Z",
          "iopub.status.idle": "2022-07-21T00:12:39.470Z",
          "shell.execute_reply": "2022-07-21T00:12:39.646Z"
        }
      }
    },
    {
      "cell_type": "code",
      "source": [
        "x_train = np.array(X, dtype=np.float32)\n",
        "x_train.shape"
      ],
      "outputs": [
        {
          "output_type": "execute_result",
          "execution_count": 8,
          "data": {
            "text/plain": "(1170, 1)"
          },
          "metadata": {}
        }
      ],
      "execution_count": 8,
      "metadata": {
        "collapsed": true,
        "jupyter": {
          "source_hidden": false,
          "outputs_hidden": false
        },
        "nteract": {
          "transient": {
            "deleting": false
          }
        },
        "execution": {
          "iopub.status.busy": "2022-07-21T00:12:39.477Z",
          "iopub.execute_input": "2022-07-21T00:12:39.482Z",
          "iopub.status.idle": "2022-07-21T00:12:39.491Z",
          "shell.execute_reply": "2022-07-21T00:12:39.649Z"
        }
      }
    },
    {
      "cell_type": "code",
      "source": [
        "y_train = np.array(y, dtype=np.float32)\n",
        "y_train.shape"
      ],
      "outputs": [
        {
          "output_type": "execute_result",
          "execution_count": 9,
          "data": {
            "text/plain": "(1170, 1)"
          },
          "metadata": {}
        }
      ],
      "execution_count": 9,
      "metadata": {
        "collapsed": true,
        "jupyter": {
          "source_hidden": false,
          "outputs_hidden": false
        },
        "nteract": {
          "transient": {
            "deleting": false
          }
        },
        "execution": {
          "iopub.status.busy": "2022-07-21T00:12:39.498Z",
          "iopub.execute_input": "2022-07-21T00:12:39.503Z",
          "iopub.status.idle": "2022-07-21T00:12:39.513Z",
          "shell.execute_reply": "2022-07-21T00:12:39.652Z"
        }
      }
    },
    {
      "cell_type": "code",
      "source": [
        "class LinearRegressionModel(nn.Module):\n",
        "    def __init__(self, input_dim, output_dim):\n",
        "        super(LinearRegressionModel, self).__init__()\n",
        "        self.linear = nn.Linear(input_dim, output_dim)  \n",
        "\n",
        "    def forward(self, x):\n",
        "        out = self.linear(x)\n",
        "        return out"
      ],
      "outputs": [],
      "execution_count": 10,
      "metadata": {
        "collapsed": true,
        "jupyter": {
          "source_hidden": false,
          "outputs_hidden": false
        },
        "nteract": {
          "transient": {
            "deleting": false
          }
        },
        "execution": {
          "iopub.status.busy": "2022-07-21T00:12:39.519Z",
          "iopub.execute_input": "2022-07-21T00:12:39.523Z",
          "iopub.status.idle": "2022-07-21T00:12:39.530Z",
          "shell.execute_reply": "2022-07-21T00:12:39.656Z"
        }
      }
    },
    {
      "cell_type": "code",
      "source": [
        "input_dim = 1\n",
        "output_dim = 1\n",
        "\n",
        "model = LinearRegressionModel(input_dim, output_dim)"
      ],
      "outputs": [],
      "execution_count": 11,
      "metadata": {
        "collapsed": true,
        "jupyter": {
          "source_hidden": false,
          "outputs_hidden": false
        },
        "nteract": {
          "transient": {
            "deleting": false
          }
        },
        "execution": {
          "iopub.status.busy": "2022-07-21T00:12:39.536Z",
          "iopub.execute_input": "2022-07-21T00:12:39.541Z",
          "iopub.status.idle": "2022-07-21T00:12:39.549Z",
          "shell.execute_reply": "2022-07-21T00:12:39.659Z"
        }
      }
    },
    {
      "cell_type": "code",
      "source": [
        "criterion = nn.MSELoss()"
      ],
      "outputs": [],
      "execution_count": 12,
      "metadata": {
        "collapsed": true,
        "jupyter": {
          "source_hidden": false,
          "outputs_hidden": false
        },
        "nteract": {
          "transient": {
            "deleting": false
          }
        },
        "execution": {
          "iopub.status.busy": "2022-07-21T00:12:39.556Z",
          "iopub.execute_input": "2022-07-21T00:12:39.560Z",
          "iopub.status.idle": "2022-07-21T00:12:39.569Z",
          "shell.execute_reply": "2022-07-21T00:12:39.663Z"
        }
      }
    },
    {
      "cell_type": "code",
      "source": [
        "learning_rate = 0.01\n",
        "\n",
        "optimizer = torch.optim.SGD(model.parameters(), lr=learning_rate)"
      ],
      "outputs": [],
      "execution_count": 13,
      "metadata": {
        "collapsed": true,
        "jupyter": {
          "source_hidden": false,
          "outputs_hidden": false
        },
        "nteract": {
          "transient": {
            "deleting": false
          }
        },
        "execution": {
          "iopub.status.busy": "2022-07-21T00:12:39.578Z",
          "iopub.execute_input": "2022-07-21T00:12:39.584Z",
          "iopub.status.idle": "2022-07-21T00:12:39.591Z",
          "shell.execute_reply": "2022-07-21T00:12:39.666Z"
        }
      }
    },
    {
      "cell_type": "code",
      "source": [
        "epochs = 100"
      ],
      "outputs": [],
      "execution_count": 14,
      "metadata": {
        "collapsed": true,
        "jupyter": {
          "source_hidden": false,
          "outputs_hidden": false
        },
        "nteract": {
          "transient": {
            "deleting": false
          }
        },
        "execution": {
          "iopub.status.busy": "2022-07-21T00:12:39.597Z",
          "iopub.execute_input": "2022-07-21T00:12:39.603Z",
          "iopub.status.idle": "2022-07-21T00:12:39.613Z",
          "shell.execute_reply": "2022-07-21T00:12:39.670Z"
        }
      }
    },
    {
      "cell_type": "code",
      "source": [
        "for epoch in range(epochs):\n",
        "    epoch += 1\n",
        "    # Convert numpy array to torch Variable\n",
        "    inputs = torch.from_numpy(x_train).requires_grad_()\n",
        "    labels = torch.from_numpy(y_train)\n",
        "\n",
        "    # Clear gradients w.r.t. parameters\n",
        "    optimizer.zero_grad() \n",
        "\n",
        "    # Forward to get output\n",
        "    outputs = model(inputs)\n",
        "\n",
        "    # Calculate Loss\n",
        "    loss = criterion(outputs, labels)\n",
        "\n",
        "    # Getting gradients w.r.t. parameters\n",
        "    loss.backward()\n",
        "\n",
        "    # Updating parameters\n",
        "    optimizer.step()\n",
        "\n",
        "    print('epoch {}, loss {}'.format(epoch, loss.item()))"
      ],
      "outputs": [
        {
          "output_type": "stream",
          "name": "stdout",
          "text": [
            "epoch 1, loss 0.5020267367362976\n",
            "epoch 2, loss 0.25242939591407776\n",
            "epoch 3, loss 0.19715286791324615\n",
            "epoch 4, loss 0.1839243620634079\n",
            "epoch 5, loss 0.17980721592903137\n",
            "epoch 6, loss 0.17767709493637085\n",
            "epoch 7, loss 0.17599248886108398\n",
            "epoch 8, loss 0.1744200885295868\n",
            "epoch 9, loss 0.1728873997926712\n",
            "epoch 10, loss 0.1713785082101822\n",
            "epoch 11, loss 0.16988997161388397\n",
            "epoch 12, loss 0.1684207171201706\n",
            "epoch 13, loss 0.1669703722000122\n",
            "epoch 14, loss 0.16553857922554016\n",
            "epoch 15, loss 0.16412518918514252\n",
            "epoch 16, loss 0.1627298891544342\n",
            "epoch 17, loss 0.1613524705171585\n",
            "epoch 18, loss 0.1599927842617035\n",
            "epoch 19, loss 0.1586504876613617\n",
            "epoch 20, loss 0.15732528269290924\n",
            "epoch 21, loss 0.1560172289609909\n",
            "epoch 22, loss 0.1547258198261261\n",
            "epoch 23, loss 0.1534510999917984\n",
            "epoch 24, loss 0.15219268202781677\n",
            "epoch 25, loss 0.1509503722190857\n",
            "epoch 26, loss 0.14972400665283203\n",
            "epoch 27, loss 0.1485133171081543\n",
            "epoch 28, loss 0.14731822907924652\n",
            "epoch 29, loss 0.14613832533359528\n",
            "epoch 30, loss 0.14497369527816772\n",
            "epoch 31, loss 0.1438239961862564\n",
            "epoch 32, loss 0.14268890023231506\n",
            "epoch 33, loss 0.14156857132911682\n",
            "epoch 34, loss 0.14046242833137512\n",
            "epoch 35, loss 0.13937059044837952\n",
            "epoch 36, loss 0.13829267024993896\n",
            "epoch 37, loss 0.1372285634279251\n",
            "epoch 38, loss 0.136178120970726\n",
            "epoch 39, loss 0.13514119386672974\n",
            "epoch 40, loss 0.1341174989938736\n",
            "epoch 41, loss 0.13310690224170685\n",
            "epoch 42, loss 0.13210932910442352\n",
            "epoch 43, loss 0.13112454116344452\n",
            "epoch 44, loss 0.1301523745059967\n",
            "epoch 45, loss 0.12919269502162933\n",
            "epoch 46, loss 0.1282452642917633\n",
            "epoch 47, loss 0.12731002271175385\n",
            "epoch 48, loss 0.12638674676418304\n",
            "epoch 49, loss 0.12547531723976135\n",
            "epoch 50, loss 0.12457560002803802\n",
            "epoch 51, loss 0.12368734925985336\n",
            "epoch 52, loss 0.12281060218811035\n",
            "epoch 53, loss 0.12194497883319855\n",
            "epoch 54, loss 0.12109047919511795\n",
            "epoch 55, loss 0.1202469915151596\n",
            "epoch 56, loss 0.11941429227590561\n",
            "epoch 57, loss 0.1185922771692276\n",
            "epoch 58, loss 0.11778078973293304\n",
            "epoch 59, loss 0.11697962880134583\n",
            "epoch 60, loss 0.11618884652853012\n",
            "epoch 61, loss 0.11540816724300385\n",
            "epoch 62, loss 0.11463752388954163\n",
            "epoch 63, loss 0.11387672275304794\n",
            "epoch 64, loss 0.11312571167945862\n",
            "epoch 65, loss 0.11238440126180649\n",
            "epoch 66, loss 0.11165245622396469\n",
            "epoch 67, loss 0.11092997342348099\n",
            "epoch 68, loss 0.1102166622877121\n",
            "epoch 69, loss 0.10951258987188339\n",
            "epoch 70, loss 0.10881751775741577\n",
            "epoch 71, loss 0.10813140124082565\n",
            "epoch 72, loss 0.10745398700237274\n",
            "epoch 73, loss 0.1067853644490242\n",
            "epoch 74, loss 0.10612522810697556\n",
            "epoch 75, loss 0.1054735779762268\n",
            "epoch 76, loss 0.104830302298069\n",
            "epoch 77, loss 0.10419531166553497\n",
            "epoch 78, loss 0.10356834530830383\n",
            "epoch 79, loss 0.10294948518276215\n",
            "epoch 80, loss 0.10233858972787857\n",
            "epoch 81, loss 0.10173548758029938\n",
            "epoch 82, loss 0.10114015638828278\n",
            "epoch 83, loss 0.10055241733789444\n",
            "epoch 84, loss 0.09997223317623138\n",
            "epoch 85, loss 0.09939948469400406\n",
            "epoch 86, loss 0.0988340824842453\n",
            "epoch 87, loss 0.09827595204114914\n",
            "epoch 88, loss 0.09772491455078125\n",
            "epoch 89, loss 0.0971810519695282\n",
            "epoch 90, loss 0.09664404392242432\n",
            "epoch 91, loss 0.09611400216817856\n",
            "epoch 92, loss 0.09559071063995361\n",
            "epoch 93, loss 0.0950741246342659\n",
            "epoch 94, loss 0.09456422924995422\n",
            "epoch 95, loss 0.09406080842018127\n",
            "epoch 96, loss 0.09356381744146347\n",
            "epoch 97, loss 0.093073271214962\n",
            "epoch 98, loss 0.09258896112442017\n",
            "epoch 99, loss 0.09211090952157974\n",
            "epoch 100, loss 0.0916389599442482\n"
          ]
        }
      ],
      "execution_count": 15,
      "metadata": {
        "collapsed": true,
        "jupyter": {
          "source_hidden": false,
          "outputs_hidden": false
        },
        "nteract": {
          "transient": {
            "deleting": false
          }
        },
        "execution": {
          "iopub.status.busy": "2022-07-21T00:12:39.620Z",
          "iopub.execute_input": "2022-07-21T00:12:39.625Z",
          "shell.execute_reply": "2022-07-21T00:12:39.673Z",
          "iopub.status.idle": "2022-07-21T00:12:39.679Z"
        }
      }
    },
    {
      "cell_type": "code",
      "source": [
        "predicted = model(torch.from_numpy(x_train).requires_grad_()).data.numpy()\n",
        "predicted"
      ],
      "outputs": [
        {
          "output_type": "execute_result",
          "execution_count": 16,
          "data": {
            "text/plain": "array([[ 3.7770548],\n       [ 3.8080235],\n       [ 3.993832 ],\n       ...,\n       [20.60309  ],\n       [21.542458 ],\n       [23.317965 ]], dtype=float32)"
          },
          "metadata": {}
        }
      ],
      "execution_count": 16,
      "metadata": {
        "collapsed": true,
        "jupyter": {
          "source_hidden": false,
          "outputs_hidden": false
        },
        "nteract": {
          "transient": {
            "deleting": false
          }
        },
        "execution": {
          "iopub.status.busy": "2022-07-21T00:13:40.315Z",
          "iopub.execute_input": "2022-07-21T00:13:40.322Z",
          "iopub.status.idle": "2022-07-21T00:13:40.337Z",
          "shell.execute_reply": "2022-07-21T00:13:40.344Z"
        }
      }
    },
    {
      "cell_type": "code",
      "source": [
        "y_train"
      ],
      "outputs": [
        {
          "output_type": "execute_result",
          "execution_count": 17,
          "data": {
            "text/plain": "array([[ 4.  ],\n       [ 4.13],\n       [ 4.18],\n       ...,\n       [20.9 ],\n       [22.29],\n       [23.98]], dtype=float32)"
          },
          "metadata": {}
        }
      ],
      "execution_count": 17,
      "metadata": {
        "collapsed": true,
        "jupyter": {
          "source_hidden": false,
          "outputs_hidden": false
        },
        "nteract": {
          "transient": {
            "deleting": false
          }
        },
        "execution": {
          "iopub.status.busy": "2022-07-21T00:13:41.799Z",
          "iopub.execute_input": "2022-07-21T00:13:41.807Z",
          "iopub.status.idle": "2022-07-21T00:13:41.820Z",
          "shell.execute_reply": "2022-07-21T00:13:41.831Z"
        }
      }
    },
    {
      "cell_type": "code",
      "source": [
        "plt.clf()\n",
        "\n",
        "# Get predictions\n",
        "predicted = model(torch.from_numpy(x_train).requires_grad_()).data.numpy()\n",
        "\n",
        "# Plot true data\n",
        "plt.plot(x_train, y_train, 'go', label='True data', alpha=0.5)\n",
        "\n",
        "# Plot predictions\n",
        "plt.plot(x_train, predicted, '--', label='Predictions', alpha=0.5)\n",
        "\n",
        "# Legend and plot\n",
        "plt.legend(loc='best')\n",
        "plt.show()"
      ],
      "outputs": [
        {
          "output_type": "display_data",
          "data": {
            "text/plain": "<Figure size 432x288 with 1 Axes>",
            "image/png": "[encoded data removed]"
          },
          "metadata": {
            "needs_background": "light"
          }
        }
      ],
      "execution_count": 18,
      "metadata": {
        "collapsed": true,
        "jupyter": {
          "source_hidden": false,
          "outputs_hidden": false
        },
        "nteract": {
          "transient": {
            "deleting": false
          }
        },
        "execution": {
          "iopub.status.busy": "2022-07-21T00:13:43.368Z",
          "iopub.execute_input": "2022-07-21T00:13:43.375Z",
          "iopub.status.idle": "2022-07-21T00:13:43.587Z",
          "shell.execute_reply": "2022-07-21T00:13:43.594Z"
        }
      }
    },
    {
      "cell_type": "code",
      "source": [
        "y_pred = model(torch.tensor([[22.290001]], dtype=torch.float32)).detach()\n",
        "y_pred.item()"
      ],
      "outputs": [
        {
          "output_type": "execute_result",
          "execution_count": 19,
          "data": {
            "text/plain": "22.67795753479004"
          },
          "metadata": {}
        }
      ],
      "execution_count": 19,
      "metadata": {
        "collapsed": true,
        "jupyter": {
          "source_hidden": false,
          "outputs_hidden": false
        },
        "nteract": {
          "transient": {
            "deleting": false
          }
        },
        "execution": {
          "iopub.status.busy": "2022-07-21T00:21:20.045Z",
          "iopub.execute_input": "2022-07-21T00:21:20.052Z",
          "iopub.status.idle": "2022-07-21T00:21:20.067Z",
          "shell.execute_reply": "2022-07-21T00:21:20.078Z"
        }
      }
    }
  ],
  "metadata": {
    "kernel_info": {
      "name": "python3"
    },
    "language_info": {
      "name": "python",
      "version": "3.6.13",
      "mimetype": "text/x-python",
      "codemirror_mode": {
        "name": "ipython",
        "version": 3
      },
      "pygments_lexer": "ipython3",
      "nbconvert_exporter": "python",
      "file_extension": ".py"
    },
    "kernelspec": {
      "argv": [
        "C:/Users/Tin Hang/Anaconda3\\python.exe",
        "-m",
        "ipykernel_launcher",
        "-f",
        "{connection_file}"
      ],
      "display_name": "Python 3",
      "language": "python",
      "name": "python3"
    },
    "nteract": {
      "version": "0.28.0"
    }
  },
  "nbformat": 4,
  "nbformat_minor": 0
}