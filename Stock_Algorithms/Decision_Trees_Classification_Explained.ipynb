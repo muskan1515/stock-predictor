{
  "cells": [
    {
      "cell_type": "markdown",
      "source": [
        "# Decision Trees for Classification Explained "
      ],
      "metadata": {}
    },
    {
      "cell_type": "markdown",
      "source": [
        "#### Build Decision Tree in classification and regression algorithm to build a model."
      ],
      "metadata": {
        "inputHidden": false,
        "outputHidden": false
      }
    },
    {
      "cell_type": "code",
      "source": [
        "import numpy as np\n",
        "import matplotlib.pyplot as plt\n",
        "import pandas as pd\n",
        "\n",
        "import warnings\n",
        "warnings.filterwarnings(\"ignore\")\n",
        "\n",
        "# yahoo finance is used to fetch data \n",
        "import yfinance as yf\n",
        "yf.pdr_override()"
      ],
      "outputs": [],
      "execution_count": 1,
      "metadata": {
        "collapsed": false,
        "execution": {
          "iopub.execute_input": "2021-09-07T16:56:19.980Z",
          "iopub.status.busy": "2021-09-07T16:56:19.972Z",
          "iopub.status.idle": "2021-09-07T16:56:19.987Z",
          "shell.execute_reply": "2021-09-07T16:56:19.923Z"
        },
        "inputHidden": false,
        "jupyter": {
          "outputs_hidden": false
        },
        "outputHidden": false
      }
    },
    {
      "cell_type": "markdown",
      "source": [
        "#### Getting the histocial data from yahoo finance"
      ],
      "metadata": {
        "nteract": {
          "transient": {
            "deleting": false
          }
        }
      }
    },
    {
      "cell_type": "code",
      "source": [
        "# input\n",
        "symbol = 'AMD'\n",
        "start = '2012-01-01'\n",
        "end = '2021-09-05'\n",
        "\n",
        "# Read data \n",
        "dataset = yf.download(symbol,start,end)\n",
        "\n",
        "# View Columns\n",
        "dataset.head()"
      ],
      "outputs": [
        {
          "output_type": "stream",
          "name": "stdout",
          "text": [
            "[*********************100%***********************]  1 of 1 completed\n"
          ]
        },
        {
          "output_type": "execute_result",
          "execution_count": 2,
          "data": {
            "text/plain": "            Open  High   Low  Close  Adj Close    Volume\nDate                                                    \n2012-01-03  5.53  5.59  5.44   5.48       5.48  12675100\n2012-01-04  5.47  5.49  5.41   5.46       5.46   8034900\n2012-01-05  5.45  5.57  5.35   5.46       5.46  11476900\n2012-01-06  5.44  5.52  5.39   5.43       5.43  12938600\n2012-01-09  5.42  5.60  5.38   5.59       5.59  12585400",
            "text/html": "<div>\n<style scoped>\n    .dataframe tbody tr th:only-of-type {\n        vertical-align: middle;\n    }\n\n    .dataframe tbody tr th {\n        vertical-align: top;\n    }\n\n    .dataframe thead th {\n        text-align: right;\n    }\n</style>\n<table border=\"1\" class=\"dataframe\">\n  <thead>\n    <tr style=\"text-align: right;\">\n      <th></th>\n      <th>Open</th>\n      <th>High</th>\n      <th>Low</th>\n      <th>Close</th>\n      <th>Adj Close</th>\n      <th>Volume</th>\n    </tr>\n    <tr>\n      <th>Date</th>\n      <th></th>\n      <th></th>\n      <th></th>\n      <th></th>\n      <th></th>\n      <th></th>\n    </tr>\n  </thead>\n  <tbody>\n    <tr>\n      <th>2012-01-03</th>\n      <td>5.53</td>\n      <td>5.59</td>\n      <td>5.44</td>\n      <td>5.48</td>\n      <td>5.48</td>\n      <td>12675100</td>\n    </tr>\n    <tr>\n      <th>2012-01-04</th>\n      <td>5.47</td>\n      <td>5.49</td>\n      <td>5.41</td>\n      <td>5.46</td>\n      <td>5.46</td>\n      <td>8034900</td>\n    </tr>\n    <tr>\n      <th>2012-01-05</th>\n      <td>5.45</td>\n      <td>5.57</td>\n      <td>5.35</td>\n      <td>5.46</td>\n      <td>5.46</td>\n      <td>11476900</td>\n    </tr>\n    <tr>\n      <th>2012-01-06</th>\n      <td>5.44</td>\n      <td>5.52</td>\n      <td>5.39</td>\n      <td>5.43</td>\n      <td>5.43</td>\n      <td>12938600</td>\n    </tr>\n    <tr>\n      <th>2012-01-09</th>\n      <td>5.42</td>\n      <td>5.60</td>\n      <td>5.38</td>\n      <td>5.59</td>\n      <td>5.59</td>\n      <td>12585400</td>\n    </tr>\n  </tbody>\n</table>\n</div>"
          },
          "metadata": {}
        }
      ],
      "execution_count": 2,
      "metadata": {
        "collapsed": false,
        "execution": {
          "iopub.execute_input": "2021-09-07T16:56:20.002Z",
          "iopub.status.busy": "2021-09-07T16:56:19.996Z",
          "iopub.status.idle": "2021-09-07T16:56:20.494Z",
          "shell.execute_reply": "2021-09-07T16:56:20.685Z"
        },
        "inputHidden": false,
        "jupyter": {
          "outputs_hidden": false
        },
        "outputHidden": false
      }
    },
    {
      "cell_type": "markdown",
      "source": [
        "#### Create more data"
      ],
      "metadata": {
        "nteract": {
          "transient": {
            "deleting": false
          }
        }
      }
    },
    {
      "cell_type": "code",
      "source": [
        "# Create more data\n",
        "dataset['Increase_Decrease'] = np.where(dataset['Volume'].shift(-1) > dataset['Volume'],1,-1)\n",
        "dataset['Buy_Sell_on_Open'] = np.where(dataset['Open'].shift(-1) > dataset['Open'],1,-1)\n",
        "dataset['Buy_Sell'] = np.where(dataset['Adj Close'].shift(-1) > dataset['Adj Close'],1,-1)\n",
        "dataset['Return'] = dataset['Adj Close'].pct_change()\n",
        "dataset = dataset.dropna()\n",
        "dataset['Up_Down'] = np.where(dataset['Return'].shift(-1) > dataset['Return'],'Up','Down')\n",
        "dataset.head()"
      ],
      "outputs": [
        {
          "output_type": "execute_result",
          "execution_count": 3,
          "data": {
            "text/plain": "            Open  High   Low  Close  Adj Close    Volume  Increase_Decrease  \\\nDate                                                                          \n2012-01-04  5.47  5.49  5.41   5.46       5.46   8034900                  1   \n2012-01-05  5.45  5.57  5.35   5.46       5.46  11476900                  1   \n2012-01-06  5.44  5.52  5.39   5.43       5.43  12938600                 -1   \n2012-01-09  5.42  5.60  5.38   5.59       5.59  12585400                 -1   \n2012-01-10  5.66  5.75  5.64   5.71       5.71  10129600                  1   \n\n            Buy_Sell_on_Open  Buy_Sell    Return Up_Down  \nDate                                                      \n2012-01-04                -1        -1 -0.003650      Up  \n2012-01-05                -1        -1  0.000000    Down  \n2012-01-06                -1         1 -0.005495      Up  \n2012-01-09                 1         1  0.029466    Down  \n2012-01-10                 1         1  0.021467    Down  ",
            "text/html": "<div>\n<style scoped>\n    .dataframe tbody tr th:only-of-type {\n        vertical-align: middle;\n    }\n\n    .dataframe tbody tr th {\n        vertical-align: top;\n    }\n\n    .dataframe thead th {\n        text-align: right;\n    }\n</style>\n<table border=\"1\" class=\"dataframe\">\n  <thead>\n    <tr style=\"text-align: right;\">\n      <th></th>\n      <th>Open</th>\n      <th>High</th>\n      <th>Low</th>\n      <th>Close</th>\n      <th>Adj Close</th>\n      <th>Volume</th>\n      <th>Increase_Decrease</th>\n      <th>Buy_Sell_on_Open</th>\n      <th>Buy_Sell</th>\n      <th>Return</th>\n      <th>Up_Down</th>\n    </tr>\n    <tr>\n      <th>Date</th>\n      <th></th>\n      <th></th>\n      <th></th>\n      <th></th>\n      <th></th>\n      <th></th>\n      <th></th>\n      <th></th>\n      <th></th>\n      <th></th>\n      <th></th>\n    </tr>\n  </thead>\n  <tbody>\n    <tr>\n      <th>2012-01-04</th>\n      <td>5.47</td>\n      <td>5.49</td>\n      <td>5.41</td>\n      <td>5.46</td>\n      <td>5.46</td>\n      <td>8034900</td>\n      <td>1</td>\n      <td>-1</td>\n      <td>-1</td>\n      <td>-0.003650</td>\n      <td>Up</td>\n    </tr>\n    <tr>\n      <th>2012-01-05</th>\n      <td>5.45</td>\n      <td>5.57</td>\n      <td>5.35</td>\n      <td>5.46</td>\n      <td>5.46</td>\n      <td>11476900</td>\n      <td>1</td>\n      <td>-1</td>\n      <td>-1</td>\n      <td>0.000000</td>\n      <td>Down</td>\n    </tr>\n    <tr>\n      <th>2012-01-06</th>\n      <td>5.44</td>\n      <td>5.52</td>\n      <td>5.39</td>\n      <td>5.43</td>\n      <td>5.43</td>\n      <td>12938600</td>\n      <td>-1</td>\n      <td>-1</td>\n      <td>1</td>\n      <td>-0.005495</td>\n      <td>Up</td>\n    </tr>\n    <tr>\n      <th>2012-01-09</th>\n      <td>5.42</td>\n      <td>5.60</td>\n      <td>5.38</td>\n      <td>5.59</td>\n      <td>5.59</td>\n      <td>12585400</td>\n      <td>-1</td>\n      <td>1</td>\n      <td>1</td>\n      <td>0.029466</td>\n      <td>Down</td>\n    </tr>\n    <tr>\n      <th>2012-01-10</th>\n      <td>5.66</td>\n      <td>5.75</td>\n      <td>5.64</td>\n      <td>5.71</td>\n      <td>5.71</td>\n      <td>10129600</td>\n      <td>1</td>\n      <td>1</td>\n      <td>1</td>\n      <td>0.021467</td>\n      <td>Down</td>\n    </tr>\n  </tbody>\n</table>\n</div>"
          },
          "metadata": {}
        }
      ],
      "execution_count": 3,
      "metadata": {
        "collapsed": false,
        "execution": {
          "iopub.execute_input": "2021-09-07T16:56:20.511Z",
          "iopub.status.busy": "2021-09-07T16:56:20.505Z",
          "iopub.status.idle": "2021-09-07T16:56:20.524Z",
          "shell.execute_reply": "2021-09-07T16:56:20.690Z"
        },
        "inputHidden": false,
        "jupyter": {
          "outputs_hidden": false
        },
        "outputHidden": false
      }
    },
    {
      "cell_type": "code",
      "source": [
        "dataset.shape"
      ],
      "outputs": [
        {
          "output_type": "execute_result",
          "execution_count": 4,
          "data": {
            "text/plain": "(2434, 11)"
          },
          "metadata": {}
        }
      ],
      "execution_count": 4,
      "metadata": {
        "collapsed": false,
        "execution": {
          "iopub.execute_input": "2021-09-07T16:56:20.539Z",
          "iopub.status.busy": "2021-09-07T16:56:20.533Z",
          "iopub.status.idle": "2021-09-07T16:56:20.553Z",
          "shell.execute_reply": "2021-09-07T16:56:20.695Z"
        },
        "inputHidden": false,
        "jupyter": {
          "outputs_hidden": false
        },
        "outputHidden": false
      }
    },
    {
      "cell_type": "code",
      "source": [
        "predictors_list = ['Open', 'High','Low', 'Adj Close', 'Return', 'Volume']\n",
        "X = dataset[predictors_list]\n",
        "X.tail()"
      ],
      "outputs": [
        {
          "output_type": "execute_result",
          "execution_count": 5,
          "data": {
            "text/plain": "                  Open        High         Low   Adj Close    Return    Volume\nDate                                                                          \n2021-08-30  112.610001  114.489998  111.260002  111.320000 -0.000718  56130500\n2021-08-31  111.260002  111.260002  109.029999  110.720001 -0.005390  49339000\n2021-09-01  111.300003  111.849998  109.849998  109.989998 -0.006593  38579600\n2021-09-02  110.320000  110.879997  108.769997  109.199997 -0.007182  40090500\n2021-09-03  108.849998  111.169998  108.500000  109.919998  0.006593  42605800",
            "text/html": "<div>\n<style scoped>\n    .dataframe tbody tr th:only-of-type {\n        vertical-align: middle;\n    }\n\n    .dataframe tbody tr th {\n        vertical-align: top;\n    }\n\n    .dataframe thead th {\n        text-align: right;\n    }\n</style>\n<table border=\"1\" class=\"dataframe\">\n  <thead>\n    <tr style=\"text-align: right;\">\n      <th></th>\n      <th>Open</th>\n      <th>High</th>\n      <th>Low</th>\n      <th>Adj Close</th>\n      <th>Return</th>\n      <th>Volume</th>\n    </tr>\n    <tr>\n      <th>Date</th>\n      <th></th>\n      <th></th>\n      <th></th>\n      <th></th>\n      <th></th>\n      <th></th>\n    </tr>\n  </thead>\n  <tbody>\n    <tr>\n      <th>2021-08-30</th>\n      <td>112.610001</td>\n      <td>114.489998</td>\n      <td>111.260002</td>\n      <td>111.320000</td>\n      <td>-0.000718</td>\n      <td>56130500</td>\n    </tr>\n    <tr>\n      <th>2021-08-31</th>\n      <td>111.260002</td>\n      <td>111.260002</td>\n      <td>109.029999</td>\n      <td>110.720001</td>\n      <td>-0.005390</td>\n      <td>49339000</td>\n    </tr>\n    <tr>\n      <th>2021-09-01</th>\n      <td>111.300003</td>\n      <td>111.849998</td>\n      <td>109.849998</td>\n      <td>109.989998</td>\n      <td>-0.006593</td>\n      <td>38579600</td>\n    </tr>\n    <tr>\n      <th>2021-09-02</th>\n      <td>110.320000</td>\n      <td>110.879997</td>\n      <td>108.769997</td>\n      <td>109.199997</td>\n      <td>-0.007182</td>\n      <td>40090500</td>\n    </tr>\n    <tr>\n      <th>2021-09-03</th>\n      <td>108.849998</td>\n      <td>111.169998</td>\n      <td>108.500000</td>\n      <td>109.919998</td>\n      <td>0.006593</td>\n      <td>42605800</td>\n    </tr>\n  </tbody>\n</table>\n</div>"
          },
          "metadata": {}
        }
      ],
      "execution_count": 5,
      "metadata": {
        "collapsed": true,
        "jupyter": {
          "source_hidden": false,
          "outputs_hidden": false
        },
        "nteract": {
          "transient": {
            "deleting": false
          }
        },
        "execution": {
          "iopub.status.busy": "2021-09-07T16:56:20.562Z",
          "iopub.execute_input": "2021-09-07T16:56:20.568Z",
          "iopub.status.idle": "2021-09-07T16:56:20.582Z",
          "shell.execute_reply": "2021-09-07T16:56:20.701Z"
        }
      }
    },
    {
      "cell_type": "code",
      "source": [
        "y = dataset['Buy_Sell']"
      ],
      "outputs": [],
      "execution_count": 6,
      "metadata": {
        "collapsed": false,
        "execution": {
          "iopub.execute_input": "2021-09-07T16:56:20.599Z",
          "iopub.status.busy": "2021-09-07T16:56:20.592Z",
          "iopub.status.idle": "2021-09-07T16:56:20.611Z",
          "shell.execute_reply": "2021-09-07T16:56:20.706Z"
        },
        "inputHidden": false,
        "jupyter": {
          "outputs_hidden": false
        },
        "outputHidden": false
      }
    },
    {
      "cell_type": "code",
      "source": [
        "y.name"
      ],
      "outputs": [
        {
          "output_type": "execute_result",
          "execution_count": 30,
          "data": {
            "text/plain": "'Buy_Sell'"
          },
          "metadata": {}
        }
      ],
      "execution_count": 30,
      "metadata": {
        "collapsed": true,
        "jupyter": {
          "source_hidden": false,
          "outputs_hidden": false
        },
        "nteract": {
          "transient": {
            "deleting": false
          }
        },
        "execution": {
          "iopub.status.busy": "2021-09-07T17:35:47.944Z",
          "iopub.execute_input": "2021-09-07T17:35:47.951Z",
          "iopub.status.idle": "2021-09-07T17:35:47.964Z",
          "shell.execute_reply": "2021-09-07T17:35:47.970Z"
        }
      }
    },
    {
      "cell_type": "code",
      "source": [
        "X.columns"
      ],
      "outputs": [
        {
          "output_type": "execute_result",
          "execution_count": 7,
          "data": {
            "text/plain": "Index(['Open', 'High', 'Low', 'Adj Close', 'Return', 'Volume'], dtype='object')"
          },
          "metadata": {}
        }
      ],
      "execution_count": 7,
      "metadata": {
        "execution": {
          "iopub.execute_input": "2021-09-07T16:56:20.631Z",
          "iopub.status.busy": "2021-09-07T16:56:20.623Z",
          "iopub.status.idle": "2021-09-07T16:56:20.646Z",
          "shell.execute_reply": "2021-09-07T16:56:20.710Z"
        },
        "nteract": {
          "transient": {
            "deleting": false
          }
        }
      }
    },
    {
      "cell_type": "markdown",
      "source": [
        "#### test_size\n",
        "the size of the test data set, in this case, 30% of the data for the tests and, therefore, 70% for the training.\n",
        "#### random_state\n",
        "Since the sampling is random, this parameter allows us to reproduce the same randomness in each execution.\n",
        "#### stratify\n",
        "To ensure that the training and test sample data are proportional, we set the parameter to yes. This means that, for example, if there are more days with positive than negative return, the training and test samples will keep the same proportion. "
      ],
      "metadata": {
        "nteract": {
          "transient": {
            "deleting": false
          }
        }
      }
    },
    {
      "cell_type": "code",
      "source": [
        "from sklearn.model_selection import train_test_split  \n",
        "X_train, X_test, y_train, y_test = train_test_split(X, y, test_size=0.2, random_state=200, stratify=y)"
      ],
      "outputs": [],
      "execution_count": 8,
      "metadata": {
        "collapsed": false,
        "execution": {
          "iopub.execute_input": "2021-09-07T16:56:20.663Z",
          "iopub.status.busy": "2021-09-07T16:56:20.657Z",
          "iopub.status.idle": "2021-09-07T16:56:20.816Z",
          "shell.execute_reply": "2021-09-07T16:56:20.807Z"
        },
        "inputHidden": false,
        "jupyter": {
          "outputs_hidden": false
        },
        "outputHidden": false
      }
    },
    {
      "cell_type": "code",
      "source": [
        "train_length = int(len(dataset)*0.80)\n",
        "X_train = X[:train_length]\n",
        "X_test = X[train_length:]\n",
        "y_train = y[:train_length]\n",
        "y_test = y[train_length:]\n",
        "\n",
        "print (X_train.shape, y_train.shape)\n",
        "print (X_test.shape, y_test.shape)"
      ],
      "outputs": [
        {
          "output_type": "stream",
          "name": "stdout",
          "text": [
            "(1947, 6) (1947,)\n",
            "(487, 6) (487,)\n"
          ]
        }
      ],
      "execution_count": 9,
      "metadata": {
        "collapsed": true,
        "jupyter": {
          "source_hidden": false,
          "outputs_hidden": false
        },
        "nteract": {
          "transient": {
            "deleting": false
          }
        },
        "execution": {
          "iopub.status.busy": "2021-09-07T16:56:20.825Z",
          "iopub.execute_input": "2021-09-07T16:56:20.831Z",
          "iopub.status.idle": "2021-09-07T16:56:20.846Z",
          "shell.execute_reply": "2021-09-07T16:56:20.906Z"
        }
      }
    },
    {
      "cell_type": "code",
      "source": [
        "from sklearn.tree import DecisionTreeClassifier\n",
        "clf = DecisionTreeClassifier(criterion='gini', max_depth=3, min_samples_leaf=3)\n",
        "clf.fit(X_train, y_train)"
      ],
      "outputs": [
        {
          "output_type": "execute_result",
          "execution_count": 10,
          "data": {
            "text/plain": "DecisionTreeClassifier(class_weight=None, criterion='gini', max_depth=3,\n            max_features=None, max_leaf_nodes=None,\n            min_impurity_decrease=0.0, min_impurity_split=None,\n            min_samples_leaf=3, min_samples_split=2,\n            min_weight_fraction_leaf=0.0, presort=False, random_state=None,\n            splitter='best')"
          },
          "metadata": {}
        }
      ],
      "execution_count": 10,
      "metadata": {
        "collapsed": false,
        "execution": {
          "iopub.execute_input": "2021-09-07T16:56:20.864Z",
          "iopub.status.busy": "2021-09-07T16:56:20.856Z",
          "iopub.status.idle": "2021-09-07T16:56:20.877Z",
          "shell.execute_reply": "2021-09-07T16:56:20.912Z"
        },
        "inputHidden": false,
        "jupyter": {
          "outputs_hidden": false
        },
        "outputHidden": false
      }
    },
    {
      "cell_type": "code",
      "source": [
        "from mlxtend.evaluate import bias_variance_decomp\n",
        "\n",
        "avg_expected_loss, avg_bias, avg_var = bias_variance_decomp(clf, X_train.values, y_train.values, X_test.values, y_test.values, loss='mse', random_seed=123)\n",
        "\n",
        "print('MSE: %.3f' % avg_expected_loss)\n",
        "print('Bias: %.3f' % avg_bias)\n",
        "print('Variance: %.3f' % avg_var)"
      ],
      "outputs": [
        {
          "output_type": "stream",
          "name": "stdout",
          "text": [
            "MSE: 1.995\n",
            "Bias: 1.100\n",
            "Variance: 0.896\n"
          ]
        }
      ],
      "execution_count": 11,
      "metadata": {
        "collapsed": true,
        "jupyter": {
          "source_hidden": false,
          "outputs_hidden": false
        },
        "nteract": {
          "transient": {
            "deleting": false
          }
        },
        "execution": {
          "iopub.status.busy": "2021-09-07T16:56:20.887Z",
          "iopub.execute_input": "2021-09-07T16:56:20.893Z",
          "iopub.status.idle": "2021-09-07T16:56:21.635Z",
          "shell.execute_reply": "2021-09-07T16:56:21.622Z"
        }
      }
    },
    {
      "cell_type": "code",
      "source": [
        "# Prediction\n",
        "prediction = clf.predict(X_test)"
      ],
      "outputs": [],
      "execution_count": 12,
      "metadata": {
        "collapsed": false,
        "execution": {
          "iopub.execute_input": "2021-09-07T16:56:21.653Z",
          "iopub.status.busy": "2021-09-07T16:56:21.647Z",
          "iopub.status.idle": "2021-09-07T16:56:21.666Z",
          "shell.execute_reply": "2021-09-07T16:56:21.985Z"
        },
        "inputHidden": false,
        "jupyter": {
          "outputs_hidden": false
        },
        "outputHidden": false
      }
    },
    {
      "cell_type": "code",
      "source": [
        "# Evaluation\n",
        "from sklearn import metrics\n",
        "print(\"DecisionTrees's Accuracy: \", metrics.accuracy_score(y_test, prediction))"
      ],
      "outputs": [
        {
          "output_type": "stream",
          "name": "stdout",
          "text": [
            "DecisionTrees's Accuracy:  0.4989733059548255\n"
          ]
        }
      ],
      "execution_count": 13,
      "metadata": {
        "collapsed": false,
        "execution": {
          "iopub.execute_input": "2021-09-07T16:56:21.683Z",
          "iopub.status.busy": "2021-09-07T16:56:21.676Z",
          "iopub.status.idle": "2021-09-07T16:56:21.698Z",
          "shell.execute_reply": "2021-09-07T16:56:21.999Z"
        },
        "inputHidden": false,
        "jupyter": {
          "outputs_hidden": false
        },
        "outputHidden": false
      }
    },
    {
      "cell_type": "code",
      "source": [
        "# Accuracy Score without Sklearn\n",
        "boolian = (y_test==prediction)\n",
        "accuracy = sum(boolian)/y_test.size\n",
        "accuracy"
      ],
      "outputs": [
        {
          "output_type": "execute_result",
          "execution_count": 14,
          "data": {
            "text/plain": "0.4989733059548255"
          },
          "metadata": {}
        }
      ],
      "execution_count": 14,
      "metadata": {
        "collapsed": false,
        "execution": {
          "iopub.execute_input": "2021-09-07T16:56:21.713Z",
          "iopub.status.busy": "2021-09-07T16:56:21.707Z",
          "iopub.status.idle": "2021-09-07T16:56:21.728Z",
          "shell.execute_reply": "2021-09-07T16:56:22.023Z"
        },
        "inputHidden": false,
        "jupyter": {
          "outputs_hidden": false
        },
        "outputHidden": false
      }
    },
    {
      "cell_type": "code",
      "source": [
        "from sklearn import tree\n",
        "import graphviz\n",
        "dot_data = tree.export_graphviz(clf, out_file=None, \n",
        "                                feature_names=X.columns,  \n",
        "                                class_names=X.columns)\n",
        "dot_data = tree.export_graphviz(clf, out_file=None,filled=True,feature_names=predictors_list)\n",
        "graphviz.Source(dot_data)"
      ],
      "outputs": [
        {
          "output_type": "execute_result",
          "execution_count": 15,
          "data": {
            "text/plain": "<graphviz.files.Source at 0x2112fb26f60>",
            "image/svg+xml": "<?xml version=\"1.0\" encoding=\"UTF-8\" standalone=\"no\"?>\r\n<!DOCTYPE svg PUBLIC \"-//W3C//DTD SVG 1.1//EN\"\r\n \"http://www.w3.org/Graphics/SVG/1.1/DTD/svg11.dtd\">\r\n<!-- Generated by graphviz version 2.46.1 (0)\r\n -->\r\n<!-- Title: Tree Pages: 1 -->\r\n<svg width=\"998pt\" height=\"373pt\"\r\n viewBox=\"0.00 0.00 998.00 373.00\" xmlns=\"http://www.w3.org/2000/svg\" xmlns:xlink=\"http://www.w3.org/1999/xlink\">\r\n<g id=\"graph0\" class=\"graph\" transform=\"scale(1 1) rotate(0) translate(4 369)\">\r\n<title>Tree</title>\r\n<polygon fill=\"white\" stroke=\"transparent\" points=\"-4,4 -4,-369 994,-369 994,4 -4,4\"/>\r\n<!-- 0 -->\r\n<g id=\"node1\" class=\"node\">\r\n<title>0</title>\r\n<polygon fill=\"#399de5\" fill-opacity=\"0.007843\" stroke=\"black\" points=\"541.5,-365 392.5,-365 392.5,-297 541.5,-297 541.5,-365\"/>\r\n<text text-anchor=\"middle\" x=\"467\" y=\"-349.8\" font-family=\"Times New Roman,serif\" font-size=\"14.00\">Volume &lt;= 13930850.0</text>\r\n<text text-anchor=\"middle\" x=\"467\" y=\"-334.8\" font-family=\"Times New Roman,serif\" font-size=\"14.00\">gini = 0.5</text>\r\n<text text-anchor=\"middle\" x=\"467\" y=\"-319.8\" font-family=\"Times New Roman,serif\" font-size=\"14.00\">samples = 1947</text>\r\n<text text-anchor=\"middle\" x=\"467\" y=\"-304.8\" font-family=\"Times New Roman,serif\" font-size=\"14.00\">value = [969, 978]</text>\r\n</g>\r\n<!-- 1 -->\r\n<g id=\"node2\" class=\"node\">\r\n<title>1</title>\r\n<polygon fill=\"#e58139\" fill-opacity=\"0.274510\" stroke=\"black\" points=\"465.5,-261 316.5,-261 316.5,-193 465.5,-193 465.5,-261\"/>\r\n<text text-anchor=\"middle\" x=\"391\" y=\"-245.8\" font-family=\"Times New Roman,serif\" font-size=\"14.00\">Volume &lt;= 12470150.0</text>\r\n<text text-anchor=\"middle\" x=\"391\" y=\"-230.8\" font-family=\"Times New Roman,serif\" font-size=\"14.00\">gini = 0.487</text>\r\n<text text-anchor=\"middle\" x=\"391\" y=\"-215.8\" font-family=\"Times New Roman,serif\" font-size=\"14.00\">samples = 478</text>\r\n<text text-anchor=\"middle\" x=\"391\" y=\"-200.8\" font-family=\"Times New Roman,serif\" font-size=\"14.00\">value = [277, 201]</text>\r\n</g>\r\n<!-- 0&#45;&gt;1 -->\r\n<g id=\"edge1\" class=\"edge\">\r\n<title>0&#45;&gt;1</title>\r\n<path fill=\"none\" stroke=\"black\" d=\"M442.32,-296.88C435.82,-288.15 428.72,-278.62 421.93,-269.51\"/>\r\n<polygon fill=\"black\" stroke=\"black\" points=\"424.59,-267.23 415.81,-261.3 418.98,-271.41 424.59,-267.23\"/>\r\n<text text-anchor=\"middle\" x=\"412.2\" y=\"-282.34\" font-family=\"Times New Roman,serif\" font-size=\"14.00\">True</text>\r\n</g>\r\n<!-- 8 -->\r\n<g id=\"node9\" class=\"node\">\r\n<title>8</title>\r\n<polygon fill=\"#399de5\" fill-opacity=\"0.109804\" stroke=\"black\" points=\"627,-261 509,-261 509,-193 627,-193 627,-261\"/>\r\n<text text-anchor=\"middle\" x=\"568\" y=\"-245.8\" font-family=\"Times New Roman,serif\" font-size=\"14.00\">Return &lt;= &#45;0.001</text>\r\n<text text-anchor=\"middle\" x=\"568\" y=\"-230.8\" font-family=\"Times New Roman,serif\" font-size=\"14.00\">gini = 0.498</text>\r\n<text text-anchor=\"middle\" x=\"568\" y=\"-215.8\" font-family=\"Times New Roman,serif\" font-size=\"14.00\">samples = 1469</text>\r\n<text text-anchor=\"middle\" x=\"568\" y=\"-200.8\" font-family=\"Times New Roman,serif\" font-size=\"14.00\">value = [692, 777]</text>\r\n</g>\r\n<!-- 0&#45;&gt;8 -->\r\n<g id=\"edge8\" class=\"edge\">\r\n<title>0&#45;&gt;8</title>\r\n<path fill=\"none\" stroke=\"black\" d=\"M499.79,-296.88C508.7,-287.89 518.45,-278.04 527.72,-268.68\"/>\r\n<polygon fill=\"black\" stroke=\"black\" points=\"530.48,-270.87 535.03,-261.3 525.5,-265.94 530.48,-270.87\"/>\r\n<text text-anchor=\"middle\" x=\"535.15\" y=\"-282.6\" font-family=\"Times New Roman,serif\" font-size=\"14.00\">False</text>\r\n</g>\r\n<!-- 2 -->\r\n<g id=\"node3\" class=\"node\">\r\n<title>2</title>\r\n<polygon fill=\"#e58139\" fill-opacity=\"0.160784\" stroke=\"black\" points=\"259.5,-157 110.5,-157 110.5,-89 259.5,-89 259.5,-157\"/>\r\n<text text-anchor=\"middle\" x=\"185\" y=\"-141.8\" font-family=\"Times New Roman,serif\" font-size=\"14.00\">Volume &lt;= 12021650.0</text>\r\n<text text-anchor=\"middle\" x=\"185\" y=\"-126.8\" font-family=\"Times New Roman,serif\" font-size=\"14.00\">gini = 0.496</text>\r\n<text text-anchor=\"middle\" x=\"185\" y=\"-111.8\" font-family=\"Times New Roman,serif\" font-size=\"14.00\">samples = 386</text>\r\n<text text-anchor=\"middle\" x=\"185\" y=\"-96.8\" font-family=\"Times New Roman,serif\" font-size=\"14.00\">value = [210, 176]</text>\r\n</g>\r\n<!-- 1&#45;&gt;2 -->\r\n<g id=\"edge2\" class=\"edge\">\r\n<title>1&#45;&gt;2</title>\r\n<path fill=\"none\" stroke=\"black\" d=\"M324.12,-192.88C303.96,-182.9 281.68,-171.87 260.98,-161.62\"/>\r\n<polygon fill=\"black\" stroke=\"black\" points=\"262.41,-158.43 251.9,-157.12 259.31,-164.7 262.41,-158.43\"/>\r\n</g>\r\n<!-- 5 -->\r\n<g id=\"node6\" class=\"node\">\r\n<title>5</title>\r\n<polygon fill=\"#e58139\" fill-opacity=\"0.627451\" stroke=\"black\" points=\"451.5,-157 330.5,-157 330.5,-89 451.5,-89 451.5,-157\"/>\r\n<text text-anchor=\"middle\" x=\"391\" y=\"-141.8\" font-family=\"Times New Roman,serif\" font-size=\"14.00\">Adj Close &lt;= 3.64</text>\r\n<text text-anchor=\"middle\" x=\"391\" y=\"-126.8\" font-family=\"Times New Roman,serif\" font-size=\"14.00\">gini = 0.396</text>\r\n<text text-anchor=\"middle\" x=\"391\" y=\"-111.8\" font-family=\"Times New Roman,serif\" font-size=\"14.00\">samples = 92</text>\r\n<text text-anchor=\"middle\" x=\"391\" y=\"-96.8\" font-family=\"Times New Roman,serif\" font-size=\"14.00\">value = [67, 25]</text>\r\n</g>\r\n<!-- 1&#45;&gt;5 -->\r\n<g id=\"edge5\" class=\"edge\">\r\n<title>1&#45;&gt;5</title>\r\n<path fill=\"none\" stroke=\"black\" d=\"M391,-192.88C391,-184.78 391,-175.98 391,-167.47\"/>\r\n<polygon fill=\"black\" stroke=\"black\" points=\"394.5,-167.3 391,-157.3 387.5,-167.3 394.5,-167.3\"/>\r\n</g>\r\n<!-- 3 -->\r\n<g id=\"node4\" class=\"node\">\r\n<title>3</title>\r\n<polygon fill=\"#e58139\" fill-opacity=\"0.235294\" stroke=\"black\" points=\"118,-53 0,-53 0,0 118,0 118,-53\"/>\r\n<text text-anchor=\"middle\" x=\"59\" y=\"-37.8\" font-family=\"Times New Roman,serif\" font-size=\"14.00\">gini = 0.491</text>\r\n<text text-anchor=\"middle\" x=\"59\" y=\"-22.8\" font-family=\"Times New Roman,serif\" font-size=\"14.00\">samples = 367</text>\r\n<text text-anchor=\"middle\" x=\"59\" y=\"-7.8\" font-family=\"Times New Roman,serif\" font-size=\"14.00\">value = [208, 159]</text>\r\n</g>\r\n<!-- 2&#45;&gt;3 -->\r\n<g id=\"edge3\" class=\"edge\">\r\n<title>2&#45;&gt;3</title>\r\n<path fill=\"none\" stroke=\"black\" d=\"M140.93,-88.95C128.12,-79.34 114.17,-68.87 101.46,-59.34\"/>\r\n<polygon fill=\"black\" stroke=\"black\" points=\"103.42,-56.44 93.32,-53.24 99.22,-62.04 103.42,-56.44\"/>\r\n</g>\r\n<!-- 4 -->\r\n<g id=\"node5\" class=\"node\">\r\n<title>4</title>\r\n<polygon fill=\"#399de5\" fill-opacity=\"0.882353\" stroke=\"black\" points=\"234,-53 136,-53 136,0 234,0 234,-53\"/>\r\n<text text-anchor=\"middle\" x=\"185\" y=\"-37.8\" font-family=\"Times New Roman,serif\" font-size=\"14.00\">gini = 0.188</text>\r\n<text text-anchor=\"middle\" x=\"185\" y=\"-22.8\" font-family=\"Times New Roman,serif\" font-size=\"14.00\">samples = 19</text>\r\n<text text-anchor=\"middle\" x=\"185\" y=\"-7.8\" font-family=\"Times New Roman,serif\" font-size=\"14.00\">value = [2, 17]</text>\r\n</g>\r\n<!-- 2&#45;&gt;4 -->\r\n<g id=\"edge4\" class=\"edge\">\r\n<title>2&#45;&gt;4</title>\r\n<path fill=\"none\" stroke=\"black\" d=\"M185,-88.95C185,-80.72 185,-71.85 185,-63.48\"/>\r\n<polygon fill=\"black\" stroke=\"black\" points=\"188.5,-63.24 185,-53.24 181.5,-63.24 188.5,-63.24\"/>\r\n</g>\r\n<!-- 6 -->\r\n<g id=\"node7\" class=\"node\">\r\n<title>6</title>\r\n<polygon fill=\"#e58139\" fill-opacity=\"0.843137\" stroke=\"black\" points=\"350,-53 252,-53 252,0 350,0 350,-53\"/>\r\n<text text-anchor=\"middle\" x=\"301\" y=\"-37.8\" font-family=\"Times New Roman,serif\" font-size=\"14.00\">gini = 0.233</text>\r\n<text text-anchor=\"middle\" x=\"301\" y=\"-22.8\" font-family=\"Times New Roman,serif\" font-size=\"14.00\">samples = 52</text>\r\n<text text-anchor=\"middle\" x=\"301\" y=\"-7.8\" font-family=\"Times New Roman,serif\" font-size=\"14.00\">value = [45, 7]</text>\r\n</g>\r\n<!-- 5&#45;&gt;6 -->\r\n<g id=\"edge6\" class=\"edge\">\r\n<title>5&#45;&gt;6</title>\r\n<path fill=\"none\" stroke=\"black\" d=\"M359.52,-88.95C350.81,-79.8 341.35,-69.87 332.63,-60.71\"/>\r\n<polygon fill=\"black\" stroke=\"black\" points=\"334.94,-58.06 325.51,-53.24 329.87,-62.89 334.94,-58.06\"/>\r\n</g>\r\n<!-- 7 -->\r\n<g id=\"node8\" class=\"node\">\r\n<title>7</title>\r\n<polygon fill=\"#e58139\" fill-opacity=\"0.180392\" stroke=\"black\" points=\"472,-53 368,-53 368,0 472,0 472,-53\"/>\r\n<text text-anchor=\"middle\" x=\"420\" y=\"-37.8\" font-family=\"Times New Roman,serif\" font-size=\"14.00\">gini = 0.495</text>\r\n<text text-anchor=\"middle\" x=\"420\" y=\"-22.8\" font-family=\"Times New Roman,serif\" font-size=\"14.00\">samples = 40</text>\r\n<text text-anchor=\"middle\" x=\"420\" y=\"-7.8\" font-family=\"Times New Roman,serif\" font-size=\"14.00\">value = [22, 18]</text>\r\n</g>\r\n<!-- 5&#45;&gt;7 -->\r\n<g id=\"edge7\" class=\"edge\">\r\n<title>5&#45;&gt;7</title>\r\n<path fill=\"none\" stroke=\"black\" d=\"M401.14,-88.95C403.73,-80.53 406.51,-71.45 409.13,-62.92\"/>\r\n<polygon fill=\"black\" stroke=\"black\" points=\"412.51,-63.82 412.1,-53.24 405.82,-61.77 412.51,-63.82\"/>\r\n</g>\r\n<!-- 9 -->\r\n<g id=\"node10\" class=\"node\">\r\n<title>9</title>\r\n<polygon fill=\"#399de5\" fill-opacity=\"0.254902\" stroke=\"black\" points=\"642.5,-157 493.5,-157 493.5,-89 642.5,-89 642.5,-157\"/>\r\n<text text-anchor=\"middle\" x=\"568\" y=\"-141.8\" font-family=\"Times New Roman,serif\" font-size=\"14.00\">Volume &lt;= 14450850.0</text>\r\n<text text-anchor=\"middle\" x=\"568\" y=\"-126.8\" font-family=\"Times New Roman,serif\" font-size=\"14.00\">gini = 0.489</text>\r\n<text text-anchor=\"middle\" x=\"568\" y=\"-111.8\" font-family=\"Times New Roman,serif\" font-size=\"14.00\">samples = 677</text>\r\n<text text-anchor=\"middle\" x=\"568\" y=\"-96.8\" font-family=\"Times New Roman,serif\" font-size=\"14.00\">value = [289, 388]</text>\r\n</g>\r\n<!-- 8&#45;&gt;9 -->\r\n<g id=\"edge9\" class=\"edge\">\r\n<title>8&#45;&gt;9</title>\r\n<path fill=\"none\" stroke=\"black\" d=\"M568,-192.88C568,-184.78 568,-175.98 568,-167.47\"/>\r\n<polygon fill=\"black\" stroke=\"black\" points=\"571.5,-167.3 568,-157.3 564.5,-167.3 571.5,-167.3\"/>\r\n</g>\r\n<!-- 12 -->\r\n<g id=\"node13\" class=\"node\">\r\n<title>12</title>\r\n<polygon fill=\"#e58139\" fill-opacity=\"0.035294\" stroke=\"black\" points=\"857,-157 739,-157 739,-89 857,-89 857,-157\"/>\r\n<text text-anchor=\"middle\" x=\"798\" y=\"-141.8\" font-family=\"Times New Roman,serif\" font-size=\"14.00\">Return &lt;= 0.006</text>\r\n<text text-anchor=\"middle\" x=\"798\" y=\"-126.8\" font-family=\"Times New Roman,serif\" font-size=\"14.00\">gini = 0.5</text>\r\n<text text-anchor=\"middle\" x=\"798\" y=\"-111.8\" font-family=\"Times New Roman,serif\" font-size=\"14.00\">samples = 792</text>\r\n<text text-anchor=\"middle\" x=\"798\" y=\"-96.8\" font-family=\"Times New Roman,serif\" font-size=\"14.00\">value = [403, 389]</text>\r\n</g>\r\n<!-- 8&#45;&gt;12 -->\r\n<g id=\"edge12\" class=\"edge\">\r\n<title>8&#45;&gt;12</title>\r\n<path fill=\"none\" stroke=\"black\" d=\"M627.23,-199.73C658.49,-185.87 696.99,-168.8 729.52,-154.37\"/>\r\n<polygon fill=\"black\" stroke=\"black\" points=\"731.25,-157.43 738.97,-150.18 728.41,-151.03 731.25,-157.43\"/>\r\n</g>\r\n<!-- 10 -->\r\n<g id=\"node11\" class=\"node\">\r\n<title>10</title>\r\n<polygon fill=\"#399de5\" fill-opacity=\"0.894118\" stroke=\"black\" points=\"588,-53 490,-53 490,0 588,0 588,-53\"/>\r\n<text text-anchor=\"middle\" x=\"539\" y=\"-37.8\" font-family=\"Times New Roman,serif\" font-size=\"14.00\">gini = 0.172</text>\r\n<text text-anchor=\"middle\" x=\"539\" y=\"-22.8\" font-family=\"Times New Roman,serif\" font-size=\"14.00\">samples = 21</text>\r\n<text text-anchor=\"middle\" x=\"539\" y=\"-7.8\" font-family=\"Times New Roman,serif\" font-size=\"14.00\">value = [2, 19]</text>\r\n</g>\r\n<!-- 9&#45;&gt;10 -->\r\n<g id=\"edge10\" class=\"edge\">\r\n<title>9&#45;&gt;10</title>\r\n<path fill=\"none\" stroke=\"black\" d=\"M557.86,-88.95C555.27,-80.53 552.49,-71.45 549.87,-62.92\"/>\r\n<polygon fill=\"black\" stroke=\"black\" points=\"553.18,-61.77 546.9,-53.24 546.49,-63.82 553.18,-61.77\"/>\r\n</g>\r\n<!-- 11 -->\r\n<g id=\"node12\" class=\"node\">\r\n<title>11</title>\r\n<polygon fill=\"#399de5\" fill-opacity=\"0.223529\" stroke=\"black\" points=\"724,-53 606,-53 606,0 724,0 724,-53\"/>\r\n<text text-anchor=\"middle\" x=\"665\" y=\"-37.8\" font-family=\"Times New Roman,serif\" font-size=\"14.00\">gini = 0.492</text>\r\n<text text-anchor=\"middle\" x=\"665\" y=\"-22.8\" font-family=\"Times New Roman,serif\" font-size=\"14.00\">samples = 656</text>\r\n<text text-anchor=\"middle\" x=\"665\" y=\"-7.8\" font-family=\"Times New Roman,serif\" font-size=\"14.00\">value = [287, 369]</text>\r\n</g>\r\n<!-- 9&#45;&gt;11 -->\r\n<g id=\"edge11\" class=\"edge\">\r\n<title>9&#45;&gt;11</title>\r\n<path fill=\"none\" stroke=\"black\" d=\"M601.93,-88.95C611.41,-79.71 621.71,-69.67 631.19,-60.44\"/>\r\n<polygon fill=\"black\" stroke=\"black\" points=\"633.86,-62.72 638.58,-53.24 628.98,-57.71 633.86,-62.72\"/>\r\n</g>\r\n<!-- 13 -->\r\n<g id=\"node14\" class=\"node\">\r\n<title>13</title>\r\n<polygon fill=\"#e58139\" fill-opacity=\"0.545098\" stroke=\"black\" points=\"853.5,-53 742.5,-53 742.5,0 853.5,0 853.5,-53\"/>\r\n<text text-anchor=\"middle\" x=\"798\" y=\"-37.8\" font-family=\"Times New Roman,serif\" font-size=\"14.00\">gini = 0.43</text>\r\n<text text-anchor=\"middle\" x=\"798\" y=\"-22.8\" font-family=\"Times New Roman,serif\" font-size=\"14.00\">samples = 160</text>\r\n<text text-anchor=\"middle\" x=\"798\" y=\"-7.8\" font-family=\"Times New Roman,serif\" font-size=\"14.00\">value = [110, 50]</text>\r\n</g>\r\n<!-- 12&#45;&gt;13 -->\r\n<g id=\"edge13\" class=\"edge\">\r\n<title>12&#45;&gt;13</title>\r\n<path fill=\"none\" stroke=\"black\" d=\"M798,-88.95C798,-80.72 798,-71.85 798,-63.48\"/>\r\n<polygon fill=\"black\" stroke=\"black\" points=\"801.5,-63.24 798,-53.24 794.5,-63.24 801.5,-63.24\"/>\r\n</g>\r\n<!-- 14 -->\r\n<g id=\"node15\" class=\"node\">\r\n<title>14</title>\r\n<polygon fill=\"#399de5\" fill-opacity=\"0.137255\" stroke=\"black\" points=\"990,-53 872,-53 872,0 990,0 990,-53\"/>\r\n<text text-anchor=\"middle\" x=\"931\" y=\"-37.8\" font-family=\"Times New Roman,serif\" font-size=\"14.00\">gini = 0.497</text>\r\n<text text-anchor=\"middle\" x=\"931\" y=\"-22.8\" font-family=\"Times New Roman,serif\" font-size=\"14.00\">samples = 632</text>\r\n<text text-anchor=\"middle\" x=\"931\" y=\"-7.8\" font-family=\"Times New Roman,serif\" font-size=\"14.00\">value = [293, 339]</text>\r\n</g>\r\n<!-- 12&#45;&gt;14 -->\r\n<g id=\"edge14\" class=\"edge\">\r\n<title>12&#45;&gt;14</title>\r\n<path fill=\"none\" stroke=\"black\" d=\"M844.52,-88.95C858.16,-79.25 873.05,-68.68 886.56,-59.07\"/>\r\n<polygon fill=\"black\" stroke=\"black\" points=\"888.65,-61.88 894.78,-53.24 884.6,-56.18 888.65,-61.88\"/>\r\n</g>\r\n</g>\r\n</svg>\r\n"
          },
          "metadata": {}
        }
      ],
      "execution_count": 15,
      "metadata": {
        "execution": {
          "iopub.execute_input": "2021-09-07T16:56:21.746Z",
          "iopub.status.busy": "2021-09-07T16:56:21.738Z",
          "iopub.status.idle": "2021-09-07T16:56:21.765Z",
          "shell.execute_reply": "2021-09-07T16:56:22.032Z"
        },
        "nteract": {
          "transient": {
            "deleting": false
          }
        }
      }
    },
    {
      "cell_type": "code",
      "source": [
        "def plot_curve(ticks, train_scores, test_scores):\n",
        "    train_scores_mean = -1 * np.mean(train_scores, axis=1)\n",
        "    train_scores_std = -1 * np.std(train_scores, axis=1)\n",
        "    test_scores_mean = -1 * np.mean(test_scores, axis=1)\n",
        "    test_scores_std = -1 * np.std(test_scores, axis=1)\n",
        "\n",
        "    plt.figure()\n",
        "    plt.fill_between(ticks, \n",
        "                     train_scores_mean - train_scores_std, \n",
        "                     train_scores_mean + train_scores_std, alpha=0.1, color=\"b\")\n",
        "    plt.fill_between(ticks, \n",
        "                     test_scores_mean - test_scores_std, \n",
        "                     test_scores_mean + test_scores_std, alpha=0.1, color=\"r\")\n",
        "    plt.plot(ticks, train_scores_mean, 'b-', label='Training score')\n",
        "    plt.plot(ticks, test_scores_mean, 'r-', label='Test score')\n",
        "    plt.legend(fancybox=True, facecolor='w')\n",
        "\n",
        "    return plt.gca()\n"
      ],
      "outputs": [],
      "execution_count": 16,
      "metadata": {
        "collapsed": true,
        "jupyter": {
          "source_hidden": false,
          "outputs_hidden": false
        },
        "nteract": {
          "transient": {
            "deleting": false
          }
        },
        "execution": {
          "iopub.status.busy": "2021-09-07T16:56:21.776Z",
          "iopub.execute_input": "2021-09-07T16:56:21.782Z",
          "iopub.status.idle": "2021-09-07T16:56:21.794Z",
          "shell.execute_reply": "2021-09-07T16:56:22.043Z"
        }
      }
    },
    {
      "cell_type": "code",
      "source": [
        "def plot_validation_curve(clf, X, y, param_name, param_range, scoring='roc_auc'):\n",
        "    plt.xkcd()\n",
        "    ax = plot_curve(param_range, *validation_curve(clf, X, y, cv=num_folds, \n",
        "                                                   scoring=scoring, \n",
        "                                                   param_name=param_name, \n",
        "                                                   param_range=param_range, n_jobs=-1))\n",
        "    ax.set_title('')\n",
        "    ax.set_xticklabels([])\n",
        "    ax.set_yticklabels([])\n",
        "    ax.set_xlim(2,12)\n",
        "    ax.set_ylim(-0.97, -0.83)\n",
        "    ax.set_ylabel('Error')\n",
        "    ax.set_xlabel('Model complexity')\n",
        "    ax.text(9, -0.94, 'Overfitting', fontsize=22)\n",
        "    ax.text(3, -0.94, 'Underfitting', fontsize=22)\n",
        "    ax.axvline(7, ls='--')\n",
        "    plt.tight_layout()\n",
        "    \n"
      ],
      "outputs": [],
      "execution_count": 17,
      "metadata": {
        "execution": {
          "iopub.status.busy": "2021-09-07T16:56:21.814Z",
          "iopub.execute_input": "2021-09-07T16:56:21.837Z",
          "shell.execute_reply": "2021-09-07T16:56:22.054Z",
          "iopub.status.idle": "2021-09-07T16:56:21.868Z"
        }
      }
    },
    {
      "cell_type": "code",
      "source": [
        "from sklearn.model_selection import validation_curve\n",
        "num_folds = 7\n",
        "plot_validation_curve(clf, X_train, y_train, param_name='max_depth', param_range=range(10,16))"
      ],
      "outputs": [
        {
          "output_type": "display_data",
          "data": {
            "text/plain": "<Figure size 432x288 with 1 Axes>",
            "image/png": "[encoded data removed]"
          },
          "metadata": {
            "needs_background": "light"
          }
        }
      ],
      "execution_count": 18,
      "metadata": {
        "collapsed": true,
        "jupyter": {
          "source_hidden": false,
          "outputs_hidden": false
        },
        "nteract": {
          "transient": {
            "deleting": false
          }
        },
        "execution": {
          "iopub.status.busy": "2021-09-07T16:56:21.894Z",
          "iopub.execute_input": "2021-09-07T16:56:21.913Z",
          "iopub.status.idle": "2021-09-07T16:56:30.482Z",
          "shell.execute_reply": "2021-09-07T16:56:30.496Z"
        }
      }
    },
    {
      "cell_type": "markdown",
      "source": [
        "#### Compare the scores of testing on training and testing data. If the scores are close to equal, is likely underfitting; however, if they are far apart, is likely overfitting. "
      ],
      "metadata": {
        "nteract": {
          "transient": {
            "deleting": false
          }
        }
      }
    },
    {
      "cell_type": "code",
      "source": [
        "from sklearn import cross_validation\n",
        "\n",
        "for i in range(5):\n",
        "\n",
        "    X_train, X_test, y_train, y_test = cross_validation.train_test_split(X, y, test_size=0.2)\n",
        "    clf = DecisionTreeClassifier(criterion='gini', max_depth=3, min_samples_leaf=3).fit(X_train, y_train)\n",
        "\n",
        "    print(\"Test score\", clf.score(X_test, y_test))   \n",
        "    print(\"Train score\", clf.score(X_train, y_train))   "
      ],
      "outputs": [
        {
          "output_type": "stream",
          "name": "stdout",
          "text": [
            "Test score 0.4804928131416838\n",
            "Train score 0.5608628659476117\n",
            "Test score 0.5420944558521561\n",
            "Train score 0.5387776065742167\n",
            "Test score 0.4804928131416838\n",
            "Train score 0.5557267591165896\n",
            "Test score 0.5215605749486653\n",
            "Train score 0.5536723163841808\n",
            "Test score 0.5071868583162218\n",
            "Train score 0.5475089881869543\n"
          ]
        }
      ],
      "execution_count": 21,
      "metadata": {
        "collapsed": true,
        "jupyter": {
          "source_hidden": false,
          "outputs_hidden": false
        },
        "nteract": {
          "transient": {
            "deleting": false
          }
        },
        "execution": {
          "iopub.status.busy": "2021-09-07T17:12:07.895Z",
          "iopub.execute_input": "2021-09-07T17:12:07.902Z",
          "shell.execute_reply": "2021-09-07T17:12:07.919Z",
          "iopub.status.idle": "2021-09-07T17:12:07.927Z"
        }
      }
    },
    {
      "cell_type": "code",
      "source": [
        "from sklearn.metrics import classification_report\n",
        "\n",
        "print(classification_report(y_test, prediction, target_names=y.name))"
      ],
      "outputs": [
        {
          "output_type": "stream",
          "name": "stdout",
          "text": [
            "             precision    recall  f1-score   support\n",
            "\n",
            "          B       0.44      0.11      0.17       249\n",
            "          u       0.48      0.86      0.61       238\n",
            "\n",
            "avg / total       0.46      0.47      0.39       487\n",
            "\n"
          ]
        }
      ],
      "execution_count": 36,
      "metadata": {
        "collapsed": true,
        "jupyter": {
          "source_hidden": false,
          "outputs_hidden": false
        },
        "nteract": {
          "transient": {
            "deleting": false
          }
        },
        "execution": {
          "iopub.status.busy": "2021-09-07T17:37:33.034Z",
          "iopub.execute_input": "2021-09-07T17:37:33.043Z",
          "iopub.status.idle": "2021-09-07T17:37:33.056Z",
          "shell.execute_reply": "2021-09-07T17:37:33.063Z"
        }
      }
    },
    {
      "cell_type": "code",
      "source": [
        "from sklearn.metrics import confusion_matrix\n",
        "\n",
        "# Calculate the confusion matrix\n",
        "conf_matrix = confusion_matrix(y_true=y_test, y_pred=prediction)\n",
        "\n",
        "fig, ax = plt.subplots(figsize=(5, 5))\n",
        "ax.matshow(conf_matrix, cmap=plt.cm.Oranges, alpha=0.3)\n",
        "for i in range(conf_matrix.shape[0]):\n",
        "    for j in range(conf_matrix.shape[1]):\n",
        "        ax.text(x=j, y=i,s=conf_matrix[i, j], va='center', ha='center', size='xx-large')\n",
        " \n",
        "plt.xlabel('Predictions', fontsize=18)\n",
        "plt.ylabel('Actuals', fontsize=18)\n",
        "plt.title('Confusion Matrix', fontsize=18)\n",
        "plt.show()"
      ],
      "outputs": [
        {
          "output_type": "display_data",
          "data": {
            "text/plain": "<Figure size 360x360 with 1 Axes>",
            "image/png": "[encoded data removed]"
          },
          "metadata": {
            "needs_background": "light"
          }
        }
      ],
      "execution_count": 38,
      "metadata": {
        "collapsed": true,
        "jupyter": {
          "source_hidden": false,
          "outputs_hidden": false
        },
        "nteract": {
          "transient": {
            "deleting": false
          }
        },
        "execution": {
          "iopub.status.busy": "2021-09-07T17:51:47.629Z",
          "iopub.execute_input": "2021-09-07T17:51:47.639Z",
          "shell.execute_reply": "2021-09-07T17:51:47.696Z",
          "iopub.status.idle": "2021-09-07T17:51:47.706Z"
        }
      }
    },
    {
      "cell_type": "code",
      "source": [
        "from sklearn.metrics import precision_score, recall_score, f1_score, accuracy_score\n",
        "\n",
        "\n",
        "print('Precision: %.3f' % precision_score(y_test, prediction))\n",
        "print('Recall: %.3f' % recall_score(y_test, prediction))\n",
        "print('Accuracy: %.3f' % accuracy_score(y_test, prediction))\n",
        "print('F1 Score: %.3f' % f1_score(y_test, prediction))"
      ],
      "outputs": [
        {
          "output_type": "stream",
          "name": "stdout",
          "text": [
            "Precision: 0.479\n",
            "Recall: 0.857\n",
            "Accuracy: 0.474\n",
            "F1 Score: 0.614\n"
          ]
        }
      ],
      "execution_count": 39,
      "metadata": {
        "collapsed": true,
        "jupyter": {
          "source_hidden": false,
          "outputs_hidden": false
        },
        "nteract": {
          "transient": {
            "deleting": false
          }
        },
        "execution": {
          "iopub.status.busy": "2021-09-07T18:01:03.240Z",
          "iopub.execute_input": "2021-09-07T18:01:03.251Z",
          "iopub.status.idle": "2021-09-07T18:01:03.278Z",
          "shell.execute_reply": "2021-09-07T18:01:03.295Z"
        }
      }
    }
  ],
  "metadata": {
    "kernel_info": {
      "name": "python3"
    },
    "kernelspec": {
      "display_name": "Python 3 (Spyder)",
      "language": "python3",
      "name": "python3"
    },
    "language_info": {
      "name": "python",
      "version": "3.6.13",
      "mimetype": "text/x-python",
      "codemirror_mode": {
        "name": "ipython",
        "version": 3
      },
      "pygments_lexer": "ipython3",
      "nbconvert_exporter": "python",
      "file_extension": ".py"
    },
    "nteract": {
      "version": "0.28.0"
    }
  },
  "nbformat": 4,
  "nbformat_minor": 4
}