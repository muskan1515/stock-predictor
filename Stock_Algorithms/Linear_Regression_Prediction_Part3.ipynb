{
  "cells": [
    {
      "cell_type": "markdown",
      "source": [
        "# Linear Regression Part 3"
      ],
      "metadata": {
        "nteract": {
          "transient": {
            "deleting": false
          }
        }
      }
    },
    {
      "cell_type": "code",
      "source": [
        "import numpy as np\n",
        "import pandas as pd\n",
        "\n",
        "import matplotlib.pyplot as plt\n",
        "import seaborn as sns\n",
        "\n",
        "import warnings\n",
        "warnings.filterwarnings(\"ignore\")\n",
        "\n",
        "import yfinance as yf\n",
        "yf.pdr_override()"
      ],
      "outputs": [],
      "execution_count": 1,
      "metadata": {
        "collapsed": true,
        "jupyter": {
          "source_hidden": false,
          "outputs_hidden": false
        },
        "nteract": {
          "transient": {
            "deleting": false
          }
        },
        "execution": {
          "iopub.status.busy": "2022-08-27T19:15:51.758Z",
          "iopub.execute_input": "2022-08-27T19:15:51.766Z",
          "shell.execute_reply": "2022-08-27T19:15:52.490Z",
          "iopub.status.idle": "2022-08-27T19:15:52.498Z"
        }
      }
    },
    {
      "cell_type": "code",
      "source": [
        "# input\n",
        "symbol = 'AMD'\n",
        "start = '2014-01-01'\n",
        "end = '2018-08-27'\n",
        "\n",
        "# Read data \n",
        "dataset = yf.download(symbol,start,end)['Adj Close']\n",
        "\n",
        "# View Columns\n",
        "dataset.head()"
      ],
      "outputs": [
        {
          "output_type": "stream",
          "name": "stdout",
          "text": [
            "[*********************100%***********************]  1 of 1 completed\n"
          ]
        },
        {
          "output_type": "execute_result",
          "execution_count": 2,
          "data": {
            "text/plain": "Date\n2014-01-02    3.95\n2014-01-03    4.00\n2014-01-06    4.13\n2014-01-07    4.18\n2014-01-08    4.18\nName: Adj Close, dtype: float64"
          },
          "metadata": {}
        }
      ],
      "execution_count": 2,
      "metadata": {
        "collapsed": true,
        "jupyter": {
          "source_hidden": false,
          "outputs_hidden": false
        },
        "nteract": {
          "transient": {
            "deleting": false
          }
        },
        "execution": {
          "iopub.status.busy": "2022-08-27T19:15:52.504Z",
          "iopub.execute_input": "2022-08-27T19:15:52.507Z",
          "shell.execute_reply": "2022-08-27T19:15:53.307Z",
          "iopub.status.idle": "2022-08-27T19:15:53.312Z"
        }
      }
    },
    {
      "cell_type": "code",
      "source": [
        "dataset = pd.concat([dataset, dataset.shift(), dataset.shift(2),dataset.shift(3),dataset.shift(4),dataset.shift(5), dataset.shift(6),dataset.shift(7),dataset.shift(8),dataset.shift(9),dataset.shift(10)], axis=1).dropna() \n",
        "dataset.columns = list(range(0,11))\n",
        "dataset.rename(columns={0:'actual_stock_price'},inplace=True)\n",
        "dataset.head()"
      ],
      "outputs": [
        {
          "output_type": "execute_result",
          "execution_count": 3,
          "data": {
            "text/plain": "            actual_stock_price     1     2     3     4     5     6     7  \\\nDate                                                                       \n2014-01-16                4.38  4.47  4.30  4.13  4.17  4.09  4.18  4.18   \n2014-01-17                4.18  4.38  4.47  4.30  4.13  4.17  4.09  4.18   \n2014-01-21                4.17  4.18  4.38  4.47  4.30  4.13  4.17  4.09   \n2014-01-22                3.67  4.17  4.18  4.38  4.47  4.30  4.13  4.17   \n2014-01-23                3.62  3.67  4.17  4.18  4.38  4.47  4.30  4.13   \n\n               8     9    10  \nDate                          \n2014-01-16  4.13  4.00  3.95  \n2014-01-17  4.18  4.13  4.00  \n2014-01-21  4.18  4.18  4.13  \n2014-01-22  4.09  4.18  4.18  \n2014-01-23  4.17  4.09  4.18  ",
            "text/html": "<div>\n<style scoped>\n    .dataframe tbody tr th:only-of-type {\n        vertical-align: middle;\n    }\n\n    .dataframe tbody tr th {\n        vertical-align: top;\n    }\n\n    .dataframe thead th {\n        text-align: right;\n    }\n</style>\n<table border=\"1\" class=\"dataframe\">\n  <thead>\n    <tr style=\"text-align: right;\">\n      <th></th>\n      <th>actual_stock_price</th>\n      <th>1</th>\n      <th>2</th>\n      <th>3</th>\n      <th>4</th>\n      <th>5</th>\n      <th>6</th>\n      <th>7</th>\n      <th>8</th>\n      <th>9</th>\n      <th>10</th>\n    </tr>\n    <tr>\n      <th>Date</th>\n      <th></th>\n      <th></th>\n      <th></th>\n      <th></th>\n      <th></th>\n      <th></th>\n      <th></th>\n      <th></th>\n      <th></th>\n      <th></th>\n      <th></th>\n    </tr>\n  </thead>\n  <tbody>\n    <tr>\n      <th>2014-01-16</th>\n      <td>4.38</td>\n      <td>4.47</td>\n      <td>4.30</td>\n      <td>4.13</td>\n      <td>4.17</td>\n      <td>4.09</td>\n      <td>4.18</td>\n      <td>4.18</td>\n      <td>4.13</td>\n      <td>4.00</td>\n      <td>3.95</td>\n    </tr>\n    <tr>\n      <th>2014-01-17</th>\n      <td>4.18</td>\n      <td>4.38</td>\n      <td>4.47</td>\n      <td>4.30</td>\n      <td>4.13</td>\n      <td>4.17</td>\n      <td>4.09</td>\n      <td>4.18</td>\n      <td>4.18</td>\n      <td>4.13</td>\n      <td>4.00</td>\n    </tr>\n    <tr>\n      <th>2014-01-21</th>\n      <td>4.17</td>\n      <td>4.18</td>\n      <td>4.38</td>\n      <td>4.47</td>\n      <td>4.30</td>\n      <td>4.13</td>\n      <td>4.17</td>\n      <td>4.09</td>\n      <td>4.18</td>\n      <td>4.18</td>\n      <td>4.13</td>\n    </tr>\n    <tr>\n      <th>2014-01-22</th>\n      <td>3.67</td>\n      <td>4.17</td>\n      <td>4.18</td>\n      <td>4.38</td>\n      <td>4.47</td>\n      <td>4.30</td>\n      <td>4.13</td>\n      <td>4.17</td>\n      <td>4.09</td>\n      <td>4.18</td>\n      <td>4.18</td>\n    </tr>\n    <tr>\n      <th>2014-01-23</th>\n      <td>3.62</td>\n      <td>3.67</td>\n      <td>4.17</td>\n      <td>4.18</td>\n      <td>4.38</td>\n      <td>4.47</td>\n      <td>4.30</td>\n      <td>4.13</td>\n      <td>4.17</td>\n      <td>4.09</td>\n      <td>4.18</td>\n    </tr>\n  </tbody>\n</table>\n</div>"
          },
          "metadata": {}
        }
      ],
      "execution_count": 3,
      "metadata": {
        "collapsed": true,
        "jupyter": {
          "source_hidden": false,
          "outputs_hidden": false
        },
        "nteract": {
          "transient": {
            "deleting": false
          }
        },
        "execution": {
          "shell.execute_reply": "2022-08-27T19:15:53.367Z",
          "iopub.status.busy": "2022-08-27T19:15:53.317Z",
          "iopub.execute_input": "2022-08-27T19:15:53.321Z",
          "iopub.status.idle": "2022-08-27T19:15:53.338Z"
        }
      }
    },
    {
      "cell_type": "code",
      "source": [
        "# Split the data into training and test data sets. \n",
        "train = dataset.head(len(dataset)-10)\n",
        "test = dataset.tail(10)"
      ],
      "outputs": [],
      "execution_count": 4,
      "metadata": {
        "collapsed": true,
        "jupyter": {
          "source_hidden": false,
          "outputs_hidden": false
        },
        "nteract": {
          "transient": {
            "deleting": false
          }
        },
        "execution": {
          "iopub.status.busy": "2022-08-27T19:15:53.343Z",
          "iopub.execute_input": "2022-08-27T19:15:53.346Z",
          "iopub.status.idle": "2022-08-27T19:15:53.352Z",
          "shell.execute_reply": "2022-08-27T19:15:53.370Z"
        }
      }
    },
    {
      "cell_type": "code",
      "source": [
        "# Import the Linear Regression model from scikit-learn.\n",
        "from sklearn.linear_model import LinearRegression\n",
        "\n",
        "# Create the model object.\n",
        "model = LinearRegression()\n",
        "\n",
        "# Train the model on the training data.\n",
        "model.fit(train[list(range(1,11))],train['actual_stock_price'])\n",
        "\n",
        "# Make predictions on the test data.\n",
        "test['predictions'] = model.predict(test[list(range(1,11))])"
      ],
      "outputs": [],
      "execution_count": 5,
      "metadata": {
        "collapsed": true,
        "jupyter": {
          "source_hidden": false,
          "outputs_hidden": false
        },
        "nteract": {
          "transient": {
            "deleting": false
          }
        },
        "execution": {
          "shell.execute_reply": "2022-08-27T19:15:53.997Z",
          "iopub.status.busy": "2022-08-27T19:15:53.357Z",
          "iopub.execute_input": "2022-08-27T19:15:53.360Z",
          "iopub.status.idle": "2022-08-27T19:15:54.003Z"
        }
      }
    },
    {
      "cell_type": "code",
      "source": [
        "# Visualize the actual stock price and the predicted stock price over the time period.\n",
        "plt.figure(figsize=(12,7))\n",
        "ax = test[['actual_stock_price','predictions']].plot(figsize=(12,8))\n",
        "plt.xlabel('Date', fontsize=12)\n",
        "plt.ylabel('Stock Price', fontsize=12)\n",
        "plt.title('Actual and Predicted Stock Prices', fontsize=15)\n",
        "plt.grid()\n",
        "plt.show()"
      ],
      "outputs": [
        {
          "output_type": "display_data",
          "data": {
            "text/plain": "<Figure size 864x504 with 0 Axes>"
          },
          "metadata": {}
        },
        {
          "output_type": "display_data",
          "data": {
            "text/plain": "<Figure size 864x576 with 1 Axes>",
            "image/png": "[encoded data removed]"
          },
          "metadata": {
            "needs_background": "light"
          }
        }
      ],
      "execution_count": 6,
      "metadata": {
        "collapsed": true,
        "jupyter": {
          "source_hidden": false,
          "outputs_hidden": false
        },
        "nteract": {
          "transient": {
            "deleting": false
          }
        },
        "execution": {
          "shell.execute_reply": "2022-08-27T19:15:54.160Z",
          "iopub.status.busy": "2022-08-27T19:15:54.007Z",
          "iopub.execute_input": "2022-08-27T19:15:54.010Z",
          "iopub.status.idle": "2022-08-27T19:15:54.151Z"
        }
      }
    }
  ],
  "metadata": {
    "kernel_info": {
      "name": "python3"
    },
    "language_info": {
      "name": "python",
      "version": "3.6.13",
      "mimetype": "text/x-python",
      "codemirror_mode": {
        "name": "ipython",
        "version": 3
      },
      "pygments_lexer": "ipython3",
      "nbconvert_exporter": "python",
      "file_extension": ".py"
    },
    "kernelspec": {
      "argv": [
        "C:/Users/Tin Hang/Anaconda3\\python.exe",
        "-m",
        "ipykernel_launcher",
        "-f",
        "{connection_file}"
      ],
      "display_name": "Python 3",
      "language": "python",
      "name": "python3"
    },
    "nteract": {
      "version": "0.28.0"
    }
  },
  "nbformat": 4,
  "nbformat_minor": 0
}