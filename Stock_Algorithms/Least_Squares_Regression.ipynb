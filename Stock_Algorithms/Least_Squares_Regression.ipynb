{
  "cells": [
    {
      "cell_type": "markdown",
      "source": [
        "# Least Squares Regression"
      ],
      "metadata": {}
    },
    {
      "cell_type": "markdown",
      "source": [
        "https://www.investopedia.com/terms/l/least-squares-method.asp"
      ],
      "metadata": {
        "nteract": {
          "transient": {
            "deleting": false
          }
        }
      }
    },
    {
      "cell_type": "code",
      "source": [
        "import numpy as np\n",
        "import pandas as pd\n",
        "import matplotlib.pyplot as plt\n",
        "\n",
        "import warnings\n",
        "warnings.filterwarnings(\"ignore\")\n",
        "\n",
        "# yahoo finance is used to fetch data \n",
        "import yfinance as yf\n",
        "yf.pdr_override()"
      ],
      "outputs": [],
      "execution_count": 1,
      "metadata": {
        "collapsed": false,
        "outputHidden": false,
        "inputHidden": false,
        "execution": {
          "iopub.status.busy": "2022-05-22T17:57:06.007Z",
          "iopub.execute_input": "2022-05-22T17:57:06.012Z",
          "shell.execute_reply": "2022-05-22T17:57:06.058Z",
          "iopub.status.idle": "2022-05-22T17:57:06.066Z"
        }
      }
    },
    {
      "cell_type": "code",
      "source": [
        "# input\n",
        "symbol = 'AMD'\n",
        "start = '2007-01-01'\n",
        "end = '2018-12-31'\n",
        "\n",
        "# Read data \n",
        "dataset = yf.download(symbol,start,end)\n",
        "\n",
        "# View Columns\n",
        "dataset.head()"
      ],
      "outputs": [
        {
          "output_type": "stream",
          "name": "stdout",
          "text": [
            "[*********************100%***********************]  1 of 1 completed\n"
          ]
        },
        {
          "output_type": "execute_result",
          "execution_count": 2,
          "data": {
            "text/plain": "                 Open       High        Low      Close  Adj Close    Volume\nDate                                                                       \n2007-01-03  20.080000  20.400000  19.350000  19.520000  19.520000  28350300\n2007-01-04  19.660000  19.860001  19.320000  19.790001  19.790001  23652500\n2007-01-05  19.540001  19.910000  19.540001  19.709999  19.709999  15902400\n2007-01-08  19.709999  19.860001  19.370001  19.469999  19.469999  15814800\n2007-01-09  19.450001  19.709999  19.370001  19.650000  19.650000  14494200",
            "text/html": "<div>\n<style scoped>\n    .dataframe tbody tr th:only-of-type {\n        vertical-align: middle;\n    }\n\n    .dataframe tbody tr th {\n        vertical-align: top;\n    }\n\n    .dataframe thead th {\n        text-align: right;\n    }\n</style>\n<table border=\"1\" class=\"dataframe\">\n  <thead>\n    <tr style=\"text-align: right;\">\n      <th></th>\n      <th>Open</th>\n      <th>High</th>\n      <th>Low</th>\n      <th>Close</th>\n      <th>Adj Close</th>\n      <th>Volume</th>\n    </tr>\n    <tr>\n      <th>Date</th>\n      <th></th>\n      <th></th>\n      <th></th>\n      <th></th>\n      <th></th>\n      <th></th>\n    </tr>\n  </thead>\n  <tbody>\n    <tr>\n      <th>2007-01-03</th>\n      <td>20.080000</td>\n      <td>20.400000</td>\n      <td>19.350000</td>\n      <td>19.520000</td>\n      <td>19.520000</td>\n      <td>28350300</td>\n    </tr>\n    <tr>\n      <th>2007-01-04</th>\n      <td>19.660000</td>\n      <td>19.860001</td>\n      <td>19.320000</td>\n      <td>19.790001</td>\n      <td>19.790001</td>\n      <td>23652500</td>\n    </tr>\n    <tr>\n      <th>2007-01-05</th>\n      <td>19.540001</td>\n      <td>19.910000</td>\n      <td>19.540001</td>\n      <td>19.709999</td>\n      <td>19.709999</td>\n      <td>15902400</td>\n    </tr>\n    <tr>\n      <th>2007-01-08</th>\n      <td>19.709999</td>\n      <td>19.860001</td>\n      <td>19.370001</td>\n      <td>19.469999</td>\n      <td>19.469999</td>\n      <td>15814800</td>\n    </tr>\n    <tr>\n      <th>2007-01-09</th>\n      <td>19.450001</td>\n      <td>19.709999</td>\n      <td>19.370001</td>\n      <td>19.650000</td>\n      <td>19.650000</td>\n      <td>14494200</td>\n    </tr>\n  </tbody>\n</table>\n</div>"
          },
          "metadata": {}
        }
      ],
      "execution_count": 2,
      "metadata": {
        "collapsed": false,
        "outputHidden": false,
        "inputHidden": false,
        "execution": {
          "iopub.status.busy": "2022-05-22T17:57:06.076Z",
          "iopub.execute_input": "2022-05-22T17:57:06.082Z",
          "iopub.status.idle": "2022-05-22T17:57:06.784Z",
          "shell.execute_reply": "2022-05-22T17:57:06.824Z"
        }
      }
    },
    {
      "cell_type": "code",
      "source": [
        "dataset['Open_Close'] = (dataset['Open'] - dataset['Adj Close'])/dataset['Open']\n",
        "dataset['High_Low'] = (dataset['High'] - dataset['Low'])/dataset['Low']\n",
        "dataset['Increase_Decrease'] = np.where(dataset['Volume'].shift(-1) > dataset['Volume'],1,0)\n",
        "dataset['Buy_Sell_on_Open'] = np.where(dataset['Open'].shift(-1) > dataset['Open'],1,0)\n",
        "dataset['Buy_Sell'] = np.where(dataset['Adj Close'].shift(-1) > dataset['Adj Close'],1,0)\n",
        "dataset['Returns'] = dataset['Adj Close'].pct_change()\n",
        "dataset = dataset.dropna()\n",
        "dataset.head()"
      ],
      "outputs": [
        {
          "output_type": "execute_result",
          "execution_count": 3,
          "data": {
            "text/plain": "                 Open       High        Low      Close  Adj Close    Volume  \\\nDate                                                                          \n2007-01-04  19.660000  19.860001  19.320000  19.790001  19.790001  23652500   \n2007-01-05  19.540001  19.910000  19.540001  19.709999  19.709999  15902400   \n2007-01-08  19.709999  19.860001  19.370001  19.469999  19.469999  15814800   \n2007-01-09  19.450001  19.709999  19.370001  19.650000  19.650000  14494200   \n2007-01-10  19.639999  20.020000  19.500000  20.010000  20.010000  19783200   \n\n            Open_Close  High_Low  Increase_Decrease  Buy_Sell_on_Open  \\\nDate                                                                    \n2007-01-04   -0.006612  0.027950                  0                 0   \n2007-01-05   -0.008700  0.018935                  0                 1   \n2007-01-08    0.012177  0.025297                  0                 0   \n2007-01-09   -0.010283  0.017553                  1                 1   \n2007-01-10   -0.018839  0.026667                  1                 1   \n\n            Buy_Sell   Returns  \nDate                            \n2007-01-04         0  0.013832  \n2007-01-05         0 -0.004043  \n2007-01-08         1 -0.012177  \n2007-01-09         1  0.009245  \n2007-01-10         1  0.018321  ",
            "text/html": "<div>\n<style scoped>\n    .dataframe tbody tr th:only-of-type {\n        vertical-align: middle;\n    }\n\n    .dataframe tbody tr th {\n        vertical-align: top;\n    }\n\n    .dataframe thead th {\n        text-align: right;\n    }\n</style>\n<table border=\"1\" class=\"dataframe\">\n  <thead>\n    <tr style=\"text-align: right;\">\n      <th></th>\n      <th>Open</th>\n      <th>High</th>\n      <th>Low</th>\n      <th>Close</th>\n      <th>Adj Close</th>\n      <th>Volume</th>\n      <th>Open_Close</th>\n      <th>High_Low</th>\n      <th>Increase_Decrease</th>\n      <th>Buy_Sell_on_Open</th>\n      <th>Buy_Sell</th>\n      <th>Returns</th>\n    </tr>\n    <tr>\n      <th>Date</th>\n      <th></th>\n      <th></th>\n      <th></th>\n      <th></th>\n      <th></th>\n      <th></th>\n      <th></th>\n      <th></th>\n      <th></th>\n      <th></th>\n      <th></th>\n      <th></th>\n    </tr>\n  </thead>\n  <tbody>\n    <tr>\n      <th>2007-01-04</th>\n      <td>19.660000</td>\n      <td>19.860001</td>\n      <td>19.320000</td>\n      <td>19.790001</td>\n      <td>19.790001</td>\n      <td>23652500</td>\n      <td>-0.006612</td>\n      <td>0.027950</td>\n      <td>0</td>\n      <td>0</td>\n      <td>0</td>\n      <td>0.013832</td>\n    </tr>\n    <tr>\n      <th>2007-01-05</th>\n      <td>19.540001</td>\n      <td>19.910000</td>\n      <td>19.540001</td>\n      <td>19.709999</td>\n      <td>19.709999</td>\n      <td>15902400</td>\n      <td>-0.008700</td>\n      <td>0.018935</td>\n      <td>0</td>\n      <td>1</td>\n      <td>0</td>\n      <td>-0.004043</td>\n    </tr>\n    <tr>\n      <th>2007-01-08</th>\n      <td>19.709999</td>\n      <td>19.860001</td>\n      <td>19.370001</td>\n      <td>19.469999</td>\n      <td>19.469999</td>\n      <td>15814800</td>\n      <td>0.012177</td>\n      <td>0.025297</td>\n      <td>0</td>\n      <td>0</td>\n      <td>1</td>\n      <td>-0.012177</td>\n    </tr>\n    <tr>\n      <th>2007-01-09</th>\n      <td>19.450001</td>\n      <td>19.709999</td>\n      <td>19.370001</td>\n      <td>19.650000</td>\n      <td>19.650000</td>\n      <td>14494200</td>\n      <td>-0.010283</td>\n      <td>0.017553</td>\n      <td>1</td>\n      <td>1</td>\n      <td>1</td>\n      <td>0.009245</td>\n    </tr>\n    <tr>\n      <th>2007-01-10</th>\n      <td>19.639999</td>\n      <td>20.020000</td>\n      <td>19.500000</td>\n      <td>20.010000</td>\n      <td>20.010000</td>\n      <td>19783200</td>\n      <td>-0.018839</td>\n      <td>0.026667</td>\n      <td>1</td>\n      <td>1</td>\n      <td>1</td>\n      <td>0.018321</td>\n    </tr>\n  </tbody>\n</table>\n</div>"
          },
          "metadata": {}
        }
      ],
      "execution_count": 3,
      "metadata": {
        "collapsed": false,
        "outputHidden": false,
        "inputHidden": false,
        "execution": {
          "iopub.status.busy": "2022-05-22T17:57:06.793Z",
          "iopub.execute_input": "2022-05-22T17:57:06.798Z",
          "shell.execute_reply": "2022-05-22T17:57:06.829Z",
          "iopub.status.idle": "2022-05-22T17:57:06.841Z"
        }
      }
    },
    {
      "cell_type": "code",
      "source": [
        "dataset.shape"
      ],
      "outputs": [
        {
          "output_type": "execute_result",
          "execution_count": 4,
          "data": {
            "text/plain": "(3018, 12)"
          },
          "metadata": {}
        }
      ],
      "execution_count": 4,
      "metadata": {
        "collapsed": false,
        "outputHidden": false,
        "inputHidden": false,
        "execution": {
          "shell.execute_reply": "2022-05-22T17:57:06.832Z",
          "iopub.status.busy": "2022-05-22T17:57:06.850Z",
          "iopub.execute_input": "2022-05-22T17:57:06.856Z",
          "iopub.status.idle": "2022-05-22T17:57:06.865Z"
        }
      }
    },
    {
      "cell_type": "code",
      "source": [
        "dataset.info()"
      ],
      "outputs": [
        {
          "output_type": "stream",
          "name": "stdout",
          "text": [
            "<class 'pandas.core.frame.DataFrame'>\n",
            "DatetimeIndex: 3018 entries, 2007-01-04 to 2018-12-28\n",
            "Data columns (total 12 columns):\n",
            " #   Column             Non-Null Count  Dtype  \n",
            "---  ------             --------------  -----  \n",
            " 0   Open               3018 non-null   float64\n",
            " 1   High               3018 non-null   float64\n",
            " 2   Low                3018 non-null   float64\n",
            " 3   Close              3018 non-null   float64\n",
            " 4   Adj Close          3018 non-null   float64\n",
            " 5   Volume             3018 non-null   int64  \n",
            " 6   Open_Close         3018 non-null   float64\n",
            " 7   High_Low           3018 non-null   float64\n",
            " 8   Increase_Decrease  3018 non-null   int32  \n",
            " 9   Buy_Sell_on_Open   3018 non-null   int32  \n",
            " 10  Buy_Sell           3018 non-null   int32  \n",
            " 11  Returns            3018 non-null   float64\n",
            "dtypes: float64(8), int32(3), int64(1)\n",
            "memory usage: 271.1 KB\n"
          ]
        }
      ],
      "execution_count": 5,
      "metadata": {
        "collapsed": false,
        "outputHidden": false,
        "inputHidden": false,
        "execution": {
          "shell.execute_reply": "2022-05-22T17:57:06.990Z",
          "iopub.status.busy": "2022-05-22T17:57:06.871Z",
          "iopub.execute_input": "2022-05-22T17:57:06.876Z",
          "iopub.status.idle": "2022-05-22T17:57:06.887Z"
        }
      }
    },
    {
      "cell_type": "code",
      "source": [
        "x = dataset['Adj Close']\n",
        "y = 1 + x + x * np.random.random(len(x))"
      ],
      "outputs": [],
      "execution_count": 6,
      "metadata": {
        "collapsed": false,
        "outputHidden": false,
        "inputHidden": false,
        "execution": {
          "iopub.status.busy": "2022-05-22T17:57:06.896Z",
          "iopub.execute_input": "2022-05-22T17:57:06.900Z",
          "iopub.status.idle": "2022-05-22T17:57:06.910Z",
          "shell.execute_reply": "2022-05-22T17:57:06.993Z"
        }
      }
    },
    {
      "cell_type": "code",
      "source": [
        "A = np.vstack([x, np.ones(len(x))]).T\n",
        "\n",
        "y = y[:, np.newaxis]"
      ],
      "outputs": [],
      "execution_count": 7,
      "metadata": {
        "collapsed": false,
        "outputHidden": false,
        "inputHidden": false,
        "execution": {
          "iopub.status.busy": "2022-05-22T17:57:06.917Z",
          "iopub.execute_input": "2022-05-22T17:57:06.923Z",
          "iopub.status.idle": "2022-05-22T17:57:06.931Z",
          "shell.execute_reply": "2022-05-22T17:57:06.996Z"
        }
      }
    },
    {
      "cell_type": "code",
      "source": [
        "alpha = np.dot((np.dot(np.linalg.inv(np.dot(A.T,A)),A.T)),y)\n",
        "print(alpha)"
      ],
      "outputs": [
        {
          "output_type": "stream",
          "name": "stdout",
          "text": [
            "[[1.5013497 ]\n",
            " [1.01950148]]\n"
          ]
        }
      ],
      "execution_count": 8,
      "metadata": {
        "collapsed": false,
        "outputHidden": false,
        "inputHidden": false,
        "execution": {
          "iopub.status.busy": "2022-05-22T17:57:06.937Z",
          "iopub.execute_input": "2022-05-22T17:57:06.943Z",
          "iopub.status.idle": "2022-05-22T17:57:06.953Z",
          "shell.execute_reply": "2022-05-22T17:57:06.999Z"
        }
      }
    },
    {
      "cell_type": "code",
      "source": [
        "plt.figure(figsize = (10,8))\n",
        "plt.plot(x, y, 'b.')\n",
        "plt.plot(x, alpha[0]*x + alpha[1], 'r')\n",
        "plt.xlabel('x')\n",
        "plt.ylabel('y')\n",
        "plt.show()"
      ],
      "outputs": [
        {
          "output_type": "display_data",
          "data": {
            "text/plain": "<Figure size 720x576 with 1 Axes>",
            "image/png": "[encoded data removed]"
          },
          "metadata": {
            "needs_background": "light"
          }
        }
      ],
      "execution_count": 9,
      "metadata": {
        "collapsed": false,
        "outputHidden": false,
        "inputHidden": false,
        "execution": {
          "iopub.status.busy": "2022-05-22T17:57:06.961Z",
          "iopub.execute_input": "2022-05-22T17:57:06.966Z",
          "iopub.status.idle": "2022-05-22T17:57:07.016Z",
          "shell.execute_reply": "2022-05-22T17:57:07.004Z"
        }
      }
    },
    {
      "cell_type": "code",
      "source": [
        "pinv = np.linalg.pinv(A)\n",
        "alpha = pinv.dot(y)\n",
        "print(alpha)"
      ],
      "outputs": [
        {
          "output_type": "stream",
          "name": "stdout",
          "text": [
            "[[1.5013497 ]\n",
            " [1.01950148]]\n"
          ]
        }
      ],
      "execution_count": 10,
      "metadata": {
        "collapsed": false,
        "outputHidden": false,
        "inputHidden": false,
        "execution": {
          "iopub.status.busy": "2022-05-22T17:57:07.024Z",
          "iopub.execute_input": "2022-05-22T17:57:07.029Z",
          "iopub.status.idle": "2022-05-22T17:57:07.041Z",
          "shell.execute_reply": "2022-05-22T17:57:07.143Z"
        }
      }
    },
    {
      "cell_type": "code",
      "source": [
        "alpha = np.linalg.lstsq(A, y, rcond=None)[0]\n",
        "print(alpha)"
      ],
      "outputs": [
        {
          "output_type": "stream",
          "name": "stdout",
          "text": [
            "[[1.5013497 ]\n",
            " [1.01950148]]\n"
          ]
        }
      ],
      "execution_count": 11,
      "metadata": {
        "collapsed": false,
        "outputHidden": false,
        "inputHidden": false,
        "execution": {
          "iopub.status.busy": "2022-05-22T17:57:07.049Z",
          "iopub.execute_input": "2022-05-22T17:57:07.054Z",
          "iopub.status.idle": "2022-05-22T17:57:07.065Z",
          "shell.execute_reply": "2022-05-22T17:57:07.148Z"
        }
      }
    },
    {
      "cell_type": "code",
      "source": [
        "# Mean X and Y\n",
        "mean_x = np.mean(x)\n",
        "mean_y = np.mean(y)\n",
        " \n",
        "# Total number of values\n",
        "n = len(x)"
      ],
      "outputs": [],
      "execution_count": 12,
      "metadata": {
        "collapsed": false,
        "outputHidden": false,
        "inputHidden": false,
        "execution": {
          "iopub.status.busy": "2022-05-22T17:57:07.072Z",
          "iopub.execute_input": "2022-05-22T17:57:07.077Z",
          "iopub.status.idle": "2022-05-22T17:57:07.085Z",
          "shell.execute_reply": "2022-05-22T17:57:07.151Z"
        }
      }
    },
    {
      "cell_type": "code",
      "source": [
        "numer = 0\n",
        "denom = 0\n",
        "for i in range(n):\n",
        "    numer += (x[i] - mean_x) * (y[i] - mean_y)\n",
        "    denom += (x[i] - mean_x) ** 2\n",
        "    m = numer / denom\n",
        "    c = mean_y - (m * mean_x)\n",
        " \n",
        "print(\"Coefficients\")\n",
        "print(m, c)"
      ],
      "outputs": [
        {
          "output_type": "stream",
          "name": "stdout",
          "text": [
            "Coefficients\n",
            "[1.5013497] [1.01950148]\n"
          ]
        }
      ],
      "execution_count": 13,
      "metadata": {
        "collapsed": true,
        "jupyter": {
          "source_hidden": false,
          "outputs_hidden": false
        },
        "nteract": {
          "transient": {
            "deleting": false
          }
        },
        "execution": {
          "iopub.status.busy": "2022-05-22T17:57:07.095Z",
          "iopub.execute_input": "2022-05-22T17:57:07.101Z",
          "iopub.status.idle": "2022-05-22T17:57:07.115Z",
          "shell.execute_reply": "2022-05-22T17:57:07.155Z"
        }
      }
    },
    {
      "cell_type": "code",
      "source": [
        "max_x = np.max(x) + 100\n",
        "min_x = np.min(x) - 100\n",
        " \n",
        "# Calculating line values x and y\n",
        "X = np.linspace(min_x, max_x, len(x))\n",
        "Y = c + m * x\n",
        " \n",
        "# Ploting Line\n",
        "plt.plot(X, Y, color='green', label='Regression Line')\n",
        "# Ploting Scatter Points\n",
        "plt.scatter(x, y, c='red', label='Scatter Plot')\n",
        " \n",
        "plt.xlabel('Original Stock Price')\n",
        "plt.ylabel('Stock Price')\n",
        "plt.legend()\n",
        "plt.show()"
      ],
      "outputs": [
        {
          "output_type": "display_data",
          "data": {
            "text/plain": "<Figure size 432x288 with 1 Axes>",
            "image/png": "[encoded data removed]"
          },
          "metadata": {
            "needs_background": "light"
          }
        }
      ],
      "execution_count": 14,
      "metadata": {
        "collapsed": true,
        "jupyter": {
          "source_hidden": false,
          "outputs_hidden": false
        },
        "nteract": {
          "transient": {
            "deleting": false
          }
        },
        "execution": {
          "iopub.status.busy": "2022-05-22T17:57:07.123Z",
          "iopub.execute_input": "2022-05-22T17:57:07.127Z",
          "iopub.status.idle": "2022-05-22T17:57:07.220Z",
          "shell.execute_reply": "2022-05-22T17:57:07.227Z"
        }
      }
    },
    {
      "cell_type": "code",
      "source": [
        "rmse = 0\n",
        "for i in range(n):\n",
        "    y_pred = c + m * x[i]\n",
        "    rmse += (y[i] - y_pred) ** 2\n",
        "rmse = np.sqrt(rmse/n)\n",
        "print(\"RMSE:\")\n",
        "print(rmse)"
      ],
      "outputs": [
        {
          "output_type": "stream",
          "name": "stdout",
          "text": [
            "RMSE:\n",
            "[2.53710592]\n"
          ]
        }
      ],
      "execution_count": 15,
      "metadata": {
        "collapsed": true,
        "jupyter": {
          "source_hidden": false,
          "outputs_hidden": false
        },
        "nteract": {
          "transient": {
            "deleting": false
          }
        },
        "execution": {
          "iopub.status.busy": "2022-05-22T17:57:07.238Z",
          "iopub.execute_input": "2022-05-22T17:57:07.246Z",
          "iopub.status.idle": "2022-05-22T17:57:07.261Z",
          "shell.execute_reply": "2022-05-22T17:57:07.272Z"
        }
      }
    },
    {
      "cell_type": "code",
      "source": [
        "ss_tot = 0\n",
        "ss_res = 0\n",
        "for i in range(n):\n",
        "    y_pred = c + m * x[i]\n",
        "    ss_tot += (y[i] - mean_y) ** 2\n",
        "    ss_res += (y[i] - y_pred) ** 2\n",
        "r2 = 1 - (ss_res/ss_tot)\n",
        "print(\"R2 Score:\")\n",
        "print(r2)"
      ],
      "outputs": [
        {
          "output_type": "stream",
          "name": "stdout",
          "text": [
            "R2 Score:\n",
            "[0.89856612]\n"
          ]
        }
      ],
      "execution_count": 16,
      "metadata": {
        "collapsed": true,
        "jupyter": {
          "source_hidden": false,
          "outputs_hidden": false
        },
        "nteract": {
          "transient": {
            "deleting": false
          }
        },
        "execution": {
          "iopub.status.busy": "2022-05-22T17:57:07.281Z",
          "iopub.execute_input": "2022-05-22T17:57:07.286Z",
          "shell.execute_reply": "2022-05-22T17:57:07.307Z",
          "iopub.status.idle": "2022-05-22T17:57:07.297Z"
        }
      }
    }
  ],
  "metadata": {
    "kernel_info": {
      "name": "python3"
    },
    "language_info": {
      "name": "python",
      "version": "3.6.13",
      "mimetype": "text/x-python",
      "codemirror_mode": {
        "name": "ipython",
        "version": 3
      },
      "pygments_lexer": "ipython3",
      "nbconvert_exporter": "python",
      "file_extension": ".py"
    },
    "kernelspec": {
      "name": "python3",
      "language": "python",
      "display_name": "Python 3"
    },
    "nteract": {
      "version": "0.28.0"
    }
  },
  "nbformat": 4,
  "nbformat_minor": 0
}