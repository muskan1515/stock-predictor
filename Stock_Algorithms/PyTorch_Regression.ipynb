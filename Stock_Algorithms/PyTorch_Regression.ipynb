{
  "cells": [
    {
      "cell_type": "markdown",
      "source": [
        "# PyTorch Regression"
      ],
      "metadata": {
        "nteract": {
          "transient": {
            "deleting": false
          }
        }
      }
    },
    {
      "cell_type": "code",
      "source": [
        "import numpy as np\n",
        "import matplotlib.pyplot as plt\n",
        "import pandas as pd\n",
        "\n",
        "import warnings\n",
        "warnings.filterwarnings(\"ignore\")\n",
        "\n",
        "import yfinance as yf\n",
        "yf.pdr_override()"
      ],
      "outputs": [],
      "execution_count": 1,
      "metadata": {
        "collapsed": true,
        "jupyter": {
          "source_hidden": false,
          "outputs_hidden": false
        },
        "nteract": {
          "transient": {
            "deleting": false
          }
        },
        "execution": {
          "iopub.status.busy": "2022-06-02T01:53:31.545Z",
          "iopub.execute_input": "2022-06-02T01:53:31.551Z",
          "shell.execute_reply": "2022-06-02T01:53:31.516Z",
          "iopub.status.idle": "2022-06-02T01:53:31.558Z"
        }
      }
    },
    {
      "cell_type": "code",
      "source": [
        "# input\n",
        "symbol = 'AMD'\n",
        "start = '2014-01-01'\n",
        "end = '2018-08-27'\n",
        "\n",
        "# Read data \n",
        "dataset = yf.download(symbol,start,end)\n",
        "\n",
        "# View Columns\n",
        "dataset.head()"
      ],
      "outputs": [
        {
          "output_type": "stream",
          "name": "stdout",
          "text": [
            "[*********************100%***********************]  1 of 1 completed\n"
          ]
        },
        {
          "output_type": "execute_result",
          "execution_count": 2,
          "data": {
            "text/plain": "            Open  High   Low  Close  Adj Close    Volume\nDate                                                    \n2014-01-02  3.85  3.98  3.84   3.95       3.95  20548400\n2014-01-03  3.98  4.00  3.88   4.00       4.00  22887200\n2014-01-06  4.01  4.18  3.99   4.13       4.13  42398300\n2014-01-07  4.19  4.25  4.11   4.18       4.18  42932100\n2014-01-08  4.23  4.26  4.14   4.18       4.18  30678700",
            "text/html": "<div>\n<style scoped>\n    .dataframe tbody tr th:only-of-type {\n        vertical-align: middle;\n    }\n\n    .dataframe tbody tr th {\n        vertical-align: top;\n    }\n\n    .dataframe thead th {\n        text-align: right;\n    }\n</style>\n<table border=\"1\" class=\"dataframe\">\n  <thead>\n    <tr style=\"text-align: right;\">\n      <th></th>\n      <th>Open</th>\n      <th>High</th>\n      <th>Low</th>\n      <th>Close</th>\n      <th>Adj Close</th>\n      <th>Volume</th>\n    </tr>\n    <tr>\n      <th>Date</th>\n      <th></th>\n      <th></th>\n      <th></th>\n      <th></th>\n      <th></th>\n      <th></th>\n    </tr>\n  </thead>\n  <tbody>\n    <tr>\n      <th>2014-01-02</th>\n      <td>3.85</td>\n      <td>3.98</td>\n      <td>3.84</td>\n      <td>3.95</td>\n      <td>3.95</td>\n      <td>20548400</td>\n    </tr>\n    <tr>\n      <th>2014-01-03</th>\n      <td>3.98</td>\n      <td>4.00</td>\n      <td>3.88</td>\n      <td>4.00</td>\n      <td>4.00</td>\n      <td>22887200</td>\n    </tr>\n    <tr>\n      <th>2014-01-06</th>\n      <td>4.01</td>\n      <td>4.18</td>\n      <td>3.99</td>\n      <td>4.13</td>\n      <td>4.13</td>\n      <td>42398300</td>\n    </tr>\n    <tr>\n      <th>2014-01-07</th>\n      <td>4.19</td>\n      <td>4.25</td>\n      <td>4.11</td>\n      <td>4.18</td>\n      <td>4.18</td>\n      <td>42932100</td>\n    </tr>\n    <tr>\n      <th>2014-01-08</th>\n      <td>4.23</td>\n      <td>4.26</td>\n      <td>4.14</td>\n      <td>4.18</td>\n      <td>4.18</td>\n      <td>30678700</td>\n    </tr>\n  </tbody>\n</table>\n</div>"
          },
          "metadata": {}
        }
      ],
      "execution_count": 2,
      "metadata": {
        "collapsed": true,
        "jupyter": {
          "source_hidden": false,
          "outputs_hidden": false
        },
        "nteract": {
          "transient": {
            "deleting": false
          }
        },
        "execution": {
          "iopub.status.busy": "2022-06-02T01:53:31.565Z",
          "iopub.execute_input": "2022-06-02T01:53:31.569Z",
          "shell.execute_reply": "2022-06-02T01:53:32.260Z",
          "iopub.status.idle": "2022-06-02T01:53:32.154Z"
        }
      }
    },
    {
      "cell_type": "code",
      "source": [
        "dataset['Increase_Decrease'] = np.where(dataset['Volume'].shift(-1) > dataset['Volume'],1,0)\n",
        "dataset['Buy_Sell_on_Open'] = np.where(dataset['Open'].shift(-1) > dataset['Open'],1,0)\n",
        "dataset['Buy_Sell'] = np.where(dataset['Adj Close'].shift(-1) > dataset['Adj Close'],1,0)\n",
        "dataset['Returns'] = dataset['Adj Close'].pct_change()\n",
        "dataset = dataset.dropna()"
      ],
      "outputs": [],
      "execution_count": 3,
      "metadata": {
        "collapsed": true,
        "jupyter": {
          "source_hidden": false,
          "outputs_hidden": false
        },
        "nteract": {
          "transient": {
            "deleting": false
          }
        },
        "execution": {
          "shell.execute_reply": "2022-06-02T01:53:32.263Z",
          "iopub.status.busy": "2022-06-02T01:53:32.163Z",
          "iopub.execute_input": "2022-06-02T01:53:32.167Z",
          "iopub.status.idle": "2022-06-02T01:53:32.175Z"
        }
      }
    },
    {
      "cell_type": "code",
      "source": [
        "dataset.head()"
      ],
      "outputs": [
        {
          "output_type": "execute_result",
          "execution_count": 4,
          "data": {
            "text/plain": "            Open  High   Low  Close  Adj Close    Volume  Increase_Decrease  \\\nDate                                                                          \n2014-01-03  3.98  4.00  3.88   4.00       4.00  22887200                  1   \n2014-01-06  4.01  4.18  3.99   4.13       4.13  42398300                  1   \n2014-01-07  4.19  4.25  4.11   4.18       4.18  42932100                  0   \n2014-01-08  4.23  4.26  4.14   4.18       4.18  30678700                  0   \n2014-01-09  4.20  4.23  4.05   4.09       4.09  30667600                  0   \n\n            Buy_Sell_on_Open  Buy_Sell   Returns  \nDate                                              \n2014-01-03                 1         1  0.012658  \n2014-01-06                 1         1  0.032500  \n2014-01-07                 1         0  0.012106  \n2014-01-08                 0         0  0.000000  \n2014-01-09                 0         1 -0.021531  ",
            "text/html": "<div>\n<style scoped>\n    .dataframe tbody tr th:only-of-type {\n        vertical-align: middle;\n    }\n\n    .dataframe tbody tr th {\n        vertical-align: top;\n    }\n\n    .dataframe thead th {\n        text-align: right;\n    }\n</style>\n<table border=\"1\" class=\"dataframe\">\n  <thead>\n    <tr style=\"text-align: right;\">\n      <th></th>\n      <th>Open</th>\n      <th>High</th>\n      <th>Low</th>\n      <th>Close</th>\n      <th>Adj Close</th>\n      <th>Volume</th>\n      <th>Increase_Decrease</th>\n      <th>Buy_Sell_on_Open</th>\n      <th>Buy_Sell</th>\n      <th>Returns</th>\n    </tr>\n    <tr>\n      <th>Date</th>\n      <th></th>\n      <th></th>\n      <th></th>\n      <th></th>\n      <th></th>\n      <th></th>\n      <th></th>\n      <th></th>\n      <th></th>\n      <th></th>\n    </tr>\n  </thead>\n  <tbody>\n    <tr>\n      <th>2014-01-03</th>\n      <td>3.98</td>\n      <td>4.00</td>\n      <td>3.88</td>\n      <td>4.00</td>\n      <td>4.00</td>\n      <td>22887200</td>\n      <td>1</td>\n      <td>1</td>\n      <td>1</td>\n      <td>0.012658</td>\n    </tr>\n    <tr>\n      <th>2014-01-06</th>\n      <td>4.01</td>\n      <td>4.18</td>\n      <td>3.99</td>\n      <td>4.13</td>\n      <td>4.13</td>\n      <td>42398300</td>\n      <td>1</td>\n      <td>1</td>\n      <td>1</td>\n      <td>0.032500</td>\n    </tr>\n    <tr>\n      <th>2014-01-07</th>\n      <td>4.19</td>\n      <td>4.25</td>\n      <td>4.11</td>\n      <td>4.18</td>\n      <td>4.18</td>\n      <td>42932100</td>\n      <td>0</td>\n      <td>1</td>\n      <td>0</td>\n      <td>0.012106</td>\n    </tr>\n    <tr>\n      <th>2014-01-08</th>\n      <td>4.23</td>\n      <td>4.26</td>\n      <td>4.14</td>\n      <td>4.18</td>\n      <td>4.18</td>\n      <td>30678700</td>\n      <td>0</td>\n      <td>0</td>\n      <td>0</td>\n      <td>0.000000</td>\n    </tr>\n    <tr>\n      <th>2014-01-09</th>\n      <td>4.20</td>\n      <td>4.23</td>\n      <td>4.05</td>\n      <td>4.09</td>\n      <td>4.09</td>\n      <td>30667600</td>\n      <td>0</td>\n      <td>0</td>\n      <td>1</td>\n      <td>-0.021531</td>\n    </tr>\n  </tbody>\n</table>\n</div>"
          },
          "metadata": {}
        }
      ],
      "execution_count": 4,
      "metadata": {
        "collapsed": true,
        "jupyter": {
          "source_hidden": false,
          "outputs_hidden": false
        },
        "nteract": {
          "transient": {
            "deleting": false
          }
        },
        "execution": {
          "shell.execute_reply": "2022-06-02T01:53:32.266Z",
          "iopub.status.busy": "2022-06-02T01:53:32.183Z",
          "iopub.execute_input": "2022-06-02T01:53:32.187Z",
          "iopub.status.idle": "2022-06-02T01:53:32.199Z"
        }
      }
    },
    {
      "cell_type": "code",
      "source": [
        "dataset.tail()"
      ],
      "outputs": [
        {
          "output_type": "execute_result",
          "execution_count": 5,
          "data": {
            "text/plain": "                 Open   High        Low      Close  Adj Close     Volume  \\\nDate                                                                       \n2018-08-20  19.790001  20.08  19.350000  19.980000  19.980000   62983200   \n2018-08-21  19.980000  20.42  19.860001  20.400000  20.400000   55629000   \n2018-08-22  20.280001  20.92  20.209999  20.900000  20.900000   62002700   \n2018-08-23  21.190001  22.32  21.139999  22.290001  22.290001  113444100   \n2018-08-24  22.910000  24.00  22.670000  23.980000  23.980000  164328200   \n\n            Increase_Decrease  Buy_Sell_on_Open  Buy_Sell   Returns  \nDate                                                                 \n2018-08-20                  0                 1         1  0.010622  \n2018-08-21                  1                 1         1  0.021021  \n2018-08-22                  1                 1         1  0.024510  \n2018-08-23                  1                 1         1  0.066507  \n2018-08-24                  0                 0         0  0.075819  ",
            "text/html": "<div>\n<style scoped>\n    .dataframe tbody tr th:only-of-type {\n        vertical-align: middle;\n    }\n\n    .dataframe tbody tr th {\n        vertical-align: top;\n    }\n\n    .dataframe thead th {\n        text-align: right;\n    }\n</style>\n<table border=\"1\" class=\"dataframe\">\n  <thead>\n    <tr style=\"text-align: right;\">\n      <th></th>\n      <th>Open</th>\n      <th>High</th>\n      <th>Low</th>\n      <th>Close</th>\n      <th>Adj Close</th>\n      <th>Volume</th>\n      <th>Increase_Decrease</th>\n      <th>Buy_Sell_on_Open</th>\n      <th>Buy_Sell</th>\n      <th>Returns</th>\n    </tr>\n    <tr>\n      <th>Date</th>\n      <th></th>\n      <th></th>\n      <th></th>\n      <th></th>\n      <th></th>\n      <th></th>\n      <th></th>\n      <th></th>\n      <th></th>\n      <th></th>\n    </tr>\n  </thead>\n  <tbody>\n    <tr>\n      <th>2018-08-20</th>\n      <td>19.790001</td>\n      <td>20.08</td>\n      <td>19.350000</td>\n      <td>19.980000</td>\n      <td>19.980000</td>\n      <td>62983200</td>\n      <td>0</td>\n      <td>1</td>\n      <td>1</td>\n      <td>0.010622</td>\n    </tr>\n    <tr>\n      <th>2018-08-21</th>\n      <td>19.980000</td>\n      <td>20.42</td>\n      <td>19.860001</td>\n      <td>20.400000</td>\n      <td>20.400000</td>\n      <td>55629000</td>\n      <td>1</td>\n      <td>1</td>\n      <td>1</td>\n      <td>0.021021</td>\n    </tr>\n    <tr>\n      <th>2018-08-22</th>\n      <td>20.280001</td>\n      <td>20.92</td>\n      <td>20.209999</td>\n      <td>20.900000</td>\n      <td>20.900000</td>\n      <td>62002700</td>\n      <td>1</td>\n      <td>1</td>\n      <td>1</td>\n      <td>0.024510</td>\n    </tr>\n    <tr>\n      <th>2018-08-23</th>\n      <td>21.190001</td>\n      <td>22.32</td>\n      <td>21.139999</td>\n      <td>22.290001</td>\n      <td>22.290001</td>\n      <td>113444100</td>\n      <td>1</td>\n      <td>1</td>\n      <td>1</td>\n      <td>0.066507</td>\n    </tr>\n    <tr>\n      <th>2018-08-24</th>\n      <td>22.910000</td>\n      <td>24.00</td>\n      <td>22.670000</td>\n      <td>23.980000</td>\n      <td>23.980000</td>\n      <td>164328200</td>\n      <td>0</td>\n      <td>0</td>\n      <td>0</td>\n      <td>0.075819</td>\n    </tr>\n  </tbody>\n</table>\n</div>"
          },
          "metadata": {}
        }
      ],
      "execution_count": 5,
      "metadata": {
        "collapsed": true,
        "jupyter": {
          "source_hidden": false,
          "outputs_hidden": false
        },
        "nteract": {
          "transient": {
            "deleting": false
          }
        },
        "execution": {
          "shell.execute_reply": "2022-06-02T01:53:32.269Z",
          "iopub.status.busy": "2022-06-02T01:53:32.205Z",
          "iopub.execute_input": "2022-06-02T01:53:32.211Z",
          "iopub.status.idle": "2022-06-02T01:53:32.222Z"
        }
      }
    },
    {
      "cell_type": "code",
      "source": [
        "dataset.shape"
      ],
      "outputs": [
        {
          "output_type": "execute_result",
          "execution_count": 6,
          "data": {
            "text/plain": "(1170, 10)"
          },
          "metadata": {}
        }
      ],
      "execution_count": 6,
      "metadata": {
        "collapsed": true,
        "jupyter": {
          "source_hidden": false,
          "outputs_hidden": false
        },
        "nteract": {
          "transient": {
            "deleting": false
          }
        },
        "execution": {
          "shell.execute_reply": "2022-06-02T01:53:32.272Z",
          "iopub.status.busy": "2022-06-02T01:53:32.229Z",
          "iopub.execute_input": "2022-06-02T01:53:32.234Z",
          "iopub.status.idle": "2022-06-02T01:53:32.244Z"
        }
      }
    },
    {
      "cell_type": "code",
      "source": [
        "import torch\n",
        "\n",
        "X = torch.Tensor(dataset[['Open']].values)\n",
        "y = torch.Tensor(dataset[['Adj Close']].values)"
      ],
      "outputs": [],
      "execution_count": 7,
      "metadata": {
        "collapsed": true,
        "jupyter": {
          "source_hidden": false,
          "outputs_hidden": false
        },
        "nteract": {
          "transient": {
            "deleting": false
          }
        },
        "execution": {
          "iopub.status.busy": "2022-06-02T01:53:32.250Z",
          "iopub.execute_input": "2022-06-02T01:53:32.255Z",
          "iopub.status.idle": "2022-06-02T01:53:33.102Z",
          "shell.execute_reply": "2022-06-02T01:53:33.184Z"
        }
      }
    },
    {
      "cell_type": "code",
      "source": [
        "in_features = 1 # number of independent variables\n",
        "out_features = 1 # dimension of predicted variables\n",
        "# bias is default true and can be skipped\n",
        "model = torch.nn.Linear(in_features=in_features, out_features=out_features, bias=True)"
      ],
      "outputs": [],
      "execution_count": 8,
      "metadata": {
        "collapsed": true,
        "jupyter": {
          "source_hidden": false,
          "outputs_hidden": false
        },
        "nteract": {
          "transient": {
            "deleting": false
          }
        },
        "execution": {
          "iopub.status.busy": "2022-06-02T01:53:33.109Z",
          "iopub.execute_input": "2022-06-02T01:53:33.114Z",
          "iopub.status.idle": "2022-06-02T01:53:33.123Z",
          "shell.execute_reply": "2022-06-02T01:53:33.187Z"
        }
      }
    },
    {
      "cell_type": "code",
      "source": [
        "mse_loss = torch.nn.MSELoss()\n",
        "\n",
        "\n"
      ],
      "outputs": [],
      "execution_count": 9,
      "metadata": {
        "collapsed": true,
        "jupyter": {
          "source_hidden": false,
          "outputs_hidden": false
        },
        "nteract": {
          "transient": {
            "deleting": false
          }
        },
        "execution": {
          "iopub.status.busy": "2022-06-02T01:53:33.131Z",
          "iopub.execute_input": "2022-06-02T01:53:33.135Z",
          "iopub.status.idle": "2022-06-02T01:53:33.144Z",
          "shell.execute_reply": "2022-06-02T01:53:33.190Z"
        }
      }
    },
    {
      "cell_type": "code",
      "source": [
        "optimizer = torch.optim.SGD(model.parameters(), lr=0.01)\n"
      ],
      "outputs": [],
      "execution_count": 10,
      "metadata": {
        "collapsed": true,
        "jupyter": {
          "source_hidden": false,
          "outputs_hidden": false
        },
        "nteract": {
          "transient": {
            "deleting": false
          }
        },
        "execution": {
          "iopub.status.busy": "2022-06-02T01:53:33.155Z",
          "iopub.execute_input": "2022-06-02T01:53:33.161Z",
          "iopub.status.idle": "2022-06-02T01:53:33.168Z",
          "shell.execute_reply": "2022-06-02T01:53:33.194Z"
        }
      }
    },
    {
      "cell_type": "code",
      "source": [
        "n_epoch = 500\n",
        "for i in range(n_epoch):\n",
        "    # predict model with current regression parameters\n",
        "    # forward pass (feed the data to model)\n",
        "    y_pred = model(X)\n",
        "    # calculate loss function\n",
        "    step_loss = mse_loss(y_pred, y)\n",
        "        \n",
        "    # Backward to find the derivatives of the loss function with respect to regression parameters\n",
        "    # make any stored gradients to zero\n",
        "    # backward pass (go back and update the regression parameters to minimize the loss)\n",
        "    optimizer.zero_grad()\n",
        "    step_loss.backward()\n",
        "    # update with current step regression parameters \n",
        "    optimizer.step()\n",
        "    print ('epoch [{}], Loss: {:.2f}'.format(i, step_loss.item()))\n"
      ],
      "outputs": [
        {
          "output_type": "stream",
          "name": "stdout",
          "text": [
            "epoch [0], Loss: 7.77\n",
            "epoch [1], Loss: 1.78\n",
            "epoch [2], Loss: 0.48\n",
            "epoch [3], Loss: 0.20\n",
            "epoch [4], Loss: 0.14\n",
            "epoch [5], Loss: 0.13\n",
            "epoch [6], Loss: 0.12\n",
            "epoch [7], Loss: 0.12\n",
            "epoch [8], Loss: 0.12\n",
            "epoch [9], Loss: 0.12\n",
            "epoch [10], Loss: 0.12\n",
            "epoch [11], Loss: 0.12\n",
            "epoch [12], Loss: 0.12\n",
            "epoch [13], Loss: 0.12\n",
            "epoch [14], Loss: 0.12\n",
            "epoch [15], Loss: 0.12\n",
            "epoch [16], Loss: 0.12\n",
            "epoch [17], Loss: 0.11\n",
            "epoch [18], Loss: 0.11\n",
            "epoch [19], Loss: 0.11\n",
            "epoch [20], Loss: 0.11\n",
            "epoch [21], Loss: 0.11\n",
            "epoch [22], Loss: 0.11\n",
            "epoch [23], Loss: 0.11\n",
            "epoch [24], Loss: 0.11\n",
            "epoch [25], Loss: 0.11\n",
            "epoch [26], Loss: 0.11\n",
            "epoch [27], Loss: 0.11\n",
            "epoch [28], Loss: 0.11\n",
            "epoch [29], Loss: 0.11\n",
            "epoch [30], Loss: 0.11\n",
            "epoch [31], Loss: 0.10\n",
            "epoch [32], Loss: 0.10\n",
            "epoch [33], Loss: 0.10\n",
            "epoch [34], Loss: 0.10\n",
            "epoch [35], Loss: 0.10\n",
            "epoch [36], Loss: 0.10\n",
            "epoch [37], Loss: 0.10\n",
            "epoch [38], Loss: 0.10\n",
            "epoch [39], Loss: 0.10\n",
            "epoch [40], Loss: 0.10\n",
            "epoch [41], Loss: 0.10\n",
            "epoch [42], Loss: 0.10\n",
            "epoch [43], Loss: 0.10\n",
            "epoch [44], Loss: 0.10\n",
            "epoch [45], Loss: 0.10\n",
            "epoch [46], Loss: 0.10\n",
            "epoch [47], Loss: 0.10\n",
            "epoch [48], Loss: 0.09\n",
            "epoch [49], Loss: 0.09\n",
            "epoch [50], Loss: 0.09\n",
            "epoch [51], Loss: 0.09\n",
            "epoch [52], Loss: 0.09\n",
            "epoch [53], Loss: 0.09\n",
            "epoch [54], Loss: 0.09\n",
            "epoch [55], Loss: 0.09\n",
            "epoch [56], Loss: 0.09\n",
            "epoch [57], Loss: 0.09\n",
            "epoch [58], Loss: 0.09\n",
            "epoch [59], Loss: 0.09\n",
            "epoch [60], Loss: 0.09\n",
            "epoch [61], Loss: 0.09\n",
            "epoch [62], Loss: 0.09\n",
            "epoch [63], Loss: 0.09\n",
            "epoch [64], Loss: 0.09\n",
            "epoch [65], Loss: 0.09\n",
            "epoch [66], Loss: 0.09\n",
            "epoch [67], Loss: 0.09\n",
            "epoch [68], Loss: 0.09\n",
            "epoch [69], Loss: 0.09\n",
            "epoch [70], Loss: 0.09\n",
            "epoch [71], Loss: 0.08\n",
            "epoch [72], Loss: 0.08\n",
            "epoch [73], Loss: 0.08\n",
            "epoch [74], Loss: 0.08\n",
            "epoch [75], Loss: 0.08\n",
            "epoch [76], Loss: 0.08\n",
            "epoch [77], Loss: 0.08\n",
            "epoch [78], Loss: 0.08\n",
            "epoch [79], Loss: 0.08\n",
            "epoch [80], Loss: 0.08\n",
            "epoch [81], Loss: 0.08\n",
            "epoch [82], Loss: 0.08\n",
            "epoch [83], Loss: 0.08\n",
            "epoch [84], Loss: 0.08\n",
            "epoch [85], Loss: 0.08\n",
            "epoch [86], Loss: 0.08\n",
            "epoch [87], Loss: 0.08\n",
            "epoch [88], Loss: 0.08\n",
            "epoch [89], Loss: 0.08\n",
            "epoch [90], Loss: 0.08\n",
            "epoch [91], Loss: 0.08\n",
            "epoch [92], Loss: 0.08\n",
            "epoch [93], Loss: 0.08\n",
            "epoch [94], Loss: 0.08\n",
            "epoch [95], Loss: 0.08\n",
            "epoch [96], Loss: 0.08\n",
            "epoch [97], Loss: 0.08\n",
            "epoch [98], Loss: 0.08\n",
            "epoch [99], Loss: 0.08\n",
            "epoch [100], Loss: 0.08\n",
            "epoch [101], Loss: 0.08\n",
            "epoch [102], Loss: 0.08\n",
            "epoch [103], Loss: 0.07\n",
            "epoch [104], Loss: 0.07\n",
            "epoch [105], Loss: 0.07\n",
            "epoch [106], Loss: 0.07\n",
            "epoch [107], Loss: 0.07\n",
            "epoch [108], Loss: 0.07\n",
            "epoch [109], Loss: 0.07\n",
            "epoch [110], Loss: 0.07\n",
            "epoch [111], Loss: 0.07\n",
            "epoch [112], Loss: 0.07\n",
            "epoch [113], Loss: 0.07\n",
            "epoch [114], Loss: 0.07\n",
            "epoch [115], Loss: 0.07\n",
            "epoch [116], Loss: 0.07\n",
            "epoch [117], Loss: 0.07\n",
            "epoch [118], Loss: 0.07\n",
            "epoch [119], Loss: 0.07\n",
            "epoch [120], Loss: 0.07\n",
            "epoch [121], Loss: 0.07\n",
            "epoch [122], Loss: 0.07\n",
            "epoch [123], Loss: 0.07\n",
            "epoch [124], Loss: 0.07\n",
            "epoch [125], Loss: 0.07\n",
            "epoch [126], Loss: 0.07\n",
            "epoch [127], Loss: 0.07\n",
            "epoch [128], Loss: 0.07\n",
            "epoch [129], Loss: 0.07\n",
            "epoch [130], Loss: 0.07\n",
            "epoch [131], Loss: 0.07\n",
            "epoch [132], Loss: 0.07\n",
            "epoch [133], Loss: 0.07\n",
            "epoch [134], Loss: 0.07\n",
            "epoch [135], Loss: 0.07\n",
            "epoch [136], Loss: 0.07\n",
            "epoch [137], Loss: 0.07\n",
            "epoch [138], Loss: 0.07\n",
            "epoch [139], Loss: 0.07\n",
            "epoch [140], Loss: 0.07\n",
            "epoch [141], Loss: 0.07\n",
            "epoch [142], Loss: 0.07\n",
            "epoch [143], Loss: 0.07\n",
            "epoch [144], Loss: 0.07\n",
            "epoch [145], Loss: 0.07\n",
            "epoch [146], Loss: 0.07\n",
            "epoch [147], Loss: 0.07\n",
            "epoch [148], Loss: 0.07\n",
            "epoch [149], Loss: 0.07\n",
            "epoch [150], Loss: 0.07\n",
            "epoch [151], Loss: 0.07\n",
            "epoch [152], Loss: 0.07\n",
            "epoch [153], Loss: 0.07\n",
            "epoch [154], Loss: 0.07\n",
            "epoch [155], Loss: 0.07\n",
            "epoch [156], Loss: 0.07\n",
            "epoch [157], Loss: 0.06\n",
            "epoch [158], Loss: 0.06\n",
            "epoch [159], Loss: 0.06\n",
            "epoch [160], Loss: 0.06\n",
            "epoch [161], Loss: 0.06\n",
            "epoch [162], Loss: 0.06\n",
            "epoch [163], Loss: 0.06\n",
            "epoch [164], Loss: 0.06\n",
            "epoch [165], Loss: 0.06\n",
            "epoch [166], Loss: 0.06\n",
            "epoch [167], Loss: 0.06\n",
            "epoch [168], Loss: 0.06\n",
            "epoch [169], Loss: 0.06\n",
            "epoch [170], Loss: 0.06\n",
            "epoch [171], Loss: 0.06\n",
            "epoch [172], Loss: 0.06\n",
            "epoch [173], Loss: 0.06\n",
            "epoch [174], Loss: 0.06\n",
            "epoch [175], Loss: 0.06\n",
            "epoch [176], Loss: 0.06\n",
            "epoch [177], Loss: 0.06\n",
            "epoch [178], Loss: 0.06\n",
            "epoch [179], Loss: 0.06\n",
            "epoch [180], Loss: 0.06\n",
            "epoch [181], Loss: 0.06\n",
            "epoch [182], Loss: 0.06\n",
            "epoch [183], Loss: 0.06\n",
            "epoch [184], Loss: 0.06\n",
            "epoch [185], Loss: 0.06\n",
            "epoch [186], Loss: 0.06\n",
            "epoch [187], Loss: 0.06\n",
            "epoch [188], Loss: 0.06\n",
            "epoch [189], Loss: 0.06\n",
            "epoch [190], Loss: 0.06\n",
            "epoch [191], Loss: 0.06\n",
            "epoch [192], Loss: 0.06\n",
            "epoch [193], Loss: 0.06\n",
            "epoch [194], Loss: 0.06\n",
            "epoch [195], Loss: 0.06\n",
            "epoch [196], Loss: 0.06\n",
            "epoch [197], Loss: 0.06\n",
            "epoch [198], Loss: 0.06\n",
            "epoch [199], Loss: 0.06\n",
            "epoch [200], Loss: 0.06\n",
            "epoch [201], Loss: 0.06\n",
            "epoch [202], Loss: 0.06\n",
            "epoch [203], Loss: 0.06\n",
            "epoch [204], Loss: 0.06\n",
            "epoch [205], Loss: 0.06\n",
            "epoch [206], Loss: 0.06\n",
            "epoch [207], Loss: 0.06\n",
            "epoch [208], Loss: 0.06\n",
            "epoch [209], Loss: 0.06\n",
            "epoch [210], Loss: 0.06\n",
            "epoch [211], Loss: 0.06\n",
            "epoch [212], Loss: 0.06\n",
            "epoch [213], Loss: 0.06\n",
            "epoch [214], Loss: 0.06\n",
            "epoch [215], Loss: 0.06\n",
            "epoch [216], Loss: 0.06\n",
            "epoch [217], Loss: 0.06\n",
            "epoch [218], Loss: 0.06\n",
            "epoch [219], Loss: 0.06\n",
            "epoch [220], Loss: 0.06\n",
            "epoch [221], Loss: 0.06\n",
            "epoch [222], Loss: 0.06\n",
            "epoch [223], Loss: 0.06\n",
            "epoch [224], Loss: 0.06\n",
            "epoch [225], Loss: 0.06\n",
            "epoch [226], Loss: 0.06\n",
            "epoch [227], Loss: 0.06\n",
            "epoch [228], Loss: 0.06\n",
            "epoch [229], Loss: 0.06\n",
            "epoch [230], Loss: 0.06\n",
            "epoch [231], Loss: 0.06\n",
            "epoch [232], Loss: 0.06\n",
            "epoch [233], Loss: 0.06\n",
            "epoch [234], Loss: 0.06\n",
            "epoch [235], Loss: 0.06\n",
            "epoch [236], Loss: 0.06\n",
            "epoch [237], Loss: 0.06\n",
            "epoch [238], Loss: 0.06\n",
            "epoch [239], Loss: 0.06\n",
            "epoch [240], Loss: 0.06\n",
            "epoch [241], Loss: 0.06\n",
            "epoch [242], Loss: 0.06\n",
            "epoch [243], Loss: 0.06\n",
            "epoch [244], Loss: 0.06\n",
            "epoch [245], Loss: 0.06\n",
            "epoch [246], Loss: 0.06\n",
            "epoch [247], Loss: 0.06\n",
            "epoch [248], Loss: 0.06\n",
            "epoch [249], Loss: 0.06\n",
            "epoch [250], Loss: 0.06\n",
            "epoch [251], Loss: 0.06\n",
            "epoch [252], Loss: 0.06\n",
            "epoch [253], Loss: 0.06\n",
            "epoch [254], Loss: 0.06\n",
            "epoch [255], Loss: 0.06\n",
            "epoch [256], Loss: 0.06\n",
            "epoch [257], Loss: 0.06\n",
            "epoch [258], Loss: 0.06\n",
            "epoch [259], Loss: 0.06\n",
            "epoch [260], Loss: 0.06\n",
            "epoch [261], Loss: 0.06\n",
            "epoch [262], Loss: 0.06\n",
            "epoch [263], Loss: 0.06\n",
            "epoch [264], Loss: 0.06\n",
            "epoch [265], Loss: 0.06\n",
            "epoch [266], Loss: 0.06\n",
            "epoch [267], Loss: 0.06\n",
            "epoch [268], Loss: 0.06\n",
            "epoch [269], Loss: 0.06\n",
            "epoch [270], Loss: 0.06\n",
            "epoch [271], Loss: 0.06\n",
            "epoch [272], Loss: 0.06\n",
            "epoch [273], Loss: 0.06\n",
            "epoch [274], Loss: 0.06\n",
            "epoch [275], Loss: 0.06\n",
            "epoch [276], Loss: 0.06\n",
            "epoch [277], Loss: 0.06\n",
            "epoch [278], Loss: 0.06\n",
            "epoch [279], Loss: 0.06\n",
            "epoch [280], Loss: 0.06\n",
            "epoch [281], Loss: 0.06\n",
            "epoch [282], Loss: 0.06\n",
            "epoch [283], Loss: 0.06\n",
            "epoch [284], Loss: 0.06\n",
            "epoch [285], Loss: 0.06\n",
            "epoch [286], Loss: 0.06\n",
            "epoch [287], Loss: 0.06\n",
            "epoch [288], Loss: 0.06\n",
            "epoch [289], Loss: 0.06\n",
            "epoch [290], Loss: 0.06\n",
            "epoch [291], Loss: 0.06\n",
            "epoch [292], Loss: 0.06\n",
            "epoch [293], Loss: 0.06\n",
            "epoch [294], Loss: 0.06\n",
            "epoch [295], Loss: 0.06\n",
            "epoch [296], Loss: 0.06\n",
            "epoch [297], Loss: 0.06\n",
            "epoch [298], Loss: 0.06\n",
            "epoch [299], Loss: 0.06\n",
            "epoch [300], Loss: 0.06\n",
            "epoch [301], Loss: 0.06\n",
            "epoch [302], Loss: 0.06\n",
            "epoch [303], Loss: 0.06\n",
            "epoch [304], Loss: 0.06\n",
            "epoch [305], Loss: 0.06\n",
            "epoch [306], Loss: 0.06\n",
            "epoch [307], Loss: 0.06\n",
            "epoch [308], Loss: 0.06\n",
            "epoch [309], Loss: 0.06\n",
            "epoch [310], Loss: 0.06\n",
            "epoch [311], Loss: 0.06\n",
            "epoch [312], Loss: 0.06\n",
            "epoch [313], Loss: 0.06\n",
            "epoch [314], Loss: 0.06\n",
            "epoch [315], Loss: 0.06\n",
            "epoch [316], Loss: 0.06\n",
            "epoch [317], Loss: 0.06\n",
            "epoch [318], Loss: 0.06\n",
            "epoch [319], Loss: 0.06\n",
            "epoch [320], Loss: 0.06\n",
            "epoch [321], Loss: 0.06\n",
            "epoch [322], Loss: 0.06\n",
            "epoch [323], Loss: 0.06\n",
            "epoch [324], Loss: 0.06\n",
            "epoch [325], Loss: 0.06\n",
            "epoch [326], Loss: 0.06\n",
            "epoch [327], Loss: 0.06\n",
            "epoch [328], Loss: 0.06\n",
            "epoch [329], Loss: 0.06\n",
            "epoch [330], Loss: 0.06\n",
            "epoch [331], Loss: 0.06\n",
            "epoch [332], Loss: 0.06\n",
            "epoch [333], Loss: 0.06\n",
            "epoch [334], Loss: 0.06\n",
            "epoch [335], Loss: 0.06\n",
            "epoch [336], Loss: 0.06\n",
            "epoch [337], Loss: 0.06\n",
            "epoch [338], Loss: 0.06\n",
            "epoch [339], Loss: 0.06\n",
            "epoch [340], Loss: 0.06\n",
            "epoch [341], Loss: 0.06\n",
            "epoch [342], Loss: 0.06\n",
            "epoch [343], Loss: 0.06\n",
            "epoch [344], Loss: 0.06\n",
            "epoch [345], Loss: 0.06\n",
            "epoch [346], Loss: 0.06\n",
            "epoch [347], Loss: 0.06\n",
            "epoch [348], Loss: 0.06\n",
            "epoch [349], Loss: 0.06\n",
            "epoch [350], Loss: 0.06\n",
            "epoch [351], Loss: 0.06\n",
            "epoch [352], Loss: 0.06\n",
            "epoch [353], Loss: 0.06\n",
            "epoch [354], Loss: 0.06\n",
            "epoch [355], Loss: 0.06\n",
            "epoch [356], Loss: 0.06\n",
            "epoch [357], Loss: 0.06\n",
            "epoch [358], Loss: 0.06\n",
            "epoch [359], Loss: 0.06\n",
            "epoch [360], Loss: 0.06\n",
            "epoch [361], Loss: 0.06\n",
            "epoch [362], Loss: 0.06\n",
            "epoch [363], Loss: 0.06\n",
            "epoch [364], Loss: 0.06\n",
            "epoch [365], Loss: 0.06\n",
            "epoch [366], Loss: 0.06\n",
            "epoch [367], Loss: 0.06\n",
            "epoch [368], Loss: 0.06\n",
            "epoch [369], Loss: 0.06\n",
            "epoch [370], Loss: 0.06\n",
            "epoch [371], Loss: 0.06\n",
            "epoch [372], Loss: 0.06\n",
            "epoch [373], Loss: 0.06\n",
            "epoch [374], Loss: 0.06\n",
            "epoch [375], Loss: 0.06\n",
            "epoch [376], Loss: 0.06\n",
            "epoch [377], Loss: 0.06\n",
            "epoch [378], Loss: 0.06\n",
            "epoch [379], Loss: 0.06\n",
            "epoch [380], Loss: 0.06\n",
            "epoch [381], Loss: 0.06\n",
            "epoch [382], Loss: 0.06\n",
            "epoch [383], Loss: 0.06\n",
            "epoch [384], Loss: 0.06\n",
            "epoch [385], Loss: 0.06\n",
            "epoch [386], Loss: 0.06\n",
            "epoch [387], Loss: 0.06\n",
            "epoch [388], Loss: 0.06\n",
            "epoch [389], Loss: 0.06\n",
            "epoch [390], Loss: 0.06\n",
            "epoch [391], Loss: 0.06\n",
            "epoch [392], Loss: 0.06\n",
            "epoch [393], Loss: 0.06\n",
            "epoch [394], Loss: 0.06\n",
            "epoch [395], Loss: 0.06\n",
            "epoch [396], Loss: 0.06\n",
            "epoch [397], Loss: 0.06\n",
            "epoch [398], Loss: 0.06\n",
            "epoch [399], Loss: 0.06\n",
            "epoch [400], Loss: 0.06\n",
            "epoch [401], Loss: 0.06\n",
            "epoch [402], Loss: 0.06\n",
            "epoch [403], Loss: 0.06\n",
            "epoch [404], Loss: 0.06\n",
            "epoch [405], Loss: 0.06\n",
            "epoch [406], Loss: 0.06\n",
            "epoch [407], Loss: 0.06\n",
            "epoch [408], Loss: 0.06\n",
            "epoch [409], Loss: 0.06\n",
            "epoch [410], Loss: 0.06\n",
            "epoch [411], Loss: 0.06\n",
            "epoch [412], Loss: 0.06\n",
            "epoch [413], Loss: 0.06\n",
            "epoch [414], Loss: 0.06\n",
            "epoch [415], Loss: 0.06\n",
            "epoch [416], Loss: 0.06\n",
            "epoch [417], Loss: 0.06\n",
            "epoch [418], Loss: 0.06\n",
            "epoch [419], Loss: 0.06\n",
            "epoch [420], Loss: 0.06\n",
            "epoch [421], Loss: 0.06\n",
            "epoch [422], Loss: 0.06\n",
            "epoch [423], Loss: 0.06\n",
            "epoch [424], Loss: 0.06\n",
            "epoch [425], Loss: 0.06\n",
            "epoch [426], Loss: 0.06\n",
            "epoch [427], Loss: 0.06\n",
            "epoch [428], Loss: 0.06\n",
            "epoch [429], Loss: 0.06\n",
            "epoch [430], Loss: 0.06\n",
            "epoch [431], Loss: 0.06\n",
            "epoch [432], Loss: 0.06\n",
            "epoch [433], Loss: 0.06\n",
            "epoch [434], Loss: 0.06\n",
            "epoch [435], Loss: 0.06\n",
            "epoch [436], Loss: 0.06\n",
            "epoch [437], Loss: 0.06\n",
            "epoch [438], Loss: 0.06\n",
            "epoch [439], Loss: 0.06\n",
            "epoch [440], Loss: 0.06\n",
            "epoch [441], Loss: 0.06\n",
            "epoch [442], Loss: 0.06\n",
            "epoch [443], Loss: 0.06\n",
            "epoch [444], Loss: 0.06\n",
            "epoch [445], Loss: 0.06\n",
            "epoch [446], Loss: 0.06\n",
            "epoch [447], Loss: 0.06\n",
            "epoch [448], Loss: 0.06\n",
            "epoch [449], Loss: 0.06\n",
            "epoch [450], Loss: 0.06\n",
            "epoch [451], Loss: 0.06\n",
            "epoch [452], Loss: 0.06\n",
            "epoch [453], Loss: 0.06\n",
            "epoch [454], Loss: 0.06\n",
            "epoch [455], Loss: 0.06\n",
            "epoch [456], Loss: 0.06\n",
            "epoch [457], Loss: 0.06\n",
            "epoch [458], Loss: 0.06\n",
            "epoch [459], Loss: 0.06\n",
            "epoch [460], Loss: 0.06\n",
            "epoch [461], Loss: 0.06\n",
            "epoch [462], Loss: 0.06\n",
            "epoch [463], Loss: 0.06\n",
            "epoch [464], Loss: 0.06\n",
            "epoch [465], Loss: 0.06\n",
            "epoch [466], Loss: 0.06\n",
            "epoch [467], Loss: 0.06\n",
            "epoch [468], Loss: 0.06\n",
            "epoch [469], Loss: 0.06\n",
            "epoch [470], Loss: 0.06\n",
            "epoch [471], Loss: 0.06\n",
            "epoch [472], Loss: 0.06\n",
            "epoch [473], Loss: 0.06\n",
            "epoch [474], Loss: 0.06\n",
            "epoch [475], Loss: 0.06\n",
            "epoch [476], Loss: 0.06\n",
            "epoch [477], Loss: 0.06\n",
            "epoch [478], Loss: 0.06\n",
            "epoch [479], Loss: 0.06\n",
            "epoch [480], Loss: 0.06\n",
            "epoch [481], Loss: 0.06\n",
            "epoch [482], Loss: 0.06\n",
            "epoch [483], Loss: 0.06\n",
            "epoch [484], Loss: 0.06\n",
            "epoch [485], Loss: 0.06\n",
            "epoch [486], Loss: 0.06\n",
            "epoch [487], Loss: 0.06\n",
            "epoch [488], Loss: 0.06\n",
            "epoch [489], Loss: 0.06\n",
            "epoch [490], Loss: 0.06\n",
            "epoch [491], Loss: 0.06\n",
            "epoch [492], Loss: 0.06\n",
            "epoch [493], Loss: 0.06\n",
            "epoch [494], Loss: 0.06\n",
            "epoch [495], Loss: 0.06\n",
            "epoch [496], Loss: 0.06\n",
            "epoch [497], Loss: 0.06\n",
            "epoch [498], Loss: 0.06\n",
            "epoch [499], Loss: 0.06\n"
          ]
        }
      ],
      "execution_count": 11,
      "metadata": {
        "collapsed": true,
        "jupyter": {
          "source_hidden": false,
          "outputs_hidden": false
        },
        "nteract": {
          "transient": {
            "deleting": false
          }
        },
        "execution": {
          "iopub.status.busy": "2022-06-02T01:53:33.175Z",
          "iopub.execute_input": "2022-06-02T01:53:33.179Z",
          "shell.execute_reply": "2022-06-02T01:53:33.342Z",
          "iopub.status.idle": "2022-06-02T01:53:33.299Z"
        }
      }
    },
    {
      "cell_type": "code",
      "source": [
        "# bias b (y-intercept)\n",
        "print(\"y-intercept:\", model.bias.item())\n",
        "# weight (w)\n",
        "print(\"weight:\", model.weight.item())\n",
        "\n"
      ],
      "outputs": [
        {
          "output_type": "stream",
          "name": "stdout",
          "text": [
            "y-intercept: -0.017851166427135468\n",
            "weight: 1.001890778541565\n"
          ]
        }
      ],
      "execution_count": 12,
      "metadata": {
        "collapsed": true,
        "jupyter": {
          "source_hidden": false,
          "outputs_hidden": false
        },
        "nteract": {
          "transient": {
            "deleting": false
          }
        },
        "execution": {
          "shell.execute_reply": "2022-06-02T01:53:33.346Z",
          "iopub.status.busy": "2022-06-02T01:53:33.308Z",
          "iopub.execute_input": "2022-06-02T01:53:33.313Z",
          "iopub.status.idle": "2022-06-02T01:53:33.323Z"
        }
      }
    },
    {
      "cell_type": "code",
      "source": [
        "from sklearn.metrics import r2_score\n",
        "r2_score(y_true=y, y_pred=y_pred.detach().numpy())"
      ],
      "outputs": [
        {
          "output_type": "execute_result",
          "execution_count": 13,
          "data": {
            "text/plain": "0.9976532042733818"
          },
          "metadata": {}
        }
      ],
      "execution_count": 13,
      "metadata": {
        "collapsed": true,
        "jupyter": {
          "source_hidden": false,
          "outputs_hidden": false
        },
        "nteract": {
          "transient": {
            "deleting": false
          }
        },
        "execution": {
          "iopub.status.busy": "2022-06-02T01:53:33.332Z",
          "iopub.execute_input": "2022-06-02T01:53:33.337Z",
          "iopub.status.idle": "2022-06-02T01:53:33.599Z",
          "shell.execute_reply": "2022-06-02T01:53:33.620Z"
        }
      }
    },
    {
      "cell_type": "code",
      "source": [
        "from bioinfokit import visuz"
      ],
      "outputs": [],
      "execution_count": 14,
      "metadata": {
        "collapsed": true,
        "jupyter": {
          "source_hidden": false,
          "outputs_hidden": false
        },
        "nteract": {
          "transient": {
            "deleting": false
          }
        },
        "execution": {
          "iopub.status.busy": "2022-06-02T01:53:33.608Z",
          "iopub.execute_input": "2022-06-02T01:53:33.613Z",
          "shell.execute_reply": "2022-06-02T01:53:33.682Z",
          "iopub.status.idle": "2022-06-02T01:53:33.690Z"
        }
      }
    },
    {
      "cell_type": "code",
      "source": [
        "y_pred = model(X).detach()\n",
        "dataset['yhat']=y_pred.numpy()\n",
        "visuz.stat.regplot(df=dataset, x='Open', y='Adj Close', yhat='yhat', show=True)"
      ],
      "outputs": [
        {
          "output_type": "display_data",
          "data": {
            "text/plain": "<Figure size 432x288 with 1 Axes>",
            "image/png": "[encoded data removed]"
          },
          "metadata": {
            "needs_background": "light"
          }
        }
      ],
      "execution_count": 15,
      "metadata": {
        "collapsed": true,
        "jupyter": {
          "source_hidden": false,
          "outputs_hidden": false
        },
        "nteract": {
          "transient": {
            "deleting": false
          }
        },
        "execution": {
          "iopub.status.busy": "2022-06-02T01:53:33.699Z",
          "iopub.execute_input": "2022-06-02T01:53:33.704Z",
          "iopub.status.idle": "2022-06-02T01:53:33.822Z",
          "shell.execute_reply": "2022-06-02T01:53:33.806Z"
        }
      }
    },
    {
      "cell_type": "code",
      "source": [
        "y_pred = model(torch.tensor([[22.290001]], dtype=torch.float32)).detach()\n",
        "y_pred.item()"
      ],
      "outputs": [
        {
          "output_type": "execute_result",
          "execution_count": 16,
          "data": {
            "text/plain": "22.314294815063477"
          },
          "metadata": {}
        }
      ],
      "execution_count": 16,
      "metadata": {
        "collapsed": true,
        "jupyter": {
          "source_hidden": false,
          "outputs_hidden": false
        },
        "nteract": {
          "transient": {
            "deleting": false
          }
        },
        "execution": {
          "iopub.status.busy": "2022-06-02T01:53:33.830Z",
          "iopub.execute_input": "2022-06-02T01:53:33.836Z",
          "iopub.status.idle": "2022-06-02T01:53:33.847Z",
          "shell.execute_reply": "2022-06-02T01:53:33.873Z"
        }
      }
    }
  ],
  "metadata": {
    "kernel_info": {
      "name": "python3"
    },
    "language_info": {
      "name": "python",
      "version": "3.6.13",
      "mimetype": "text/x-python",
      "codemirror_mode": {
        "name": "ipython",
        "version": 3
      },
      "pygments_lexer": "ipython3",
      "nbconvert_exporter": "python",
      "file_extension": ".py"
    },
    "kernelspec": {
      "argv": [
        "C:/Users/Tin Hang/Anaconda3\\python.exe",
        "-m",
        "ipykernel_launcher",
        "-f",
        "{connection_file}"
      ],
      "display_name": "Python 3",
      "language": "python",
      "name": "python3"
    },
    "nteract": {
      "version": "0.28.0"
    }
  },
  "nbformat": 4,
  "nbformat_minor": 0
}