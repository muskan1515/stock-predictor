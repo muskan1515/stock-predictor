{
  "cells": [
    {
      "cell_type": "markdown",
      "source": [
        "# Multivariate relationships"
      ],
      "metadata": {
        "nteract": {
          "transient": {
            "deleting": false
          }
        }
      }
    },
    {
      "cell_type": "code",
      "source": [
        "import pandas as pd\n",
        "import numpy as np\n",
        "from scipy.stats import linregress\n",
        "import statsmodels.formula.api as smf\n",
        "\n",
        "\n",
        "import matplotlib.pyplot as plt\n",
        "import seaborn as sns\n",
        "sns.set_style('whitegrid')\n",
        "plt.style.use(\"fivethirtyeight\")\n",
        "%matplotlib inline\n",
        "\n",
        "# For reading stock data from yahoo\n",
        "import yfinance as yf\n",
        "yf.pdr_override()"
      ],
      "outputs": [],
      "execution_count": 1,
      "metadata": {
        "collapsed": true,
        "jupyter": {
          "source_hidden": false,
          "outputs_hidden": false
        },
        "nteract": {
          "transient": {
            "deleting": false
          }
        },
        "execution": {
          "iopub.status.busy": "2021-05-28T02:15:02.020Z",
          "iopub.execute_input": "2021-05-28T02:15:02.025Z",
          "iopub.status.idle": "2021-05-28T02:15:02.764Z",
          "shell.execute_reply": "2021-05-28T02:15:02.801Z"
        }
      }
    },
    {
      "cell_type": "code",
      "source": [
        "start = '2020-01-01'\n",
        "end = '2020-12-31'\n",
        "\n",
        "symbol = 'AMD'"
      ],
      "outputs": [],
      "execution_count": 2,
      "metadata": {
        "collapsed": true,
        "jupyter": {
          "source_hidden": false,
          "outputs_hidden": false
        },
        "nteract": {
          "transient": {
            "deleting": false
          }
        },
        "execution": {
          "iopub.status.busy": "2021-05-28T02:15:02.770Z",
          "iopub.execute_input": "2021-05-28T02:15:02.774Z",
          "iopub.status.idle": "2021-05-28T02:15:02.782Z",
          "shell.execute_reply": "2021-05-28T02:15:02.805Z"
        }
      }
    },
    {
      "cell_type": "code",
      "source": [
        "df = yf.download(symbol, start, end)"
      ],
      "outputs": [
        {
          "output_type": "stream",
          "name": "stdout",
          "text": [
            "[*********************100%***********************]  1 of 1 completed\n"
          ]
        }
      ],
      "execution_count": 3,
      "metadata": {
        "collapsed": true,
        "jupyter": {
          "source_hidden": false,
          "outputs_hidden": false
        },
        "nteract": {
          "transient": {
            "deleting": false
          }
        },
        "execution": {
          "iopub.status.busy": "2021-05-28T02:15:02.789Z",
          "iopub.execute_input": "2021-05-28T02:15:02.793Z",
          "iopub.status.idle": "2021-05-28T02:15:03.872Z",
          "shell.execute_reply": "2021-05-28T02:15:03.987Z"
        }
      }
    },
    {
      "cell_type": "code",
      "source": [
        "df.head()"
      ],
      "outputs": [
        {
          "output_type": "execute_result",
          "execution_count": 4,
          "data": {
            "text/plain": "                 Open       High        Low      Close  Adj Close    Volume\nDate                                                                       \n2020-01-02  46.860001  49.250000  46.630001  49.099998  49.099998  80331100\n2020-01-03  48.029999  49.389999  47.540001  48.599998  48.599998  73127400\n2020-01-06  48.020000  48.860001  47.860001  48.389999  48.389999  47934900\n2020-01-07  49.349998  49.389999  48.040001  48.250000  48.250000  58061400\n2020-01-08  47.849998  48.299999  47.139999  47.830002  47.830002  53767000",
            "text/html": "<div>\n<style scoped>\n    .dataframe tbody tr th:only-of-type {\n        vertical-align: middle;\n    }\n\n    .dataframe tbody tr th {\n        vertical-align: top;\n    }\n\n    .dataframe thead th {\n        text-align: right;\n    }\n</style>\n<table border=\"1\" class=\"dataframe\">\n  <thead>\n    <tr style=\"text-align: right;\">\n      <th></th>\n      <th>Open</th>\n      <th>High</th>\n      <th>Low</th>\n      <th>Close</th>\n      <th>Adj Close</th>\n      <th>Volume</th>\n    </tr>\n    <tr>\n      <th>Date</th>\n      <th></th>\n      <th></th>\n      <th></th>\n      <th></th>\n      <th></th>\n      <th></th>\n    </tr>\n  </thead>\n  <tbody>\n    <tr>\n      <th>2020-01-02</th>\n      <td>46.860001</td>\n      <td>49.250000</td>\n      <td>46.630001</td>\n      <td>49.099998</td>\n      <td>49.099998</td>\n      <td>80331100</td>\n    </tr>\n    <tr>\n      <th>2020-01-03</th>\n      <td>48.029999</td>\n      <td>49.389999</td>\n      <td>47.540001</td>\n      <td>48.599998</td>\n      <td>48.599998</td>\n      <td>73127400</td>\n    </tr>\n    <tr>\n      <th>2020-01-06</th>\n      <td>48.020000</td>\n      <td>48.860001</td>\n      <td>47.860001</td>\n      <td>48.389999</td>\n      <td>48.389999</td>\n      <td>47934900</td>\n    </tr>\n    <tr>\n      <th>2020-01-07</th>\n      <td>49.349998</td>\n      <td>49.389999</td>\n      <td>48.040001</td>\n      <td>48.250000</td>\n      <td>48.250000</td>\n      <td>58061400</td>\n    </tr>\n    <tr>\n      <th>2020-01-08</th>\n      <td>47.849998</td>\n      <td>48.299999</td>\n      <td>47.139999</td>\n      <td>47.830002</td>\n      <td>47.830002</td>\n      <td>53767000</td>\n    </tr>\n  </tbody>\n</table>\n</div>"
          },
          "metadata": {}
        }
      ],
      "execution_count": 4,
      "metadata": {
        "collapsed": true,
        "jupyter": {
          "source_hidden": false,
          "outputs_hidden": false
        },
        "nteract": {
          "transient": {
            "deleting": false
          }
        },
        "execution": {
          "iopub.status.busy": "2021-05-28T02:15:03.879Z",
          "iopub.execute_input": "2021-05-28T02:15:03.884Z",
          "iopub.status.idle": "2021-05-28T02:15:03.896Z",
          "shell.execute_reply": "2021-05-28T02:15:03.991Z"
        }
      }
    },
    {
      "cell_type": "code",
      "source": [
        "df.tail()"
      ],
      "outputs": [
        {
          "output_type": "execute_result",
          "execution_count": 5,
          "data": {
            "text/plain": "                 Open       High        Low      Close  Adj Close    Volume\nDate                                                                       \n2020-12-23  93.080002  93.129997  91.459999  91.550003  91.550003  25993300\n2020-12-24  91.800003  92.510002  91.309998  91.809998  91.809998  16705900\n2020-12-28  92.930000  93.139999  90.820000  91.599998  91.599998  30627300\n2020-12-29  91.660004  92.459999  89.430000  90.620003  90.620003  31748200\n2020-12-30  90.779999  92.849998  90.190002  92.290001  92.290001  25845000",
            "text/html": "<div>\n<style scoped>\n    .dataframe tbody tr th:only-of-type {\n        vertical-align: middle;\n    }\n\n    .dataframe tbody tr th {\n        vertical-align: top;\n    }\n\n    .dataframe thead th {\n        text-align: right;\n    }\n</style>\n<table border=\"1\" class=\"dataframe\">\n  <thead>\n    <tr style=\"text-align: right;\">\n      <th></th>\n      <th>Open</th>\n      <th>High</th>\n      <th>Low</th>\n      <th>Close</th>\n      <th>Adj Close</th>\n      <th>Volume</th>\n    </tr>\n    <tr>\n      <th>Date</th>\n      <th></th>\n      <th></th>\n      <th></th>\n      <th></th>\n      <th></th>\n      <th></th>\n    </tr>\n  </thead>\n  <tbody>\n    <tr>\n      <th>2020-12-23</th>\n      <td>93.080002</td>\n      <td>93.129997</td>\n      <td>91.459999</td>\n      <td>91.550003</td>\n      <td>91.550003</td>\n      <td>25993300</td>\n    </tr>\n    <tr>\n      <th>2020-12-24</th>\n      <td>91.800003</td>\n      <td>92.510002</td>\n      <td>91.309998</td>\n      <td>91.809998</td>\n      <td>91.809998</td>\n      <td>16705900</td>\n    </tr>\n    <tr>\n      <th>2020-12-28</th>\n      <td>92.930000</td>\n      <td>93.139999</td>\n      <td>90.820000</td>\n      <td>91.599998</td>\n      <td>91.599998</td>\n      <td>30627300</td>\n    </tr>\n    <tr>\n      <th>2020-12-29</th>\n      <td>91.660004</td>\n      <td>92.459999</td>\n      <td>89.430000</td>\n      <td>90.620003</td>\n      <td>90.620003</td>\n      <td>31748200</td>\n    </tr>\n    <tr>\n      <th>2020-12-30</th>\n      <td>90.779999</td>\n      <td>92.849998</td>\n      <td>90.190002</td>\n      <td>92.290001</td>\n      <td>92.290001</td>\n      <td>25845000</td>\n    </tr>\n  </tbody>\n</table>\n</div>"
          },
          "metadata": {}
        }
      ],
      "execution_count": 5,
      "metadata": {
        "collapsed": true,
        "jupyter": {
          "source_hidden": false,
          "outputs_hidden": false
        },
        "nteract": {
          "transient": {
            "deleting": false
          }
        },
        "execution": {
          "iopub.status.busy": "2021-05-28T02:15:03.903Z",
          "iopub.execute_input": "2021-05-28T02:15:03.907Z",
          "iopub.status.idle": "2021-05-28T02:15:03.917Z",
          "shell.execute_reply": "2021-05-28T02:15:03.994Z"
        }
      }
    },
    {
      "cell_type": "code",
      "source": [
        "df1 = df.copy()\n",
        "df2 = df.copy()"
      ],
      "outputs": [],
      "execution_count": 6,
      "metadata": {
        "collapsed": true,
        "jupyter": {
          "source_hidden": false,
          "outputs_hidden": false
        },
        "nteract": {
          "transient": {
            "deleting": false
          }
        },
        "execution": {
          "iopub.status.busy": "2021-05-28T02:15:03.924Z",
          "iopub.execute_input": "2021-05-28T02:15:03.930Z",
          "iopub.status.idle": "2021-05-28T02:15:03.937Z",
          "shell.execute_reply": "2021-05-28T02:15:03.997Z"
        }
      }
    },
    {
      "cell_type": "code",
      "source": [
        "# Run regression with linregress\n",
        "data = df1.dropna(subset=['Close', 'Open'])\n",
        "xs = data['Open']\n",
        "ys = data['Close']\n",
        "res = linregress(xs, ys)\n",
        "print(res)\n",
        "\n",
        "# Run regression with StatsModels\n",
        "results = smf.ols('Close ~ Open', data = df).fit()\n",
        "print(results.params)"
      ],
      "outputs": [
        {
          "output_type": "stream",
          "name": "stdout",
          "text": [
            "LinregressResult(slope=0.9913260730102901, intercept=0.5903513716228872, rvalue=0.9941976773743896, pvalue=4.2296336523703754e-244, stderr=0.006783577950096053)\n",
            "Intercept    0.590351\n",
            "Open         0.991326\n",
            "dtype: float64\n"
          ]
        }
      ],
      "execution_count": 7,
      "metadata": {
        "collapsed": true,
        "jupyter": {
          "source_hidden": false,
          "outputs_hidden": false
        },
        "nteract": {
          "transient": {
            "deleting": false
          }
        },
        "execution": {
          "iopub.status.busy": "2021-05-28T02:15:03.944Z",
          "iopub.execute_input": "2021-05-28T02:15:03.949Z",
          "shell.execute_reply": "2021-05-28T02:15:04.000Z",
          "iopub.status.idle": "2021-05-28T02:15:03.960Z"
        }
      }
    },
    {
      "cell_type": "code",
      "source": [
        "# Group by Volume\n",
        "grouped = df.groupby('Volume')\n",
        "\n",
        "# Compute mean Adj Close in each group\n",
        "mean_adj_close = grouped['Adj Close'].mean()\n",
        "\n",
        "# Plot mean income as a scatter plot\n",
        "plt.plot(mean_adj_close, 'o', alpha = 0.5)\n",
        "\n",
        "# Label the axes\n",
        "plt.xlabel('Volume', color='r')\n",
        "plt.ylabel('Adj Close')\n",
        "plt.show()"
      ],
      "outputs": [
        {
          "output_type": "display_data",
          "data": {
            "text/plain": "<Figure size 432x288 with 1 Axes>",
            "image/png": "[encoded data removed]"
          },
          "metadata": {
            "needs_background": "light"
          }
        }
      ],
      "execution_count": 8,
      "metadata": {
        "collapsed": true,
        "jupyter": {
          "source_hidden": false,
          "outputs_hidden": false
        },
        "nteract": {
          "transient": {
            "deleting": false
          }
        },
        "execution": {
          "iopub.status.busy": "2021-05-28T02:15:03.967Z",
          "iopub.execute_input": "2021-05-28T02:15:03.971Z",
          "iopub.status.idle": "2021-05-28T02:15:04.046Z",
          "shell.execute_reply": "2021-05-28T02:15:04.038Z"
        }
      }
    },
    {
      "cell_type": "code",
      "source": [
        "# Add a new column with educ squared\n",
        "df['Close2'] = df['Close'] ** 2\n",
        "\n",
        "# Run a regression model with educ, educ2, age, and age2\n",
        "results = smf.ols('Open ~ Close + Close2 + High + Low', data = df).fit()\n",
        "\n",
        "# Print the estimated parameters\n",
        "print(results.params)"
      ],
      "outputs": [
        {
          "output_type": "stream",
          "name": "stdout",
          "text": [
            "Intercept   -0.382706\n",
            "Close       -0.615110\n",
            "Close2      -0.000062\n",
            "High         0.803877\n",
            "Low          0.823298\n",
            "dtype: float64\n"
          ]
        }
      ],
      "execution_count": 9,
      "metadata": {
        "collapsed": true,
        "jupyter": {
          "source_hidden": false,
          "outputs_hidden": false
        },
        "nteract": {
          "transient": {
            "deleting": false
          }
        },
        "execution": {
          "iopub.status.busy": "2021-05-28T02:15:04.058Z",
          "iopub.execute_input": "2021-05-28T02:15:04.065Z",
          "iopub.status.idle": "2021-05-28T02:15:04.079Z",
          "shell.execute_reply": "2021-05-28T02:15:04.165Z"
        }
      }
    },
    {
      "cell_type": "code",
      "source": [
        "df2.head()"
      ],
      "outputs": [
        {
          "output_type": "execute_result",
          "execution_count": 10,
          "data": {
            "text/plain": "                 Open       High        Low      Close  Adj Close    Volume\nDate                                                                       \n2020-01-02  46.860001  49.250000  46.630001  49.099998  49.099998  80331100\n2020-01-03  48.029999  49.389999  47.540001  48.599998  48.599998  73127400\n2020-01-06  48.020000  48.860001  47.860001  48.389999  48.389999  47934900\n2020-01-07  49.349998  49.389999  48.040001  48.250000  48.250000  58061400\n2020-01-08  47.849998  48.299999  47.139999  47.830002  47.830002  53767000",
            "text/html": "<div>\n<style scoped>\n    .dataframe tbody tr th:only-of-type {\n        vertical-align: middle;\n    }\n\n    .dataframe tbody tr th {\n        vertical-align: top;\n    }\n\n    .dataframe thead th {\n        text-align: right;\n    }\n</style>\n<table border=\"1\" class=\"dataframe\">\n  <thead>\n    <tr style=\"text-align: right;\">\n      <th></th>\n      <th>Open</th>\n      <th>High</th>\n      <th>Low</th>\n      <th>Close</th>\n      <th>Adj Close</th>\n      <th>Volume</th>\n    </tr>\n    <tr>\n      <th>Date</th>\n      <th></th>\n      <th></th>\n      <th></th>\n      <th></th>\n      <th></th>\n      <th></th>\n    </tr>\n  </thead>\n  <tbody>\n    <tr>\n      <th>2020-01-02</th>\n      <td>46.860001</td>\n      <td>49.250000</td>\n      <td>46.630001</td>\n      <td>49.099998</td>\n      <td>49.099998</td>\n      <td>80331100</td>\n    </tr>\n    <tr>\n      <th>2020-01-03</th>\n      <td>48.029999</td>\n      <td>49.389999</td>\n      <td>47.540001</td>\n      <td>48.599998</td>\n      <td>48.599998</td>\n      <td>73127400</td>\n    </tr>\n    <tr>\n      <th>2020-01-06</th>\n      <td>48.020000</td>\n      <td>48.860001</td>\n      <td>47.860001</td>\n      <td>48.389999</td>\n      <td>48.389999</td>\n      <td>47934900</td>\n    </tr>\n    <tr>\n      <th>2020-01-07</th>\n      <td>49.349998</td>\n      <td>49.389999</td>\n      <td>48.040001</td>\n      <td>48.250000</td>\n      <td>48.250000</td>\n      <td>58061400</td>\n    </tr>\n    <tr>\n      <th>2020-01-08</th>\n      <td>47.849998</td>\n      <td>48.299999</td>\n      <td>47.139999</td>\n      <td>47.830002</td>\n      <td>47.830002</td>\n      <td>53767000</td>\n    </tr>\n  </tbody>\n</table>\n</div>"
          },
          "metadata": {}
        }
      ],
      "execution_count": 10,
      "metadata": {
        "collapsed": true,
        "jupyter": {
          "source_hidden": false,
          "outputs_hidden": false
        },
        "nteract": {
          "transient": {
            "deleting": false
          }
        },
        "execution": {
          "iopub.status.busy": "2021-05-28T02:15:04.090Z",
          "iopub.execute_input": "2021-05-28T02:15:04.096Z",
          "iopub.status.idle": "2021-05-28T02:15:04.112Z",
          "shell.execute_reply": "2021-05-28T02:15:04.169Z"
        }
      }
    },
    {
      "cell_type": "code",
      "source": [
        "reg = smf.ols('Volume ~ Close + Close2 + High + Low', data = df).fit()\n",
        "\n",
        "# Make the DataFrame\n",
        "ndata = pd.DataFrame()\n",
        "ndata['Close'] = np.linspace(0, 20)\n",
        "ndata['High'] = df2['High'].max()\n",
        "ndata['Close2'] = df2['Close']**2\n",
        "ndata['Low'] = df2['Low']**2\n",
        "\n",
        "# Generate and plot the predictions\n",
        "pred = reg.predict(ndata)\n",
        "print(pred.head())"
      ],
      "outputs": [
        {
          "output_type": "stream",
          "name": "stdout",
          "text": [
            "0   NaN\n",
            "1   NaN\n",
            "2   NaN\n",
            "3   NaN\n",
            "4   NaN\n",
            "dtype: float64\n"
          ]
        }
      ],
      "execution_count": 11,
      "metadata": {
        "collapsed": true,
        "jupyter": {
          "source_hidden": false,
          "outputs_hidden": false
        },
        "nteract": {
          "transient": {
            "deleting": false
          }
        },
        "execution": {
          "iopub.status.busy": "2021-05-28T02:15:04.120Z",
          "iopub.execute_input": "2021-05-28T02:15:04.125Z",
          "iopub.status.idle": "2021-05-28T02:15:04.136Z",
          "shell.execute_reply": "2021-05-28T02:15:04.172Z"
        }
      }
    },
    {
      "cell_type": "code",
      "source": [
        "# Plot mean Volume in each age group\n",
        "plt.clf()\n",
        "grouped = df.groupby('Adj Close')\n",
        "mean_open = grouped['Open'].mean()\n",
        "plt.plot(mean_open, 'o', alpha = 0.5)\n",
        "\n",
        "# Plot the predictions\n",
        "pred = results.predict(df)\n",
        "plt.plot(df['Adj Close'], pred, label='Adj Close')\n",
        "\n",
        "# Label axes\n",
        "plt.xlabel('Adj Close')\n",
        "plt.ylabel('Open')\n",
        "plt.legend()\n",
        "plt.show()"
      ],
      "outputs": [
        {
          "output_type": "display_data",
          "data": {
            "text/plain": "<Figure size 432x288 with 1 Axes>",
            "image/png": "[encoded data removed]"
          },
          "metadata": {
            "needs_background": "light"
          }
        }
      ],
      "execution_count": 12,
      "metadata": {
        "collapsed": true,
        "jupyter": {
          "source_hidden": false,
          "outputs_hidden": false
        },
        "nteract": {
          "transient": {
            "deleting": false
          }
        },
        "execution": {
          "iopub.status.busy": "2021-05-28T02:15:04.146Z",
          "iopub.execute_input": "2021-05-28T02:15:04.151Z",
          "iopub.status.idle": "2021-05-28T02:15:04.240Z",
          "shell.execute_reply": "2021-05-28T02:15:04.247Z"
        }
      }
    }
  ],
  "metadata": {
    "kernel_info": {
      "name": "python3"
    },
    "language_info": {
      "name": "python",
      "version": "3.6.12",
      "mimetype": "text/x-python",
      "codemirror_mode": {
        "name": "ipython",
        "version": 3
      },
      "pygments_lexer": "ipython3",
      "nbconvert_exporter": "python",
      "file_extension": ".py"
    },
    "kernelspec": {
      "argv": [
        "C:/Users/Tin Hang/Anaconda3\\python.exe",
        "-m",
        "ipykernel_launcher",
        "-f",
        "{connection_file}"
      ],
      "display_name": "Python 3",
      "language": "python",
      "name": "python3"
    },
    "nteract": {
      "version": "0.28.0"
    }
  },
  "nbformat": 4,
  "nbformat_minor": 0
}