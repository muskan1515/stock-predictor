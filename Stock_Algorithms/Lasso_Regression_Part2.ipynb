{
  "cells": [
    {
      "cell_type": "markdown",
      "source": [
        "# Lasso Regression Part 2"
      ],
      "metadata": {}
    },
    {
      "cell_type": "markdown",
      "source": [
        "Lasso Regression (Least Absolute Shrinkage and Selection Operator) is a method that performs both variable selection and regularization in order to enhance the prediction accuracy and interpretability of the statistical model it produces."
      ],
      "metadata": {}
    },
    {
      "cell_type": "code",
      "source": [
        "import numpy as np\n",
        "import matplotlib.pyplot as plt\n",
        "import pandas as pd\n",
        "\n",
        "import warnings\n",
        "warnings.filterwarnings(\"ignore\")\n",
        "\n",
        "# yfinance is used to fetch data \n",
        "import yfinance as yf\n",
        "yf.pdr_override()"
      ],
      "outputs": [],
      "execution_count": 1,
      "metadata": {
        "collapsed": false,
        "outputHidden": false,
        "inputHidden": false,
        "execution": {
          "iopub.status.busy": "2021-07-17T22:08:38.499Z",
          "iopub.execute_input": "2021-07-17T22:08:38.504Z",
          "iopub.status.idle": "2021-07-17T22:08:38.776Z",
          "shell.execute_reply": "2021-07-17T22:08:38.793Z"
        }
      }
    },
    {
      "cell_type": "code",
      "source": [
        "# input\n",
        "symbol = 'AMD'\n",
        "start = '2014-01-01'\n",
        "end = '2018-08-27'\n",
        "\n",
        "# Read data \n",
        "dataset = yf.download(symbol,start,end)\n",
        "\n",
        "# View Columns\n",
        "dataset.head()"
      ],
      "outputs": [
        {
          "output_type": "stream",
          "name": "stdout",
          "text": [
            "[*********************100%***********************]  1 of 1 completed\n"
          ]
        },
        {
          "output_type": "execute_result",
          "execution_count": 2,
          "data": {
            "text/plain": "            Open  High   Low  Close  Adj Close    Volume\nDate                                                    \n2014-01-02  3.85  3.98  3.84   3.95       3.95  20548400\n2014-01-03  3.98  4.00  3.88   4.00       4.00  22887200\n2014-01-06  4.01  4.18  3.99   4.13       4.13  42398300\n2014-01-07  4.19  4.25  4.11   4.18       4.18  42932100\n2014-01-08  4.23  4.26  4.14   4.18       4.18  30678700",
            "text/html": "<div>\n<style scoped>\n    .dataframe tbody tr th:only-of-type {\n        vertical-align: middle;\n    }\n\n    .dataframe tbody tr th {\n        vertical-align: top;\n    }\n\n    .dataframe thead th {\n        text-align: right;\n    }\n</style>\n<table border=\"1\" class=\"dataframe\">\n  <thead>\n    <tr style=\"text-align: right;\">\n      <th></th>\n      <th>Open</th>\n      <th>High</th>\n      <th>Low</th>\n      <th>Close</th>\n      <th>Adj Close</th>\n      <th>Volume</th>\n    </tr>\n    <tr>\n      <th>Date</th>\n      <th></th>\n      <th></th>\n      <th></th>\n      <th></th>\n      <th></th>\n      <th></th>\n    </tr>\n  </thead>\n  <tbody>\n    <tr>\n      <th>2014-01-02</th>\n      <td>3.85</td>\n      <td>3.98</td>\n      <td>3.84</td>\n      <td>3.95</td>\n      <td>3.95</td>\n      <td>20548400</td>\n    </tr>\n    <tr>\n      <th>2014-01-03</th>\n      <td>3.98</td>\n      <td>4.00</td>\n      <td>3.88</td>\n      <td>4.00</td>\n      <td>4.00</td>\n      <td>22887200</td>\n    </tr>\n    <tr>\n      <th>2014-01-06</th>\n      <td>4.01</td>\n      <td>4.18</td>\n      <td>3.99</td>\n      <td>4.13</td>\n      <td>4.13</td>\n      <td>42398300</td>\n    </tr>\n    <tr>\n      <th>2014-01-07</th>\n      <td>4.19</td>\n      <td>4.25</td>\n      <td>4.11</td>\n      <td>4.18</td>\n      <td>4.18</td>\n      <td>42932100</td>\n    </tr>\n    <tr>\n      <th>2014-01-08</th>\n      <td>4.23</td>\n      <td>4.26</td>\n      <td>4.14</td>\n      <td>4.18</td>\n      <td>4.18</td>\n      <td>30678700</td>\n    </tr>\n  </tbody>\n</table>\n</div>"
          },
          "metadata": {}
        }
      ],
      "execution_count": 2,
      "metadata": {
        "collapsed": false,
        "outputHidden": false,
        "inputHidden": false,
        "execution": {
          "iopub.status.busy": "2021-07-17T22:08:38.781Z",
          "iopub.execute_input": "2021-07-17T22:08:38.785Z",
          "iopub.status.idle": "2021-07-17T22:08:39.526Z",
          "shell.execute_reply": "2021-07-17T22:08:39.577Z"
        }
      }
    },
    {
      "cell_type": "code",
      "source": [
        "X = dataset[['Open','High', 'Low']]\n",
        "Y = dataset['Adj Close']"
      ],
      "outputs": [],
      "execution_count": 3,
      "metadata": {
        "collapsed": false,
        "outputHidden": false,
        "inputHidden": false,
        "execution": {
          "iopub.status.busy": "2021-07-17T22:08:39.547Z",
          "iopub.execute_input": "2021-07-17T22:08:39.552Z",
          "iopub.status.idle": "2021-07-17T22:08:39.561Z",
          "shell.execute_reply": "2021-07-17T22:08:39.580Z"
        }
      }
    },
    {
      "cell_type": "code",
      "source": [
        "from sklearn.linear_model import Lasso\n",
        "from sklearn.model_selection import train_test_split\n",
        "from sklearn.preprocessing import StandardScaler\n",
        "\n",
        "X_train,X_test,y_train,y_test=train_test_split(X,Y, test_size=0.3, random_state=0)"
      ],
      "outputs": [],
      "execution_count": 4,
      "metadata": {
        "collapsed": false,
        "outputHidden": false,
        "inputHidden": false,
        "execution": {
          "iopub.status.busy": "2021-07-17T22:08:39.567Z",
          "iopub.execute_input": "2021-07-17T22:08:39.571Z",
          "iopub.status.idle": "2021-07-17T22:08:39.884Z",
          "shell.execute_reply": "2021-07-17T22:08:40.065Z"
        }
      }
    },
    {
      "cell_type": "code",
      "source": [
        "model = Lasso()\n",
        "model.fit(X_train,y_train)\n",
        "train_score=model.score(X_train,y_train)\n",
        "test_score=model.score(X_test,y_test)\n",
        "coeff_used = np.sum(model.coef_!=0)"
      ],
      "outputs": [],
      "execution_count": 5,
      "metadata": {
        "collapsed": false,
        "outputHidden": false,
        "inputHidden": false,
        "execution": {
          "iopub.status.busy": "2021-07-17T22:08:39.891Z",
          "iopub.execute_input": "2021-07-17T22:08:39.894Z",
          "iopub.status.idle": "2021-07-17T22:08:39.902Z",
          "shell.execute_reply": "2021-07-17T22:08:40.069Z"
        }
      }
    },
    {
      "cell_type": "code",
      "source": [
        "print(\"Training score:\", train_score)\n",
        "print(\"Test score: \", test_score)\n",
        "print(\"Number of features used: \", coeff_used)\n",
        "print(\"Accuracy Score: \", model.score(X_test, y_test))"
      ],
      "outputs": [
        {
          "output_type": "stream",
          "name": "stdout",
          "text": [
            "Training score: 0.9973093795349899\n",
            "Test score:  0.9969665035737365\n",
            "Number of features used:  1\n",
            "Accuracy Score:  0.9969665035737365\n"
          ]
        }
      ],
      "execution_count": 6,
      "metadata": {
        "collapsed": false,
        "outputHidden": false,
        "inputHidden": false,
        "execution": {
          "iopub.status.busy": "2021-07-17T22:08:39.909Z",
          "iopub.execute_input": "2021-07-17T22:08:39.913Z",
          "iopub.status.idle": "2021-07-17T22:08:39.924Z",
          "shell.execute_reply": "2021-07-17T22:08:40.072Z"
        }
      }
    },
    {
      "cell_type": "code",
      "source": [
        "r_squared = model.score(X_test, y_test)\n",
        "print(\"The model can predict {0:.1%} of the variance in the test set.\".format(r_squared))"
      ],
      "outputs": [
        {
          "output_type": "stream",
          "name": "stdout",
          "text": [
            "The model can predict 99.7% of the variance in the test set.\n"
          ]
        }
      ],
      "execution_count": 7,
      "metadata": {
        "collapsed": false,
        "outputHidden": false,
        "inputHidden": false,
        "execution": {
          "iopub.status.busy": "2021-07-17T22:08:39.931Z",
          "iopub.execute_input": "2021-07-17T22:08:39.935Z",
          "iopub.status.idle": "2021-07-17T22:08:39.944Z",
          "shell.execute_reply": "2021-07-17T22:08:40.075Z"
        }
      }
    },
    {
      "cell_type": "code",
      "source": [
        "zero_coef = model.coef_ == 0"
      ],
      "outputs": [],
      "execution_count": 8,
      "metadata": {
        "collapsed": false,
        "outputHidden": false,
        "inputHidden": false,
        "execution": {
          "iopub.status.busy": "2021-07-17T22:08:39.951Z",
          "iopub.execute_input": "2021-07-17T22:08:39.955Z",
          "iopub.status.idle": "2021-07-17T22:08:39.961Z",
          "shell.execute_reply": "2021-07-17T22:08:40.077Z"
        }
      }
    },
    {
      "cell_type": "code",
      "source": [
        "n_ignored = sum(zero_coef)\n",
        "print(\"The model has ignored {} out of {} features.\".format(n_ignored, len(model.coef_)))"
      ],
      "outputs": [
        {
          "output_type": "stream",
          "name": "stdout",
          "text": [
            "The model has ignored 2 out of 3 features.\n"
          ]
        }
      ],
      "execution_count": 9,
      "metadata": {
        "collapsed": true,
        "jupyter": {
          "source_hidden": false,
          "outputs_hidden": false
        },
        "nteract": {
          "transient": {
            "deleting": false
          }
        },
        "execution": {
          "iopub.status.busy": "2021-07-17T22:08:39.967Z",
          "iopub.execute_input": "2021-07-17T22:08:39.972Z",
          "iopub.status.idle": "2021-07-17T22:08:39.981Z",
          "shell.execute_reply": "2021-07-17T22:08:40.080Z"
        }
      }
    },
    {
      "cell_type": "code",
      "source": [
        "model = Lasso(alpha=0.1, random_state=0)\n",
        "\n",
        "# Fits the model and calculates performance stats\n",
        "model.fit(X_train, y_train)\n",
        "r_squared = model.score(X_test, y_test)\n",
        "n_ignored_features = sum(model.coef_ == 0)\n",
        "\n",
        "# Print peformance stats \n",
        "print(\"The model can predict {0:.1%} of the variance in the test set.\".format(r_squared))\n",
        "print(\"{} out of {} features were ignored.\".format(n_ignored_features, len( model.coef_)))"
      ],
      "outputs": [
        {
          "output_type": "stream",
          "name": "stdout",
          "text": [
            "The model can predict 99.9% of the variance in the test set.\n",
            "0 out of 3 features were ignored.\n"
          ]
        }
      ],
      "execution_count": 10,
      "metadata": {
        "collapsed": false,
        "outputHidden": false,
        "inputHidden": false,
        "execution": {
          "iopub.status.busy": "2021-07-17T22:08:39.987Z",
          "iopub.execute_input": "2021-07-17T22:08:39.992Z",
          "shell.execute_reply": "2021-07-17T22:08:40.082Z",
          "iopub.status.idle": "2021-07-17T22:08:40.002Z"
        }
      }
    },
    {
      "cell_type": "code",
      "source": [
        "model.score(X_test, y_test)"
      ],
      "outputs": [
        {
          "output_type": "execute_result",
          "execution_count": 11,
          "data": {
            "text/plain": "0.9990981079535755"
          },
          "metadata": {}
        }
      ],
      "execution_count": 11,
      "metadata": {
        "collapsed": false,
        "outputHidden": false,
        "inputHidden": false,
        "execution": {
          "iopub.status.busy": "2021-07-17T22:08:40.008Z",
          "iopub.execute_input": "2021-07-17T22:08:40.013Z",
          "iopub.status.idle": "2021-07-17T22:08:40.023Z",
          "shell.execute_reply": "2021-07-17T22:08:40.084Z"
        }
      }
    },
    {
      "cell_type": "code",
      "source": [
        "from sklearn.metrics import r2_score\n",
        "\n",
        "y_pred_lasso = model.fit(X_train, y_train).predict(X_test)\n",
        "r2_score_lasso = r2_score(y_test, y_pred_lasso)\n",
        "\n",
        "print(\"r^2 on test data : %f\" % r2_score_lasso)"
      ],
      "outputs": [
        {
          "output_type": "stream",
          "name": "stdout",
          "text": [
            "r^2 on test data : 0.999098\n"
          ]
        }
      ],
      "execution_count": 12,
      "metadata": {
        "collapsed": false,
        "outputHidden": false,
        "inputHidden": false,
        "execution": {
          "iopub.status.busy": "2021-07-17T22:08:40.029Z",
          "iopub.execute_input": "2021-07-17T22:08:40.032Z",
          "iopub.status.idle": "2021-07-17T22:08:40.042Z",
          "shell.execute_reply": "2021-07-17T22:08:40.087Z"
        }
      }
    },
    {
      "cell_type": "code",
      "source": [
        "plt.plot(model.coef_, color='gold', linewidth=2,\n",
        "         label='Lasso coefficients')\n",
        "plt.legend(loc='best')\n",
        "plt.title(\"Lasso R^2: %f\" % (r2_score_lasso))\n",
        "plt.show()"
      ],
      "outputs": [
        {
          "output_type": "display_data",
          "data": {
            "text/plain": "<Figure size 432x288 with 1 Axes>",
            "image/png": "[encoded data removed]"
          },
          "metadata": {
            "needs_background": "light"
          }
        }
      ],
      "execution_count": 13,
      "metadata": {
        "collapsed": false,
        "outputHidden": false,
        "inputHidden": false,
        "execution": {
          "iopub.status.busy": "2021-07-17T22:08:40.047Z",
          "iopub.execute_input": "2021-07-17T22:08:40.051Z",
          "iopub.status.idle": "2021-07-17T22:08:40.130Z",
          "shell.execute_reply": "2021-07-17T22:08:40.137Z"
        }
      }
    }
  ],
  "metadata": {
    "kernel_info": {
      "name": "python3"
    },
    "language_info": {
      "name": "python",
      "version": "3.6.12",
      "mimetype": "text/x-python",
      "codemirror_mode": {
        "name": "ipython",
        "version": 3
      },
      "pygments_lexer": "ipython3",
      "nbconvert_exporter": "python",
      "file_extension": ".py"
    },
    "kernelspec": {
      "name": "python3",
      "language": "python",
      "display_name": "Python 3"
    },
    "nteract": {
      "version": "0.28.0"
    }
  },
  "nbformat": 4,
  "nbformat_minor": 4
}